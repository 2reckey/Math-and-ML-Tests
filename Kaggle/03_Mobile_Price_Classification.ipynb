{
 "cells": [
  {
   "cell_type": "markdown",
   "id": "657ddfb3544ad9ef",
   "metadata": {
    "collapsed": false,
    "jupyter": {
     "outputs_hidden": false
    }
   },
   "source": [
    "# Mobile Price Classification"
   ]
  },
  {
   "cell_type": "code",
   "execution_count": 1,
   "id": "49cbe5d2d9aedf9a",
   "metadata": {
    "ExecuteTime": {
     "end_time": "2024-03-20T15:21:57.491347Z",
     "start_time": "2024-03-20T15:21:57.482878Z"
    },
    "collapsed": false,
    "jupyter": {
     "outputs_hidden": false
    }
   },
   "outputs": [],
   "source": [
    "%matplotlib inline\n",
    "import pandas as pd\n",
    "import numpy as np\n",
    "import seaborn as sns\n",
    "import matplotlib.pyplot as plt\n",
    "import scienceplots\n",
    "plt.style.use(['science', 'notebook', 'grid'])"
   ]
  },
  {
   "cell_type": "markdown",
   "id": "f348f016770d88b2",
   "metadata": {
    "collapsed": false,
    "jupyter": {
     "outputs_hidden": false
    }
   },
   "source": [
    "[Данные](https://www.kaggle.com/datasets/iabhishekofficial/mobile-price-classification)\n"
   ]
  },
  {
   "cell_type": "code",
   "execution_count": 2,
   "id": "3eeda6849721befa",
   "metadata": {
    "ExecuteTime": {
     "end_time": "2024-03-20T16:05:17.430376Z",
     "start_time": "2024-03-20T16:05:14.803691Z"
    },
    "collapsed": false,
    "jupyter": {
     "outputs_hidden": false
    }
   },
   "outputs": [],
   "source": [
    "import os\n",
    "from kaggle.api.kaggle_api_extended import KaggleApi\n",
    "\n",
    "# Инициализация API\n",
    "api = KaggleApi()\n",
    "api.authenticate()\n",
    "\n",
    "# Путь для сохранения набора данных\n",
    "dataset_path = 'Data/Mobile_Price_Classification/'\n",
    "\n",
    "if not os.path.exists(dataset_path):\n",
    "    os.makedirs(dataset_path)\n",
    "\n",
    "# Скачивание и распаковка набора данных\n",
    "api.dataset_download_files('iabhishekofficial/mobile-price-classification', path=dataset_path, unzip=True)"
   ]
  },
  {
   "cell_type": "code",
   "execution_count": 15,
   "id": "257821e73de70d8d",
   "metadata": {
    "ExecuteTime": {
     "end_time": "2024-03-20T13:54:00.880250Z",
     "start_time": "2024-03-20T13:54:00.852969Z"
    },
    "collapsed": false,
    "jupyter": {
     "outputs_hidden": false
    }
   },
   "outputs": [
    {
     "data": {
      "text/html": [
       "<div>\n",
       "<style scoped>\n",
       "    .dataframe tbody tr th:only-of-type {\n",
       "        vertical-align: middle;\n",
       "    }\n",
       "\n",
       "    .dataframe tbody tr th {\n",
       "        vertical-align: top;\n",
       "    }\n",
       "\n",
       "    .dataframe thead th {\n",
       "        text-align: right;\n",
       "    }\n",
       "</style>\n",
       "<table border=\"1\" class=\"dataframe\">\n",
       "  <thead>\n",
       "    <tr style=\"text-align: right;\">\n",
       "      <th></th>\n",
       "      <th>battery_power</th>\n",
       "      <th>blue</th>\n",
       "      <th>clock_speed</th>\n",
       "      <th>dual_sim</th>\n",
       "      <th>fc</th>\n",
       "      <th>four_g</th>\n",
       "      <th>int_memory</th>\n",
       "      <th>m_dep</th>\n",
       "      <th>mobile_wt</th>\n",
       "      <th>n_cores</th>\n",
       "      <th>...</th>\n",
       "      <th>px_height</th>\n",
       "      <th>px_width</th>\n",
       "      <th>ram</th>\n",
       "      <th>sc_h</th>\n",
       "      <th>sc_w</th>\n",
       "      <th>talk_time</th>\n",
       "      <th>three_g</th>\n",
       "      <th>touch_screen</th>\n",
       "      <th>wifi</th>\n",
       "      <th>price_range</th>\n",
       "    </tr>\n",
       "  </thead>\n",
       "  <tbody>\n",
       "    <tr>\n",
       "      <th>1945</th>\n",
       "      <td>1007</td>\n",
       "      <td>1</td>\n",
       "      <td>2.9</td>\n",
       "      <td>1</td>\n",
       "      <td>5</td>\n",
       "      <td>1</td>\n",
       "      <td>21</td>\n",
       "      <td>0.8</td>\n",
       "      <td>185</td>\n",
       "      <td>8</td>\n",
       "      <td>...</td>\n",
       "      <td>479</td>\n",
       "      <td>831</td>\n",
       "      <td>1301</td>\n",
       "      <td>8</td>\n",
       "      <td>6</td>\n",
       "      <td>12</td>\n",
       "      <td>1</td>\n",
       "      <td>1</td>\n",
       "      <td>0</td>\n",
       "      <td>0</td>\n",
       "    </tr>\n",
       "    <tr>\n",
       "      <th>912</th>\n",
       "      <td>626</td>\n",
       "      <td>0</td>\n",
       "      <td>0.7</td>\n",
       "      <td>1</td>\n",
       "      <td>2</td>\n",
       "      <td>1</td>\n",
       "      <td>23</td>\n",
       "      <td>0.5</td>\n",
       "      <td>187</td>\n",
       "      <td>2</td>\n",
       "      <td>...</td>\n",
       "      <td>90</td>\n",
       "      <td>1334</td>\n",
       "      <td>3458</td>\n",
       "      <td>7</td>\n",
       "      <td>5</td>\n",
       "      <td>11</td>\n",
       "      <td>1</td>\n",
       "      <td>0</td>\n",
       "      <td>1</td>\n",
       "      <td>2</td>\n",
       "    </tr>\n",
       "    <tr>\n",
       "      <th>1069</th>\n",
       "      <td>1414</td>\n",
       "      <td>0</td>\n",
       "      <td>2.6</td>\n",
       "      <td>0</td>\n",
       "      <td>1</td>\n",
       "      <td>0</td>\n",
       "      <td>27</td>\n",
       "      <td>0.6</td>\n",
       "      <td>137</td>\n",
       "      <td>4</td>\n",
       "      <td>...</td>\n",
       "      <td>804</td>\n",
       "      <td>1564</td>\n",
       "      <td>312</td>\n",
       "      <td>5</td>\n",
       "      <td>2</td>\n",
       "      <td>8</td>\n",
       "      <td>0</td>\n",
       "      <td>0</td>\n",
       "      <td>1</td>\n",
       "      <td>0</td>\n",
       "    </tr>\n",
       "    <tr>\n",
       "      <th>517</th>\n",
       "      <td>1059</td>\n",
       "      <td>0</td>\n",
       "      <td>2.4</td>\n",
       "      <td>0</td>\n",
       "      <td>8</td>\n",
       "      <td>0</td>\n",
       "      <td>61</td>\n",
       "      <td>0.1</td>\n",
       "      <td>134</td>\n",
       "      <td>3</td>\n",
       "      <td>...</td>\n",
       "      <td>1613</td>\n",
       "      <td>1916</td>\n",
       "      <td>3716</td>\n",
       "      <td>15</td>\n",
       "      <td>13</td>\n",
       "      <td>11</td>\n",
       "      <td>1</td>\n",
       "      <td>1</td>\n",
       "      <td>0</td>\n",
       "      <td>3</td>\n",
       "    </tr>\n",
       "    <tr>\n",
       "      <th>1135</th>\n",
       "      <td>1344</td>\n",
       "      <td>0</td>\n",
       "      <td>1.5</td>\n",
       "      <td>0</td>\n",
       "      <td>1</td>\n",
       "      <td>0</td>\n",
       "      <td>14</td>\n",
       "      <td>0.5</td>\n",
       "      <td>190</td>\n",
       "      <td>1</td>\n",
       "      <td>...</td>\n",
       "      <td>419</td>\n",
       "      <td>556</td>\n",
       "      <td>2074</td>\n",
       "      <td>8</td>\n",
       "      <td>1</td>\n",
       "      <td>5</td>\n",
       "      <td>1</td>\n",
       "      <td>1</td>\n",
       "      <td>0</td>\n",
       "      <td>1</td>\n",
       "    </tr>\n",
       "  </tbody>\n",
       "</table>\n",
       "<p>5 rows × 21 columns</p>\n",
       "</div>"
      ],
      "text/plain": [
       "      battery_power  blue  clock_speed  dual_sim  fc  four_g  int_memory  \\\n",
       "1945           1007     1          2.9         1   5       1          21   \n",
       "912             626     0          0.7         1   2       1          23   \n",
       "1069           1414     0          2.6         0   1       0          27   \n",
       "517            1059     0          2.4         0   8       0          61   \n",
       "1135           1344     0          1.5         0   1       0          14   \n",
       "\n",
       "      m_dep  mobile_wt  n_cores  ...  px_height  px_width   ram  sc_h  sc_w  \\\n",
       "1945    0.8        185        8  ...        479       831  1301     8     6   \n",
       "912     0.5        187        2  ...         90      1334  3458     7     5   \n",
       "1069    0.6        137        4  ...        804      1564   312     5     2   \n",
       "517     0.1        134        3  ...       1613      1916  3716    15    13   \n",
       "1135    0.5        190        1  ...        419       556  2074     8     1   \n",
       "\n",
       "      talk_time  three_g  touch_screen  wifi  price_range  \n",
       "1945         12        1             1     0            0  \n",
       "912          11        1             0     1            2  \n",
       "1069          8        0             0     1            0  \n",
       "517          11        1             1     0            3  \n",
       "1135          5        1             1     0            1  \n",
       "\n",
       "[5 rows x 21 columns]"
      ]
     },
     "execution_count": 15,
     "metadata": {},
     "output_type": "execute_result"
    }
   ],
   "source": [
    "df = pd.read_csv('Data/Mobile_Price_Classification/train.csv')\n",
    "df.sample(5)"
   ]
  },
  {
   "cell_type": "code",
   "execution_count": null,
   "id": "d168a7522a6b616b",
   "metadata": {
    "ExecuteTime": {
     "end_time": "2024-03-20T13:45:57.523070Z",
     "start_time": "2024-03-20T13:45:13.539608Z"
    },
    "collapsed": false,
    "jupyter": {
     "outputs_hidden": false
    }
   },
   "outputs": [
    {
     "data": {
      "application/vnd.jupyter.widget-view+json": {
       "model_id": "5199ef43c7d447a1ba3f8de446767246",
       "version_major": 2,
       "version_minor": 0
      },
      "text/plain": [
       "Summarize dataset:   0%|          | 0/5 [00:00<?, ?it/s]"
      ]
     },
     "metadata": {},
     "output_type": "display_data"
    }
   ],
   "source": [
    "from ydata_profiling import ProfileReport\n",
    "\n",
    "profile = ProfileReport(df, title=\"Profiling Report\")\n",
    "profile.to_notebook_iframe()"
   ]
  },
  {
   "cell_type": "code",
   "execution_count": 3,
   "id": "bcba6f34c31146f8",
   "metadata": {
    "ExecuteTime": {
     "end_time": "2024-03-20T13:54:05.203560Z",
     "start_time": "2024-03-20T13:54:05.195999Z"
    },
    "collapsed": false,
    "jupyter": {
     "outputs_hidden": false
    }
   },
   "outputs": [
    {
     "data": {
      "text/plain": [
       "Index(['battery_power', 'blue', 'clock_speed', 'dual_sim', 'fc', 'four_g',\n",
       "       'int_memory', 'm_dep', 'mobile_wt', 'n_cores', 'pc', 'px_height',\n",
       "       'px_width', 'ram', 'sc_h', 'sc_w', 'talk_time', 'three_g',\n",
       "       'touch_screen', 'wifi', 'price_range'],\n",
       "      dtype='object')"
      ]
     },
     "execution_count": 3,
     "metadata": {},
     "output_type": "execute_result"
    }
   ],
   "source": [
    "df.columns"
   ]
  },
  {
   "cell_type": "code",
   "execution_count": 4,
   "id": "edb5025a883a4734",
   "metadata": {
    "ExecuteTime": {
     "end_time": "2024-03-20T13:54:09.482399Z",
     "start_time": "2024-03-20T13:54:09.471132Z"
    },
    "collapsed": false,
    "jupyter": {
     "outputs_hidden": false
    }
   },
   "outputs": [
    {
     "name": "stdout",
     "output_type": "stream",
     "text": [
      "<class 'pandas.core.frame.DataFrame'>\n",
      "RangeIndex: 2000 entries, 0 to 1999\n",
      "Data columns (total 21 columns):\n",
      " #   Column         Non-Null Count  Dtype  \n",
      "---  ------         --------------  -----  \n",
      " 0   battery_power  2000 non-null   int64  \n",
      " 1   blue           2000 non-null   int64  \n",
      " 2   clock_speed    2000 non-null   float64\n",
      " 3   dual_sim       2000 non-null   int64  \n",
      " 4   fc             2000 non-null   int64  \n",
      " 5   four_g         2000 non-null   int64  \n",
      " 6   int_memory     2000 non-null   int64  \n",
      " 7   m_dep          2000 non-null   float64\n",
      " 8   mobile_wt      2000 non-null   int64  \n",
      " 9   n_cores        2000 non-null   int64  \n",
      " 10  pc             2000 non-null   int64  \n",
      " 11  px_height      2000 non-null   int64  \n",
      " 12  px_width       2000 non-null   int64  \n",
      " 13  ram            2000 non-null   int64  \n",
      " 14  sc_h           2000 non-null   int64  \n",
      " 15  sc_w           2000 non-null   int64  \n",
      " 16  talk_time      2000 non-null   int64  \n",
      " 17  three_g        2000 non-null   int64  \n",
      " 18  touch_screen   2000 non-null   int64  \n",
      " 19  wifi           2000 non-null   int64  \n",
      " 20  price_range    2000 non-null   int64  \n",
      "dtypes: float64(2), int64(19)\n",
      "memory usage: 328.3 KB\n"
     ]
    }
   ],
   "source": [
    "df.info()"
   ]
  },
  {
   "cell_type": "code",
   "execution_count": 5,
   "id": "f21ec46b-a4e3-40a4-aa92-67c3509e4c84",
   "metadata": {},
   "outputs": [],
   "source": [
    "for column in df.columns:\n",
    "    if column != 'price_range':\n",
    "        Q1 = df[column].quantile(0.25)\n",
    "        Q3 = df[column].quantile(0.75)\n",
    "        IQR = Q3 - Q1\n",
    "        lower_bound = Q1 - 1.5 * IQR\n",
    "        upper_bound = Q3 + 1.5 * IQR\n",
    "        df[column] = df[column].mask(((df[column] < lower_bound) | (df[column] > upper_bound)), np.nan)\n",
    "\n",
    "df.fillna(df.median(), inplace=True)"
   ]
  },
  {
   "cell_type": "code",
   "execution_count": 6,
   "id": "e6c504dd378b6f5e",
   "metadata": {
    "ExecuteTime": {
     "end_time": "2024-03-20T13:54:11.818719Z",
     "start_time": "2024-03-20T13:54:11.789065Z"
    },
    "collapsed": false,
    "jupyter": {
     "outputs_hidden": false
    }
   },
   "outputs": [
    {
     "data": {
      "text/html": [
       "<div>\n",
       "<style scoped>\n",
       "    .dataframe tbody tr th:only-of-type {\n",
       "        vertical-align: middle;\n",
       "    }\n",
       "\n",
       "    .dataframe tbody tr th {\n",
       "        vertical-align: top;\n",
       "    }\n",
       "\n",
       "    .dataframe thead th {\n",
       "        text-align: right;\n",
       "    }\n",
       "</style>\n",
       "<table border=\"1\" class=\"dataframe\">\n",
       "  <thead>\n",
       "    <tr style=\"text-align: right;\">\n",
       "      <th></th>\n",
       "      <th>battery_power</th>\n",
       "      <th>blue</th>\n",
       "      <th>clock_speed</th>\n",
       "      <th>dual_sim</th>\n",
       "      <th>fc</th>\n",
       "      <th>int_memory</th>\n",
       "      <th>m_dep</th>\n",
       "      <th>mobile_wt</th>\n",
       "      <th>n_cores</th>\n",
       "      <th>px_height</th>\n",
       "      <th>px_width</th>\n",
       "      <th>ram</th>\n",
       "      <th>sc_h</th>\n",
       "      <th>sc_w</th>\n",
       "      <th>talk_time</th>\n",
       "      <th>three_g</th>\n",
       "      <th>touch_screen</th>\n",
       "      <th>wifi</th>\n",
       "      <th>price_range</th>\n",
       "    </tr>\n",
       "  </thead>\n",
       "  <tbody>\n",
       "    <tr>\n",
       "      <th>count</th>\n",
       "      <td>2000.000000</td>\n",
       "      <td>2000.0000</td>\n",
       "      <td>2000.000000</td>\n",
       "      <td>2000.000000</td>\n",
       "      <td>2000.000000</td>\n",
       "      <td>2000.000000</td>\n",
       "      <td>2000.000000</td>\n",
       "      <td>2000.000000</td>\n",
       "      <td>2000.000000</td>\n",
       "      <td>2000.000000</td>\n",
       "      <td>2000.000000</td>\n",
       "      <td>2000.000000</td>\n",
       "      <td>2000.000000</td>\n",
       "      <td>2000.000000</td>\n",
       "      <td>2000.000000</td>\n",
       "      <td>2000.0</td>\n",
       "      <td>2000.000000</td>\n",
       "      <td>2000.000000</td>\n",
       "      <td>2000.000000</td>\n",
       "    </tr>\n",
       "    <tr>\n",
       "      <th>mean</th>\n",
       "      <td>1238.518500</td>\n",
       "      <td>0.4950</td>\n",
       "      <td>1.522250</td>\n",
       "      <td>0.509500</td>\n",
       "      <td>4.177000</td>\n",
       "      <td>32.046500</td>\n",
       "      <td>0.501750</td>\n",
       "      <td>140.249000</td>\n",
       "      <td>4.520500</td>\n",
       "      <td>643.717500</td>\n",
       "      <td>1251.515500</td>\n",
       "      <td>2124.213000</td>\n",
       "      <td>12.306500</td>\n",
       "      <td>5.767000</td>\n",
       "      <td>11.011000</td>\n",
       "      <td>1.0</td>\n",
       "      <td>0.503000</td>\n",
       "      <td>0.507000</td>\n",
       "      <td>1.500000</td>\n",
       "    </tr>\n",
       "    <tr>\n",
       "      <th>std</th>\n",
       "      <td>439.418206</td>\n",
       "      <td>0.5001</td>\n",
       "      <td>0.816004</td>\n",
       "      <td>0.500035</td>\n",
       "      <td>4.150094</td>\n",
       "      <td>18.145715</td>\n",
       "      <td>0.288416</td>\n",
       "      <td>35.399655</td>\n",
       "      <td>2.287837</td>\n",
       "      <td>441.849137</td>\n",
       "      <td>432.199447</td>\n",
       "      <td>1084.732044</td>\n",
       "      <td>4.213245</td>\n",
       "      <td>4.356398</td>\n",
       "      <td>5.463955</td>\n",
       "      <td>0.0</td>\n",
       "      <td>0.500116</td>\n",
       "      <td>0.500076</td>\n",
       "      <td>1.118314</td>\n",
       "    </tr>\n",
       "    <tr>\n",
       "      <th>min</th>\n",
       "      <td>501.000000</td>\n",
       "      <td>0.0000</td>\n",
       "      <td>0.500000</td>\n",
       "      <td>0.000000</td>\n",
       "      <td>0.000000</td>\n",
       "      <td>2.000000</td>\n",
       "      <td>0.100000</td>\n",
       "      <td>80.000000</td>\n",
       "      <td>1.000000</td>\n",
       "      <td>0.000000</td>\n",
       "      <td>500.000000</td>\n",
       "      <td>256.000000</td>\n",
       "      <td>5.000000</td>\n",
       "      <td>0.000000</td>\n",
       "      <td>2.000000</td>\n",
       "      <td>1.0</td>\n",
       "      <td>0.000000</td>\n",
       "      <td>0.000000</td>\n",
       "      <td>0.000000</td>\n",
       "    </tr>\n",
       "    <tr>\n",
       "      <th>25%</th>\n",
       "      <td>851.750000</td>\n",
       "      <td>0.0000</td>\n",
       "      <td>0.700000</td>\n",
       "      <td>0.000000</td>\n",
       "      <td>1.000000</td>\n",
       "      <td>16.000000</td>\n",
       "      <td>0.200000</td>\n",
       "      <td>109.000000</td>\n",
       "      <td>3.000000</td>\n",
       "      <td>282.750000</td>\n",
       "      <td>874.750000</td>\n",
       "      <td>1207.500000</td>\n",
       "      <td>9.000000</td>\n",
       "      <td>2.000000</td>\n",
       "      <td>6.000000</td>\n",
       "      <td>1.0</td>\n",
       "      <td>0.000000</td>\n",
       "      <td>0.000000</td>\n",
       "      <td>0.750000</td>\n",
       "    </tr>\n",
       "    <tr>\n",
       "      <th>50%</th>\n",
       "      <td>1226.000000</td>\n",
       "      <td>0.0000</td>\n",
       "      <td>1.500000</td>\n",
       "      <td>1.000000</td>\n",
       "      <td>3.000000</td>\n",
       "      <td>32.000000</td>\n",
       "      <td>0.500000</td>\n",
       "      <td>141.000000</td>\n",
       "      <td>4.000000</td>\n",
       "      <td>564.000000</td>\n",
       "      <td>1247.000000</td>\n",
       "      <td>2146.500000</td>\n",
       "      <td>12.000000</td>\n",
       "      <td>5.000000</td>\n",
       "      <td>11.000000</td>\n",
       "      <td>1.0</td>\n",
       "      <td>1.000000</td>\n",
       "      <td>1.000000</td>\n",
       "      <td>1.500000</td>\n",
       "    </tr>\n",
       "    <tr>\n",
       "      <th>75%</th>\n",
       "      <td>1615.250000</td>\n",
       "      <td>1.0000</td>\n",
       "      <td>2.200000</td>\n",
       "      <td>1.000000</td>\n",
       "      <td>7.000000</td>\n",
       "      <td>48.000000</td>\n",
       "      <td>0.800000</td>\n",
       "      <td>170.000000</td>\n",
       "      <td>7.000000</td>\n",
       "      <td>945.250000</td>\n",
       "      <td>1633.000000</td>\n",
       "      <td>3064.500000</td>\n",
       "      <td>16.000000</td>\n",
       "      <td>9.000000</td>\n",
       "      <td>16.000000</td>\n",
       "      <td>1.0</td>\n",
       "      <td>1.000000</td>\n",
       "      <td>1.000000</td>\n",
       "      <td>2.250000</td>\n",
       "    </tr>\n",
       "    <tr>\n",
       "      <th>max</th>\n",
       "      <td>1998.000000</td>\n",
       "      <td>1.0000</td>\n",
       "      <td>3.000000</td>\n",
       "      <td>1.000000</td>\n",
       "      <td>16.000000</td>\n",
       "      <td>64.000000</td>\n",
       "      <td>1.000000</td>\n",
       "      <td>200.000000</td>\n",
       "      <td>8.000000</td>\n",
       "      <td>1920.000000</td>\n",
       "      <td>1998.000000</td>\n",
       "      <td>3998.000000</td>\n",
       "      <td>19.000000</td>\n",
       "      <td>18.000000</td>\n",
       "      <td>20.000000</td>\n",
       "      <td>1.0</td>\n",
       "      <td>1.000000</td>\n",
       "      <td>1.000000</td>\n",
       "      <td>3.000000</td>\n",
       "    </tr>\n",
       "  </tbody>\n",
       "</table>\n",
       "</div>"
      ],
      "text/plain": [
       "       battery_power       blue  clock_speed     dual_sim           fc  \\\n",
       "count    2000.000000  2000.0000  2000.000000  2000.000000  2000.000000   \n",
       "mean     1238.518500     0.4950     1.522250     0.509500     4.177000   \n",
       "std       439.418206     0.5001     0.816004     0.500035     4.150094   \n",
       "min       501.000000     0.0000     0.500000     0.000000     0.000000   \n",
       "25%       851.750000     0.0000     0.700000     0.000000     1.000000   \n",
       "50%      1226.000000     0.0000     1.500000     1.000000     3.000000   \n",
       "75%      1615.250000     1.0000     2.200000     1.000000     7.000000   \n",
       "max      1998.000000     1.0000     3.000000     1.000000    16.000000   \n",
       "\n",
       "        int_memory        m_dep    mobile_wt      n_cores    px_height  \\\n",
       "count  2000.000000  2000.000000  2000.000000  2000.000000  2000.000000   \n",
       "mean     32.046500     0.501750   140.249000     4.520500   643.717500   \n",
       "std      18.145715     0.288416    35.399655     2.287837   441.849137   \n",
       "min       2.000000     0.100000    80.000000     1.000000     0.000000   \n",
       "25%      16.000000     0.200000   109.000000     3.000000   282.750000   \n",
       "50%      32.000000     0.500000   141.000000     4.000000   564.000000   \n",
       "75%      48.000000     0.800000   170.000000     7.000000   945.250000   \n",
       "max      64.000000     1.000000   200.000000     8.000000  1920.000000   \n",
       "\n",
       "          px_width          ram         sc_h         sc_w    talk_time  \\\n",
       "count  2000.000000  2000.000000  2000.000000  2000.000000  2000.000000   \n",
       "mean   1251.515500  2124.213000    12.306500     5.767000    11.011000   \n",
       "std     432.199447  1084.732044     4.213245     4.356398     5.463955   \n",
       "min     500.000000   256.000000     5.000000     0.000000     2.000000   \n",
       "25%     874.750000  1207.500000     9.000000     2.000000     6.000000   \n",
       "50%    1247.000000  2146.500000    12.000000     5.000000    11.000000   \n",
       "75%    1633.000000  3064.500000    16.000000     9.000000    16.000000   \n",
       "max    1998.000000  3998.000000    19.000000    18.000000    20.000000   \n",
       "\n",
       "       three_g  touch_screen         wifi  price_range  \n",
       "count   2000.0   2000.000000  2000.000000  2000.000000  \n",
       "mean       1.0      0.503000     0.507000     1.500000  \n",
       "std        0.0      0.500116     0.500076     1.118314  \n",
       "min        1.0      0.000000     0.000000     0.000000  \n",
       "25%        1.0      0.000000     0.000000     0.750000  \n",
       "50%        1.0      1.000000     1.000000     1.500000  \n",
       "75%        1.0      1.000000     1.000000     2.250000  \n",
       "max        1.0      1.000000     1.000000     3.000000  "
      ]
     },
     "execution_count": 6,
     "metadata": {},
     "output_type": "execute_result"
    }
   ],
   "source": [
    "df.describe()"
   ]
  },
  {
   "cell_type": "code",
   "execution_count": 25,
   "id": "d7337b88da153bb7",
   "metadata": {
    "ExecuteTime": {
     "end_time": "2024-03-20T13:54:14.160390Z",
     "start_time": "2024-03-20T13:54:14.149508Z"
    },
    "collapsed": false,
    "jupyter": {
     "outputs_hidden": false
    }
   },
   "outputs": [
    {
     "data": {
      "text/plain": [
       "0"
      ]
     },
     "execution_count": 25,
     "metadata": {},
     "output_type": "execute_result"
    }
   ],
   "source": [
    "df.duplicated().sum()"
   ]
  },
  {
   "cell_type": "code",
   "execution_count": 16,
   "id": "d894cc09497a8f95",
   "metadata": {
    "ExecuteTime": {
     "end_time": "2024-03-20T14:07:05.666542Z",
     "start_time": "2024-03-20T14:07:02.806597Z"
    },
    "collapsed": false,
    "jupyter": {
     "outputs_hidden": false
    }
   },
   "outputs": [
    {
     "data": {
      "text/html": [
       "<style type=\"text/css\">\n",
       "#T_d623b_row8_col1 {\n",
       "  background-color: lightgreen;\n",
       "}\n",
       "</style>\n",
       "<table id=\"T_d623b\">\n",
       "  <thead>\n",
       "    <tr>\n",
       "      <th class=\"blank level0\" >&nbsp;</th>\n",
       "      <th id=\"T_d623b_level0_col0\" class=\"col_heading level0 col0\" >Description</th>\n",
       "      <th id=\"T_d623b_level0_col1\" class=\"col_heading level0 col1\" >Value</th>\n",
       "    </tr>\n",
       "  </thead>\n",
       "  <tbody>\n",
       "    <tr>\n",
       "      <th id=\"T_d623b_level0_row0\" class=\"row_heading level0 row0\" >0</th>\n",
       "      <td id=\"T_d623b_row0_col0\" class=\"data row0 col0\" >Session id</td>\n",
       "      <td id=\"T_d623b_row0_col1\" class=\"data row0 col1\" >23</td>\n",
       "    </tr>\n",
       "    <tr>\n",
       "      <th id=\"T_d623b_level0_row1\" class=\"row_heading level0 row1\" >1</th>\n",
       "      <td id=\"T_d623b_row1_col0\" class=\"data row1 col0\" >Target</td>\n",
       "      <td id=\"T_d623b_row1_col1\" class=\"data row1 col1\" >price_range</td>\n",
       "    </tr>\n",
       "    <tr>\n",
       "      <th id=\"T_d623b_level0_row2\" class=\"row_heading level0 row2\" >2</th>\n",
       "      <td id=\"T_d623b_row2_col0\" class=\"data row2 col0\" >Target type</td>\n",
       "      <td id=\"T_d623b_row2_col1\" class=\"data row2 col1\" >Multiclass</td>\n",
       "    </tr>\n",
       "    <tr>\n",
       "      <th id=\"T_d623b_level0_row3\" class=\"row_heading level0 row3\" >3</th>\n",
       "      <td id=\"T_d623b_row3_col0\" class=\"data row3 col0\" >Original data shape</td>\n",
       "      <td id=\"T_d623b_row3_col1\" class=\"data row3 col1\" >(2000, 21)</td>\n",
       "    </tr>\n",
       "    <tr>\n",
       "      <th id=\"T_d623b_level0_row4\" class=\"row_heading level0 row4\" >4</th>\n",
       "      <td id=\"T_d623b_row4_col0\" class=\"data row4 col0\" >Transformed data shape</td>\n",
       "      <td id=\"T_d623b_row4_col1\" class=\"data row4 col1\" >(2000, 21)</td>\n",
       "    </tr>\n",
       "    <tr>\n",
       "      <th id=\"T_d623b_level0_row5\" class=\"row_heading level0 row5\" >5</th>\n",
       "      <td id=\"T_d623b_row5_col0\" class=\"data row5 col0\" >Transformed train set shape</td>\n",
       "      <td id=\"T_d623b_row5_col1\" class=\"data row5 col1\" >(1400, 21)</td>\n",
       "    </tr>\n",
       "    <tr>\n",
       "      <th id=\"T_d623b_level0_row6\" class=\"row_heading level0 row6\" >6</th>\n",
       "      <td id=\"T_d623b_row6_col0\" class=\"data row6 col0\" >Transformed test set shape</td>\n",
       "      <td id=\"T_d623b_row6_col1\" class=\"data row6 col1\" >(600, 21)</td>\n",
       "    </tr>\n",
       "    <tr>\n",
       "      <th id=\"T_d623b_level0_row7\" class=\"row_heading level0 row7\" >7</th>\n",
       "      <td id=\"T_d623b_row7_col0\" class=\"data row7 col0\" >Numeric features</td>\n",
       "      <td id=\"T_d623b_row7_col1\" class=\"data row7 col1\" >20</td>\n",
       "    </tr>\n",
       "    <tr>\n",
       "      <th id=\"T_d623b_level0_row8\" class=\"row_heading level0 row8\" >8</th>\n",
       "      <td id=\"T_d623b_row8_col0\" class=\"data row8 col0\" >Preprocess</td>\n",
       "      <td id=\"T_d623b_row8_col1\" class=\"data row8 col1\" >True</td>\n",
       "    </tr>\n",
       "    <tr>\n",
       "      <th id=\"T_d623b_level0_row9\" class=\"row_heading level0 row9\" >9</th>\n",
       "      <td id=\"T_d623b_row9_col0\" class=\"data row9 col0\" >Imputation type</td>\n",
       "      <td id=\"T_d623b_row9_col1\" class=\"data row9 col1\" >simple</td>\n",
       "    </tr>\n",
       "    <tr>\n",
       "      <th id=\"T_d623b_level0_row10\" class=\"row_heading level0 row10\" >10</th>\n",
       "      <td id=\"T_d623b_row10_col0\" class=\"data row10 col0\" >Numeric imputation</td>\n",
       "      <td id=\"T_d623b_row10_col1\" class=\"data row10 col1\" >mean</td>\n",
       "    </tr>\n",
       "    <tr>\n",
       "      <th id=\"T_d623b_level0_row11\" class=\"row_heading level0 row11\" >11</th>\n",
       "      <td id=\"T_d623b_row11_col0\" class=\"data row11 col0\" >Categorical imputation</td>\n",
       "      <td id=\"T_d623b_row11_col1\" class=\"data row11 col1\" >mode</td>\n",
       "    </tr>\n",
       "    <tr>\n",
       "      <th id=\"T_d623b_level0_row12\" class=\"row_heading level0 row12\" >12</th>\n",
       "      <td id=\"T_d623b_row12_col0\" class=\"data row12 col0\" >Fold Generator</td>\n",
       "      <td id=\"T_d623b_row12_col1\" class=\"data row12 col1\" >StratifiedKFold</td>\n",
       "    </tr>\n",
       "    <tr>\n",
       "      <th id=\"T_d623b_level0_row13\" class=\"row_heading level0 row13\" >13</th>\n",
       "      <td id=\"T_d623b_row13_col0\" class=\"data row13 col0\" >Fold Number</td>\n",
       "      <td id=\"T_d623b_row13_col1\" class=\"data row13 col1\" >10</td>\n",
       "    </tr>\n",
       "    <tr>\n",
       "      <th id=\"T_d623b_level0_row14\" class=\"row_heading level0 row14\" >14</th>\n",
       "      <td id=\"T_d623b_row14_col0\" class=\"data row14 col0\" >CPU Jobs</td>\n",
       "      <td id=\"T_d623b_row14_col1\" class=\"data row14 col1\" >-1</td>\n",
       "    </tr>\n",
       "    <tr>\n",
       "      <th id=\"T_d623b_level0_row15\" class=\"row_heading level0 row15\" >15</th>\n",
       "      <td id=\"T_d623b_row15_col0\" class=\"data row15 col0\" >Use GPU</td>\n",
       "      <td id=\"T_d623b_row15_col1\" class=\"data row15 col1\" >False</td>\n",
       "    </tr>\n",
       "    <tr>\n",
       "      <th id=\"T_d623b_level0_row16\" class=\"row_heading level0 row16\" >16</th>\n",
       "      <td id=\"T_d623b_row16_col0\" class=\"data row16 col0\" >Log Experiment</td>\n",
       "      <td id=\"T_d623b_row16_col1\" class=\"data row16 col1\" >False</td>\n",
       "    </tr>\n",
       "    <tr>\n",
       "      <th id=\"T_d623b_level0_row17\" class=\"row_heading level0 row17\" >17</th>\n",
       "      <td id=\"T_d623b_row17_col0\" class=\"data row17 col0\" >Experiment Name</td>\n",
       "      <td id=\"T_d623b_row17_col1\" class=\"data row17 col1\" >clf-default-name</td>\n",
       "    </tr>\n",
       "    <tr>\n",
       "      <th id=\"T_d623b_level0_row18\" class=\"row_heading level0 row18\" >18</th>\n",
       "      <td id=\"T_d623b_row18_col0\" class=\"data row18 col0\" >USI</td>\n",
       "      <td id=\"T_d623b_row18_col1\" class=\"data row18 col1\" >a90d</td>\n",
       "    </tr>\n",
       "  </tbody>\n",
       "</table>\n"
      ],
      "text/plain": [
       "<pandas.io.formats.style.Styler at 0x25e0b328490>"
      ]
     },
     "metadata": {},
     "output_type": "display_data"
    }
   ],
   "source": [
    "from pycaret.classification import *\n",
    "s = setup(df, target = 'price_range', session_id = 23)"
   ]
  },
  {
   "cell_type": "code",
   "execution_count": 17,
   "id": "31e817e55f531b51",
   "metadata": {
    "ExecuteTime": {
     "end_time": "2024-03-20T14:07:28.531478Z",
     "start_time": "2024-03-20T14:07:08.572400Z"
    },
    "collapsed": false,
    "jupyter": {
     "outputs_hidden": false
    }
   },
   "outputs": [
    {
     "data": {
      "text/html": [],
      "text/plain": [
       "<IPython.core.display.HTML object>"
      ]
     },
     "metadata": {},
     "output_type": "display_data"
    },
    {
     "data": {
      "text/html": [
       "<style type=\"text/css\">\n",
       "#T_ee12f th {\n",
       "  text-align: left;\n",
       "}\n",
       "#T_ee12f_row0_col0, #T_ee12f_row1_col0, #T_ee12f_row1_col1, #T_ee12f_row1_col2, #T_ee12f_row1_col3, #T_ee12f_row1_col4, #T_ee12f_row1_col5, #T_ee12f_row1_col6, #T_ee12f_row1_col7, #T_ee12f_row2_col0, #T_ee12f_row2_col1, #T_ee12f_row2_col2, #T_ee12f_row2_col3, #T_ee12f_row2_col4, #T_ee12f_row2_col5, #T_ee12f_row2_col6, #T_ee12f_row2_col7, #T_ee12f_row3_col0, #T_ee12f_row3_col1, #T_ee12f_row3_col2, #T_ee12f_row3_col3, #T_ee12f_row3_col4, #T_ee12f_row3_col5, #T_ee12f_row3_col6, #T_ee12f_row3_col7, #T_ee12f_row4_col0, #T_ee12f_row4_col1, #T_ee12f_row4_col2, #T_ee12f_row4_col3, #T_ee12f_row4_col4, #T_ee12f_row4_col5, #T_ee12f_row4_col6, #T_ee12f_row4_col7, #T_ee12f_row5_col0, #T_ee12f_row5_col1, #T_ee12f_row5_col2, #T_ee12f_row5_col3, #T_ee12f_row5_col4, #T_ee12f_row5_col5, #T_ee12f_row5_col6, #T_ee12f_row5_col7, #T_ee12f_row6_col0, #T_ee12f_row6_col1, #T_ee12f_row6_col2, #T_ee12f_row6_col3, #T_ee12f_row6_col4, #T_ee12f_row6_col5, #T_ee12f_row6_col6, #T_ee12f_row6_col7, #T_ee12f_row7_col0, #T_ee12f_row7_col1, #T_ee12f_row7_col2, #T_ee12f_row7_col3, #T_ee12f_row7_col4, #T_ee12f_row7_col5, #T_ee12f_row7_col6, #T_ee12f_row7_col7, #T_ee12f_row8_col0, #T_ee12f_row8_col1, #T_ee12f_row8_col2, #T_ee12f_row8_col3, #T_ee12f_row8_col4, #T_ee12f_row8_col5, #T_ee12f_row8_col6, #T_ee12f_row8_col7, #T_ee12f_row9_col0, #T_ee12f_row9_col1, #T_ee12f_row9_col2, #T_ee12f_row9_col3, #T_ee12f_row9_col4, #T_ee12f_row9_col5, #T_ee12f_row9_col6, #T_ee12f_row9_col7, #T_ee12f_row10_col0, #T_ee12f_row10_col1, #T_ee12f_row10_col2, #T_ee12f_row10_col3, #T_ee12f_row10_col4, #T_ee12f_row10_col5, #T_ee12f_row10_col6, #T_ee12f_row10_col7, #T_ee12f_row11_col0, #T_ee12f_row11_col1, #T_ee12f_row11_col2, #T_ee12f_row11_col3, #T_ee12f_row11_col4, #T_ee12f_row11_col5, #T_ee12f_row11_col6, #T_ee12f_row11_col7, #T_ee12f_row12_col0, #T_ee12f_row12_col1, #T_ee12f_row12_col2, #T_ee12f_row12_col3, #T_ee12f_row12_col4, #T_ee12f_row12_col5, #T_ee12f_row12_col6, #T_ee12f_row12_col7, #T_ee12f_row13_col0, #T_ee12f_row13_col1, #T_ee12f_row13_col2, #T_ee12f_row13_col3, #T_ee12f_row13_col4, #T_ee12f_row13_col5, #T_ee12f_row13_col6, #T_ee12f_row13_col7, #T_ee12f_row14_col0, #T_ee12f_row14_col1, #T_ee12f_row14_col2, #T_ee12f_row14_col3, #T_ee12f_row14_col4, #T_ee12f_row14_col5, #T_ee12f_row14_col6, #T_ee12f_row14_col7, #T_ee12f_row15_col0, #T_ee12f_row15_col1, #T_ee12f_row15_col2, #T_ee12f_row15_col3, #T_ee12f_row15_col4, #T_ee12f_row15_col5, #T_ee12f_row15_col6, #T_ee12f_row15_col7 {\n",
       "  text-align: left;\n",
       "}\n",
       "#T_ee12f_row0_col1, #T_ee12f_row0_col2, #T_ee12f_row0_col3, #T_ee12f_row0_col4, #T_ee12f_row0_col5, #T_ee12f_row0_col6, #T_ee12f_row0_col7 {\n",
       "  text-align: left;\n",
       "  background-color: yellow;\n",
       "}\n",
       "#T_ee12f_row0_col8, #T_ee12f_row1_col8, #T_ee12f_row2_col8, #T_ee12f_row3_col8, #T_ee12f_row4_col8, #T_ee12f_row5_col8, #T_ee12f_row6_col8, #T_ee12f_row7_col8, #T_ee12f_row8_col8, #T_ee12f_row9_col8, #T_ee12f_row10_col8, #T_ee12f_row11_col8, #T_ee12f_row12_col8, #T_ee12f_row14_col8, #T_ee12f_row15_col8 {\n",
       "  text-align: left;\n",
       "  background-color: lightgrey;\n",
       "}\n",
       "#T_ee12f_row13_col8 {\n",
       "  text-align: left;\n",
       "  background-color: yellow;\n",
       "  background-color: lightgrey;\n",
       "}\n",
       "</style>\n",
       "<table id=\"T_ee12f\">\n",
       "  <thead>\n",
       "    <tr>\n",
       "      <th class=\"blank level0\" >&nbsp;</th>\n",
       "      <th id=\"T_ee12f_level0_col0\" class=\"col_heading level0 col0\" >Model</th>\n",
       "      <th id=\"T_ee12f_level0_col1\" class=\"col_heading level0 col1\" >Accuracy</th>\n",
       "      <th id=\"T_ee12f_level0_col2\" class=\"col_heading level0 col2\" >AUC</th>\n",
       "      <th id=\"T_ee12f_level0_col3\" class=\"col_heading level0 col3\" >Recall</th>\n",
       "      <th id=\"T_ee12f_level0_col4\" class=\"col_heading level0 col4\" >Prec.</th>\n",
       "      <th id=\"T_ee12f_level0_col5\" class=\"col_heading level0 col5\" >F1</th>\n",
       "      <th id=\"T_ee12f_level0_col6\" class=\"col_heading level0 col6\" >Kappa</th>\n",
       "      <th id=\"T_ee12f_level0_col7\" class=\"col_heading level0 col7\" >MCC</th>\n",
       "      <th id=\"T_ee12f_level0_col8\" class=\"col_heading level0 col8\" >TT (Sec)</th>\n",
       "    </tr>\n",
       "  </thead>\n",
       "  <tbody>\n",
       "    <tr>\n",
       "      <th id=\"T_ee12f_level0_row0\" class=\"row_heading level0 row0\" >lda</th>\n",
       "      <td id=\"T_ee12f_row0_col0\" class=\"data row0 col0\" >Linear Discriminant Analysis</td>\n",
       "      <td id=\"T_ee12f_row0_col1\" class=\"data row0 col1\" >0.9500</td>\n",
       "      <td id=\"T_ee12f_row0_col2\" class=\"data row0 col2\" >0.9955</td>\n",
       "      <td id=\"T_ee12f_row0_col3\" class=\"data row0 col3\" >0.9500</td>\n",
       "      <td id=\"T_ee12f_row0_col4\" class=\"data row0 col4\" >0.9516</td>\n",
       "      <td id=\"T_ee12f_row0_col5\" class=\"data row0 col5\" >0.9502</td>\n",
       "      <td id=\"T_ee12f_row0_col6\" class=\"data row0 col6\" >0.9333</td>\n",
       "      <td id=\"T_ee12f_row0_col7\" class=\"data row0 col7\" >0.9337</td>\n",
       "      <td id=\"T_ee12f_row0_col8\" class=\"data row0 col8\" >0.0150</td>\n",
       "    </tr>\n",
       "    <tr>\n",
       "      <th id=\"T_ee12f_level0_row1\" class=\"row_heading level0 row1\" >catboost</th>\n",
       "      <td id=\"T_ee12f_row1_col0\" class=\"data row1 col0\" >CatBoost Classifier</td>\n",
       "      <td id=\"T_ee12f_row1_col1\" class=\"data row1 col1\" >0.9329</td>\n",
       "      <td id=\"T_ee12f_row1_col2\" class=\"data row1 col2\" >0.9935</td>\n",
       "      <td id=\"T_ee12f_row1_col3\" class=\"data row1 col3\" >0.9329</td>\n",
       "      <td id=\"T_ee12f_row1_col4\" class=\"data row1 col4\" >0.9344</td>\n",
       "      <td id=\"T_ee12f_row1_col5\" class=\"data row1 col5\" >0.9328</td>\n",
       "      <td id=\"T_ee12f_row1_col6\" class=\"data row1 col6\" >0.9105</td>\n",
       "      <td id=\"T_ee12f_row1_col7\" class=\"data row1 col7\" >0.9110</td>\n",
       "      <td id=\"T_ee12f_row1_col8\" class=\"data row1 col8\" >4.6400</td>\n",
       "    </tr>\n",
       "    <tr>\n",
       "      <th id=\"T_ee12f_level0_row2\" class=\"row_heading level0 row2\" >knn</th>\n",
       "      <td id=\"T_ee12f_row2_col0\" class=\"data row2 col0\" >K Neighbors Classifier</td>\n",
       "      <td id=\"T_ee12f_row2_col1\" class=\"data row2 col1\" >0.9200</td>\n",
       "      <td id=\"T_ee12f_row2_col2\" class=\"data row2 col2\" >0.9884</td>\n",
       "      <td id=\"T_ee12f_row2_col3\" class=\"data row2 col3\" >0.9200</td>\n",
       "      <td id=\"T_ee12f_row2_col4\" class=\"data row2 col4\" >0.9217</td>\n",
       "      <td id=\"T_ee12f_row2_col5\" class=\"data row2 col5\" >0.9198</td>\n",
       "      <td id=\"T_ee12f_row2_col6\" class=\"data row2 col6\" >0.8933</td>\n",
       "      <td id=\"T_ee12f_row2_col7\" class=\"data row2 col7\" >0.8940</td>\n",
       "      <td id=\"T_ee12f_row2_col8\" class=\"data row2 col8\" >0.0450</td>\n",
       "    </tr>\n",
       "    <tr>\n",
       "      <th id=\"T_ee12f_level0_row3\" class=\"row_heading level0 row3\" >qda</th>\n",
       "      <td id=\"T_ee12f_row3_col0\" class=\"data row3 col0\" >Quadratic Discriminant Analysis</td>\n",
       "      <td id=\"T_ee12f_row3_col1\" class=\"data row3 col1\" >0.9129</td>\n",
       "      <td id=\"T_ee12f_row3_col2\" class=\"data row3 col2\" >0.9910</td>\n",
       "      <td id=\"T_ee12f_row3_col3\" class=\"data row3 col3\" >0.9129</td>\n",
       "      <td id=\"T_ee12f_row3_col4\" class=\"data row3 col4\" >0.9150</td>\n",
       "      <td id=\"T_ee12f_row3_col5\" class=\"data row3 col5\" >0.9122</td>\n",
       "      <td id=\"T_ee12f_row3_col6\" class=\"data row3 col6\" >0.8838</td>\n",
       "      <td id=\"T_ee12f_row3_col7\" class=\"data row3 col7\" >0.8849</td>\n",
       "      <td id=\"T_ee12f_row3_col8\" class=\"data row3 col8\" >0.0160</td>\n",
       "    </tr>\n",
       "    <tr>\n",
       "      <th id=\"T_ee12f_level0_row4\" class=\"row_heading level0 row4\" >lightgbm</th>\n",
       "      <td id=\"T_ee12f_row4_col0\" class=\"data row4 col0\" >Light Gradient Boosting Machine</td>\n",
       "      <td id=\"T_ee12f_row4_col1\" class=\"data row4 col1\" >0.9057</td>\n",
       "      <td id=\"T_ee12f_row4_col2\" class=\"data row4 col2\" >0.9868</td>\n",
       "      <td id=\"T_ee12f_row4_col3\" class=\"data row4 col3\" >0.9057</td>\n",
       "      <td id=\"T_ee12f_row4_col4\" class=\"data row4 col4\" >0.9075</td>\n",
       "      <td id=\"T_ee12f_row4_col5\" class=\"data row4 col5\" >0.9054</td>\n",
       "      <td id=\"T_ee12f_row4_col6\" class=\"data row4 col6\" >0.8743</td>\n",
       "      <td id=\"T_ee12f_row4_col7\" class=\"data row4 col7\" >0.8751</td>\n",
       "      <td id=\"T_ee12f_row4_col8\" class=\"data row4 col8\" >0.5310</td>\n",
       "    </tr>\n",
       "    <tr>\n",
       "      <th id=\"T_ee12f_level0_row5\" class=\"row_heading level0 row5\" >xgboost</th>\n",
       "      <td id=\"T_ee12f_row5_col0\" class=\"data row5 col0\" >Extreme Gradient Boosting</td>\n",
       "      <td id=\"T_ee12f_row5_col1\" class=\"data row5 col1\" >0.9014</td>\n",
       "      <td id=\"T_ee12f_row5_col2\" class=\"data row5 col2\" >0.9876</td>\n",
       "      <td id=\"T_ee12f_row5_col3\" class=\"data row5 col3\" >0.9014</td>\n",
       "      <td id=\"T_ee12f_row5_col4\" class=\"data row5 col4\" >0.9033</td>\n",
       "      <td id=\"T_ee12f_row5_col5\" class=\"data row5 col5\" >0.9011</td>\n",
       "      <td id=\"T_ee12f_row5_col6\" class=\"data row5 col6\" >0.8686</td>\n",
       "      <td id=\"T_ee12f_row5_col7\" class=\"data row5 col7\" >0.8694</td>\n",
       "      <td id=\"T_ee12f_row5_col8\" class=\"data row5 col8\" >0.1270</td>\n",
       "    </tr>\n",
       "    <tr>\n",
       "      <th id=\"T_ee12f_level0_row6\" class=\"row_heading level0 row6\" >gbc</th>\n",
       "      <td id=\"T_ee12f_row6_col0\" class=\"data row6 col0\" >Gradient Boosting Classifier</td>\n",
       "      <td id=\"T_ee12f_row6_col1\" class=\"data row6 col1\" >0.8914</td>\n",
       "      <td id=\"T_ee12f_row6_col2\" class=\"data row6 col2\" >0.9834</td>\n",
       "      <td id=\"T_ee12f_row6_col3\" class=\"data row6 col3\" >0.8914</td>\n",
       "      <td id=\"T_ee12f_row6_col4\" class=\"data row6 col4\" >0.8936</td>\n",
       "      <td id=\"T_ee12f_row6_col5\" class=\"data row6 col5\" >0.8913</td>\n",
       "      <td id=\"T_ee12f_row6_col6\" class=\"data row6 col6\" >0.8552</td>\n",
       "      <td id=\"T_ee12f_row6_col7\" class=\"data row6 col7\" >0.8561</td>\n",
       "      <td id=\"T_ee12f_row6_col8\" class=\"data row6 col8\" >0.6260</td>\n",
       "    </tr>\n",
       "    <tr>\n",
       "      <th id=\"T_ee12f_level0_row7\" class=\"row_heading level0 row7\" >rf</th>\n",
       "      <td id=\"T_ee12f_row7_col0\" class=\"data row7 col0\" >Random Forest Classifier</td>\n",
       "      <td id=\"T_ee12f_row7_col1\" class=\"data row7 col1\" >0.8736</td>\n",
       "      <td id=\"T_ee12f_row7_col2\" class=\"data row7 col2\" >0.9777</td>\n",
       "      <td id=\"T_ee12f_row7_col3\" class=\"data row7 col3\" >0.8736</td>\n",
       "      <td id=\"T_ee12f_row7_col4\" class=\"data row7 col4\" >0.8762</td>\n",
       "      <td id=\"T_ee12f_row7_col5\" class=\"data row7 col5\" >0.8730</td>\n",
       "      <td id=\"T_ee12f_row7_col6\" class=\"data row7 col6\" >0.8314</td>\n",
       "      <td id=\"T_ee12f_row7_col7\" class=\"data row7 col7\" >0.8326</td>\n",
       "      <td id=\"T_ee12f_row7_col8\" class=\"data row7 col8\" >0.1480</td>\n",
       "    </tr>\n",
       "    <tr>\n",
       "      <th id=\"T_ee12f_level0_row8\" class=\"row_heading level0 row8\" >et</th>\n",
       "      <td id=\"T_ee12f_row8_col0\" class=\"data row8 col0\" >Extra Trees Classifier</td>\n",
       "      <td id=\"T_ee12f_row8_col1\" class=\"data row8 col1\" >0.8614</td>\n",
       "      <td id=\"T_ee12f_row8_col2\" class=\"data row8 col2\" >0.9666</td>\n",
       "      <td id=\"T_ee12f_row8_col3\" class=\"data row8 col3\" >0.8614</td>\n",
       "      <td id=\"T_ee12f_row8_col4\" class=\"data row8 col4\" >0.8626</td>\n",
       "      <td id=\"T_ee12f_row8_col5\" class=\"data row8 col5\" >0.8601</td>\n",
       "      <td id=\"T_ee12f_row8_col6\" class=\"data row8 col6\" >0.8152</td>\n",
       "      <td id=\"T_ee12f_row8_col7\" class=\"data row8 col7\" >0.8164</td>\n",
       "      <td id=\"T_ee12f_row8_col8\" class=\"data row8 col8\" >0.1140</td>\n",
       "    </tr>\n",
       "    <tr>\n",
       "      <th id=\"T_ee12f_level0_row9\" class=\"row_heading level0 row9\" >dt</th>\n",
       "      <td id=\"T_ee12f_row9_col0\" class=\"data row9 col0\" >Decision Tree Classifier</td>\n",
       "      <td id=\"T_ee12f_row9_col1\" class=\"data row9 col1\" >0.8171</td>\n",
       "      <td id=\"T_ee12f_row9_col2\" class=\"data row9 col2\" >0.8781</td>\n",
       "      <td id=\"T_ee12f_row9_col3\" class=\"data row9 col3\" >0.8171</td>\n",
       "      <td id=\"T_ee12f_row9_col4\" class=\"data row9 col4\" >0.8204</td>\n",
       "      <td id=\"T_ee12f_row9_col5\" class=\"data row9 col5\" >0.8171</td>\n",
       "      <td id=\"T_ee12f_row9_col6\" class=\"data row9 col6\" >0.7562</td>\n",
       "      <td id=\"T_ee12f_row9_col7\" class=\"data row9 col7\" >0.7573</td>\n",
       "      <td id=\"T_ee12f_row9_col8\" class=\"data row9 col8\" >0.0180</td>\n",
       "    </tr>\n",
       "    <tr>\n",
       "      <th id=\"T_ee12f_level0_row10\" class=\"row_heading level0 row10\" >nb</th>\n",
       "      <td id=\"T_ee12f_row10_col0\" class=\"data row10 col0\" >Naive Bayes</td>\n",
       "      <td id=\"T_ee12f_row10_col1\" class=\"data row10 col1\" >0.8043</td>\n",
       "      <td id=\"T_ee12f_row10_col2\" class=\"data row10 col2\" >0.9476</td>\n",
       "      <td id=\"T_ee12f_row10_col3\" class=\"data row10 col3\" >0.8043</td>\n",
       "      <td id=\"T_ee12f_row10_col4\" class=\"data row10 col4\" >0.8104</td>\n",
       "      <td id=\"T_ee12f_row10_col5\" class=\"data row10 col5\" >0.8052</td>\n",
       "      <td id=\"T_ee12f_row10_col6\" class=\"data row10 col6\" >0.7390</td>\n",
       "      <td id=\"T_ee12f_row10_col7\" class=\"data row10 col7\" >0.7404</td>\n",
       "      <td id=\"T_ee12f_row10_col8\" class=\"data row10 col8\" >0.0150</td>\n",
       "    </tr>\n",
       "    <tr>\n",
       "      <th id=\"T_ee12f_level0_row11\" class=\"row_heading level0 row11\" >lr</th>\n",
       "      <td id=\"T_ee12f_row11_col0\" class=\"data row11 col0\" >Logistic Regression</td>\n",
       "      <td id=\"T_ee12f_row11_col1\" class=\"data row11 col1\" >0.7000</td>\n",
       "      <td id=\"T_ee12f_row11_col2\" class=\"data row11 col2\" >0.9081</td>\n",
       "      <td id=\"T_ee12f_row11_col3\" class=\"data row11 col3\" >0.7000</td>\n",
       "      <td id=\"T_ee12f_row11_col4\" class=\"data row11 col4\" >0.7034</td>\n",
       "      <td id=\"T_ee12f_row11_col5\" class=\"data row11 col5\" >0.6989</td>\n",
       "      <td id=\"T_ee12f_row11_col6\" class=\"data row11 col6\" >0.6000</td>\n",
       "      <td id=\"T_ee12f_row11_col7\" class=\"data row11 col7\" >0.6016</td>\n",
       "      <td id=\"T_ee12f_row11_col8\" class=\"data row11 col8\" >0.1510</td>\n",
       "    </tr>\n",
       "    <tr>\n",
       "      <th id=\"T_ee12f_level0_row12\" class=\"row_heading level0 row12\" >ada</th>\n",
       "      <td id=\"T_ee12f_row12_col0\" class=\"data row12 col0\" >Ada Boost Classifier</td>\n",
       "      <td id=\"T_ee12f_row12_col1\" class=\"data row12 col1\" >0.6779</td>\n",
       "      <td id=\"T_ee12f_row12_col2\" class=\"data row12 col2\" >0.9034</td>\n",
       "      <td id=\"T_ee12f_row12_col3\" class=\"data row12 col3\" >0.6779</td>\n",
       "      <td id=\"T_ee12f_row12_col4\" class=\"data row12 col4\" >0.7379</td>\n",
       "      <td id=\"T_ee12f_row12_col5\" class=\"data row12 col5\" >0.6665</td>\n",
       "      <td id=\"T_ee12f_row12_col6\" class=\"data row12 col6\" >0.5705</td>\n",
       "      <td id=\"T_ee12f_row12_col7\" class=\"data row12 col7\" >0.5872</td>\n",
       "      <td id=\"T_ee12f_row12_col8\" class=\"data row12 col8\" >0.0780</td>\n",
       "    </tr>\n",
       "    <tr>\n",
       "      <th id=\"T_ee12f_level0_row13\" class=\"row_heading level0 row13\" >ridge</th>\n",
       "      <td id=\"T_ee12f_row13_col0\" class=\"data row13 col0\" >Ridge Classifier</td>\n",
       "      <td id=\"T_ee12f_row13_col1\" class=\"data row13 col1\" >0.6143</td>\n",
       "      <td id=\"T_ee12f_row13_col2\" class=\"data row13 col2\" >0.0000</td>\n",
       "      <td id=\"T_ee12f_row13_col3\" class=\"data row13 col3\" >0.6143</td>\n",
       "      <td id=\"T_ee12f_row13_col4\" class=\"data row13 col4\" >0.6863</td>\n",
       "      <td id=\"T_ee12f_row13_col5\" class=\"data row13 col5\" >0.5466</td>\n",
       "      <td id=\"T_ee12f_row13_col6\" class=\"data row13 col6\" >0.4857</td>\n",
       "      <td id=\"T_ee12f_row13_col7\" class=\"data row13 col7\" >0.5312</td>\n",
       "      <td id=\"T_ee12f_row13_col8\" class=\"data row13 col8\" >0.0140</td>\n",
       "    </tr>\n",
       "    <tr>\n",
       "      <th id=\"T_ee12f_level0_row14\" class=\"row_heading level0 row14\" >svm</th>\n",
       "      <td id=\"T_ee12f_row14_col0\" class=\"data row14 col0\" >SVM - Linear Kernel</td>\n",
       "      <td id=\"T_ee12f_row14_col1\" class=\"data row14 col1\" >0.5321</td>\n",
       "      <td id=\"T_ee12f_row14_col2\" class=\"data row14 col2\" >0.0000</td>\n",
       "      <td id=\"T_ee12f_row14_col3\" class=\"data row14 col3\" >0.5321</td>\n",
       "      <td id=\"T_ee12f_row14_col4\" class=\"data row14 col4\" >0.5173</td>\n",
       "      <td id=\"T_ee12f_row14_col5\" class=\"data row14 col5\" >0.4510</td>\n",
       "      <td id=\"T_ee12f_row14_col6\" class=\"data row14 col6\" >0.3762</td>\n",
       "      <td id=\"T_ee12f_row14_col7\" class=\"data row14 col7\" >0.4215</td>\n",
       "      <td id=\"T_ee12f_row14_col8\" class=\"data row14 col8\" >0.0280</td>\n",
       "    </tr>\n",
       "    <tr>\n",
       "      <th id=\"T_ee12f_level0_row15\" class=\"row_heading level0 row15\" >dummy</th>\n",
       "      <td id=\"T_ee12f_row15_col0\" class=\"data row15 col0\" >Dummy Classifier</td>\n",
       "      <td id=\"T_ee12f_row15_col1\" class=\"data row15 col1\" >0.2500</td>\n",
       "      <td id=\"T_ee12f_row15_col2\" class=\"data row15 col2\" >0.5000</td>\n",
       "      <td id=\"T_ee12f_row15_col3\" class=\"data row15 col3\" >0.2500</td>\n",
       "      <td id=\"T_ee12f_row15_col4\" class=\"data row15 col4\" >0.0625</td>\n",
       "      <td id=\"T_ee12f_row15_col5\" class=\"data row15 col5\" >0.1000</td>\n",
       "      <td id=\"T_ee12f_row15_col6\" class=\"data row15 col6\" >0.0000</td>\n",
       "      <td id=\"T_ee12f_row15_col7\" class=\"data row15 col7\" >0.0000</td>\n",
       "      <td id=\"T_ee12f_row15_col8\" class=\"data row15 col8\" >0.0150</td>\n",
       "    </tr>\n",
       "  </tbody>\n",
       "</table>\n"
      ],
      "text/plain": [
       "<pandas.io.formats.style.Styler at 0x25e09e0d110>"
      ]
     },
     "metadata": {},
     "output_type": "display_data"
    },
    {
     "data": {
      "text/html": [],
      "text/plain": [
       "<IPython.core.display.HTML object>"
      ]
     },
     "metadata": {},
     "output_type": "display_data"
    }
   ],
   "source": [
    "best = compare_models()"
   ]
  },
  {
   "cell_type": "code",
   "execution_count": 18,
   "id": "3c67c1651bb3a7fa",
   "metadata": {
    "ExecuteTime": {
     "end_time": "2024-03-20T14:08:54.721966Z",
     "start_time": "2024-03-20T14:08:54.705809Z"
    },
    "collapsed": false,
    "jupyter": {
     "outputs_hidden": false
    }
   },
   "outputs": [
    {
     "data": {
      "text/html": [
       "<style>#sk-container-id-1 {\n",
       "  /* Definition of color scheme common for light and dark mode */\n",
       "  --sklearn-color-text: black;\n",
       "  --sklearn-color-line: gray;\n",
       "  /* Definition of color scheme for unfitted estimators */\n",
       "  --sklearn-color-unfitted-level-0: #fff5e6;\n",
       "  --sklearn-color-unfitted-level-1: #f6e4d2;\n",
       "  --sklearn-color-unfitted-level-2: #ffe0b3;\n",
       "  --sklearn-color-unfitted-level-3: chocolate;\n",
       "  /* Definition of color scheme for fitted estimators */\n",
       "  --sklearn-color-fitted-level-0: #f0f8ff;\n",
       "  --sklearn-color-fitted-level-1: #d4ebff;\n",
       "  --sklearn-color-fitted-level-2: #b3dbfd;\n",
       "  --sklearn-color-fitted-level-3: cornflowerblue;\n",
       "\n",
       "  /* Specific color for light theme */\n",
       "  --sklearn-color-text-on-default-background: var(--sg-text-color, var(--theme-code-foreground, var(--jp-content-font-color1, black)));\n",
       "  --sklearn-color-background: var(--sg-background-color, var(--theme-background, var(--jp-layout-color0, white)));\n",
       "  --sklearn-color-border-box: var(--sg-text-color, var(--theme-code-foreground, var(--jp-content-font-color1, black)));\n",
       "  --sklearn-color-icon: #696969;\n",
       "\n",
       "  @media (prefers-color-scheme: dark) {\n",
       "    /* Redefinition of color scheme for dark theme */\n",
       "    --sklearn-color-text-on-default-background: var(--sg-text-color, var(--theme-code-foreground, var(--jp-content-font-color1, white)));\n",
       "    --sklearn-color-background: var(--sg-background-color, var(--theme-background, var(--jp-layout-color0, #111)));\n",
       "    --sklearn-color-border-box: var(--sg-text-color, var(--theme-code-foreground, var(--jp-content-font-color1, white)));\n",
       "    --sklearn-color-icon: #878787;\n",
       "  }\n",
       "}\n",
       "\n",
       "#sk-container-id-1 {\n",
       "  color: var(--sklearn-color-text);\n",
       "}\n",
       "\n",
       "#sk-container-id-1 pre {\n",
       "  padding: 0;\n",
       "}\n",
       "\n",
       "#sk-container-id-1 input.sk-hidden--visually {\n",
       "  border: 0;\n",
       "  clip: rect(1px 1px 1px 1px);\n",
       "  clip: rect(1px, 1px, 1px, 1px);\n",
       "  height: 1px;\n",
       "  margin: -1px;\n",
       "  overflow: hidden;\n",
       "  padding: 0;\n",
       "  position: absolute;\n",
       "  width: 1px;\n",
       "}\n",
       "\n",
       "#sk-container-id-1 div.sk-dashed-wrapped {\n",
       "  border: 1px dashed var(--sklearn-color-line);\n",
       "  margin: 0 0.4em 0.5em 0.4em;\n",
       "  box-sizing: border-box;\n",
       "  padding-bottom: 0.4em;\n",
       "  background-color: var(--sklearn-color-background);\n",
       "}\n",
       "\n",
       "#sk-container-id-1 div.sk-container {\n",
       "  /* jupyter's `normalize.less` sets `[hidden] { display: none; }`\n",
       "     but bootstrap.min.css set `[hidden] { display: none !important; }`\n",
       "     so we also need the `!important` here to be able to override the\n",
       "     default hidden behavior on the sphinx rendered scikit-learn.org.\n",
       "     See: https://github.com/scikit-learn/scikit-learn/issues/21755 */\n",
       "  display: inline-block !important;\n",
       "  position: relative;\n",
       "}\n",
       "\n",
       "#sk-container-id-1 div.sk-text-repr-fallback {\n",
       "  display: none;\n",
       "}\n",
       "\n",
       "div.sk-parallel-item,\n",
       "div.sk-serial,\n",
       "div.sk-item {\n",
       "  /* draw centered vertical line to link estimators */\n",
       "  background-image: linear-gradient(var(--sklearn-color-text-on-default-background), var(--sklearn-color-text-on-default-background));\n",
       "  background-size: 2px 100%;\n",
       "  background-repeat: no-repeat;\n",
       "  background-position: center center;\n",
       "}\n",
       "\n",
       "/* Parallel-specific style estimator block */\n",
       "\n",
       "#sk-container-id-1 div.sk-parallel-item::after {\n",
       "  content: \"\";\n",
       "  width: 100%;\n",
       "  border-bottom: 2px solid var(--sklearn-color-text-on-default-background);\n",
       "  flex-grow: 1;\n",
       "}\n",
       "\n",
       "#sk-container-id-1 div.sk-parallel {\n",
       "  display: flex;\n",
       "  align-items: stretch;\n",
       "  justify-content: center;\n",
       "  background-color: var(--sklearn-color-background);\n",
       "  position: relative;\n",
       "}\n",
       "\n",
       "#sk-container-id-1 div.sk-parallel-item {\n",
       "  display: flex;\n",
       "  flex-direction: column;\n",
       "}\n",
       "\n",
       "#sk-container-id-1 div.sk-parallel-item:first-child::after {\n",
       "  align-self: flex-end;\n",
       "  width: 50%;\n",
       "}\n",
       "\n",
       "#sk-container-id-1 div.sk-parallel-item:last-child::after {\n",
       "  align-self: flex-start;\n",
       "  width: 50%;\n",
       "}\n",
       "\n",
       "#sk-container-id-1 div.sk-parallel-item:only-child::after {\n",
       "  width: 0;\n",
       "}\n",
       "\n",
       "/* Serial-specific style estimator block */\n",
       "\n",
       "#sk-container-id-1 div.sk-serial {\n",
       "  display: flex;\n",
       "  flex-direction: column;\n",
       "  align-items: center;\n",
       "  background-color: var(--sklearn-color-background);\n",
       "  padding-right: 1em;\n",
       "  padding-left: 1em;\n",
       "}\n",
       "\n",
       "\n",
       "/* Toggleable style: style used for estimator/Pipeline/ColumnTransformer box that is\n",
       "clickable and can be expanded/collapsed.\n",
       "- Pipeline and ColumnTransformer use this feature and define the default style\n",
       "- Estimators will overwrite some part of the style using the `sk-estimator` class\n",
       "*/\n",
       "\n",
       "/* Pipeline and ColumnTransformer style (default) */\n",
       "\n",
       "#sk-container-id-1 div.sk-toggleable {\n",
       "  /* Default theme specific background. It is overwritten whether we have a\n",
       "  specific estimator or a Pipeline/ColumnTransformer */\n",
       "  background-color: var(--sklearn-color-background);\n",
       "}\n",
       "\n",
       "/* Toggleable label */\n",
       "#sk-container-id-1 label.sk-toggleable__label {\n",
       "  cursor: pointer;\n",
       "  display: block;\n",
       "  width: 100%;\n",
       "  margin-bottom: 0;\n",
       "  padding: 0.5em;\n",
       "  box-sizing: border-box;\n",
       "  text-align: center;\n",
       "}\n",
       "\n",
       "#sk-container-id-1 label.sk-toggleable__label-arrow:before {\n",
       "  /* Arrow on the left of the label */\n",
       "  content: \"▸\";\n",
       "  float: left;\n",
       "  margin-right: 0.25em;\n",
       "  color: var(--sklearn-color-icon);\n",
       "}\n",
       "\n",
       "#sk-container-id-1 label.sk-toggleable__label-arrow:hover:before {\n",
       "  color: var(--sklearn-color-text);\n",
       "}\n",
       "\n",
       "/* Toggleable content - dropdown */\n",
       "\n",
       "#sk-container-id-1 div.sk-toggleable__content {\n",
       "  max-height: 0;\n",
       "  max-width: 0;\n",
       "  overflow: hidden;\n",
       "  text-align: left;\n",
       "  /* unfitted */\n",
       "  background-color: var(--sklearn-color-unfitted-level-0);\n",
       "}\n",
       "\n",
       "#sk-container-id-1 div.sk-toggleable__content.fitted {\n",
       "  /* fitted */\n",
       "  background-color: var(--sklearn-color-fitted-level-0);\n",
       "}\n",
       "\n",
       "#sk-container-id-1 div.sk-toggleable__content pre {\n",
       "  margin: 0.2em;\n",
       "  border-radius: 0.25em;\n",
       "  color: var(--sklearn-color-text);\n",
       "  /* unfitted */\n",
       "  background-color: var(--sklearn-color-unfitted-level-0);\n",
       "}\n",
       "\n",
       "#sk-container-id-1 div.sk-toggleable__content.fitted pre {\n",
       "  /* unfitted */\n",
       "  background-color: var(--sklearn-color-fitted-level-0);\n",
       "}\n",
       "\n",
       "#sk-container-id-1 input.sk-toggleable__control:checked~div.sk-toggleable__content {\n",
       "  /* Expand drop-down */\n",
       "  max-height: 200px;\n",
       "  max-width: 100%;\n",
       "  overflow: auto;\n",
       "}\n",
       "\n",
       "#sk-container-id-1 input.sk-toggleable__control:checked~label.sk-toggleable__label-arrow:before {\n",
       "  content: \"▾\";\n",
       "}\n",
       "\n",
       "/* Pipeline/ColumnTransformer-specific style */\n",
       "\n",
       "#sk-container-id-1 div.sk-label input.sk-toggleable__control:checked~label.sk-toggleable__label {\n",
       "  color: var(--sklearn-color-text);\n",
       "  background-color: var(--sklearn-color-unfitted-level-2);\n",
       "}\n",
       "\n",
       "#sk-container-id-1 div.sk-label.fitted input.sk-toggleable__control:checked~label.sk-toggleable__label {\n",
       "  background-color: var(--sklearn-color-fitted-level-2);\n",
       "}\n",
       "\n",
       "/* Estimator-specific style */\n",
       "\n",
       "/* Colorize estimator box */\n",
       "#sk-container-id-1 div.sk-estimator input.sk-toggleable__control:checked~label.sk-toggleable__label {\n",
       "  /* unfitted */\n",
       "  background-color: var(--sklearn-color-unfitted-level-2);\n",
       "}\n",
       "\n",
       "#sk-container-id-1 div.sk-estimator.fitted input.sk-toggleable__control:checked~label.sk-toggleable__label {\n",
       "  /* fitted */\n",
       "  background-color: var(--sklearn-color-fitted-level-2);\n",
       "}\n",
       "\n",
       "#sk-container-id-1 div.sk-label label.sk-toggleable__label,\n",
       "#sk-container-id-1 div.sk-label label {\n",
       "  /* The background is the default theme color */\n",
       "  color: var(--sklearn-color-text-on-default-background);\n",
       "}\n",
       "\n",
       "/* On hover, darken the color of the background */\n",
       "#sk-container-id-1 div.sk-label:hover label.sk-toggleable__label {\n",
       "  color: var(--sklearn-color-text);\n",
       "  background-color: var(--sklearn-color-unfitted-level-2);\n",
       "}\n",
       "\n",
       "/* Label box, darken color on hover, fitted */\n",
       "#sk-container-id-1 div.sk-label.fitted:hover label.sk-toggleable__label.fitted {\n",
       "  color: var(--sklearn-color-text);\n",
       "  background-color: var(--sklearn-color-fitted-level-2);\n",
       "}\n",
       "\n",
       "/* Estimator label */\n",
       "\n",
       "#sk-container-id-1 div.sk-label label {\n",
       "  font-family: monospace;\n",
       "  font-weight: bold;\n",
       "  display: inline-block;\n",
       "  line-height: 1.2em;\n",
       "}\n",
       "\n",
       "#sk-container-id-1 div.sk-label-container {\n",
       "  text-align: center;\n",
       "}\n",
       "\n",
       "/* Estimator-specific */\n",
       "#sk-container-id-1 div.sk-estimator {\n",
       "  font-family: monospace;\n",
       "  border: 1px dotted var(--sklearn-color-border-box);\n",
       "  border-radius: 0.25em;\n",
       "  box-sizing: border-box;\n",
       "  margin-bottom: 0.5em;\n",
       "  /* unfitted */\n",
       "  background-color: var(--sklearn-color-unfitted-level-0);\n",
       "}\n",
       "\n",
       "#sk-container-id-1 div.sk-estimator.fitted {\n",
       "  /* fitted */\n",
       "  background-color: var(--sklearn-color-fitted-level-0);\n",
       "}\n",
       "\n",
       "/* on hover */\n",
       "#sk-container-id-1 div.sk-estimator:hover {\n",
       "  /* unfitted */\n",
       "  background-color: var(--sklearn-color-unfitted-level-2);\n",
       "}\n",
       "\n",
       "#sk-container-id-1 div.sk-estimator.fitted:hover {\n",
       "  /* fitted */\n",
       "  background-color: var(--sklearn-color-fitted-level-2);\n",
       "}\n",
       "\n",
       "/* Specification for estimator info (e.g. \"i\" and \"?\") */\n",
       "\n",
       "/* Common style for \"i\" and \"?\" */\n",
       "\n",
       ".sk-estimator-doc-link,\n",
       "a:link.sk-estimator-doc-link,\n",
       "a:visited.sk-estimator-doc-link {\n",
       "  float: right;\n",
       "  font-size: smaller;\n",
       "  line-height: 1em;\n",
       "  font-family: monospace;\n",
       "  background-color: var(--sklearn-color-background);\n",
       "  border-radius: 1em;\n",
       "  height: 1em;\n",
       "  width: 1em;\n",
       "  text-decoration: none !important;\n",
       "  margin-left: 1ex;\n",
       "  /* unfitted */\n",
       "  border: var(--sklearn-color-unfitted-level-1) 1pt solid;\n",
       "  color: var(--sklearn-color-unfitted-level-1);\n",
       "}\n",
       "\n",
       ".sk-estimator-doc-link.fitted,\n",
       "a:link.sk-estimator-doc-link.fitted,\n",
       "a:visited.sk-estimator-doc-link.fitted {\n",
       "  /* fitted */\n",
       "  border: var(--sklearn-color-fitted-level-1) 1pt solid;\n",
       "  color: var(--sklearn-color-fitted-level-1);\n",
       "}\n",
       "\n",
       "/* On hover */\n",
       "div.sk-estimator:hover .sk-estimator-doc-link:hover,\n",
       ".sk-estimator-doc-link:hover,\n",
       "div.sk-label-container:hover .sk-estimator-doc-link:hover,\n",
       ".sk-estimator-doc-link:hover {\n",
       "  /* unfitted */\n",
       "  background-color: var(--sklearn-color-unfitted-level-3);\n",
       "  color: var(--sklearn-color-background);\n",
       "  text-decoration: none;\n",
       "}\n",
       "\n",
       "div.sk-estimator.fitted:hover .sk-estimator-doc-link.fitted:hover,\n",
       ".sk-estimator-doc-link.fitted:hover,\n",
       "div.sk-label-container:hover .sk-estimator-doc-link.fitted:hover,\n",
       ".sk-estimator-doc-link.fitted:hover {\n",
       "  /* fitted */\n",
       "  background-color: var(--sklearn-color-fitted-level-3);\n",
       "  color: var(--sklearn-color-background);\n",
       "  text-decoration: none;\n",
       "}\n",
       "\n",
       "/* Span, style for the box shown on hovering the info icon */\n",
       ".sk-estimator-doc-link span {\n",
       "  display: none;\n",
       "  z-index: 9999;\n",
       "  position: relative;\n",
       "  font-weight: normal;\n",
       "  right: .2ex;\n",
       "  padding: .5ex;\n",
       "  margin: .5ex;\n",
       "  width: min-content;\n",
       "  min-width: 20ex;\n",
       "  max-width: 50ex;\n",
       "  color: var(--sklearn-color-text);\n",
       "  box-shadow: 2pt 2pt 4pt #999;\n",
       "  /* unfitted */\n",
       "  background: var(--sklearn-color-unfitted-level-0);\n",
       "  border: .5pt solid var(--sklearn-color-unfitted-level-3);\n",
       "}\n",
       "\n",
       ".sk-estimator-doc-link.fitted span {\n",
       "  /* fitted */\n",
       "  background: var(--sklearn-color-fitted-level-0);\n",
       "  border: var(--sklearn-color-fitted-level-3);\n",
       "}\n",
       "\n",
       ".sk-estimator-doc-link:hover span {\n",
       "  display: block;\n",
       "}\n",
       "\n",
       "/* \"?\"-specific style due to the `<a>` HTML tag */\n",
       "\n",
       "#sk-container-id-1 a.estimator_doc_link {\n",
       "  float: right;\n",
       "  font-size: 1rem;\n",
       "  line-height: 1em;\n",
       "  font-family: monospace;\n",
       "  background-color: var(--sklearn-color-background);\n",
       "  border-radius: 1rem;\n",
       "  height: 1rem;\n",
       "  width: 1rem;\n",
       "  text-decoration: none;\n",
       "  /* unfitted */\n",
       "  color: var(--sklearn-color-unfitted-level-1);\n",
       "  border: var(--sklearn-color-unfitted-level-1) 1pt solid;\n",
       "}\n",
       "\n",
       "#sk-container-id-1 a.estimator_doc_link.fitted {\n",
       "  /* fitted */\n",
       "  border: var(--sklearn-color-fitted-level-1) 1pt solid;\n",
       "  color: var(--sklearn-color-fitted-level-1);\n",
       "}\n",
       "\n",
       "/* On hover */\n",
       "#sk-container-id-1 a.estimator_doc_link:hover {\n",
       "  /* unfitted */\n",
       "  background-color: var(--sklearn-color-unfitted-level-3);\n",
       "  color: var(--sklearn-color-background);\n",
       "  text-decoration: none;\n",
       "}\n",
       "\n",
       "#sk-container-id-1 a.estimator_doc_link.fitted:hover {\n",
       "  /* fitted */\n",
       "  background-color: var(--sklearn-color-fitted-level-3);\n",
       "}\n",
       "</style><div id=\"sk-container-id-1\" class=\"sk-top-container\"><div class=\"sk-text-repr-fallback\"><pre>LinearDiscriminantAnalysis(covariance_estimator=None, n_components=None,\n",
       "                           priors=None, shrinkage=None, solver=&#x27;svd&#x27;,\n",
       "                           store_covariance=False, tol=0.0001)</pre><b>In a Jupyter environment, please rerun this cell to show the HTML representation or trust the notebook. <br />On GitHub, the HTML representation is unable to render, please try loading this page with nbviewer.org.</b></div><div class=\"sk-container\" hidden><div class=\"sk-item\"><div class=\"sk-estimator fitted sk-toggleable\"><input class=\"sk-toggleable__control sk-hidden--visually\" id=\"sk-estimator-id-1\" type=\"checkbox\" checked><label for=\"sk-estimator-id-1\" class=\"sk-toggleable__label fitted sk-toggleable__label-arrow fitted\">&nbsp;&nbsp;LinearDiscriminantAnalysis<a class=\"sk-estimator-doc-link fitted\" rel=\"noreferrer\" target=\"_blank\" href=\"https://scikit-learn.org/1.4/modules/generated/sklearn.discriminant_analysis.LinearDiscriminantAnalysis.html\">?<span>Documentation for LinearDiscriminantAnalysis</span></a><span class=\"sk-estimator-doc-link fitted\">i<span>Fitted</span></span></label><div class=\"sk-toggleable__content fitted\"><pre>LinearDiscriminantAnalysis(covariance_estimator=None, n_components=None,\n",
       "                           priors=None, shrinkage=None, solver=&#x27;svd&#x27;,\n",
       "                           store_covariance=False, tol=0.0001)</pre></div> </div></div></div></div>"
      ],
      "text/plain": [
       "LinearDiscriminantAnalysis(covariance_estimator=None, n_components=None,\n",
       "                           priors=None, shrinkage=None, solver='svd',\n",
       "                           store_covariance=False, tol=0.0001)"
      ]
     },
     "execution_count": 18,
     "metadata": {},
     "output_type": "execute_result"
    }
   ],
   "source": [
    "best"
   ]
  },
  {
   "cell_type": "code",
   "execution_count": 19,
   "id": "14dcfde765c72fe1",
   "metadata": {
    "ExecuteTime": {
     "end_time": "2024-03-20T14:07:40.746278Z",
     "start_time": "2024-03-20T14:07:39.353591Z"
    },
    "collapsed": false,
    "jupyter": {
     "outputs_hidden": false
    }
   },
   "outputs": [
    {
     "data": {
      "application/vnd.jupyter.widget-view+json": {
       "model_id": "435e1ef505524f88a06c9f9bf95e4eda",
       "version_major": 2,
       "version_minor": 0
      },
      "text/plain": [
       "interactive(children=(ToggleButtons(description='Plot Type:', icons=('',), options=(('Pipeline Plot', 'pipelin…"
      ]
     },
     "metadata": {},
     "output_type": "display_data"
    }
   ],
   "source": [
    "evaluate_model(best)"
   ]
  },
  {
   "cell_type": "code",
   "execution_count": 20,
   "id": "094e57e3-1a40-448a-8f98-bc55e25c300b",
   "metadata": {},
   "outputs": [
    {
     "data": {
      "text/html": [
       "<style type=\"text/css\">\n",
       "</style>\n",
       "<table id=\"T_56948\">\n",
       "  <thead>\n",
       "    <tr>\n",
       "      <th class=\"blank level0\" >&nbsp;</th>\n",
       "      <th id=\"T_56948_level0_col0\" class=\"col_heading level0 col0\" >Model</th>\n",
       "      <th id=\"T_56948_level0_col1\" class=\"col_heading level0 col1\" >Accuracy</th>\n",
       "      <th id=\"T_56948_level0_col2\" class=\"col_heading level0 col2\" >AUC</th>\n",
       "      <th id=\"T_56948_level0_col3\" class=\"col_heading level0 col3\" >Recall</th>\n",
       "      <th id=\"T_56948_level0_col4\" class=\"col_heading level0 col4\" >Prec.</th>\n",
       "      <th id=\"T_56948_level0_col5\" class=\"col_heading level0 col5\" >F1</th>\n",
       "      <th id=\"T_56948_level0_col6\" class=\"col_heading level0 col6\" >Kappa</th>\n",
       "      <th id=\"T_56948_level0_col7\" class=\"col_heading level0 col7\" >MCC</th>\n",
       "    </tr>\n",
       "  </thead>\n",
       "  <tbody>\n",
       "    <tr>\n",
       "      <th id=\"T_56948_level0_row0\" class=\"row_heading level0 row0\" >0</th>\n",
       "      <td id=\"T_56948_row0_col0\" class=\"data row0 col0\" >Linear Discriminant Analysis</td>\n",
       "      <td id=\"T_56948_row0_col1\" class=\"data row0 col1\" >0.9300</td>\n",
       "      <td id=\"T_56948_row0_col2\" class=\"data row0 col2\" >0.9947</td>\n",
       "      <td id=\"T_56948_row0_col3\" class=\"data row0 col3\" >0.9300</td>\n",
       "      <td id=\"T_56948_row0_col4\" class=\"data row0 col4\" >0.9325</td>\n",
       "      <td id=\"T_56948_row0_col5\" class=\"data row0 col5\" >0.9307</td>\n",
       "      <td id=\"T_56948_row0_col6\" class=\"data row0 col6\" >0.9067</td>\n",
       "      <td id=\"T_56948_row0_col7\" class=\"data row0 col7\" >0.9070</td>\n",
       "    </tr>\n",
       "  </tbody>\n",
       "</table>\n"
      ],
      "text/plain": [
       "<pandas.io.formats.style.Styler at 0x25e04ee1310>"
      ]
     },
     "metadata": {},
     "output_type": "display_data"
    },
    {
     "data": {
      "text/html": [
       "<div>\n",
       "<style scoped>\n",
       "    .dataframe tbody tr th:only-of-type {\n",
       "        vertical-align: middle;\n",
       "    }\n",
       "\n",
       "    .dataframe tbody tr th {\n",
       "        vertical-align: top;\n",
       "    }\n",
       "\n",
       "    .dataframe thead th {\n",
       "        text-align: right;\n",
       "    }\n",
       "</style>\n",
       "<table border=\"1\" class=\"dataframe\">\n",
       "  <thead>\n",
       "    <tr style=\"text-align: right;\">\n",
       "      <th></th>\n",
       "      <th>battery_power</th>\n",
       "      <th>blue</th>\n",
       "      <th>clock_speed</th>\n",
       "      <th>dual_sim</th>\n",
       "      <th>fc</th>\n",
       "      <th>four_g</th>\n",
       "      <th>int_memory</th>\n",
       "      <th>m_dep</th>\n",
       "      <th>mobile_wt</th>\n",
       "      <th>n_cores</th>\n",
       "      <th>...</th>\n",
       "      <th>ram</th>\n",
       "      <th>sc_h</th>\n",
       "      <th>sc_w</th>\n",
       "      <th>talk_time</th>\n",
       "      <th>three_g</th>\n",
       "      <th>touch_screen</th>\n",
       "      <th>wifi</th>\n",
       "      <th>price_range</th>\n",
       "      <th>prediction_label</th>\n",
       "      <th>prediction_score</th>\n",
       "    </tr>\n",
       "  </thead>\n",
       "  <tbody>\n",
       "    <tr>\n",
       "      <th>1013</th>\n",
       "      <td>1694</td>\n",
       "      <td>0</td>\n",
       "      <td>1.8</td>\n",
       "      <td>0</td>\n",
       "      <td>0</td>\n",
       "      <td>0</td>\n",
       "      <td>53</td>\n",
       "      <td>1.0</td>\n",
       "      <td>186</td>\n",
       "      <td>6</td>\n",
       "      <td>...</td>\n",
       "      <td>1653</td>\n",
       "      <td>7</td>\n",
       "      <td>5</td>\n",
       "      <td>6</td>\n",
       "      <td>1</td>\n",
       "      <td>0</td>\n",
       "      <td>0</td>\n",
       "      <td>2</td>\n",
       "      <td>1</td>\n",
       "      <td>0.5353</td>\n",
       "    </tr>\n",
       "    <tr>\n",
       "      <th>528</th>\n",
       "      <td>1671</td>\n",
       "      <td>0</td>\n",
       "      <td>0.6</td>\n",
       "      <td>1</td>\n",
       "      <td>7</td>\n",
       "      <td>1</td>\n",
       "      <td>61</td>\n",
       "      <td>0.1</td>\n",
       "      <td>129</td>\n",
       "      <td>2</td>\n",
       "      <td>...</td>\n",
       "      <td>2336</td>\n",
       "      <td>10</td>\n",
       "      <td>4</td>\n",
       "      <td>7</td>\n",
       "      <td>1</td>\n",
       "      <td>0</td>\n",
       "      <td>0</td>\n",
       "      <td>2</td>\n",
       "      <td>2</td>\n",
       "      <td>0.9250</td>\n",
       "    </tr>\n",
       "    <tr>\n",
       "      <th>1830</th>\n",
       "      <td>958</td>\n",
       "      <td>1</td>\n",
       "      <td>1.6</td>\n",
       "      <td>0</td>\n",
       "      <td>9</td>\n",
       "      <td>1</td>\n",
       "      <td>60</td>\n",
       "      <td>0.4</td>\n",
       "      <td>200</td>\n",
       "      <td>1</td>\n",
       "      <td>...</td>\n",
       "      <td>1417</td>\n",
       "      <td>10</td>\n",
       "      <td>4</td>\n",
       "      <td>19</td>\n",
       "      <td>1</td>\n",
       "      <td>0</td>\n",
       "      <td>1</td>\n",
       "      <td>0</td>\n",
       "      <td>1</td>\n",
       "      <td>0.5845</td>\n",
       "    </tr>\n",
       "    <tr>\n",
       "      <th>427</th>\n",
       "      <td>1755</td>\n",
       "      <td>1</td>\n",
       "      <td>1.3</td>\n",
       "      <td>0</td>\n",
       "      <td>0</td>\n",
       "      <td>1</td>\n",
       "      <td>24</td>\n",
       "      <td>0.1</td>\n",
       "      <td>134</td>\n",
       "      <td>7</td>\n",
       "      <td>...</td>\n",
       "      <td>3937</td>\n",
       "      <td>8</td>\n",
       "      <td>1</td>\n",
       "      <td>7</td>\n",
       "      <td>1</td>\n",
       "      <td>0</td>\n",
       "      <td>1</td>\n",
       "      <td>3</td>\n",
       "      <td>3</td>\n",
       "      <td>0.9999</td>\n",
       "    </tr>\n",
       "    <tr>\n",
       "      <th>1468</th>\n",
       "      <td>1425</td>\n",
       "      <td>1</td>\n",
       "      <td>0.6</td>\n",
       "      <td>0</td>\n",
       "      <td>0</td>\n",
       "      <td>1</td>\n",
       "      <td>33</td>\n",
       "      <td>0.5</td>\n",
       "      <td>89</td>\n",
       "      <td>3</td>\n",
       "      <td>...</td>\n",
       "      <td>3771</td>\n",
       "      <td>10</td>\n",
       "      <td>3</td>\n",
       "      <td>9</td>\n",
       "      <td>1</td>\n",
       "      <td>0</td>\n",
       "      <td>1</td>\n",
       "      <td>3</td>\n",
       "      <td>3</td>\n",
       "      <td>0.9999</td>\n",
       "    </tr>\n",
       "    <tr>\n",
       "      <th>...</th>\n",
       "      <td>...</td>\n",
       "      <td>...</td>\n",
       "      <td>...</td>\n",
       "      <td>...</td>\n",
       "      <td>...</td>\n",
       "      <td>...</td>\n",
       "      <td>...</td>\n",
       "      <td>...</td>\n",
       "      <td>...</td>\n",
       "      <td>...</td>\n",
       "      <td>...</td>\n",
       "      <td>...</td>\n",
       "      <td>...</td>\n",
       "      <td>...</td>\n",
       "      <td>...</td>\n",
       "      <td>...</td>\n",
       "      <td>...</td>\n",
       "      <td>...</td>\n",
       "      <td>...</td>\n",
       "      <td>...</td>\n",
       "      <td>...</td>\n",
       "    </tr>\n",
       "    <tr>\n",
       "      <th>1084</th>\n",
       "      <td>1836</td>\n",
       "      <td>0</td>\n",
       "      <td>1.1</td>\n",
       "      <td>1</td>\n",
       "      <td>0</td>\n",
       "      <td>0</td>\n",
       "      <td>14</td>\n",
       "      <td>0.7</td>\n",
       "      <td>104</td>\n",
       "      <td>5</td>\n",
       "      <td>...</td>\n",
       "      <td>2469</td>\n",
       "      <td>18</td>\n",
       "      <td>6</td>\n",
       "      <td>7</td>\n",
       "      <td>1</td>\n",
       "      <td>1</td>\n",
       "      <td>1</td>\n",
       "      <td>2</td>\n",
       "      <td>2</td>\n",
       "      <td>0.9727</td>\n",
       "    </tr>\n",
       "    <tr>\n",
       "      <th>1849</th>\n",
       "      <td>1786</td>\n",
       "      <td>0</td>\n",
       "      <td>1.2</td>\n",
       "      <td>0</td>\n",
       "      <td>11</td>\n",
       "      <td>0</td>\n",
       "      <td>61</td>\n",
       "      <td>0.1</td>\n",
       "      <td>123</td>\n",
       "      <td>3</td>\n",
       "      <td>...</td>\n",
       "      <td>3033</td>\n",
       "      <td>14</td>\n",
       "      <td>11</td>\n",
       "      <td>17</td>\n",
       "      <td>0</td>\n",
       "      <td>1</td>\n",
       "      <td>0</td>\n",
       "      <td>3</td>\n",
       "      <td>3</td>\n",
       "      <td>0.6933</td>\n",
       "    </tr>\n",
       "    <tr>\n",
       "      <th>1304</th>\n",
       "      <td>1077</td>\n",
       "      <td>1</td>\n",
       "      <td>1.7</td>\n",
       "      <td>1</td>\n",
       "      <td>1</td>\n",
       "      <td>0</td>\n",
       "      <td>58</td>\n",
       "      <td>0.8</td>\n",
       "      <td>86</td>\n",
       "      <td>7</td>\n",
       "      <td>...</td>\n",
       "      <td>3902</td>\n",
       "      <td>9</td>\n",
       "      <td>3</td>\n",
       "      <td>3</td>\n",
       "      <td>1</td>\n",
       "      <td>0</td>\n",
       "      <td>0</td>\n",
       "      <td>3</td>\n",
       "      <td>3</td>\n",
       "      <td>0.9998</td>\n",
       "    </tr>\n",
       "    <tr>\n",
       "      <th>1112</th>\n",
       "      <td>586</td>\n",
       "      <td>0</td>\n",
       "      <td>0.5</td>\n",
       "      <td>1</td>\n",
       "      <td>1</td>\n",
       "      <td>0</td>\n",
       "      <td>57</td>\n",
       "      <td>0.3</td>\n",
       "      <td>188</td>\n",
       "      <td>2</td>\n",
       "      <td>...</td>\n",
       "      <td>3646</td>\n",
       "      <td>15</td>\n",
       "      <td>4</td>\n",
       "      <td>11</td>\n",
       "      <td>1</td>\n",
       "      <td>1</td>\n",
       "      <td>1</td>\n",
       "      <td>3</td>\n",
       "      <td>3</td>\n",
       "      <td>0.9823</td>\n",
       "    </tr>\n",
       "    <tr>\n",
       "      <th>826</th>\n",
       "      <td>1788</td>\n",
       "      <td>1</td>\n",
       "      <td>0.5</td>\n",
       "      <td>1</td>\n",
       "      <td>15</td>\n",
       "      <td>1</td>\n",
       "      <td>2</td>\n",
       "      <td>0.3</td>\n",
       "      <td>150</td>\n",
       "      <td>6</td>\n",
       "      <td>...</td>\n",
       "      <td>2655</td>\n",
       "      <td>12</td>\n",
       "      <td>2</td>\n",
       "      <td>4</td>\n",
       "      <td>1</td>\n",
       "      <td>0</td>\n",
       "      <td>1</td>\n",
       "      <td>2</td>\n",
       "      <td>2</td>\n",
       "      <td>0.9208</td>\n",
       "    </tr>\n",
       "  </tbody>\n",
       "</table>\n",
       "<p>600 rows × 23 columns</p>\n",
       "</div>"
      ],
      "text/plain": [
       "      battery_power  blue  clock_speed  dual_sim  fc  four_g  int_memory  \\\n",
       "1013           1694     0          1.8         0   0       0          53   \n",
       "528            1671     0          0.6         1   7       1          61   \n",
       "1830            958     1          1.6         0   9       1          60   \n",
       "427            1755     1          1.3         0   0       1          24   \n",
       "1468           1425     1          0.6         0   0       1          33   \n",
       "...             ...   ...          ...       ...  ..     ...         ...   \n",
       "1084           1836     0          1.1         1   0       0          14   \n",
       "1849           1786     0          1.2         0  11       0          61   \n",
       "1304           1077     1          1.7         1   1       0          58   \n",
       "1112            586     0          0.5         1   1       0          57   \n",
       "826            1788     1          0.5         1  15       1           2   \n",
       "\n",
       "      m_dep  mobile_wt  n_cores  ...   ram  sc_h  sc_w  talk_time  three_g  \\\n",
       "1013    1.0        186        6  ...  1653     7     5          6        1   \n",
       "528     0.1        129        2  ...  2336    10     4          7        1   \n",
       "1830    0.4        200        1  ...  1417    10     4         19        1   \n",
       "427     0.1        134        7  ...  3937     8     1          7        1   \n",
       "1468    0.5         89        3  ...  3771    10     3          9        1   \n",
       "...     ...        ...      ...  ...   ...   ...   ...        ...      ...   \n",
       "1084    0.7        104        5  ...  2469    18     6          7        1   \n",
       "1849    0.1        123        3  ...  3033    14    11         17        0   \n",
       "1304    0.8         86        7  ...  3902     9     3          3        1   \n",
       "1112    0.3        188        2  ...  3646    15     4         11        1   \n",
       "826     0.3        150        6  ...  2655    12     2          4        1   \n",
       "\n",
       "      touch_screen  wifi  price_range  prediction_label  prediction_score  \n",
       "1013             0     0            2                 1            0.5353  \n",
       "528              0     0            2                 2            0.9250  \n",
       "1830             0     1            0                 1            0.5845  \n",
       "427              0     1            3                 3            0.9999  \n",
       "1468             0     1            3                 3            0.9999  \n",
       "...            ...   ...          ...               ...               ...  \n",
       "1084             1     1            2                 2            0.9727  \n",
       "1849             1     0            3                 3            0.6933  \n",
       "1304             0     0            3                 3            0.9998  \n",
       "1112             1     1            3                 3            0.9823  \n",
       "826              0     1            2                 2            0.9208  \n",
       "\n",
       "[600 rows x 23 columns]"
      ]
     },
     "execution_count": 20,
     "metadata": {},
     "output_type": "execute_result"
    }
   ],
   "source": [
    "predict_model(best)"
   ]
  },
  {
   "cell_type": "code",
   "execution_count": 21,
   "id": "5c85171d-742e-4ba3-97dd-64bd3ae18c77",
   "metadata": {},
   "outputs": [
    {
     "data": {
      "text/html": [],
      "text/plain": [
       "<IPython.core.display.HTML object>"
      ]
     },
     "metadata": {},
     "output_type": "display_data"
    },
    {
     "data": {
      "text/html": [
       "<style type=\"text/css\">\n",
       "#T_4bb4b_row10_col0, #T_4bb4b_row10_col1, #T_4bb4b_row10_col2, #T_4bb4b_row10_col3, #T_4bb4b_row10_col4, #T_4bb4b_row10_col5, #T_4bb4b_row10_col6 {\n",
       "  background: yellow;\n",
       "}\n",
       "</style>\n",
       "<table id=\"T_4bb4b\">\n",
       "  <thead>\n",
       "    <tr>\n",
       "      <th class=\"blank level0\" >&nbsp;</th>\n",
       "      <th id=\"T_4bb4b_level0_col0\" class=\"col_heading level0 col0\" >Accuracy</th>\n",
       "      <th id=\"T_4bb4b_level0_col1\" class=\"col_heading level0 col1\" >AUC</th>\n",
       "      <th id=\"T_4bb4b_level0_col2\" class=\"col_heading level0 col2\" >Recall</th>\n",
       "      <th id=\"T_4bb4b_level0_col3\" class=\"col_heading level0 col3\" >Prec.</th>\n",
       "      <th id=\"T_4bb4b_level0_col4\" class=\"col_heading level0 col4\" >F1</th>\n",
       "      <th id=\"T_4bb4b_level0_col5\" class=\"col_heading level0 col5\" >Kappa</th>\n",
       "      <th id=\"T_4bb4b_level0_col6\" class=\"col_heading level0 col6\" >MCC</th>\n",
       "    </tr>\n",
       "    <tr>\n",
       "      <th class=\"index_name level0\" >Fold</th>\n",
       "      <th class=\"blank col0\" >&nbsp;</th>\n",
       "      <th class=\"blank col1\" >&nbsp;</th>\n",
       "      <th class=\"blank col2\" >&nbsp;</th>\n",
       "      <th class=\"blank col3\" >&nbsp;</th>\n",
       "      <th class=\"blank col4\" >&nbsp;</th>\n",
       "      <th class=\"blank col5\" >&nbsp;</th>\n",
       "      <th class=\"blank col6\" >&nbsp;</th>\n",
       "    </tr>\n",
       "  </thead>\n",
       "  <tbody>\n",
       "    <tr>\n",
       "      <th id=\"T_4bb4b_level0_row0\" class=\"row_heading level0 row0\" >0</th>\n",
       "      <td id=\"T_4bb4b_row0_col0\" class=\"data row0 col0\" >0.9357</td>\n",
       "      <td id=\"T_4bb4b_row0_col1\" class=\"data row0 col1\" >0.9951</td>\n",
       "      <td id=\"T_4bb4b_row0_col2\" class=\"data row0 col2\" >0.9357</td>\n",
       "      <td id=\"T_4bb4b_row0_col3\" class=\"data row0 col3\" >0.9361</td>\n",
       "      <td id=\"T_4bb4b_row0_col4\" class=\"data row0 col4\" >0.9358</td>\n",
       "      <td id=\"T_4bb4b_row0_col5\" class=\"data row0 col5\" >0.9143</td>\n",
       "      <td id=\"T_4bb4b_row0_col6\" class=\"data row0 col6\" >0.9143</td>\n",
       "    </tr>\n",
       "    <tr>\n",
       "      <th id=\"T_4bb4b_level0_row1\" class=\"row_heading level0 row1\" >1</th>\n",
       "      <td id=\"T_4bb4b_row1_col0\" class=\"data row1 col0\" >0.9429</td>\n",
       "      <td id=\"T_4bb4b_row1_col1\" class=\"data row1 col1\" >0.9985</td>\n",
       "      <td id=\"T_4bb4b_row1_col2\" class=\"data row1 col2\" >0.9429</td>\n",
       "      <td id=\"T_4bb4b_row1_col3\" class=\"data row1 col3\" >0.9456</td>\n",
       "      <td id=\"T_4bb4b_row1_col4\" class=\"data row1 col4\" >0.9431</td>\n",
       "      <td id=\"T_4bb4b_row1_col5\" class=\"data row1 col5\" >0.9238</td>\n",
       "      <td id=\"T_4bb4b_row1_col6\" class=\"data row1 col6\" >0.9246</td>\n",
       "    </tr>\n",
       "    <tr>\n",
       "      <th id=\"T_4bb4b_level0_row2\" class=\"row_heading level0 row2\" >2</th>\n",
       "      <td id=\"T_4bb4b_row2_col0\" class=\"data row2 col0\" >0.9643</td>\n",
       "      <td id=\"T_4bb4b_row2_col1\" class=\"data row2 col1\" >0.9975</td>\n",
       "      <td id=\"T_4bb4b_row2_col2\" class=\"data row2 col2\" >0.9643</td>\n",
       "      <td id=\"T_4bb4b_row2_col3\" class=\"data row2 col3\" >0.9655</td>\n",
       "      <td id=\"T_4bb4b_row2_col4\" class=\"data row2 col4\" >0.9643</td>\n",
       "      <td id=\"T_4bb4b_row2_col5\" class=\"data row2 col5\" >0.9524</td>\n",
       "      <td id=\"T_4bb4b_row2_col6\" class=\"data row2 col6\" >0.9528</td>\n",
       "    </tr>\n",
       "    <tr>\n",
       "      <th id=\"T_4bb4b_level0_row3\" class=\"row_heading level0 row3\" >3</th>\n",
       "      <td id=\"T_4bb4b_row3_col0\" class=\"data row3 col0\" >0.9643</td>\n",
       "      <td id=\"T_4bb4b_row3_col1\" class=\"data row3 col1\" >0.9964</td>\n",
       "      <td id=\"T_4bb4b_row3_col2\" class=\"data row3 col2\" >0.9643</td>\n",
       "      <td id=\"T_4bb4b_row3_col3\" class=\"data row3 col3\" >0.9674</td>\n",
       "      <td id=\"T_4bb4b_row3_col4\" class=\"data row3 col4\" >0.9644</td>\n",
       "      <td id=\"T_4bb4b_row3_col5\" class=\"data row3 col5\" >0.9524</td>\n",
       "      <td id=\"T_4bb4b_row3_col6\" class=\"data row3 col6\" >0.9534</td>\n",
       "    </tr>\n",
       "    <tr>\n",
       "      <th id=\"T_4bb4b_level0_row4\" class=\"row_heading level0 row4\" >4</th>\n",
       "      <td id=\"T_4bb4b_row4_col0\" class=\"data row4 col0\" >0.9357</td>\n",
       "      <td id=\"T_4bb4b_row4_col1\" class=\"data row4 col1\" >0.9956</td>\n",
       "      <td id=\"T_4bb4b_row4_col2\" class=\"data row4 col2\" >0.9357</td>\n",
       "      <td id=\"T_4bb4b_row4_col3\" class=\"data row4 col3\" >0.9378</td>\n",
       "      <td id=\"T_4bb4b_row4_col4\" class=\"data row4 col4\" >0.9363</td>\n",
       "      <td id=\"T_4bb4b_row4_col5\" class=\"data row4 col5\" >0.9143</td>\n",
       "      <td id=\"T_4bb4b_row4_col6\" class=\"data row4 col6\" >0.9146</td>\n",
       "    </tr>\n",
       "    <tr>\n",
       "      <th id=\"T_4bb4b_level0_row5\" class=\"row_heading level0 row5\" >5</th>\n",
       "      <td id=\"T_4bb4b_row5_col0\" class=\"data row5 col0\" >0.9000</td>\n",
       "      <td id=\"T_4bb4b_row5_col1\" class=\"data row5 col1\" >0.9858</td>\n",
       "      <td id=\"T_4bb4b_row5_col2\" class=\"data row5 col2\" >0.9000</td>\n",
       "      <td id=\"T_4bb4b_row5_col3\" class=\"data row5 col3\" >0.9042</td>\n",
       "      <td id=\"T_4bb4b_row5_col4\" class=\"data row5 col4\" >0.8994</td>\n",
       "      <td id=\"T_4bb4b_row5_col5\" class=\"data row5 col5\" >0.8667</td>\n",
       "      <td id=\"T_4bb4b_row5_col6\" class=\"data row5 col6\" >0.8683</td>\n",
       "    </tr>\n",
       "    <tr>\n",
       "      <th id=\"T_4bb4b_level0_row6\" class=\"row_heading level0 row6\" >6</th>\n",
       "      <td id=\"T_4bb4b_row6_col0\" class=\"data row6 col0\" >0.9214</td>\n",
       "      <td id=\"T_4bb4b_row6_col1\" class=\"data row6 col1\" >0.9883</td>\n",
       "      <td id=\"T_4bb4b_row6_col2\" class=\"data row6 col2\" >0.9214</td>\n",
       "      <td id=\"T_4bb4b_row6_col3\" class=\"data row6 col3\" >0.9211</td>\n",
       "      <td id=\"T_4bb4b_row6_col4\" class=\"data row6 col4\" >0.9210</td>\n",
       "      <td id=\"T_4bb4b_row6_col5\" class=\"data row6 col5\" >0.8952</td>\n",
       "      <td id=\"T_4bb4b_row6_col6\" class=\"data row6 col6\" >0.8954</td>\n",
       "    </tr>\n",
       "    <tr>\n",
       "      <th id=\"T_4bb4b_level0_row7\" class=\"row_heading level0 row7\" >7</th>\n",
       "      <td id=\"T_4bb4b_row7_col0\" class=\"data row7 col0\" >0.9071</td>\n",
       "      <td id=\"T_4bb4b_row7_col1\" class=\"data row7 col1\" >0.9875</td>\n",
       "      <td id=\"T_4bb4b_row7_col2\" class=\"data row7 col2\" >0.9071</td>\n",
       "      <td id=\"T_4bb4b_row7_col3\" class=\"data row7 col3\" >0.9078</td>\n",
       "      <td id=\"T_4bb4b_row7_col4\" class=\"data row7 col4\" >0.9068</td>\n",
       "      <td id=\"T_4bb4b_row7_col5\" class=\"data row7 col5\" >0.8762</td>\n",
       "      <td id=\"T_4bb4b_row7_col6\" class=\"data row7 col6\" >0.8766</td>\n",
       "    </tr>\n",
       "    <tr>\n",
       "      <th id=\"T_4bb4b_level0_row8\" class=\"row_heading level0 row8\" >8</th>\n",
       "      <td id=\"T_4bb4b_row8_col0\" class=\"data row8 col0\" >0.9143</td>\n",
       "      <td id=\"T_4bb4b_row8_col1\" class=\"data row8 col1\" >0.9948</td>\n",
       "      <td id=\"T_4bb4b_row8_col2\" class=\"data row8 col2\" >0.9143</td>\n",
       "      <td id=\"T_4bb4b_row8_col3\" class=\"data row8 col3\" >0.9148</td>\n",
       "      <td id=\"T_4bb4b_row8_col4\" class=\"data row8 col4\" >0.9143</td>\n",
       "      <td id=\"T_4bb4b_row8_col5\" class=\"data row8 col5\" >0.8857</td>\n",
       "      <td id=\"T_4bb4b_row8_col6\" class=\"data row8 col6\" >0.8859</td>\n",
       "    </tr>\n",
       "    <tr>\n",
       "      <th id=\"T_4bb4b_level0_row9\" class=\"row_heading level0 row9\" >9</th>\n",
       "      <td id=\"T_4bb4b_row9_col0\" class=\"data row9 col0\" >0.9429</td>\n",
       "      <td id=\"T_4bb4b_row9_col1\" class=\"data row9 col1\" >0.9951</td>\n",
       "      <td id=\"T_4bb4b_row9_col2\" class=\"data row9 col2\" >0.9429</td>\n",
       "      <td id=\"T_4bb4b_row9_col3\" class=\"data row9 col3\" >0.9436</td>\n",
       "      <td id=\"T_4bb4b_row9_col4\" class=\"data row9 col4\" >0.9430</td>\n",
       "      <td id=\"T_4bb4b_row9_col5\" class=\"data row9 col5\" >0.9238</td>\n",
       "      <td id=\"T_4bb4b_row9_col6\" class=\"data row9 col6\" >0.9239</td>\n",
       "    </tr>\n",
       "    <tr>\n",
       "      <th id=\"T_4bb4b_level0_row10\" class=\"row_heading level0 row10\" >Mean</th>\n",
       "      <td id=\"T_4bb4b_row10_col0\" class=\"data row10 col0\" >0.9329</td>\n",
       "      <td id=\"T_4bb4b_row10_col1\" class=\"data row10 col1\" >0.9935</td>\n",
       "      <td id=\"T_4bb4b_row10_col2\" class=\"data row10 col2\" >0.9329</td>\n",
       "      <td id=\"T_4bb4b_row10_col3\" class=\"data row10 col3\" >0.9344</td>\n",
       "      <td id=\"T_4bb4b_row10_col4\" class=\"data row10 col4\" >0.9328</td>\n",
       "      <td id=\"T_4bb4b_row10_col5\" class=\"data row10 col5\" >0.9105</td>\n",
       "      <td id=\"T_4bb4b_row10_col6\" class=\"data row10 col6\" >0.9110</td>\n",
       "    </tr>\n",
       "    <tr>\n",
       "      <th id=\"T_4bb4b_level0_row11\" class=\"row_heading level0 row11\" >Std</th>\n",
       "      <td id=\"T_4bb4b_row11_col0\" class=\"data row11 col0\" >0.0210</td>\n",
       "      <td id=\"T_4bb4b_row11_col1\" class=\"data row11 col1\" >0.0043</td>\n",
       "      <td id=\"T_4bb4b_row11_col2\" class=\"data row11 col2\" >0.0210</td>\n",
       "      <td id=\"T_4bb4b_row11_col3\" class=\"data row11 col3\" >0.0211</td>\n",
       "      <td id=\"T_4bb4b_row11_col4\" class=\"data row11 col4\" >0.0212</td>\n",
       "      <td id=\"T_4bb4b_row11_col5\" class=\"data row11 col5\" >0.0280</td>\n",
       "      <td id=\"T_4bb4b_row11_col6\" class=\"data row11 col6\" >0.0279</td>\n",
       "    </tr>\n",
       "  </tbody>\n",
       "</table>\n"
      ],
      "text/plain": [
       "<pandas.io.formats.style.Styler at 0x25e504bff10>"
      ]
     },
     "metadata": {},
     "output_type": "display_data"
    },
    {
     "data": {
      "text/html": [],
      "text/plain": [
       "<IPython.core.display.HTML object>"
      ]
     },
     "metadata": {},
     "output_type": "display_data"
    }
   ],
   "source": [
    "cb = create_model('catboost')"
   ]
  },
  {
   "cell_type": "code",
   "execution_count": 23,
   "id": "ccb0af2e-babd-45a4-b4ac-69bb550d117c",
   "metadata": {},
   "outputs": [
    {
     "data": {
      "application/vnd.jupyter.widget-view+json": {
       "model_id": "e7697d3af06f4844afa40cbc6d7c59a8",
       "version_major": 2,
       "version_minor": 0
      },
      "text/plain": [
       "interactive(children=(ToggleButtons(description='Plot Type:', icons=('',), options=(('Pipeline Plot', 'pipelin…"
      ]
     },
     "metadata": {},
     "output_type": "display_data"
    }
   ],
   "source": [
    "evaluate_model(cb)"
   ]
  },
  {
   "cell_type": "code",
   "execution_count": 24,
   "id": "998e3e46-32c7-460e-8dd0-7904ea60eefa",
   "metadata": {},
   "outputs": [
    {
     "data": {
      "image/png": "[encoded data removed]",
      "text/plain": [
       "<Figure size 800x950 with 1 Axes>"
      ]
     },
     "metadata": {},
     "output_type": "display_data"
    }
   ],
   "source": [
    "interpret_model(cb)"
   ]
  },
  {
   "cell_type": "code",
   "execution_count": 43,
   "id": "89d9d9db-0e91-4ecd-96fb-b4eeb888314a",
   "metadata": {},
   "outputs": [
    {
     "data": {
      "text/html": [],
      "text/plain": [
       "<IPython.core.display.HTML object>"
      ]
     },
     "metadata": {},
     "output_type": "display_data"
    },
    {
     "data": {
      "text/html": [
       "<style type=\"text/css\">\n",
       "#T_763a1_row10_col0, #T_763a1_row10_col1, #T_763a1_row10_col2, #T_763a1_row10_col3, #T_763a1_row10_col4, #T_763a1_row10_col5, #T_763a1_row10_col6 {\n",
       "  background: yellow;\n",
       "}\n",
       "</style>\n",
       "<table id=\"T_763a1\">\n",
       "  <thead>\n",
       "    <tr>\n",
       "      <th class=\"blank level0\" >&nbsp;</th>\n",
       "      <th id=\"T_763a1_level0_col0\" class=\"col_heading level0 col0\" >Accuracy</th>\n",
       "      <th id=\"T_763a1_level0_col1\" class=\"col_heading level0 col1\" >AUC</th>\n",
       "      <th id=\"T_763a1_level0_col2\" class=\"col_heading level0 col2\" >Recall</th>\n",
       "      <th id=\"T_763a1_level0_col3\" class=\"col_heading level0 col3\" >Prec.</th>\n",
       "      <th id=\"T_763a1_level0_col4\" class=\"col_heading level0 col4\" >F1</th>\n",
       "      <th id=\"T_763a1_level0_col5\" class=\"col_heading level0 col5\" >Kappa</th>\n",
       "      <th id=\"T_763a1_level0_col6\" class=\"col_heading level0 col6\" >MCC</th>\n",
       "    </tr>\n",
       "    <tr>\n",
       "      <th class=\"index_name level0\" >Fold</th>\n",
       "      <th class=\"blank col0\" >&nbsp;</th>\n",
       "      <th class=\"blank col1\" >&nbsp;</th>\n",
       "      <th class=\"blank col2\" >&nbsp;</th>\n",
       "      <th class=\"blank col3\" >&nbsp;</th>\n",
       "      <th class=\"blank col4\" >&nbsp;</th>\n",
       "      <th class=\"blank col5\" >&nbsp;</th>\n",
       "      <th class=\"blank col6\" >&nbsp;</th>\n",
       "    </tr>\n",
       "  </thead>\n",
       "  <tbody>\n",
       "    <tr>\n",
       "      <th id=\"T_763a1_level0_row0\" class=\"row_heading level0 row0\" >0</th>\n",
       "      <td id=\"T_763a1_row0_col0\" class=\"data row0 col0\" >0.8500</td>\n",
       "      <td id=\"T_763a1_row0_col1\" class=\"data row0 col1\" >0.9693</td>\n",
       "      <td id=\"T_763a1_row0_col2\" class=\"data row0 col2\" >0.8500</td>\n",
       "      <td id=\"T_763a1_row0_col3\" class=\"data row0 col3\" >0.8503</td>\n",
       "      <td id=\"T_763a1_row0_col4\" class=\"data row0 col4\" >0.8469</td>\n",
       "      <td id=\"T_763a1_row0_col5\" class=\"data row0 col5\" >0.8000</td>\n",
       "      <td id=\"T_763a1_row0_col6\" class=\"data row0 col6\" >0.8020</td>\n",
       "    </tr>\n",
       "    <tr>\n",
       "      <th id=\"T_763a1_level0_row1\" class=\"row_heading level0 row1\" >1</th>\n",
       "      <td id=\"T_763a1_row1_col0\" class=\"data row1 col0\" >0.9071</td>\n",
       "      <td id=\"T_763a1_row1_col1\" class=\"data row1 col1\" >0.9924</td>\n",
       "      <td id=\"T_763a1_row1_col2\" class=\"data row1 col2\" >0.9071</td>\n",
       "      <td id=\"T_763a1_row1_col3\" class=\"data row1 col3\" >0.9128</td>\n",
       "      <td id=\"T_763a1_row1_col4\" class=\"data row1 col4\" >0.9061</td>\n",
       "      <td id=\"T_763a1_row1_col5\" class=\"data row1 col5\" >0.8762</td>\n",
       "      <td id=\"T_763a1_row1_col6\" class=\"data row1 col6\" >0.8785</td>\n",
       "    </tr>\n",
       "    <tr>\n",
       "      <th id=\"T_763a1_level0_row2\" class=\"row_heading level0 row2\" >2</th>\n",
       "      <td id=\"T_763a1_row2_col0\" class=\"data row2 col0\" >0.8714</td>\n",
       "      <td id=\"T_763a1_row2_col1\" class=\"data row2 col1\" >0.9835</td>\n",
       "      <td id=\"T_763a1_row2_col2\" class=\"data row2 col2\" >0.8714</td>\n",
       "      <td id=\"T_763a1_row2_col3\" class=\"data row2 col3\" >0.8726</td>\n",
       "      <td id=\"T_763a1_row2_col4\" class=\"data row2 col4\" >0.8694</td>\n",
       "      <td id=\"T_763a1_row2_col5\" class=\"data row2 col5\" >0.8286</td>\n",
       "      <td id=\"T_763a1_row2_col6\" class=\"data row2 col6\" >0.8302</td>\n",
       "    </tr>\n",
       "    <tr>\n",
       "      <th id=\"T_763a1_level0_row3\" class=\"row_heading level0 row3\" >3</th>\n",
       "      <td id=\"T_763a1_row3_col0\" class=\"data row3 col0\" >0.9286</td>\n",
       "      <td id=\"T_763a1_row3_col1\" class=\"data row3 col1\" >0.9910</td>\n",
       "      <td id=\"T_763a1_row3_col2\" class=\"data row3 col2\" >0.9286</td>\n",
       "      <td id=\"T_763a1_row3_col3\" class=\"data row3 col3\" >0.9302</td>\n",
       "      <td id=\"T_763a1_row3_col4\" class=\"data row3 col4\" >0.9285</td>\n",
       "      <td id=\"T_763a1_row3_col5\" class=\"data row3 col5\" >0.9048</td>\n",
       "      <td id=\"T_763a1_row3_col6\" class=\"data row3 col6\" >0.9054</td>\n",
       "    </tr>\n",
       "    <tr>\n",
       "      <th id=\"T_763a1_level0_row4\" class=\"row_heading level0 row4\" >4</th>\n",
       "      <td id=\"T_763a1_row4_col0\" class=\"data row4 col0\" >0.8500</td>\n",
       "      <td id=\"T_763a1_row4_col1\" class=\"data row4 col1\" >0.9755</td>\n",
       "      <td id=\"T_763a1_row4_col2\" class=\"data row4 col2\" >0.8500</td>\n",
       "      <td id=\"T_763a1_row4_col3\" class=\"data row4 col3\" >0.8594</td>\n",
       "      <td id=\"T_763a1_row4_col4\" class=\"data row4 col4\" >0.8527</td>\n",
       "      <td id=\"T_763a1_row4_col5\" class=\"data row4 col5\" >0.8000</td>\n",
       "      <td id=\"T_763a1_row4_col6\" class=\"data row4 col6\" >0.8013</td>\n",
       "    </tr>\n",
       "    <tr>\n",
       "      <th id=\"T_763a1_level0_row5\" class=\"row_heading level0 row5\" >5</th>\n",
       "      <td id=\"T_763a1_row5_col0\" class=\"data row5 col0\" >0.8571</td>\n",
       "      <td id=\"T_763a1_row5_col1\" class=\"data row5 col1\" >0.9733</td>\n",
       "      <td id=\"T_763a1_row5_col2\" class=\"data row5 col2\" >0.8571</td>\n",
       "      <td id=\"T_763a1_row5_col3\" class=\"data row5 col3\" >0.8593</td>\n",
       "      <td id=\"T_763a1_row5_col4\" class=\"data row5 col4\" >0.8559</td>\n",
       "      <td id=\"T_763a1_row5_col5\" class=\"data row5 col5\" >0.8095</td>\n",
       "      <td id=\"T_763a1_row5_col6\" class=\"data row5 col6\" >0.8108</td>\n",
       "    </tr>\n",
       "    <tr>\n",
       "      <th id=\"T_763a1_level0_row6\" class=\"row_heading level0 row6\" >6</th>\n",
       "      <td id=\"T_763a1_row6_col0\" class=\"data row6 col0\" >0.8714</td>\n",
       "      <td id=\"T_763a1_row6_col1\" class=\"data row6 col1\" >0.9695</td>\n",
       "      <td id=\"T_763a1_row6_col2\" class=\"data row6 col2\" >0.8714</td>\n",
       "      <td id=\"T_763a1_row6_col3\" class=\"data row6 col3\" >0.8704</td>\n",
       "      <td id=\"T_763a1_row6_col4\" class=\"data row6 col4\" >0.8708</td>\n",
       "      <td id=\"T_763a1_row6_col5\" class=\"data row6 col5\" >0.8286</td>\n",
       "      <td id=\"T_763a1_row6_col6\" class=\"data row6 col6\" >0.8286</td>\n",
       "    </tr>\n",
       "    <tr>\n",
       "      <th id=\"T_763a1_level0_row7\" class=\"row_heading level0 row7\" >7</th>\n",
       "      <td id=\"T_763a1_row7_col0\" class=\"data row7 col0\" >0.8429</td>\n",
       "      <td id=\"T_763a1_row7_col1\" class=\"data row7 col1\" >0.9683</td>\n",
       "      <td id=\"T_763a1_row7_col2\" class=\"data row7 col2\" >0.8429</td>\n",
       "      <td id=\"T_763a1_row7_col3\" class=\"data row7 col3\" >0.8484</td>\n",
       "      <td id=\"T_763a1_row7_col4\" class=\"data row7 col4\" >0.8436</td>\n",
       "      <td id=\"T_763a1_row7_col5\" class=\"data row7 col5\" >0.7905</td>\n",
       "      <td id=\"T_763a1_row7_col6\" class=\"data row7 col6\" >0.7917</td>\n",
       "    </tr>\n",
       "    <tr>\n",
       "      <th id=\"T_763a1_level0_row8\" class=\"row_heading level0 row8\" >8</th>\n",
       "      <td id=\"T_763a1_row8_col0\" class=\"data row8 col0\" >0.8857</td>\n",
       "      <td id=\"T_763a1_row8_col1\" class=\"data row8 col1\" >0.9822</td>\n",
       "      <td id=\"T_763a1_row8_col2\" class=\"data row8 col2\" >0.8857</td>\n",
       "      <td id=\"T_763a1_row8_col3\" class=\"data row8 col3\" >0.8860</td>\n",
       "      <td id=\"T_763a1_row8_col4\" class=\"data row8 col4\" >0.8852</td>\n",
       "      <td id=\"T_763a1_row8_col5\" class=\"data row8 col5\" >0.8476</td>\n",
       "      <td id=\"T_763a1_row8_col6\" class=\"data row8 col6\" >0.8480</td>\n",
       "    </tr>\n",
       "    <tr>\n",
       "      <th id=\"T_763a1_level0_row9\" class=\"row_heading level0 row9\" >9</th>\n",
       "      <td id=\"T_763a1_row9_col0\" class=\"data row9 col0\" >0.8714</td>\n",
       "      <td id=\"T_763a1_row9_col1\" class=\"data row9 col1\" >0.9717</td>\n",
       "      <td id=\"T_763a1_row9_col2\" class=\"data row9 col2\" >0.8714</td>\n",
       "      <td id=\"T_763a1_row9_col3\" class=\"data row9 col3\" >0.8726</td>\n",
       "      <td id=\"T_763a1_row9_col4\" class=\"data row9 col4\" >0.8713</td>\n",
       "      <td id=\"T_763a1_row9_col5\" class=\"data row9 col5\" >0.8286</td>\n",
       "      <td id=\"T_763a1_row9_col6\" class=\"data row9 col6\" >0.8290</td>\n",
       "    </tr>\n",
       "    <tr>\n",
       "      <th id=\"T_763a1_level0_row10\" class=\"row_heading level0 row10\" >Mean</th>\n",
       "      <td id=\"T_763a1_row10_col0\" class=\"data row10 col0\" >0.8736</td>\n",
       "      <td id=\"T_763a1_row10_col1\" class=\"data row10 col1\" >0.9777</td>\n",
       "      <td id=\"T_763a1_row10_col2\" class=\"data row10 col2\" >0.8736</td>\n",
       "      <td id=\"T_763a1_row10_col3\" class=\"data row10 col3\" >0.8762</td>\n",
       "      <td id=\"T_763a1_row10_col4\" class=\"data row10 col4\" >0.8730</td>\n",
       "      <td id=\"T_763a1_row10_col5\" class=\"data row10 col5\" >0.8314</td>\n",
       "      <td id=\"T_763a1_row10_col6\" class=\"data row10 col6\" >0.8326</td>\n",
       "    </tr>\n",
       "    <tr>\n",
       "      <th id=\"T_763a1_level0_row11\" class=\"row_heading level0 row11\" >Std</th>\n",
       "      <td id=\"T_763a1_row11_col0\" class=\"data row11 col0\" >0.0258</td>\n",
       "      <td id=\"T_763a1_row11_col1\" class=\"data row11 col1\" >0.0086</td>\n",
       "      <td id=\"T_763a1_row11_col2\" class=\"data row11 col2\" >0.0258</td>\n",
       "      <td id=\"T_763a1_row11_col3\" class=\"data row11 col3\" >0.0253</td>\n",
       "      <td id=\"T_763a1_row11_col4\" class=\"data row11 col4\" >0.0257</td>\n",
       "      <td id=\"T_763a1_row11_col5\" class=\"data row11 col5\" >0.0344</td>\n",
       "      <td id=\"T_763a1_row11_col6\" class=\"data row11 col6\" >0.0343</td>\n",
       "    </tr>\n",
       "  </tbody>\n",
       "</table>\n"
      ],
      "text/plain": [
       "<pandas.io.formats.style.Styler at 0x25e0a6a8e50>"
      ]
     },
     "metadata": {},
     "output_type": "display_data"
    },
    {
     "data": {
      "text/html": [],
      "text/plain": [
       "<IPython.core.display.HTML object>"
      ]
     },
     "metadata": {},
     "output_type": "display_data"
    },
    {
     "data": {
      "text/html": [],
      "text/plain": [
       "<IPython.core.display.HTML object>"
      ]
     },
     "metadata": {},
     "output_type": "display_data"
    },
    {
     "data": {
      "text/html": [
       "<style type=\"text/css\">\n",
       "#T_4c28e_row10_col0, #T_4c28e_row10_col1, #T_4c28e_row10_col2, #T_4c28e_row10_col3, #T_4c28e_row10_col4, #T_4c28e_row10_col5, #T_4c28e_row10_col6 {\n",
       "  background: yellow;\n",
       "}\n",
       "</style>\n",
       "<table id=\"T_4c28e\">\n",
       "  <thead>\n",
       "    <tr>\n",
       "      <th class=\"blank level0\" >&nbsp;</th>\n",
       "      <th id=\"T_4c28e_level0_col0\" class=\"col_heading level0 col0\" >Accuracy</th>\n",
       "      <th id=\"T_4c28e_level0_col1\" class=\"col_heading level0 col1\" >AUC</th>\n",
       "      <th id=\"T_4c28e_level0_col2\" class=\"col_heading level0 col2\" >Recall</th>\n",
       "      <th id=\"T_4c28e_level0_col3\" class=\"col_heading level0 col3\" >Prec.</th>\n",
       "      <th id=\"T_4c28e_level0_col4\" class=\"col_heading level0 col4\" >F1</th>\n",
       "      <th id=\"T_4c28e_level0_col5\" class=\"col_heading level0 col5\" >Kappa</th>\n",
       "      <th id=\"T_4c28e_level0_col6\" class=\"col_heading level0 col6\" >MCC</th>\n",
       "    </tr>\n",
       "    <tr>\n",
       "      <th class=\"index_name level0\" >Fold</th>\n",
       "      <th class=\"blank col0\" >&nbsp;</th>\n",
       "      <th class=\"blank col1\" >&nbsp;</th>\n",
       "      <th class=\"blank col2\" >&nbsp;</th>\n",
       "      <th class=\"blank col3\" >&nbsp;</th>\n",
       "      <th class=\"blank col4\" >&nbsp;</th>\n",
       "      <th class=\"blank col5\" >&nbsp;</th>\n",
       "      <th class=\"blank col6\" >&nbsp;</th>\n",
       "    </tr>\n",
       "  </thead>\n",
       "  <tbody>\n",
       "    <tr>\n",
       "      <th id=\"T_4c28e_level0_row0\" class=\"row_heading level0 row0\" >0</th>\n",
       "      <td id=\"T_4c28e_row0_col0\" class=\"data row0 col0\" >0.9214</td>\n",
       "      <td id=\"T_4c28e_row0_col1\" class=\"data row0 col1\" >0.9936</td>\n",
       "      <td id=\"T_4c28e_row0_col2\" class=\"data row0 col2\" >0.9214</td>\n",
       "      <td id=\"T_4c28e_row0_col3\" class=\"data row0 col3\" >0.9236</td>\n",
       "      <td id=\"T_4c28e_row0_col4\" class=\"data row0 col4\" >0.9217</td>\n",
       "      <td id=\"T_4c28e_row0_col5\" class=\"data row0 col5\" >0.8952</td>\n",
       "      <td id=\"T_4c28e_row0_col6\" class=\"data row0 col6\" >0.8958</td>\n",
       "    </tr>\n",
       "    <tr>\n",
       "      <th id=\"T_4c28e_level0_row1\" class=\"row_heading level0 row1\" >1</th>\n",
       "      <td id=\"T_4c28e_row1_col0\" class=\"data row1 col0\" >0.9214</td>\n",
       "      <td id=\"T_4c28e_row1_col1\" class=\"data row1 col1\" >0.9933</td>\n",
       "      <td id=\"T_4c28e_row1_col2\" class=\"data row1 col2\" >0.9214</td>\n",
       "      <td id=\"T_4c28e_row1_col3\" class=\"data row1 col3\" >0.9216</td>\n",
       "      <td id=\"T_4c28e_row1_col4\" class=\"data row1 col4\" >0.9214</td>\n",
       "      <td id=\"T_4c28e_row1_col5\" class=\"data row1 col5\" >0.8952</td>\n",
       "      <td id=\"T_4c28e_row1_col6\" class=\"data row1 col6\" >0.8953</td>\n",
       "    </tr>\n",
       "    <tr>\n",
       "      <th id=\"T_4c28e_level0_row2\" class=\"row_heading level0 row2\" >2</th>\n",
       "      <td id=\"T_4c28e_row2_col0\" class=\"data row2 col0\" >0.9071</td>\n",
       "      <td id=\"T_4c28e_row2_col1\" class=\"data row2 col1\" >0.9871</td>\n",
       "      <td id=\"T_4c28e_row2_col2\" class=\"data row2 col2\" >0.9071</td>\n",
       "      <td id=\"T_4c28e_row2_col3\" class=\"data row2 col3\" >0.9056</td>\n",
       "      <td id=\"T_4c28e_row2_col4\" class=\"data row2 col4\" >0.9055</td>\n",
       "      <td id=\"T_4c28e_row2_col5\" class=\"data row2 col5\" >0.8762</td>\n",
       "      <td id=\"T_4c28e_row2_col6\" class=\"data row2 col6\" >0.8767</td>\n",
       "    </tr>\n",
       "    <tr>\n",
       "      <th id=\"T_4c28e_level0_row3\" class=\"row_heading level0 row3\" >3</th>\n",
       "      <td id=\"T_4c28e_row3_col0\" class=\"data row3 col0\" >0.9500</td>\n",
       "      <td id=\"T_4c28e_row3_col1\" class=\"data row3 col1\" >0.9948</td>\n",
       "      <td id=\"T_4c28e_row3_col2\" class=\"data row3 col2\" >0.9500</td>\n",
       "      <td id=\"T_4c28e_row3_col3\" class=\"data row3 col3\" >0.9516</td>\n",
       "      <td id=\"T_4c28e_row3_col4\" class=\"data row3 col4\" >0.9502</td>\n",
       "      <td id=\"T_4c28e_row3_col5\" class=\"data row3 col5\" >0.9333</td>\n",
       "      <td id=\"T_4c28e_row3_col6\" class=\"data row3 col6\" >0.9338</td>\n",
       "    </tr>\n",
       "    <tr>\n",
       "      <th id=\"T_4c28e_level0_row4\" class=\"row_heading level0 row4\" >4</th>\n",
       "      <td id=\"T_4c28e_row4_col0\" class=\"data row4 col0\" >0.9071</td>\n",
       "      <td id=\"T_4c28e_row4_col1\" class=\"data row4 col1\" >0.9939</td>\n",
       "      <td id=\"T_4c28e_row4_col2\" class=\"data row4 col2\" >0.9071</td>\n",
       "      <td id=\"T_4c28e_row4_col3\" class=\"data row4 col3\" >0.9111</td>\n",
       "      <td id=\"T_4c28e_row4_col4\" class=\"data row4 col4\" >0.9070</td>\n",
       "      <td id=\"T_4c28e_row4_col5\" class=\"data row4 col5\" >0.8762</td>\n",
       "      <td id=\"T_4c28e_row4_col6\" class=\"data row4 col6\" >0.8774</td>\n",
       "    </tr>\n",
       "    <tr>\n",
       "      <th id=\"T_4c28e_level0_row5\" class=\"row_heading level0 row5\" >5</th>\n",
       "      <td id=\"T_4c28e_row5_col0\" class=\"data row5 col0\" >0.8714</td>\n",
       "      <td id=\"T_4c28e_row5_col1\" class=\"data row5 col1\" >0.9853</td>\n",
       "      <td id=\"T_4c28e_row5_col2\" class=\"data row5 col2\" >0.8714</td>\n",
       "      <td id=\"T_4c28e_row5_col3\" class=\"data row5 col3\" >0.8724</td>\n",
       "      <td id=\"T_4c28e_row5_col4\" class=\"data row5 col4\" >0.8673</td>\n",
       "      <td id=\"T_4c28e_row5_col5\" class=\"data row5 col5\" >0.8286</td>\n",
       "      <td id=\"T_4c28e_row5_col6\" class=\"data row5 col6\" >0.8313</td>\n",
       "    </tr>\n",
       "    <tr>\n",
       "      <th id=\"T_4c28e_level0_row6\" class=\"row_heading level0 row6\" >6</th>\n",
       "      <td id=\"T_4c28e_row6_col0\" class=\"data row6 col0\" >0.8786</td>\n",
       "      <td id=\"T_4c28e_row6_col1\" class=\"data row6 col1\" >0.9818</td>\n",
       "      <td id=\"T_4c28e_row6_col2\" class=\"data row6 col2\" >0.8786</td>\n",
       "      <td id=\"T_4c28e_row6_col3\" class=\"data row6 col3\" >0.8801</td>\n",
       "      <td id=\"T_4c28e_row6_col4\" class=\"data row6 col4\" >0.8790</td>\n",
       "      <td id=\"T_4c28e_row6_col5\" class=\"data row6 col5\" >0.8381</td>\n",
       "      <td id=\"T_4c28e_row6_col6\" class=\"data row6 col6\" >0.8383</td>\n",
       "    </tr>\n",
       "    <tr>\n",
       "      <th id=\"T_4c28e_level0_row7\" class=\"row_heading level0 row7\" >7</th>\n",
       "      <td id=\"T_4c28e_row7_col0\" class=\"data row7 col0\" >0.9071</td>\n",
       "      <td id=\"T_4c28e_row7_col1\" class=\"data row7 col1\" >0.9924</td>\n",
       "      <td id=\"T_4c28e_row7_col2\" class=\"data row7 col2\" >0.9071</td>\n",
       "      <td id=\"T_4c28e_row7_col3\" class=\"data row7 col3\" >0.9066</td>\n",
       "      <td id=\"T_4c28e_row7_col4\" class=\"data row7 col4\" >0.9066</td>\n",
       "      <td id=\"T_4c28e_row7_col5\" class=\"data row7 col5\" >0.8762</td>\n",
       "      <td id=\"T_4c28e_row7_col6\" class=\"data row7 col6\" >0.8764</td>\n",
       "    </tr>\n",
       "    <tr>\n",
       "      <th id=\"T_4c28e_level0_row8\" class=\"row_heading level0 row8\" >8</th>\n",
       "      <td id=\"T_4c28e_row8_col0\" class=\"data row8 col0\" >0.9143</td>\n",
       "      <td id=\"T_4c28e_row8_col1\" class=\"data row8 col1\" >0.9929</td>\n",
       "      <td id=\"T_4c28e_row8_col2\" class=\"data row8 col2\" >0.9143</td>\n",
       "      <td id=\"T_4c28e_row8_col3\" class=\"data row8 col3\" >0.9241</td>\n",
       "      <td id=\"T_4c28e_row8_col4\" class=\"data row8 col4\" >0.9131</td>\n",
       "      <td id=\"T_4c28e_row8_col5\" class=\"data row8 col5\" >0.8857</td>\n",
       "      <td id=\"T_4c28e_row8_col6\" class=\"data row8 col6\" >0.8895</td>\n",
       "    </tr>\n",
       "    <tr>\n",
       "      <th id=\"T_4c28e_level0_row9\" class=\"row_heading level0 row9\" >9</th>\n",
       "      <td id=\"T_4c28e_row9_col0\" class=\"data row9 col0\" >0.9500</td>\n",
       "      <td id=\"T_4c28e_row9_col1\" class=\"data row9 col1\" >0.9946</td>\n",
       "      <td id=\"T_4c28e_row9_col2\" class=\"data row9 col2\" >0.9500</td>\n",
       "      <td id=\"T_4c28e_row9_col3\" class=\"data row9 col3\" >0.9538</td>\n",
       "      <td id=\"T_4c28e_row9_col4\" class=\"data row9 col4\" >0.9502</td>\n",
       "      <td id=\"T_4c28e_row9_col5\" class=\"data row9 col5\" >0.9333</td>\n",
       "      <td id=\"T_4c28e_row9_col6\" class=\"data row9 col6\" >0.9345</td>\n",
       "    </tr>\n",
       "    <tr>\n",
       "      <th id=\"T_4c28e_level0_row10\" class=\"row_heading level0 row10\" >Mean</th>\n",
       "      <td id=\"T_4c28e_row10_col0\" class=\"data row10 col0\" >0.9129</td>\n",
       "      <td id=\"T_4c28e_row10_col1\" class=\"data row10 col1\" >0.9910</td>\n",
       "      <td id=\"T_4c28e_row10_col2\" class=\"data row10 col2\" >0.9129</td>\n",
       "      <td id=\"T_4c28e_row10_col3\" class=\"data row10 col3\" >0.9150</td>\n",
       "      <td id=\"T_4c28e_row10_col4\" class=\"data row10 col4\" >0.9122</td>\n",
       "      <td id=\"T_4c28e_row10_col5\" class=\"data row10 col5\" >0.8838</td>\n",
       "      <td id=\"T_4c28e_row10_col6\" class=\"data row10 col6\" >0.8849</td>\n",
       "    </tr>\n",
       "    <tr>\n",
       "      <th id=\"T_4c28e_level0_row11\" class=\"row_heading level0 row11\" >Std</th>\n",
       "      <td id=\"T_4c28e_row11_col0\" class=\"data row11 col0\" >0.0243</td>\n",
       "      <td id=\"T_4c28e_row11_col1\" class=\"data row11 col1\" >0.0043</td>\n",
       "      <td id=\"T_4c28e_row11_col2\" class=\"data row11 col2\" >0.0243</td>\n",
       "      <td id=\"T_4c28e_row11_col3\" class=\"data row11 col3\" >0.0250</td>\n",
       "      <td id=\"T_4c28e_row11_col4\" class=\"data row11 col4\" >0.0251</td>\n",
       "      <td id=\"T_4c28e_row11_col5\" class=\"data row11 col5\" >0.0324</td>\n",
       "      <td id=\"T_4c28e_row11_col6\" class=\"data row11 col6\" >0.0322</td>\n",
       "    </tr>\n",
       "  </tbody>\n",
       "</table>\n"
      ],
      "text/plain": [
       "<pandas.io.formats.style.Styler at 0x25e0ad3bad0>"
      ]
     },
     "metadata": {},
     "output_type": "display_data"
    },
    {
     "data": {
      "text/html": [],
      "text/plain": [
       "<IPython.core.display.HTML object>"
      ]
     },
     "metadata": {},
     "output_type": "display_data"
    },
    {
     "data": {
      "text/html": [],
      "text/plain": [
       "<IPython.core.display.HTML object>"
      ]
     },
     "metadata": {},
     "output_type": "display_data"
    },
    {
     "data": {
      "text/html": [
       "<style type=\"text/css\">\n",
       "#T_d2d44_row10_col0, #T_d2d44_row10_col1, #T_d2d44_row10_col2, #T_d2d44_row10_col3, #T_d2d44_row10_col4, #T_d2d44_row10_col5, #T_d2d44_row10_col6 {\n",
       "  background: yellow;\n",
       "}\n",
       "</style>\n",
       "<table id=\"T_d2d44\">\n",
       "  <thead>\n",
       "    <tr>\n",
       "      <th class=\"blank level0\" >&nbsp;</th>\n",
       "      <th id=\"T_d2d44_level0_col0\" class=\"col_heading level0 col0\" >Accuracy</th>\n",
       "      <th id=\"T_d2d44_level0_col1\" class=\"col_heading level0 col1\" >AUC</th>\n",
       "      <th id=\"T_d2d44_level0_col2\" class=\"col_heading level0 col2\" >Recall</th>\n",
       "      <th id=\"T_d2d44_level0_col3\" class=\"col_heading level0 col3\" >Prec.</th>\n",
       "      <th id=\"T_d2d44_level0_col4\" class=\"col_heading level0 col4\" >F1</th>\n",
       "      <th id=\"T_d2d44_level0_col5\" class=\"col_heading level0 col5\" >Kappa</th>\n",
       "      <th id=\"T_d2d44_level0_col6\" class=\"col_heading level0 col6\" >MCC</th>\n",
       "    </tr>\n",
       "    <tr>\n",
       "      <th class=\"index_name level0\" >Fold</th>\n",
       "      <th class=\"blank col0\" >&nbsp;</th>\n",
       "      <th class=\"blank col1\" >&nbsp;</th>\n",
       "      <th class=\"blank col2\" >&nbsp;</th>\n",
       "      <th class=\"blank col3\" >&nbsp;</th>\n",
       "      <th class=\"blank col4\" >&nbsp;</th>\n",
       "      <th class=\"blank col5\" >&nbsp;</th>\n",
       "      <th class=\"blank col6\" >&nbsp;</th>\n",
       "    </tr>\n",
       "  </thead>\n",
       "  <tbody>\n",
       "    <tr>\n",
       "      <th id=\"T_d2d44_level0_row0\" class=\"row_heading level0 row0\" >0</th>\n",
       "      <td id=\"T_d2d44_row0_col0\" class=\"data row0 col0\" >0.8929</td>\n",
       "      <td id=\"T_d2d44_row0_col1\" class=\"data row0 col1\" >0.9889</td>\n",
       "      <td id=\"T_d2d44_row0_col2\" class=\"data row0 col2\" >0.8929</td>\n",
       "      <td id=\"T_d2d44_row0_col3\" class=\"data row0 col3\" >0.8926</td>\n",
       "      <td id=\"T_d2d44_row0_col4\" class=\"data row0 col4\" >0.8926</td>\n",
       "      <td id=\"T_d2d44_row0_col5\" class=\"data row0 col5\" >0.8571</td>\n",
       "      <td id=\"T_d2d44_row0_col6\" class=\"data row0 col6\" >0.8572</td>\n",
       "    </tr>\n",
       "    <tr>\n",
       "      <th id=\"T_d2d44_level0_row1\" class=\"row_heading level0 row1\" >1</th>\n",
       "      <td id=\"T_d2d44_row1_col0\" class=\"data row1 col0\" >0.9429</td>\n",
       "      <td id=\"T_d2d44_row1_col1\" class=\"data row1 col1\" >0.9967</td>\n",
       "      <td id=\"T_d2d44_row1_col2\" class=\"data row1 col2\" >0.9429</td>\n",
       "      <td id=\"T_d2d44_row1_col3\" class=\"data row1 col3\" >0.9450</td>\n",
       "      <td id=\"T_d2d44_row1_col4\" class=\"data row1 col4\" >0.9431</td>\n",
       "      <td id=\"T_d2d44_row1_col5\" class=\"data row1 col5\" >0.9238</td>\n",
       "      <td id=\"T_d2d44_row1_col6\" class=\"data row1 col6\" >0.9244</td>\n",
       "    </tr>\n",
       "    <tr>\n",
       "      <th id=\"T_d2d44_level0_row2\" class=\"row_heading level0 row2\" >2</th>\n",
       "      <td id=\"T_d2d44_row2_col0\" class=\"data row2 col0\" >0.9214</td>\n",
       "      <td id=\"T_d2d44_row2_col1\" class=\"data row2 col1\" >0.9927</td>\n",
       "      <td id=\"T_d2d44_row2_col2\" class=\"data row2 col2\" >0.9214</td>\n",
       "      <td id=\"T_d2d44_row2_col3\" class=\"data row2 col3\" >0.9206</td>\n",
       "      <td id=\"T_d2d44_row2_col4\" class=\"data row2 col4\" >0.9198</td>\n",
       "      <td id=\"T_d2d44_row2_col5\" class=\"data row2 col5\" >0.8952</td>\n",
       "      <td id=\"T_d2d44_row2_col6\" class=\"data row2 col6\" >0.8960</td>\n",
       "    </tr>\n",
       "    <tr>\n",
       "      <th id=\"T_d2d44_level0_row3\" class=\"row_heading level0 row3\" >3</th>\n",
       "      <td id=\"T_d2d44_row3_col0\" class=\"data row3 col0\" >0.9500</td>\n",
       "      <td id=\"T_d2d44_row3_col1\" class=\"data row3 col1\" >0.9940</td>\n",
       "      <td id=\"T_d2d44_row3_col2\" class=\"data row3 col2\" >0.9500</td>\n",
       "      <td id=\"T_d2d44_row3_col3\" class=\"data row3 col3\" >0.9520</td>\n",
       "      <td id=\"T_d2d44_row3_col4\" class=\"data row3 col4\" >0.9504</td>\n",
       "      <td id=\"T_d2d44_row3_col5\" class=\"data row3 col5\" >0.9333</td>\n",
       "      <td id=\"T_d2d44_row3_col6\" class=\"data row3 col6\" >0.9338</td>\n",
       "    </tr>\n",
       "    <tr>\n",
       "      <th id=\"T_d2d44_level0_row4\" class=\"row_heading level0 row4\" >4</th>\n",
       "      <td id=\"T_d2d44_row4_col0\" class=\"data row4 col0\" >0.8929</td>\n",
       "      <td id=\"T_d2d44_row4_col1\" class=\"data row4 col1\" >0.9893</td>\n",
       "      <td id=\"T_d2d44_row4_col2\" class=\"data row4 col2\" >0.8929</td>\n",
       "      <td id=\"T_d2d44_row4_col3\" class=\"data row4 col3\" >0.8982</td>\n",
       "      <td id=\"T_d2d44_row4_col4\" class=\"data row4 col4\" >0.8939</td>\n",
       "      <td id=\"T_d2d44_row4_col5\" class=\"data row4 col5\" >0.8571</td>\n",
       "      <td id=\"T_d2d44_row4_col6\" class=\"data row4 col6\" >0.8583</td>\n",
       "    </tr>\n",
       "    <tr>\n",
       "      <th id=\"T_d2d44_level0_row5\" class=\"row_heading level0 row5\" >5</th>\n",
       "      <td id=\"T_d2d44_row5_col0\" class=\"data row5 col0\" >0.8429</td>\n",
       "      <td id=\"T_d2d44_row5_col1\" class=\"data row5 col1\" >0.9750</td>\n",
       "      <td id=\"T_d2d44_row5_col2\" class=\"data row5 col2\" >0.8429</td>\n",
       "      <td id=\"T_d2d44_row5_col3\" class=\"data row5 col3\" >0.8454</td>\n",
       "      <td id=\"T_d2d44_row5_col4\" class=\"data row5 col4\" >0.8409</td>\n",
       "      <td id=\"T_d2d44_row5_col5\" class=\"data row5 col5\" >0.7905</td>\n",
       "      <td id=\"T_d2d44_row5_col6\" class=\"data row5 col6\" >0.7925</td>\n",
       "    </tr>\n",
       "    <tr>\n",
       "      <th id=\"T_d2d44_level0_row6\" class=\"row_heading level0 row6\" >6</th>\n",
       "      <td id=\"T_d2d44_row6_col0\" class=\"data row6 col0\" >0.9071</td>\n",
       "      <td id=\"T_d2d44_row6_col1\" class=\"data row6 col1\" >0.9816</td>\n",
       "      <td id=\"T_d2d44_row6_col2\" class=\"data row6 col2\" >0.9071</td>\n",
       "      <td id=\"T_d2d44_row6_col3\" class=\"data row6 col3\" >0.9111</td>\n",
       "      <td id=\"T_d2d44_row6_col4\" class=\"data row6 col4\" >0.9066</td>\n",
       "      <td id=\"T_d2d44_row6_col5\" class=\"data row6 col5\" >0.8762</td>\n",
       "      <td id=\"T_d2d44_row6_col6\" class=\"data row6 col6\" >0.8778</td>\n",
       "    </tr>\n",
       "    <tr>\n",
       "      <th id=\"T_d2d44_level0_row7\" class=\"row_heading level0 row7\" >7</th>\n",
       "      <td id=\"T_d2d44_row7_col0\" class=\"data row7 col0\" >0.8786</td>\n",
       "      <td id=\"T_d2d44_row7_col1\" class=\"data row7 col1\" >0.9807</td>\n",
       "      <td id=\"T_d2d44_row7_col2\" class=\"data row7 col2\" >0.8786</td>\n",
       "      <td id=\"T_d2d44_row7_col3\" class=\"data row7 col3\" >0.8796</td>\n",
       "      <td id=\"T_d2d44_row7_col4\" class=\"data row7 col4\" >0.8777</td>\n",
       "      <td id=\"T_d2d44_row7_col5\" class=\"data row7 col5\" >0.8381</td>\n",
       "      <td id=\"T_d2d44_row7_col6\" class=\"data row7 col6\" >0.8390</td>\n",
       "    </tr>\n",
       "    <tr>\n",
       "      <th id=\"T_d2d44_level0_row8\" class=\"row_heading level0 row8\" >8</th>\n",
       "      <td id=\"T_d2d44_row8_col0\" class=\"data row8 col0\" >0.8929</td>\n",
       "      <td id=\"T_d2d44_row8_col1\" class=\"data row8 col1\" >0.9875</td>\n",
       "      <td id=\"T_d2d44_row8_col2\" class=\"data row8 col2\" >0.8929</td>\n",
       "      <td id=\"T_d2d44_row8_col3\" class=\"data row8 col3\" >0.8929</td>\n",
       "      <td id=\"T_d2d44_row8_col4\" class=\"data row8 col4\" >0.8926</td>\n",
       "      <td id=\"T_d2d44_row8_col5\" class=\"data row8 col5\" >0.8571</td>\n",
       "      <td id=\"T_d2d44_row8_col6\" class=\"data row8 col6\" >0.8573</td>\n",
       "    </tr>\n",
       "    <tr>\n",
       "      <th id=\"T_d2d44_level0_row9\" class=\"row_heading level0 row9\" >9</th>\n",
       "      <td id=\"T_d2d44_row9_col0\" class=\"data row9 col0\" >0.8929</td>\n",
       "      <td id=\"T_d2d44_row9_col1\" class=\"data row9 col1\" >0.9898</td>\n",
       "      <td id=\"T_d2d44_row9_col2\" class=\"data row9 col2\" >0.8929</td>\n",
       "      <td id=\"T_d2d44_row9_col3\" class=\"data row9 col3\" >0.8959</td>\n",
       "      <td id=\"T_d2d44_row9_col4\" class=\"data row9 col4\" >0.8938</td>\n",
       "      <td id=\"T_d2d44_row9_col5\" class=\"data row9 col5\" >0.8571</td>\n",
       "      <td id=\"T_d2d44_row9_col6\" class=\"data row9 col6\" >0.8576</td>\n",
       "    </tr>\n",
       "    <tr>\n",
       "      <th id=\"T_d2d44_level0_row10\" class=\"row_heading level0 row10\" >Mean</th>\n",
       "      <td id=\"T_d2d44_row10_col0\" class=\"data row10 col0\" >0.9014</td>\n",
       "      <td id=\"T_d2d44_row10_col1\" class=\"data row10 col1\" >0.9876</td>\n",
       "      <td id=\"T_d2d44_row10_col2\" class=\"data row10 col2\" >0.9014</td>\n",
       "      <td id=\"T_d2d44_row10_col3\" class=\"data row10 col3\" >0.9033</td>\n",
       "      <td id=\"T_d2d44_row10_col4\" class=\"data row10 col4\" >0.9011</td>\n",
       "      <td id=\"T_d2d44_row10_col5\" class=\"data row10 col5\" >0.8686</td>\n",
       "      <td id=\"T_d2d44_row10_col6\" class=\"data row10 col6\" >0.8694</td>\n",
       "    </tr>\n",
       "    <tr>\n",
       "      <th id=\"T_d2d44_level0_row11\" class=\"row_heading level0 row11\" >Std</th>\n",
       "      <td id=\"T_d2d44_row11_col0\" class=\"data row11 col0\" >0.0296</td>\n",
       "      <td id=\"T_d2d44_row11_col1\" class=\"data row11 col1\" >0.0063</td>\n",
       "      <td id=\"T_d2d44_row11_col2\" class=\"data row11 col2\" >0.0296</td>\n",
       "      <td id=\"T_d2d44_row11_col3\" class=\"data row11 col3\" >0.0295</td>\n",
       "      <td id=\"T_d2d44_row11_col4\" class=\"data row11 col4\" >0.0300</td>\n",
       "      <td id=\"T_d2d44_row11_col5\" class=\"data row11 col5\" >0.0395</td>\n",
       "      <td id=\"T_d2d44_row11_col6\" class=\"data row11 col6\" >0.0392</td>\n",
       "    </tr>\n",
       "  </tbody>\n",
       "</table>\n"
      ],
      "text/plain": [
       "<pandas.io.formats.style.Styler at 0x25e0b3294d0>"
      ]
     },
     "metadata": {},
     "output_type": "display_data"
    },
    {
     "data": {
      "text/html": [],
      "text/plain": [
       "<IPython.core.display.HTML object>"
      ]
     },
     "metadata": {},
     "output_type": "display_data"
    },
    {
     "data": {
      "text/html": [],
      "text/plain": [
       "<IPython.core.display.HTML object>"
      ]
     },
     "metadata": {},
     "output_type": "display_data"
    },
    {
     "data": {
      "text/html": [
       "<style type=\"text/css\">\n",
       "#T_224c5_row10_col0, #T_224c5_row10_col1, #T_224c5_row10_col2, #T_224c5_row10_col3, #T_224c5_row10_col4, #T_224c5_row10_col5, #T_224c5_row10_col6 {\n",
       "  background: yellow;\n",
       "}\n",
       "</style>\n",
       "<table id=\"T_224c5\">\n",
       "  <thead>\n",
       "    <tr>\n",
       "      <th class=\"blank level0\" >&nbsp;</th>\n",
       "      <th id=\"T_224c5_level0_col0\" class=\"col_heading level0 col0\" >Accuracy</th>\n",
       "      <th id=\"T_224c5_level0_col1\" class=\"col_heading level0 col1\" >AUC</th>\n",
       "      <th id=\"T_224c5_level0_col2\" class=\"col_heading level0 col2\" >Recall</th>\n",
       "      <th id=\"T_224c5_level0_col3\" class=\"col_heading level0 col3\" >Prec.</th>\n",
       "      <th id=\"T_224c5_level0_col4\" class=\"col_heading level0 col4\" >F1</th>\n",
       "      <th id=\"T_224c5_level0_col5\" class=\"col_heading level0 col5\" >Kappa</th>\n",
       "      <th id=\"T_224c5_level0_col6\" class=\"col_heading level0 col6\" >MCC</th>\n",
       "    </tr>\n",
       "    <tr>\n",
       "      <th class=\"index_name level0\" >Fold</th>\n",
       "      <th class=\"blank col0\" >&nbsp;</th>\n",
       "      <th class=\"blank col1\" >&nbsp;</th>\n",
       "      <th class=\"blank col2\" >&nbsp;</th>\n",
       "      <th class=\"blank col3\" >&nbsp;</th>\n",
       "      <th class=\"blank col4\" >&nbsp;</th>\n",
       "      <th class=\"blank col5\" >&nbsp;</th>\n",
       "      <th class=\"blank col6\" >&nbsp;</th>\n",
       "    </tr>\n",
       "  </thead>\n",
       "  <tbody>\n",
       "    <tr>\n",
       "      <th id=\"T_224c5_level0_row0\" class=\"row_heading level0 row0\" >0</th>\n",
       "      <td id=\"T_224c5_row0_col0\" class=\"data row0 col0\" >0.8857</td>\n",
       "      <td id=\"T_224c5_row0_col1\" class=\"data row0 col1\" >0.9861</td>\n",
       "      <td id=\"T_224c5_row0_col2\" class=\"data row0 col2\" >0.8857</td>\n",
       "      <td id=\"T_224c5_row0_col3\" class=\"data row0 col3\" >0.8859</td>\n",
       "      <td id=\"T_224c5_row0_col4\" class=\"data row0 col4\" >0.8854</td>\n",
       "      <td id=\"T_224c5_row0_col5\" class=\"data row0 col5\" >0.8476</td>\n",
       "      <td id=\"T_224c5_row0_col6\" class=\"data row0 col6\" >0.8478</td>\n",
       "    </tr>\n",
       "    <tr>\n",
       "      <th id=\"T_224c5_level0_row1\" class=\"row_heading level0 row1\" >1</th>\n",
       "      <td id=\"T_224c5_row1_col0\" class=\"data row1 col0\" >0.9500</td>\n",
       "      <td id=\"T_224c5_row1_col1\" class=\"data row1 col1\" >0.9953</td>\n",
       "      <td id=\"T_224c5_row1_col2\" class=\"data row1 col2\" >0.9500</td>\n",
       "      <td id=\"T_224c5_row1_col3\" class=\"data row1 col3\" >0.9513</td>\n",
       "      <td id=\"T_224c5_row1_col4\" class=\"data row1 col4\" >0.9502</td>\n",
       "      <td id=\"T_224c5_row1_col5\" class=\"data row1 col5\" >0.9333</td>\n",
       "      <td id=\"T_224c5_row1_col6\" class=\"data row1 col6\" >0.9337</td>\n",
       "    </tr>\n",
       "    <tr>\n",
       "      <th id=\"T_224c5_level0_row2\" class=\"row_heading level0 row2\" >2</th>\n",
       "      <td id=\"T_224c5_row2_col0\" class=\"data row2 col0\" >0.9071</td>\n",
       "      <td id=\"T_224c5_row2_col1\" class=\"data row2 col1\" >0.9933</td>\n",
       "      <td id=\"T_224c5_row2_col2\" class=\"data row2 col2\" >0.9071</td>\n",
       "      <td id=\"T_224c5_row2_col3\" class=\"data row2 col3\" >0.9127</td>\n",
       "      <td id=\"T_224c5_row2_col4\" class=\"data row2 col4\" >0.9053</td>\n",
       "      <td id=\"T_224c5_row2_col5\" class=\"data row2 col5\" >0.8762</td>\n",
       "      <td id=\"T_224c5_row2_col6\" class=\"data row2 col6\" >0.8791</td>\n",
       "    </tr>\n",
       "    <tr>\n",
       "      <th id=\"T_224c5_level0_row3\" class=\"row_heading level0 row3\" >3</th>\n",
       "      <td id=\"T_224c5_row3_col0\" class=\"data row3 col0\" >0.9643</td>\n",
       "      <td id=\"T_224c5_row3_col1\" class=\"data row3 col1\" >0.9936</td>\n",
       "      <td id=\"T_224c5_row3_col2\" class=\"data row3 col2\" >0.9643</td>\n",
       "      <td id=\"T_224c5_row3_col3\" class=\"data row3 col3\" >0.9665</td>\n",
       "      <td id=\"T_224c5_row3_col4\" class=\"data row3 col4\" >0.9645</td>\n",
       "      <td id=\"T_224c5_row3_col5\" class=\"data row3 col5\" >0.9524</td>\n",
       "      <td id=\"T_224c5_row3_col6\" class=\"data row3 col6\" >0.9530</td>\n",
       "    </tr>\n",
       "    <tr>\n",
       "      <th id=\"T_224c5_level0_row4\" class=\"row_heading level0 row4\" >4</th>\n",
       "      <td id=\"T_224c5_row4_col0\" class=\"data row4 col0\" >0.9143</td>\n",
       "      <td id=\"T_224c5_row4_col1\" class=\"data row4 col1\" >0.9875</td>\n",
       "      <td id=\"T_224c5_row4_col2\" class=\"data row4 col2\" >0.9143</td>\n",
       "      <td id=\"T_224c5_row4_col3\" class=\"data row4 col3\" >0.9190</td>\n",
       "      <td id=\"T_224c5_row4_col4\" class=\"data row4 col4\" >0.9151</td>\n",
       "      <td id=\"T_224c5_row4_col5\" class=\"data row4 col5\" >0.8857</td>\n",
       "      <td id=\"T_224c5_row4_col6\" class=\"data row4 col6\" >0.8868</td>\n",
       "    </tr>\n",
       "    <tr>\n",
       "      <th id=\"T_224c5_level0_row5\" class=\"row_heading level0 row5\" >5</th>\n",
       "      <td id=\"T_224c5_row5_col0\" class=\"data row5 col0\" >0.8643</td>\n",
       "      <td id=\"T_224c5_row5_col1\" class=\"data row5 col1\" >0.9770</td>\n",
       "      <td id=\"T_224c5_row5_col2\" class=\"data row5 col2\" >0.8643</td>\n",
       "      <td id=\"T_224c5_row5_col3\" class=\"data row5 col3\" >0.8648</td>\n",
       "      <td id=\"T_224c5_row5_col4\" class=\"data row5 col4\" >0.8632</td>\n",
       "      <td id=\"T_224c5_row5_col5\" class=\"data row5 col5\" >0.8190</td>\n",
       "      <td id=\"T_224c5_row5_col6\" class=\"data row5 col6\" >0.8199</td>\n",
       "    </tr>\n",
       "    <tr>\n",
       "      <th id=\"T_224c5_level0_row6\" class=\"row_heading level0 row6\" >6</th>\n",
       "      <td id=\"T_224c5_row6_col0\" class=\"data row6 col0\" >0.8857</td>\n",
       "      <td id=\"T_224c5_row6_col1\" class=\"data row6 col1\" >0.9820</td>\n",
       "      <td id=\"T_224c5_row6_col2\" class=\"data row6 col2\" >0.8857</td>\n",
       "      <td id=\"T_224c5_row6_col3\" class=\"data row6 col3\" >0.8869</td>\n",
       "      <td id=\"T_224c5_row6_col4\" class=\"data row6 col4\" >0.8855</td>\n",
       "      <td id=\"T_224c5_row6_col5\" class=\"data row6 col5\" >0.8476</td>\n",
       "      <td id=\"T_224c5_row6_col6\" class=\"data row6 col6\" >0.8481</td>\n",
       "    </tr>\n",
       "    <tr>\n",
       "      <th id=\"T_224c5_level0_row7\" class=\"row_heading level0 row7\" >7</th>\n",
       "      <td id=\"T_224c5_row7_col0\" class=\"data row7 col0\" >0.8643</td>\n",
       "      <td id=\"T_224c5_row7_col1\" class=\"data row7 col1\" >0.9795</td>\n",
       "      <td id=\"T_224c5_row7_col2\" class=\"data row7 col2\" >0.8643</td>\n",
       "      <td id=\"T_224c5_row7_col3\" class=\"data row7 col3\" >0.8624</td>\n",
       "      <td id=\"T_224c5_row7_col4\" class=\"data row7 col4\" >0.8622</td>\n",
       "      <td id=\"T_224c5_row7_col5\" class=\"data row7 col5\" >0.8190</td>\n",
       "      <td id=\"T_224c5_row7_col6\" class=\"data row7 col6\" >0.8198</td>\n",
       "    </tr>\n",
       "    <tr>\n",
       "      <th id=\"T_224c5_level0_row8\" class=\"row_heading level0 row8\" >8</th>\n",
       "      <td id=\"T_224c5_row8_col0\" class=\"data row8 col0\" >0.9071</td>\n",
       "      <td id=\"T_224c5_row8_col1\" class=\"data row8 col1\" >0.9863</td>\n",
       "      <td id=\"T_224c5_row8_col2\" class=\"data row8 col2\" >0.9071</td>\n",
       "      <td id=\"T_224c5_row8_col3\" class=\"data row8 col3\" >0.9075</td>\n",
       "      <td id=\"T_224c5_row8_col4\" class=\"data row8 col4\" >0.9067</td>\n",
       "      <td id=\"T_224c5_row8_col5\" class=\"data row8 col5\" >0.8762</td>\n",
       "      <td id=\"T_224c5_row8_col6\" class=\"data row8 col6\" >0.8766</td>\n",
       "    </tr>\n",
       "    <tr>\n",
       "      <th id=\"T_224c5_level0_row9\" class=\"row_heading level0 row9\" >9</th>\n",
       "      <td id=\"T_224c5_row9_col0\" class=\"data row9 col0\" >0.9143</td>\n",
       "      <td id=\"T_224c5_row9_col1\" class=\"data row9 col1\" >0.9871</td>\n",
       "      <td id=\"T_224c5_row9_col2\" class=\"data row9 col2\" >0.9143</td>\n",
       "      <td id=\"T_224c5_row9_col3\" class=\"data row9 col3\" >0.9185</td>\n",
       "      <td id=\"T_224c5_row9_col4\" class=\"data row9 col4\" >0.9154</td>\n",
       "      <td id=\"T_224c5_row9_col5\" class=\"data row9 col5\" >0.8857</td>\n",
       "      <td id=\"T_224c5_row9_col6\" class=\"data row9 col6\" >0.8863</td>\n",
       "    </tr>\n",
       "    <tr>\n",
       "      <th id=\"T_224c5_level0_row10\" class=\"row_heading level0 row10\" >Mean</th>\n",
       "      <td id=\"T_224c5_row10_col0\" class=\"data row10 col0\" >0.9057</td>\n",
       "      <td id=\"T_224c5_row10_col1\" class=\"data row10 col1\" >0.9868</td>\n",
       "      <td id=\"T_224c5_row10_col2\" class=\"data row10 col2\" >0.9057</td>\n",
       "      <td id=\"T_224c5_row10_col3\" class=\"data row10 col3\" >0.9075</td>\n",
       "      <td id=\"T_224c5_row10_col4\" class=\"data row10 col4\" >0.9054</td>\n",
       "      <td id=\"T_224c5_row10_col5\" class=\"data row10 col5\" >0.8743</td>\n",
       "      <td id=\"T_224c5_row10_col6\" class=\"data row10 col6\" >0.8751</td>\n",
       "    </tr>\n",
       "    <tr>\n",
       "      <th id=\"T_224c5_level0_row11\" class=\"row_heading level0 row11\" >Std</th>\n",
       "      <td id=\"T_224c5_row11_col0\" class=\"data row11 col0\" >0.0313</td>\n",
       "      <td id=\"T_224c5_row11_col1\" class=\"data row11 col1\" >0.0058</td>\n",
       "      <td id=\"T_224c5_row11_col2\" class=\"data row11 col2\" >0.0313</td>\n",
       "      <td id=\"T_224c5_row11_col3\" class=\"data row11 col3\" >0.0323</td>\n",
       "      <td id=\"T_224c5_row11_col4\" class=\"data row11 col4\" >0.0318</td>\n",
       "      <td id=\"T_224c5_row11_col5\" class=\"data row11 col5\" >0.0417</td>\n",
       "      <td id=\"T_224c5_row11_col6\" class=\"data row11 col6\" >0.0417</td>\n",
       "    </tr>\n",
       "  </tbody>\n",
       "</table>\n"
      ],
      "text/plain": [
       "<pandas.io.formats.style.Styler at 0x25e0a92e110>"
      ]
     },
     "metadata": {},
     "output_type": "display_data"
    },
    {
     "data": {
      "text/html": [],
      "text/plain": [
       "<IPython.core.display.HTML object>"
      ]
     },
     "metadata": {},
     "output_type": "display_data"
    }
   ],
   "source": [
    "lda = best\n",
    "qda = create_model(\"qda\")\n",
    "xg = create_model(\"xgboost\")\n",
    "lgbm = create_model(\"lightgbm\")"
   ]
  },
  {
   "cell_type": "code",
   "execution_count": 48,
   "id": "a0bf8e83-351b-4361-9ed6-5d84fed4eca0",
   "metadata": {},
   "outputs": [
    {
     "data": {
      "text/html": [],
      "text/plain": [
       "<IPython.core.display.HTML object>"
      ]
     },
     "metadata": {},
     "output_type": "display_data"
    },
    {
     "data": {
      "text/html": [
       "<style type=\"text/css\">\n",
       "#T_aaba9_row10_col0, #T_aaba9_row10_col1, #T_aaba9_row10_col2, #T_aaba9_row10_col3, #T_aaba9_row10_col4, #T_aaba9_row10_col5, #T_aaba9_row10_col6 {\n",
       "  background: yellow;\n",
       "}\n",
       "</style>\n",
       "<table id=\"T_aaba9\">\n",
       "  <thead>\n",
       "    <tr>\n",
       "      <th class=\"blank level0\" >&nbsp;</th>\n",
       "      <th id=\"T_aaba9_level0_col0\" class=\"col_heading level0 col0\" >Accuracy</th>\n",
       "      <th id=\"T_aaba9_level0_col1\" class=\"col_heading level0 col1\" >AUC</th>\n",
       "      <th id=\"T_aaba9_level0_col2\" class=\"col_heading level0 col2\" >Recall</th>\n",
       "      <th id=\"T_aaba9_level0_col3\" class=\"col_heading level0 col3\" >Prec.</th>\n",
       "      <th id=\"T_aaba9_level0_col4\" class=\"col_heading level0 col4\" >F1</th>\n",
       "      <th id=\"T_aaba9_level0_col5\" class=\"col_heading level0 col5\" >Kappa</th>\n",
       "      <th id=\"T_aaba9_level0_col6\" class=\"col_heading level0 col6\" >MCC</th>\n",
       "    </tr>\n",
       "    <tr>\n",
       "      <th class=\"index_name level0\" >Fold</th>\n",
       "      <th class=\"blank col0\" >&nbsp;</th>\n",
       "      <th class=\"blank col1\" >&nbsp;</th>\n",
       "      <th class=\"blank col2\" >&nbsp;</th>\n",
       "      <th class=\"blank col3\" >&nbsp;</th>\n",
       "      <th class=\"blank col4\" >&nbsp;</th>\n",
       "      <th class=\"blank col5\" >&nbsp;</th>\n",
       "      <th class=\"blank col6\" >&nbsp;</th>\n",
       "    </tr>\n",
       "  </thead>\n",
       "  <tbody>\n",
       "    <tr>\n",
       "      <th id=\"T_aaba9_level0_row0\" class=\"row_heading level0 row0\" >0</th>\n",
       "      <td id=\"T_aaba9_row0_col0\" class=\"data row0 col0\" >0.9143</td>\n",
       "      <td id=\"T_aaba9_row0_col1\" class=\"data row0 col1\" >0.9945</td>\n",
       "      <td id=\"T_aaba9_row0_col2\" class=\"data row0 col2\" >0.9143</td>\n",
       "      <td id=\"T_aaba9_row0_col3\" class=\"data row0 col3\" >0.9144</td>\n",
       "      <td id=\"T_aaba9_row0_col4\" class=\"data row0 col4\" >0.9140</td>\n",
       "      <td id=\"T_aaba9_row0_col5\" class=\"data row0 col5\" >0.8857</td>\n",
       "      <td id=\"T_aaba9_row0_col6\" class=\"data row0 col6\" >0.8859</td>\n",
       "    </tr>\n",
       "    <tr>\n",
       "      <th id=\"T_aaba9_level0_row1\" class=\"row_heading level0 row1\" >1</th>\n",
       "      <td id=\"T_aaba9_row1_col0\" class=\"data row1 col0\" >0.9571</td>\n",
       "      <td id=\"T_aaba9_row1_col1\" class=\"data row1 col1\" >0.9986</td>\n",
       "      <td id=\"T_aaba9_row1_col2\" class=\"data row1 col2\" >0.9571</td>\n",
       "      <td id=\"T_aaba9_row1_col3\" class=\"data row1 col3\" >0.9592</td>\n",
       "      <td id=\"T_aaba9_row1_col4\" class=\"data row1 col4\" >0.9573</td>\n",
       "      <td id=\"T_aaba9_row1_col5\" class=\"data row1 col5\" >0.9429</td>\n",
       "      <td id=\"T_aaba9_row1_col6\" class=\"data row1 col6\" >0.9434</td>\n",
       "    </tr>\n",
       "    <tr>\n",
       "      <th id=\"T_aaba9_level0_row2\" class=\"row_heading level0 row2\" >2</th>\n",
       "      <td id=\"T_aaba9_row2_col0\" class=\"data row2 col0\" >0.9429</td>\n",
       "      <td id=\"T_aaba9_row2_col1\" class=\"data row2 col1\" >0.9967</td>\n",
       "      <td id=\"T_aaba9_row2_col2\" class=\"data row2 col2\" >0.9429</td>\n",
       "      <td id=\"T_aaba9_row2_col3\" class=\"data row2 col3\" >0.9430</td>\n",
       "      <td id=\"T_aaba9_row2_col4\" class=\"data row2 col4\" >0.9420</td>\n",
       "      <td id=\"T_aaba9_row2_col5\" class=\"data row2 col5\" >0.9238</td>\n",
       "      <td id=\"T_aaba9_row2_col6\" class=\"data row2 col6\" >0.9244</td>\n",
       "    </tr>\n",
       "    <tr>\n",
       "      <th id=\"T_aaba9_level0_row3\" class=\"row_heading level0 row3\" >3</th>\n",
       "      <td id=\"T_aaba9_row3_col0\" class=\"data row3 col0\" >0.9786</td>\n",
       "      <td id=\"T_aaba9_row3_col1\" class=\"data row3 col1\" >0.9964</td>\n",
       "      <td id=\"T_aaba9_row3_col2\" class=\"data row3 col2\" >0.9786</td>\n",
       "      <td id=\"T_aaba9_row3_col3\" class=\"data row3 col3\" >0.9790</td>\n",
       "      <td id=\"T_aaba9_row3_col4\" class=\"data row3 col4\" >0.9787</td>\n",
       "      <td id=\"T_aaba9_row3_col5\" class=\"data row3 col5\" >0.9714</td>\n",
       "      <td id=\"T_aaba9_row3_col6\" class=\"data row3 col6\" >0.9715</td>\n",
       "    </tr>\n",
       "    <tr>\n",
       "      <th id=\"T_aaba9_level0_row4\" class=\"row_heading level0 row4\" >4</th>\n",
       "      <td id=\"T_aaba9_row4_col0\" class=\"data row4 col0\" >0.9071</td>\n",
       "      <td id=\"T_aaba9_row4_col1\" class=\"data row4 col1\" >0.9941</td>\n",
       "      <td id=\"T_aaba9_row4_col2\" class=\"data row4 col2\" >0.9071</td>\n",
       "      <td id=\"T_aaba9_row4_col3\" class=\"data row4 col3\" >0.9121</td>\n",
       "      <td id=\"T_aaba9_row4_col4\" class=\"data row4 col4\" >0.9080</td>\n",
       "      <td id=\"T_aaba9_row4_col5\" class=\"data row4 col5\" >0.8762</td>\n",
       "      <td id=\"T_aaba9_row4_col6\" class=\"data row4 col6\" >0.8773</td>\n",
       "    </tr>\n",
       "    <tr>\n",
       "      <th id=\"T_aaba9_level0_row5\" class=\"row_heading level0 row5\" >5</th>\n",
       "      <td id=\"T_aaba9_row5_col0\" class=\"data row5 col0\" >0.8929</td>\n",
       "      <td id=\"T_aaba9_row5_col1\" class=\"data row5 col1\" >0.9841</td>\n",
       "      <td id=\"T_aaba9_row5_col2\" class=\"data row5 col2\" >0.8929</td>\n",
       "      <td id=\"T_aaba9_row5_col3\" class=\"data row5 col3\" >0.8941</td>\n",
       "      <td id=\"T_aaba9_row5_col4\" class=\"data row5 col4\" >0.8921</td>\n",
       "      <td id=\"T_aaba9_row5_col5\" class=\"data row5 col5\" >0.8571</td>\n",
       "      <td id=\"T_aaba9_row5_col6\" class=\"data row5 col6\" >0.8580</td>\n",
       "    </tr>\n",
       "    <tr>\n",
       "      <th id=\"T_aaba9_level0_row6\" class=\"row_heading level0 row6\" >6</th>\n",
       "      <td id=\"T_aaba9_row6_col0\" class=\"data row6 col0\" >0.9357</td>\n",
       "      <td id=\"T_aaba9_row6_col1\" class=\"data row6 col1\" >0.9884</td>\n",
       "      <td id=\"T_aaba9_row6_col2\" class=\"data row6 col2\" >0.9357</td>\n",
       "      <td id=\"T_aaba9_row6_col3\" class=\"data row6 col3\" >0.9370</td>\n",
       "      <td id=\"T_aaba9_row6_col4\" class=\"data row6 col4\" >0.9361</td>\n",
       "      <td id=\"T_aaba9_row6_col5\" class=\"data row6 col5\" >0.9143</td>\n",
       "      <td id=\"T_aaba9_row6_col6\" class=\"data row6 col6\" >0.9145</td>\n",
       "    </tr>\n",
       "    <tr>\n",
       "      <th id=\"T_aaba9_level0_row7\" class=\"row_heading level0 row7\" >7</th>\n",
       "      <td id=\"T_aaba9_row7_col0\" class=\"data row7 col0\" >0.9071</td>\n",
       "      <td id=\"T_aaba9_row7_col1\" class=\"data row7 col1\" >0.9897</td>\n",
       "      <td id=\"T_aaba9_row7_col2\" class=\"data row7 col2\" >0.9071</td>\n",
       "      <td id=\"T_aaba9_row7_col3\" class=\"data row7 col3\" >0.9074</td>\n",
       "      <td id=\"T_aaba9_row7_col4\" class=\"data row7 col4\" >0.9068</td>\n",
       "      <td id=\"T_aaba9_row7_col5\" class=\"data row7 col5\" >0.8762</td>\n",
       "      <td id=\"T_aaba9_row7_col6\" class=\"data row7 col6\" >0.8765</td>\n",
       "    </tr>\n",
       "    <tr>\n",
       "      <th id=\"T_aaba9_level0_row8\" class=\"row_heading level0 row8\" >8</th>\n",
       "      <td id=\"T_aaba9_row8_col0\" class=\"data row8 col0\" >0.9143</td>\n",
       "      <td id=\"T_aaba9_row8_col1\" class=\"data row8 col1\" >0.9955</td>\n",
       "      <td id=\"T_aaba9_row8_col2\" class=\"data row8 col2\" >0.9143</td>\n",
       "      <td id=\"T_aaba9_row8_col3\" class=\"data row8 col3\" >0.9151</td>\n",
       "      <td id=\"T_aaba9_row8_col4\" class=\"data row8 col4\" >0.9140</td>\n",
       "      <td id=\"T_aaba9_row8_col5\" class=\"data row8 col5\" >0.8857</td>\n",
       "      <td id=\"T_aaba9_row8_col6\" class=\"data row8 col6\" >0.8861</td>\n",
       "    </tr>\n",
       "    <tr>\n",
       "      <th id=\"T_aaba9_level0_row9\" class=\"row_heading level0 row9\" >9</th>\n",
       "      <td id=\"T_aaba9_row9_col0\" class=\"data row9 col0\" >0.9214</td>\n",
       "      <td id=\"T_aaba9_row9_col1\" class=\"data row9 col1\" >0.9944</td>\n",
       "      <td id=\"T_aaba9_row9_col2\" class=\"data row9 col2\" >0.9214</td>\n",
       "      <td id=\"T_aaba9_row9_col3\" class=\"data row9 col3\" >0.9246</td>\n",
       "      <td id=\"T_aaba9_row9_col4\" class=\"data row9 col4\" >0.9224</td>\n",
       "      <td id=\"T_aaba9_row9_col5\" class=\"data row9 col5\" >0.8952</td>\n",
       "      <td id=\"T_aaba9_row9_col6\" class=\"data row9 col6\" >0.8957</td>\n",
       "    </tr>\n",
       "    <tr>\n",
       "      <th id=\"T_aaba9_level0_row10\" class=\"row_heading level0 row10\" >Mean</th>\n",
       "      <td id=\"T_aaba9_row10_col0\" class=\"data row10 col0\" >0.9271</td>\n",
       "      <td id=\"T_aaba9_row10_col1\" class=\"data row10 col1\" >0.9933</td>\n",
       "      <td id=\"T_aaba9_row10_col2\" class=\"data row10 col2\" >0.9271</td>\n",
       "      <td id=\"T_aaba9_row10_col3\" class=\"data row10 col3\" >0.9286</td>\n",
       "      <td id=\"T_aaba9_row10_col4\" class=\"data row10 col4\" >0.9271</td>\n",
       "      <td id=\"T_aaba9_row10_col5\" class=\"data row10 col5\" >0.9029</td>\n",
       "      <td id=\"T_aaba9_row10_col6\" class=\"data row10 col6\" >0.9033</td>\n",
       "    </tr>\n",
       "    <tr>\n",
       "      <th id=\"T_aaba9_level0_row11\" class=\"row_heading level0 row11\" >Std</th>\n",
       "      <td id=\"T_aaba9_row11_col0\" class=\"data row11 col0\" >0.0249</td>\n",
       "      <td id=\"T_aaba9_row11_col1\" class=\"data row11 col1\" >0.0042</td>\n",
       "      <td id=\"T_aaba9_row11_col2\" class=\"data row11 col2\" >0.0249</td>\n",
       "      <td id=\"T_aaba9_row11_col3\" class=\"data row11 col3\" >0.0246</td>\n",
       "      <td id=\"T_aaba9_row11_col4\" class=\"data row11 col4\" >0.0250</td>\n",
       "      <td id=\"T_aaba9_row11_col5\" class=\"data row11 col5\" >0.0332</td>\n",
       "      <td id=\"T_aaba9_row11_col6\" class=\"data row11 col6\" >0.0331</td>\n",
       "    </tr>\n",
       "  </tbody>\n",
       "</table>\n"
      ],
      "text/plain": [
       "<pandas.io.formats.style.Styler at 0x25e0a05ce50>"
      ]
     },
     "metadata": {},
     "output_type": "display_data"
    },
    {
     "data": {
      "text/html": [],
      "text/plain": [
       "<IPython.core.display.HTML object>"
      ]
     },
     "metadata": {},
     "output_type": "display_data"
    }
   ],
   "source": [
    "blender = blend_models(estimator_list = [cb, xg,lgbm, lda,qda ], method = 'soft')"
   ]
  },
  {
   "cell_type": "code",
   "execution_count": 49,
   "id": "ba6efade-1c77-4d1a-8b84-d3dbb6f740de",
   "metadata": {},
   "outputs": [
    {
     "data": {
      "application/vnd.jupyter.widget-view+json": {
       "model_id": "6dc33370edc14987a919f33ae4436511",
       "version_major": 2,
       "version_minor": 0
      },
      "text/plain": [
       "interactive(children=(ToggleButtons(description='Plot Type:', icons=('',), options=(('Pipeline Plot', 'pipelin…"
      ]
     },
     "metadata": {},
     "output_type": "display_data"
    }
   ],
   "source": [
    "evaluate_model(blender)"
   ]
  }
 ],
 "metadata": {
  "kernelspec": {
   "display_name": "Python 3 (ipykernel)",
   "language": "python",
   "name": "python3"
  },
  "language_info": {
   "codemirror_mode": {
    "name": "ipython",
    "version": 3
   },
   "file_extension": ".py",
   "mimetype": "text/x-python",
   "name": "python",
   "nbconvert_exporter": "python",
   "pygments_lexer": "ipython3",
   "version": "3.11.7"
  },
  "widgets": {
   "application/vnd.jupyter.widget-state+json": {
    "state": {
     "03b449ff9745434698064a1e659f72ba": {
      "model_module": "@jupyter-widgets/base",
      "model_module_version": "2.0.0",
      "model_name": "LayoutModel",
      "state": {}
     },
     "054ddf3fe29546f38ed8ab2a63808c3e": {
      "model_module": "@jupyter-widgets/base",
      "model_module_version": "2.0.0",
      "model_name": "LayoutModel",
      "state": {
       "visibility": "hidden"
      }
     },
     "06dac71f15f24c498c22a8008aab0deb": {
      "model_module": "@jupyter-widgets/base",
      "model_module_version": "2.0.0",
      "model_name": "LayoutModel",
      "state": {}
     },
     "06dd5074f4fb458fb7366b4c7835ae88": {
      "model_module": "@jupyter-widgets/controls",
      "model_module_version": "2.0.0",
      "model_name": "ProgressStyleModel",
      "state": {
       "description_width": ""
      }
     },
     "0b177fcffec64d31b2ff5781371e8b80": {
      "model_module": "@jupyter-widgets/controls",
      "model_module_version": "2.0.0",
      "model_name": "HTMLStyleModel",
      "state": {
       "description_width": "",
       "font_size": null,
       "text_color": null
      }
     },
     "0baf4490107e41a3bde4ad84ad24b3aa": {
      "model_module": "@jupyter-widgets/controls",
      "model_module_version": "2.0.0",
      "model_name": "HTMLModel",
      "state": {
       "layout": "IPY_MODEL_27e6736c92d246bbba637f33a2e510c6",
       "style": "IPY_MODEL_eb6a06a1784c4ebeb05424feb18f2e3e",
       "value": " 4/6 [04:06&lt;02:03, 61.59s/it]"
      }
     },
     "0bb284eccd63428c85d0edd28bb82fac": {
      "model_module": "@jupyter-widgets/base",
      "model_module_version": "2.0.0",
      "model_name": "LayoutModel",
      "state": {}
     },
     "0bb455ab0e514fb88725925bf24f44de": {
      "model_module": "@jupyter-widgets/base",
      "model_module_version": "2.0.0",
      "model_name": "LayoutModel",
      "state": {
       "visibility": "hidden"
      }
     },
     "0c966cf01add468eb853780aa925c587": {
      "model_module": "@jupyter-widgets/controls",
      "model_module_version": "2.0.0",
      "model_name": "HTMLModel",
      "state": {
       "layout": "IPY_MODEL_06dac71f15f24c498c22a8008aab0deb",
       "style": "IPY_MODEL_b24f36ee1e81447eb45fe35cf84614bb",
       "value": " 0/4 [00:00&lt;?, ?it/s]"
      }
     },
     "0cf3054ccbd342e8b8e16edb2cdd5653": {
      "model_module": "@jupyter-widgets/controls",
      "model_module_version": "2.0.0",
      "model_name": "HTMLModel",
      "state": {
       "layout": "IPY_MODEL_40d4c74d5d404947a509df7daddc3470",
       "style": "IPY_MODEL_803bb58a630a4a71821ce312ec9fd32f",
       "value": "Processing: 100%"
      }
     },
     "0d1f9cc580374f258e01ceed516eebae": {
      "model_module": "@jupyter-widgets/base",
      "model_module_version": "2.0.0",
      "model_name": "LayoutModel",
      "state": {
       "visibility": "hidden"
      }
     },
     "0dec25a750534d38be016d1eed3a8e46": {
      "model_module": "@jupyter-widgets/controls",
      "model_module_version": "2.0.0",
      "model_name": "FloatProgressModel",
      "state": {
       "layout": "IPY_MODEL_b161df4c4f2246c19b9842075ae9339d",
       "max": 4,
       "style": "IPY_MODEL_06dd5074f4fb458fb7366b4c7835ae88",
       "value": 4
      }
     },
     "0ebc2dca99704726adcdd91d46c3640a": {
      "model_module": "@jupyter-widgets/base",
      "model_module_version": "2.0.0",
      "model_name": "LayoutModel",
      "state": {}
     },
     "0ecb88486dac4a639e103eaead6ce4db": {
      "model_module": "@jupyter-widgets/output",
      "model_module_version": "1.0.0",
      "model_name": "OutputModel",
      "state": {
       "layout": "IPY_MODEL_d6729e67937049faa4a2c2a8112b92f2",
       "outputs": [
        {
         "data": {
          "image/png": "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",
          "text/plain": "<Figure size 800x550 with 1 Axes>"
         },
         "metadata": {},
         "output_type": "display_data"
        }
       ]
      }
     },
     "0f4abbd3c5ab42da8481f47535b943ec": {
      "model_module": "@jupyter-widgets/controls",
      "model_module_version": "2.0.0",
      "model_name": "FloatProgressModel",
      "state": {
       "layout": "IPY_MODEL_67cf536dbe1340df840ba1212210c789",
       "max": 4,
       "style": "IPY_MODEL_45d140a53bf84e0eb33e59f27a9a0857",
       "value": 4
      }
     },
     "104297747fb54b239bd059ee66506c59": {
      "model_module": "@jupyter-widgets/controls",
      "model_module_version": "2.0.0",
      "model_name": "HTMLStyleModel",
      "state": {
       "description_width": "",
       "font_size": null,
       "text_color": null
      }
     },
     "110e11eef15b4a49a9e331b4f2b30448": {
      "model_module": "@jupyter-widgets/base",
      "model_module_version": "2.0.0",
      "model_name": "LayoutModel",
      "state": {
       "visibility": "hidden"
      }
     },
     "14687cc1fc0c4b77959bfc49f25f9a74": {
      "model_module": "@jupyter-widgets/controls",
      "model_module_version": "2.0.0",
      "model_name": "FloatProgressModel",
      "state": {
       "layout": "IPY_MODEL_d61c7092334f4d46ba18e54f576b5e49",
       "max": 4,
       "style": "IPY_MODEL_1cfe65e7ae0046729478f13965bf7c22",
       "value": 4
      }
     },
     "146fde0af016451598106ebd082f6061": {
      "model_module": "@jupyter-widgets/base",
      "model_module_version": "2.0.0",
      "model_name": "LayoutModel",
      "state": {}
     },
     "14d154cb56134435bedd02c40394508e": {
      "model_module": "@jupyter-widgets/base",
      "model_module_version": "2.0.0",
      "model_name": "LayoutModel",
      "state": {}
     },
     "14fa00122ea642ef83b301bfcfcebf0b": {
      "model_module": "@jupyter-widgets/base",
      "model_module_version": "2.0.0",
      "model_name": "LayoutModel",
      "state": {}
     },
     "15a373c4dbdd4483932f27cd165a1c4a": {
      "model_module": "@jupyter-widgets/base",
      "model_module_version": "2.0.0",
      "model_name": "LayoutModel",
      "state": {}
     },
     "15cd1f5b029b4a6696a1ba4908f0daea": {
      "model_module": "@jupyter-widgets/controls",
      "model_module_version": "2.0.0",
      "model_name": "HTMLStyleModel",
      "state": {
       "description_width": "",
       "font_size": null,
       "text_color": null
      }
     },
     "16e387163b7f4246b2d97a6a77345e8d": {
      "model_module": "@jupyter-widgets/base",
      "model_module_version": "2.0.0",
      "model_name": "LayoutModel",
      "state": {}
     },
     "174f3c7dc86243598827970d3c23b3bf": {
      "model_module": "@jupyter-widgets/base",
      "model_module_version": "2.0.0",
      "model_name": "LayoutModel",
      "state": {}
     },
     "17bb1ef56cec4a8492528372a99182b4": {
      "model_module": "@jupyter-widgets/controls",
      "model_module_version": "2.0.0",
      "model_name": "ToggleButtonsStyleModel",
      "state": {
       "button_width": "",
       "description_width": ""
      }
     },
     "186545a28d6e4d5e8c9469ed2ab7b99f": {
      "model_module": "@jupyter-widgets/base",
      "model_module_version": "2.0.0",
      "model_name": "LayoutModel",
      "state": {}
     },
     "18c64274999a47ca9682fb2fe7633e28": {
      "model_module": "@jupyter-widgets/base",
      "model_module_version": "2.0.0",
      "model_name": "LayoutModel",
      "state": {}
     },
     "18dcfd2ecd21475f821286ccd6a3becd": {
      "model_module": "@jupyter-widgets/base",
      "model_module_version": "2.0.0",
      "model_name": "LayoutModel",
      "state": {}
     },
     "19ec1b546b4540d5941d91302f5b07ca": {
      "model_module": "@jupyter-widgets/base",
      "model_module_version": "2.0.0",
      "model_name": "LayoutModel",
      "state": {}
     },
     "1ab943b62b144cbbba448e3e78dc6f39": {
      "model_module": "@jupyter-widgets/controls",
      "model_module_version": "2.0.0",
      "model_name": "HTMLModel",
      "state": {
       "layout": "IPY_MODEL_cbb9e820e17c46cbbf86b04ec63058ab",
       "style": "IPY_MODEL_a060b89f60804bb6b3e13949cd366976",
       "value": "Processing: 100%"
      }
     },
     "1b18f7d0dabb48338e034cf032e1ba06": {
      "model_module": "@jupyter-widgets/controls",
      "model_module_version": "2.0.0",
      "model_name": "ProgressStyleModel",
      "state": {
       "description_width": ""
      }
     },
     "1b3bf4d310884387befdb75ba5925b65": {
      "model_module": "@jupyter-widgets/base",
      "model_module_version": "2.0.0",
      "model_name": "LayoutModel",
      "state": {}
     },
     "1c9299bc28be4bac8303f33949fb07bc": {
      "model_module": "@jupyter-widgets/controls",
      "model_module_version": "2.0.0",
      "model_name": "ToggleButtonsStyleModel",
      "state": {
       "button_width": "",
       "description_width": ""
      }
     },
     "1cfe65e7ae0046729478f13965bf7c22": {
      "model_module": "@jupyter-widgets/controls",
      "model_module_version": "2.0.0",
      "model_name": "ProgressStyleModel",
      "state": {
       "description_width": ""
      }
     },
     "1e3274bb78454afb9f623aa50d7f5903": {
      "model_module": "@jupyter-widgets/controls",
      "model_module_version": "2.0.0",
      "model_name": "HTMLModel",
      "state": {
       "layout": "IPY_MODEL_f5a175525e9f40d7aa878eb2ceee38a0",
       "style": "IPY_MODEL_9f3d7e894f4c45499028cfb02f50a0a0",
       "value": "Processing: 100%"
      }
     },
     "1fd688b773de4fb29f153b2e005b2439": {
      "model_module": "@jupyter-widgets/controls",
      "model_module_version": "2.0.0",
      "model_name": "FloatProgressModel",
      "state": {
       "layout": "IPY_MODEL_16e387163b7f4246b2d97a6a77345e8d",
       "max": 6,
       "style": "IPY_MODEL_1b18f7d0dabb48338e034cf032e1ba06",
       "value": 6
      }
     },
     "20310b63ceaf4943b4b7ee98224f1ee0": {
      "model_module": "@jupyter-widgets/controls",
      "model_module_version": "2.0.0",
      "model_name": "HTMLModel",
      "state": {
       "layout": "IPY_MODEL_3ee17a1793b34c07bdb5a9ad70ff6330",
       "style": "IPY_MODEL_c9ac7db5b954470dbfc4d540f34fcf97",
       "value": "Processing: 100%"
      }
     },
     "217654d17b8749f0ab82905f3eacb917": {
      "model_module": "@jupyter-widgets/base",
      "model_module_version": "2.0.0",
      "model_name": "LayoutModel",
      "state": {}
     },
     "21a05ee2814b41fd83a11f57da225156": {
      "model_module": "@jupyter-widgets/base",
      "model_module_version": "2.0.0",
      "model_name": "LayoutModel",
      "state": {}
     },
     "2244b80d8aec4c458b983107237cceac": {
      "model_module": "@jupyter-widgets/base",
      "model_module_version": "2.0.0",
      "model_name": "LayoutModel",
      "state": {
       "visibility": "hidden"
      }
     },
     "2250a2caeb80488f9d10d2457165885d": {
      "model_module": "@jupyter-widgets/base",
      "model_module_version": "2.0.0",
      "model_name": "LayoutModel",
      "state": {}
     },
     "22a2b07250d44f749ff751fafc5cadb6": {
      "model_module": "@jupyter-widgets/base",
      "model_module_version": "2.0.0",
      "model_name": "LayoutModel",
      "state": {}
     },
     "23ead8affac04bf085478c74d2c54693": {
      "model_module": "@jupyter-widgets/controls",
      "model_module_version": "2.0.0",
      "model_name": "HTMLStyleModel",
      "state": {
       "description_width": "",
       "font_size": null,
       "text_color": null
      }
     },
     "23fd28188ff84bc8a03e65f19042247a": {
      "model_module": "@jupyter-widgets/controls",
      "model_module_version": "2.0.0",
      "model_name": "ToggleButtonsModel",
      "state": {
       "_options_labels": [
        "Pipeline Plot",
        "Hyperparameters",
        "AUC",
        "Confusion Matrix",
        "Threshold",
        "Precision Recall",
        "Prediction Error",
        "Class Report",
        "Feature Selection",
        "Learning Curve",
        "Manifold Learning",
        "Calibration Curve",
        "Validation Curve",
        "Dimensions",
        "Feature Importance",
        "Feature Importance (All)",
        "Decision Boundary",
        "Lift Chart",
        "Gain Chart",
        "Decision Tree",
        "KS Statistic Plot"
       ],
       "button_style": "",
       "description": "Plot Type:",
       "icons": [
        ""
       ],
       "index": 14,
       "layout": "IPY_MODEL_217654d17b8749f0ab82905f3eacb917",
       "style": "IPY_MODEL_258d536f6cf1428192ec0c6dacbf1f7d",
       "tooltips": []
      }
     },
     "255176c4a7a244a28ac29760e454d592": {
      "model_module": "@jupyter-widgets/output",
      "model_module_version": "1.0.0",
      "model_name": "OutputModel",
      "state": {
       "layout": "IPY_MODEL_2c1a06f436be4b10bb3928caf647c272",
       "outputs": [
        {
         "data": {
          "image/png": "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",
          "text/plain": "<Figure size 800x500 with 1 Axes>"
         },
         "metadata": {},
         "output_type": "display_data"
        }
       ]
      }
     },
     "258d536f6cf1428192ec0c6dacbf1f7d": {
      "model_module": "@jupyter-widgets/controls",
      "model_module_version": "2.0.0",
      "model_name": "ToggleButtonsStyleModel",
      "state": {
       "button_width": "",
       "description_width": ""
      }
     },
     "264b9cb0ccb345cc9dc159002916f8d9": {
      "model_module": "@jupyter-widgets/base",
      "model_module_version": "2.0.0",
      "model_name": "LayoutModel",
      "state": {}
     },
     "267eb172b5954d31af0e4478d86958b0": {
      "model_module": "@jupyter-widgets/controls",
      "model_module_version": "2.0.0",
      "model_name": "HTMLModel",
      "state": {
       "layout": "IPY_MODEL_bcfa95b3fc3f440bba12588785b3ad73",
       "style": "IPY_MODEL_cde7e0d05e7a475da6ab0e5fe368af84",
       "value": "Processing: 100%"
      }
     },
     "26a25364bf5d4e96ab338a265f5fc4e0": {
      "model_module": "@jupyter-widgets/controls",
      "model_module_version": "2.0.0",
      "model_name": "FloatProgressModel",
      "state": {
       "layout": "IPY_MODEL_95b219cf0d8c46569d5d746203a53df7",
       "max": 4,
       "style": "IPY_MODEL_bc17ea2b1b5e4d7eb2eccb84d28fb24e",
       "value": 4
      }
     },
     "27e6736c92d246bbba637f33a2e510c6": {
      "model_module": "@jupyter-widgets/base",
      "model_module_version": "2.0.0",
      "model_name": "LayoutModel",
      "state": {}
     },
     "2829bae95d764574ae981e7a608f2b19": {
      "model_module": "@jupyter-widgets/controls",
      "model_module_version": "2.0.0",
      "model_name": "ProgressStyleModel",
      "state": {
       "description_width": ""
      }
     },
     "2ab0ddfa2a79402291dd8304188c8554": {
      "model_module": "@jupyter-widgets/controls",
      "model_module_version": "2.0.0",
      "model_name": "FloatProgressModel",
      "state": {
       "layout": "IPY_MODEL_83db2e59b7c749148906961a38c4b1ea",
       "max": 4,
       "style": "IPY_MODEL_be7f420bf1a2400f921658a501cd76b0",
       "value": 4
      }
     },
     "2b76fd4c63ed45ff9f2193e784d6d839": {
      "model_module": "@jupyter-widgets/controls",
      "model_module_version": "2.0.0",
      "model_name": "ProgressStyleModel",
      "state": {
       "description_width": ""
      }
     },
     "2c1a06f436be4b10bb3928caf647c272": {
      "model_module": "@jupyter-widgets/base",
      "model_module_version": "2.0.0",
      "model_name": "LayoutModel",
      "state": {}
     },
     "2cc399936b4f4c79b901f190430d6746": {
      "model_module": "@jupyter-widgets/controls",
      "model_module_version": "2.0.0",
      "model_name": "FloatProgressModel",
      "state": {
       "layout": "IPY_MODEL_0bb284eccd63428c85d0edd28bb82fac",
       "max": 4,
       "style": "IPY_MODEL_2829bae95d764574ae981e7a608f2b19",
       "value": 4
      }
     },
     "2d0c348d95864a55ae1462e815ef8814": {
      "model_module": "@jupyter-widgets/controls",
      "model_module_version": "2.0.0",
      "model_name": "FloatProgressModel",
      "state": {
       "layout": "IPY_MODEL_41c72006d8cb4b23b4569d839caa9fa2",
       "max": 7,
       "style": "IPY_MODEL_d19dfd4199f7483dbd5692af092c6502",
       "value": 7
      }
     },
     "2d625898e80647afb626cfd1b74e6d11": {
      "model_module": "@jupyter-widgets/base",
      "model_module_version": "2.0.0",
      "model_name": "LayoutModel",
      "state": {}
     },
     "2e29cc3971a94c65920fad69601bd59d": {
      "model_module": "@jupyter-widgets/controls",
      "model_module_version": "2.0.0",
      "model_name": "VBoxModel",
      "state": {
       "_dom_classes": [
        "widget-interact"
       ],
       "children": [
        "IPY_MODEL_9e9e12685ce64d1f81116bf5a4f8f4e7",
        "IPY_MODEL_ce0827cd8c0c416e945b07546317c3af"
       ],
       "layout": "IPY_MODEL_2d625898e80647afb626cfd1b74e6d11"
      }
     },
     "32bfaed73b314ed08cb053f60c0025ee": {
      "model_module": "@jupyter-widgets/controls",
      "model_module_version": "2.0.0",
      "model_name": "HTMLStyleModel",
      "state": {
       "description_width": "",
       "font_size": null,
       "text_color": null
      }
     },
     "333d45681276425b8822ca1b308716d0": {
      "model_module": "@jupyter-widgets/controls",
      "model_module_version": "2.0.0",
      "model_name": "HTMLModel",
      "state": {
       "layout": "IPY_MODEL_ec29bc686b2b46d58e1f830fccc37872",
       "style": "IPY_MODEL_32bfaed73b314ed08cb053f60c0025ee",
       "value": " 4/6 [05:12&lt;02:36, 78.09s/it]"
      }
     },
     "342c7532ac7c4a3f829fbafc62aa7ae9": {
      "model_module": "@jupyter-widgets/controls",
      "model_module_version": "2.0.0",
      "model_name": "HTMLModel",
      "state": {
       "layout": "IPY_MODEL_93251130f43340bd9f2d0996e5691457",
       "style": "IPY_MODEL_dd4c18c74a0d4167932efd881acc373b",
       "value": "Processing: 100%"
      }
     },
     "37f1d79e7dd24f7a98628caa477c138d": {
      "model_module": "@jupyter-widgets/output",
      "model_module_version": "1.0.0",
      "model_name": "OutputModel",
      "state": {
       "layout": "IPY_MODEL_bd9a6d83f7e9446eb11913125ae0cb86",
       "outputs": [
        {
         "data": {
          "image/png": "iVBORw0KGgoAAAANSUhEUgAAAuwAAAHKCAYAAABYPR5KAAAAOXRFWHRTb2Z0d2FyZQBNYXRwbG90bGliIHZlcnNpb24zLjcuNSwgaHR0cHM6Ly9tYXRwbG90bGliLm9yZy/xnp5ZAAAACXBIWXMAAA9hAAAPYQGoP6dpAABo2ElEQVR4nO3dd1QUd/s28GtZQEBapGgoIqJgARXEjg2TaFQU7KjEEqOxBmMiEDsoikFNQFGj0WCJXWx57CVqYkcNRiUICJZEV7CgFJdl3j983Z8ICOiyOy7X55ycsDOzM/fMvYMXw3cGiSAIAoiIiIiISJR0NF0AERERERGVjIGdiIiIiEjEGNiJiIiIiESMgZ2I6D3G25DKh8erKB4TIvFjYCciUoHg4GC4uLiU+N++fftUur3nz58jPDwcu3fvVul6yys6OhouLi4araEsxHK8ysvb27vIZ8nNzQ0ff/wxFixYgLy8POWyLi4uiI6OLtf6t2zZgoiICFWXTUQqpqvpAoiItIWVlRUWL15c7LxatWqpdFv3799HbGws5s6dq9L1aqv3+Xi1b98eY8aMUb7Oy8vDmTNnEBMTgzt37mDhwoVvve6lS5eiefPmqiiTiCoQAzsRkYro6+ujSZMmmi6DtEy1atWKfK5atGiB//77D9u3b0dwcDCsra01UxwRqQWHxBARqdmhQ4fQq1cvuLm5oU2bNpg9ezays7OLLDNw4EC4u7vD1dUVXbp0wfr16wEAt2/fRqdOnQAAISEh8Pb2BgAEBAQgICCg0HrOnDkDFxcXnDlzBgCwfft2NGjQAFu2bEGbNm3QvHlz3Lhxo8x1lWb79u1wc3PD+fPn0bt3b7i5uaFz5844cuQIUlJSMGTIEDRu3Bgff/wxfvvtt0Lvc3FxweXLl+Hn54dGjRrBx8enyFCirKwszJ07Fx999BHc3NzQvXt3bN26tdAy3t7eCA8Px5AhQ9CoUSMMHTq02OMFvBgS0qtXLzRp0gSNGjVCz549sXfv3kJ1NWjQAJcvX0b//v3h5uaGjh074ueffy60zadPnyIsLAxt27ZFkyZN0Lt3bxw7dqzQMlu2bEG3bt3g6uqKDh06IDo6GgqFolzH91Wurq4QBAH//vtvsfPv37+PkJAQtG/fHo0aNUKfPn1w+PDhQsfpzp07iIuLg4uLC27fvv3WtRBRxWJgJyJSofz8/CL/vXpT3+7duzF27FjUrl0bS5Yswbhx47Br1y6MGTNGudyxY8cwduxYNGzYEDExMYiOjoa9vT1CQ0Nx+fJlWFtbK4fejB49usRhOCVRKBRYtWoV5syZg5CQEDg5OZWprvIcg0mTJmHAgAFYunQpDA0N8c033+DLL79Ehw4dsGzZMlhbWyMoKAj//fdfofeOGjUKnTp1wuLFi+Ho6IjAwED8/vvvAIDc3FwMHDgQu3fvxogRIxATE4OmTZtiypQpWLZsWaH1rF+/Hm5uboiJicGYMWOKPV7r16/H9OnT8dFHH2H58uWIjIyEvr4+vvnmm0J1FRQUIDAwEF27dsVPP/0EDw8PzJ8/HydOnFAez+HDh2P37t0YNWoUYmJiULt2bYwdOxbnz58HACxfvhzTpk1Dq1atsGzZMgwaNAgrVqzAtGnTynVsX5WamgoAsLe3LzLvwYMH6NOnD86fP4+JEyciOjoatra2GDt2LHbt2gUAWLx4MaysrNC+fXts2rSJV+mJRIxDYoiIVOTOnTto2LBhkemTJk3CyJEjIQgCIiMj0bZtW0RGRirn16pVC0OHDsXvv/+ODh064MaNG/Dz88OUKVOUy7i7u6NFixY4c+YMGjdujPr16wMAatasiQYNGpS71pfhGUCZ6yqrgoICfPnll+jbty8A4MmTJ5g4cSKGDBmCYcOGAQBMTEzQu3dvXLlyBTVq1FC+NyAgAGPHjgUAtG3bFn5+fliyZAnat2+P7du3459//sHGjRvh7u6uXCY/Px8xMTEYMGAAzM3NAQA2Njb45ptvlOt9efX41eN169YtfP7554XGh9va2qJXr164cOECunXrpjw+Y8aMUe5P06ZNcfDgQRw7dgxt27bF8ePHcfnyZSxZsgQfffQRAKBly5a4desWTp8+DRcXF8TExKB///6YOnUqAMDLywvm5uaYOnUqhg0bhrp165Z4PAVBQH5+vvJ1RkYGjh8/jo0bN6Jr166oVq1akfesXr0amZmZ2L9/P2xtbQG8GAs/dOhQzJ8/H927d0eDBg2gr69f7JAbIhIXBnYiIhWxsrLC0qVLi0x/GUhTUlLw33//YdSoUYUCWLNmzWBsbIw//vgDHTp0wIgRIwAAz549Q2pqKtLT05GQkADgxdNOVOFl4C9PXeXxMlADgIWFBQCgcePGymkvg/WTJ08Kvc/Pz0/5tUQiwccff4zo6Gjk5ubi7NmzsLW1LbRuAOjRowe2bt2Ky5cvo3379kX2ryTBwcHKGlJSUpCWlqYcOvT6cX51my9D7svhQhcuXICenl6hoTY6OjrYuHEjAOD48ePIzc2Ft7d3oeP7cvk//vjjjYF9x44d2LFjR6Fpurq6+PjjjzFjxoxi33P27Fm4u7srw/pLPXr0QEhICFJSUlCnTp0St0lE4sLATkSkIvr6+nBzcytx/qNHjwAAs2bNwqxZs4rMv3//PgAgMzMTM2bMwKFDhyCRSODg4ABPT08AqntmtpGRUbnrKg9jY+Mi0wwNDUt93+vDMiwsLCAIAp48eYLHjx/DysqqyHssLS0BFA7/r+5fSdLT0zF9+nScOnUKenp6qF27NurVqweg6HE2MDAo9FpHR0e5zKNHj2Bubg4dneJHmb48viNHjix2fmnHt2PHjsrfOkgkEhgaGsLW1rZITa96/PhxsUNlijtWRCR+DOxERGpiamoKAJg8eXKxj9IzMzMDAHzzzTdISUnBL7/8And3d+jr6yMnJwebN28udRuv38RYlptGy1qXOjx69EgZKoEXY7GlUinMzc1hZmaGtLS0Iu+RyWQAgA8++KDM2ykoKMDIkSOhp6eHrVu3on79+tDV1cWNGzewc+fOctVsYmKCR48eQRAESCQS5fSrV69CEATl8Y2MjCz28Z6v7m9xzM3N3/iDYHHMzMyUx+VVb3OsiEjzeNMpEZGa1K5dGxYWFrh9+zbc3NyU/1WvXh0LFizA1atXAbwYYvHJJ5+gRYsW0NfXB/BiWAXwImgCgFQqLbJ+Y2PjIjdxXrhwQWV1qcOhQ4eUXwuCgAMHDqBp06bQ19dHs2bNcOfOHVy8eLHQe3bt2gU9PT00atSoxPW+frwePnyI1NRU9OnTB25ubtDVfXH96vXjXBaenp6Qy+XK976sPSQkBMuXL0fjxo2hp6eHe/fuFTq+urq6WLhwYYU8naVZs2a4ePEi7ty5U2j6rl27YGVlBQcHBwAo8bcCRCQuvMJORKQmUqkUEydOxPTp0yGVStGxY0c8efIEMTExuHfvnvKG1UaNGmH37t1o2LAhatSogfj4ePz000+QSCTIyckB8OKqLgCcOnUKTk5OaNy4MTp27IgjR45g7ty58Pb2xvnz54uMfX6XutRh/vz5yMvLg6OjI7Zs2YLk5GTExsYCAHr16oVff/0VY8eOxYQJE2BnZ4cjR45g27ZtGDdunPJKdnGKO162trZYv349atSoAVNTU5w4cQJr1qwBAOVxLosOHTrA3d0dwcHBCAwMhL29PXbu3Ink5GSEhYXhgw8+wIgRI/Djjz/i6dOnaNGiBe7du4cff/wREolEOQxHlYYNG4Zdu3Zh6NChGDduHMzNzbFjxw6cPn0a4eHhyqBuamqKq1ev4uzZs2jUqNEbh9kQkeYwsBMRqVHfvn1RtWpVrFy5Eps2bYKRkRE8PDwQGRmpHHM8b948hIWFISwsDMCLp7XMmjULu3btUj4m0NjYGMOGDcOmTZvw+++/448//kDv3r2Rnp6OuLg4bNy4Ec2aNUNUVBT8/f1VUpc6zJw5E8uXL8etW7fQoEEDrFq1Sjl+39DQEGvXrsWCBQuU4bd27dqYM2cO+vTp88b1Fne8YmJiMGfOHAQHB0NfXx916tTB0qVLER4ejvPnzxd5pn1JpFIpVqxYgcjISPz444/IycmBi4sLVq1apbzqHxgYCCsrK/z6669YuXIlzMzM0KpVK3z99dfKHyZUycrKChs2bMCCBQswe/ZsyOVy1KtXDzExMcpn0gPA8OHDER4ejs8//xyrV69WHmsiEheJoKo7mIiIiN7S9u3bERISgsOHD8POzk7T5RARiQoHrxERERERiRgDOxERERGRiHFIDBERERGRiPEKOxERERGRiDGwExERERGJGAM7EREREZGI8TnsWujixYsQBAF6enqaLoWIiIiIiiGXyyGRSODu7l7qsrzCroUEQYC67yVWKBRq3R5VPPZU+7Cn2oX91D7sqfZ5U0/Lk9d4hV0Lvbyy7ubmppbtyeVyyGQyWFlZ8aq+lmBPtQ97ql3YT+3Dnmqf0nqakJBQ5nXxCjsRERERkYgxsBMRERERiRgDOxERERGRiDGwExERERGJGAM7EREREZGIMbATEREREYkYAzsRERERkYgxsBMRERERiRgDOxERERGRiDGwExERERGJmK6mCyAiIiIi0hRBEHAi5T7uPsmGjakR2ta2hkQi0XRZhTCwi0xwcDAAYN68eRquhIiIiEi7xSWkI2h3PJIzspTTnCxMEOHjAT+3mhqsrDAOiSEiIiKiSicuIR39Yo8XCusAkJyRhX6xxxGXkK6hyoriFXZSCZlcgvzsfOjyE6UV8vPz8ZA91SrsqXZhP7UPe6pegiBg0q4LKBCEYucXCAKC98TD19VeFMNj+JF4R2vWrMHq1avx4MED1K1bF9999x08PT3x119/Ye7cubh69Spq1KiBCRMmoFu3bmVa59OnTzFx4kQcOXIEH3zwASZNmgQfH59y1yaXy8v9nrchl8uxN1MPyHymlu2RurCn2oc91S7sp/ZhT9Ul9V4m0jKfvnGZGw+ycCzpLrwcrd9qG3K5HAqFQiV5jIH9HVy9ehXz58/H4sWLUadOHaxZswaBgYHYuXMnhg8fjh49emDOnDm4dOkSgoKC4OTkhHr16pW63oMHD+Lbb7/F119/jV9//RXfffcdOnToABMTkzLXplAoIJPJ3mX3yrUtwFAt2yIiIiJ6V1k5uWVaLvH2fbgYv90VdoVCgezsbACAVCotdn5x04vDwP4O7ty5A4lEAhsbG9jZ2SEwMBAdO3bEb7/9BjMzM0ydOhU6OjqoXbs2Hj9+jNzcsn043N3dMWLECADAmDFjsGrVKqSkpKBx48Zlrk0qlcLKyuqt9qu85HI5OsszYWZmBl3+Hk8r5Ofn4/Hjx+ypFmFPtQv7qX3YU/Vykppj08nSl3Oxs37rPPXyyrqFhQX09PSKzM/IyCjzuviJeAdeXl5wdnaGj48PGjRogE6dOqFv3744cOAAGjRoAB2d/7und9iwYWVer729vfLrl1fV8/Lyyl1fcR+OilLdQAdWpgZq3SZVHLlcDoO8LPZUi7Cn2oX91D7sqXrZu9nDycKkyA2nr6pjaYIOdW3eaQy7VCqFnp7eO/eUT4l5B4aGhtiyZQtiY2PRvHlzbN++Hb169XrnsUrF/XpEKOGmCCIiIiIqH4lEgggfD+iUEMZ1JBLM6+4hihtOAQb2d3Lx4kUsX74cLVu2REhICPbt24e8vDzUqFEDiYmJhUJ2YGAgVq5cqcFqiYiIiOglP7ea2DykHepYFr5HsI6lCTYPaSeq57BzSMw7MDAwwJIlS2BpaYlWrVrh3LlzyM7ORps2bbBmzRrMnz8f/fv3R3x8PA4fPoxRo0ZpumQiIiIi+v/83GrC19UeJ1Lu498nObAxM4SXI//SqVapX78+5syZg5iYGISGhsLGxgbff/893N3dsXz5coSHh2Pt2rWwt7fHggULUL9+fU2XTERERESvkEgkaOdUXdNlvBED+zvq2bMnevbsWWS6u7s7tmzZUu71zZs3r8i0xMTEt6qNiIiIiN5/HMNORERERCRivMKuRqtXr0ZUVFSJ8318fBAaGqrGioiIiIhI7BjY1ah3797w9vYucb6xsbEaqyEiIiKi9wEDuxqZmprC1NRU02UQERER0XuEY9iJiIiIiESMgZ2IiIiISMQY2ImIiIiIRIyBnYiIiIhIxBjYiYiIiIhEjIGdiIiIiEjEGNiJiIiIiESMgZ2IiIiISMQY2ImIiIiIRIyBnYiIiIhIxBjYiYiIiIhEjIGdiIiIiEjEGNiJiIiIiESMgZ2IiIiISMQY2ImIiIiIRIyBnYiIiIhIxBjYiYiIiIhEjIGdiIiIiEjEGNiJiIiIiESMgZ2IiIiISMQY2ImIiIiIRIyBnYiIiIhIxHQ1XQARERGJiyAIOJFyH3efZMPG1Ahta1tDIpFouiyiSouBnYiIiJTiEtIRtDseyRlZymlOFiaI8PGAn1tNDVZGVHlxSAwREREBeBHW+8UeLxTWASA5Iwv9Yo8jLiFdQ5URVW6V6gr77du30alTJ0RHR2P+/Pm4d+8eWrdujYiICJibm5f6/tWrV2Pt2rV4+PAhPDw8MHPmTNjb26OgoACrVq3Chg0bIJPJ0LhxY0ydOhUuLi4AABcXF4wZMwa//vor3N3dsWzZMpw/fx7h4eG4ceMGHBwcMG7cOHTu3BkAcPfuXUydOhUXL16EgYEBunbtiuDgYOjp6VXk4XknMrkE+dn50K1UnyjtlZ+fj4fsqVZhT7VLRfRTEARM2nUBBYJQ7PwCQUDwnnj4utpzeAyRmlXKb9vLli3DwoULIQgCRo8ejdWrV2PixIlvfM/GjRuxePFihIWFoUGDBli4cCG++uorbN++HUuWLMGGDRsQFhaGWrVqYcWKFRgxYgT2798PIyMjAMDRo0exYcMGFBQUQCaTYdSoUZg4cSLatm2LS5cuITg4GBYWFvD09ERYWBiMjIywY8cOZGRkYMKECahduzYGDRpUrv2Uy+VvfYzKu529mXpA5jO1bI/UhT3VPuypdlFtP1PvZSIt8+kbl7nxIAvHku7Cy9FaZdulF+RyORQKhdr+7aaKp8qeVsrAPmHCBDRq1AgA4OPjg4SEhFLfs2nTJgwdOhRdu3YFAEyfPh0///wzcnNzsW7dOnz99dfo1KkTACAsLAwff/wxdu3ahQEDBgAA+vfvj9q1awMAfvjhB7Ru3RqDBw8GADg4OODatWuIjY2Fp6cn7ty5g4YNG8LGxgYODg746aefYGpqWq59VCgUkMlk5XrP21IoFAAM1bItIiKqGFk5uWVaLvH2fbgY8wq7qikUCmRnZwMApFKphqshVSitpwqFosy9rpSB3cHBQfm1sbFxmX7ySU1NRcOGDZWvLS0tERQUhAcPHuDRo0do3Lixcp6enh5cXV2RnJysnGZra6v8OiUlBUePHoW7u7tymlwuh6OjIwBgxIgR+O6773Dw4EG0a9cOXbt2RYMGDcq1j1KpFFZWVuV6z9uSy+XoLM+EmZkZdPm7dq2Qn5+Px48fs6dahD3VLhXRTyepOTadLH05Fztrtf37Upm8zCIWFhaiHgJLZVdaTzMyMsq8rkr5XfttToSSviFWqVKl2OkKhQIFBQXFLpefnw8fHx98+eWXxW6jR48eaNWqFQ4dOoRjx45hwoQJ+OKLL0odtvM6dZ7w1Q10YGVqwG8yWkIul8MgL4s91SLsqXapiH7au9nDycKkyA2nr6pjaYIOdW04hr2CSKVS6Onp8RzVIqrqKZ8SU0YODg64fv268vXDhw/RsmVLPH78GJaWlrh06ZJynlwux99//628Yv46R0dHpKWlwcHBQfnf4cOHsXv3bgDAokWLkJGRAX9/fyxfvhyBgYE4cOBAhe4fERFVbhKJBBE+HtApIYzrSCSY192DYZ1IAxjYyyggIACxsbE4dOgQUlNTMWPGDNjZ2cHOzg5Dhw5FVFQUjhw5guTkZEybNg15eXnK8e6vGzhwIK5cuYJFixbh5s2b2L17NxYuXAgbGxsAL4bMhIaG4vr160hKSsLvv/9e7iExRERE5eXnVhObh7RDHUuTQtPrWJpg85B2fA47kYZUyiExb6Nnz564d+8eZs2ahadPn6J58+aIiooCAAwfPhxPnz7FtGnT8PTpU7i7u2Pt2rWoVq1aseuytbXFsmXLEBkZiZ9//hnVq1dHcHAwevToAQCYOXMmZs2ahYCAAOTn56NDhw6YMmWK2vaViIgqLz+3mvB1tceJlPv490kObMwM4eXIv3RKpEkSQSjhgav03nr51Bs3Nze1bE8ul0Mmk8HKyorj7rQEe6p92FPtwn5qH/ZU+5TW0/LkNQ6JISIiIiISMQ6JwYu/YPpyeEtxfHx8EBoaqsaKiIiIiIheYGAH0Lt3b3h7e5c439jYWI3VEBERERH9HwZ2AKampuX+S6JEREREROrAMexERERERCLGwE5EREREJGIM7EREREREIsbATkREREQkYgzsREREREQixsBORERERCRiDOxERERERCLGwE5EREREJGIM7EREREREIsbATkREREQkYgzsREREREQixsBORERERCRiDOxERERERCLGwE5EREREJGIM7EREREREIsbATkREREQkYgzsREREREQixsBORERERCRiDOxERERERCLGwE5EREREJGIM7EREREREIsbATkREREQkYgzsREREREQiprWB/dq1a4iPjy91uejoaAQEBAAAtm/fDm9v77fa3tOnT7Fjxw7la29vb2zfvv2t1kVERPQ6QRBwPPkeNl5MxYmU+xAEQdMlEZGa6Gq6gIoyduxYjBs3Dh4eHmrZ3i+//IIzZ87A19cXALB161YYGRmpZdtERKTd4hLSEbQ7HskZWcppDuaGmN+9Kfq4O2qwMiJSB60N7Or2+pWOatWqaagSIiLSJnEJ6egXexwFr/07k/YoB/7r/4BUVwo/t5oaqo6I1EErA3tAQADu3LmDkJAQnD17Fh9//DGio6ORnJyMKlWqoF27dggLC0PVqlVLXEdBQQECAwORlpaGtWvXwtTUtMRlt2/fjsWLFwMAXFxckJiYCG9vb4wbNw69evVCQEAAOnTogJMnT+LChQtwdnbGggULsHLlSuzZswdWVlaYPXs2mjdvDgD4559/EBYWhsuXL+PDDz/EZ599hkGDBqn2IKmYTC5BfnY+dLXyE1X55Ofn4yF7qlXY0/eTIAiYtOtCkbD+UoEgIHhPPHxd7SGRSNRcHRGpi1Z+246OjkbPnj0xfPhwtGjRAn369MH06dPRunVr3Lx5E9988w02b96MYcOGlbiO8PBwXL9+Hb/++usbwzoAdO3aFUlJSbh48SKio6OLXWbJkiWYM2cOpkyZgrFjx6JPnz4YPHgwtm7dioULF2L27NnYtWsXcnNz8cUXX8DPzw9hYWFISUnBtGnTULVqVeVwm7KSy+XlWv5tyeVy7M3UAzKfqWV7pC7sqfZhT983qfcykZb59I3L3HiQhWNJd+HlaK2mqqgiyOVyKBQKtf3bTRVPlT3VysBubm4OqVQKExMTGBgYYOrUqejXrx8AwM7ODq1bt0ZSUlKJ71+xYgX27duHDRs2wNLSstTtGRgYwMjICHp6erCysip2mY4dO+LTTz8FAHz00Uf43//+hwkTJkAikaBfv34YO3YsAGD37t2wsLBAYGAgAKBWrVq4c+cO1qxZU67ArlAoIJPJyrz8u1AoFAAM1bItIqLKJCsnt0zLJd6+DxdjXmF/nykUCmRnZwMApFKphqshVSitpwqFosy91srA/qpatWpBX18fS5cuRVJSEpKSknDjxg307Nmz2OXv37+PRYsWoUaNGiWG77dhZ2en/NrAwAA2NjbKX18aGBgof/pKSUnB9evX4e7urly+PA19SSqVqrT+N5HL5egsz4SZmRl0+bt2rZCfn4/Hjx+zp1qEPX0/OUnNselk6cu52Fmr7Xs+VYyXOcDCwgJ6enoaroZUobSeZmRklHldWv9d+/r16/D394e3tzc8PT0xdOhQxMbGlri8RCLBzz//jO+++w5Lly7FxIkTVVLH6/9A6ugU/0TN/Px8tGrVCtOnT3/nbarzhK9uoAMrUwN+k9EScrkcBnlZ7KkWYU/fT/Zu9nCyMCn0dJjX1bE0QYe6NhzDrgWkUin09PR4jmoRVfVUa5/D/tLOnTvRrFkzLFiwAAMHDkSjRo2QlpZW4vNrrays0KpVK3z77bdYtWoV0tLSyrQdVX2jdHR0RGpqKuzs7ODg4AAHBwdcunQJa9euVcn6iYjo/SGRSBDh4wGdEv6N0ZFIMK+7B8M6kZbT2sBuZGSElJQUmJqaIjExEX/99RdSU1Mxb948JCQk4Pnz5298f9euXdGkSROEhYWVaXuGhoa4f/8+bt++/U519+jRA7m5uZg+fTqSk5Px+++/Y86cObCwsHin9RIR0fvJz60mNg9phzqWJoWm1zI3xIZBbfhIR6JKQGuHxPj7+yMyMhKtW7dGkyZNMHToUFSpUgXNmjXD2LFj8dtvv5W6jilTpqBXr144cOAAPvnkkzcu+/HHH2Pjxo3o1q0bjhw58tZ1GxsbY8WKFQgPD4evry/Mzc0xaNAgjBo16q3XSURE7zc/t5rwdbXHiZT7+PdJDqyr6sG5KmBtzSfDEFUGEoF/21jrJCQkAADc3NzUsj25XA6ZTAYrKyuOu9MS7Kn2YU+1C/upfdhT7VNaT8uT17R2SAwRERERkTbQ2iExqjRnzhxs3bq1xPmjRo3Cl19+qcaKiIiIiKiyYGAvg9GjR2Pw4MElzjczM1NjNURERERUmTCwl0G1atVQrVo1TZdBRERERJUQx7ATEREREYkYAzsRERERkYgxsBMRERERiRgDOxERERGRiDGwExERERGJGAM7EREREZGIMbATEREREYkYAzsRERERkYgxsBMRERERiRgDOxERERGRiDGwExERERGJGAM7EREREZGIMbATEREREYkYAzsRERERkYgxsBMRERERiRgDOxERERGRiDGwExERERGJGAM7EREREZGIMbATEREREYkYAzsRERERkYgxsBMRERERiRgDOxERERGRiDGwExERERGJmK6mCyAioncjCAJOpNzH3SfZsDE1Qtva1pBIJJoui4iIVISBnYjoPRaXkI6g3fFIzshSTnOyMEGEjwf83GpqsDIiIlIVDokhInpPxSWko1/s8UJhHQCSM7LQL/Y44hLSNVQZERGpEq+wa8jt27fRqVMnREZGYv78+cjJyYGvry+Cg4Ohq6uLnTt3YunSpfj3339Rv359TJ8+HQ0aNNB02SWSySXIz86HLj9RWiE/Px8P2VNREwQBk3ZdQIEgFDu/QBAQvCcevq72HB5DRPSe4z/FGrZ48WIsWrQI+fn5mDx5MqpWrQpPT09MmTIFU6ZMQevWrbF27VqMGjUKhw8fhr6+fpnXLZfLK7DywtvZm6kHZD5Ty/ZIXdhTMUu9l4m0zKdvXObGgywcS7oLL0dryOVyKBQKtX1foIrFfmof9lT7qLKnDOwa9u2338LT0xMA8NVXXyEyMhI3btxA9+7d4e/vDwCYPHky9PT08PjxY1hZWZVpvQqFAjKZrMLqfn1bgKFatkVEL2Tl5JZpucTb9+FiLIFCoUB2djYAQCqVVmRppAbsp/ZhT7VPaT1VKBRl7jUDu4Z5eHgov3Z1dUVmZiZu3ryJAQMGKKfr6+sjKCioXOuVSqVlDvfvSi6Xo7M8E2ZmZtDl+AmtkJ+fj8ePH7OnIuYkNcemk6Uv52JnDSsrK+UVHgsLC+jp6VVwdVTR2E/tw55qn9J6mpGRUeZ18V9iDXu1gQUFBQAAHR3V3AuszhO+uoEOrEwN+E1GS8jlchjkZbGnImbvZg8nC5MiN5y+qo6lCTrUtVGOYZdKpdDT02NPtQT7qX3YU+2jqp7yKTEadu3aNeXXV65cgbW1NRwdHXH9+nXldIVCAW9vb1y4cEETJRKRCEkkEkT4eECnhBtKdSQSzOvuwRtOiYi0AAO7hs2ZMwcJCQn4888/8eOPP2LQoEEICAjArl27EBcXh7S0NMydOxeCIKBhw4aaLpeIRMTPrSY2D2mHOpYmhabXsTTB5iHt+Bx2IiItwSExGta1a1eMGjUKBQUF8Pf3x8iRI6Gjo4MZM2ZgyZIlkMlkcHV1xbJly2BgYKDpcolIZPzcasLX1R4nUu7j3yc5sDEzhJcj/9IpEZE2YWDXsG7dumHUqFFFpvfp0wd9+vTRQEVE9L6RSCRo51Rd02UQEVEF4ZAYIiIiIiIRY2AnIiIiIhIxDonREDs7OyQmJmq6DCIiIiISOV5hJyIiIiISMQZ2IiIiIiIRY2AnIiIiIhIxBnYiIiIiIhFjYCciIiIiEjEGdiIiIiIiEWNgJyIiIiISMQZ2IiIiIiIRY2AnIiIiIhIxBnYiIiIiIhFjYCciIiIiEjEGdiIiIiIiEWNgJyIiIiISMQZ2IiIiIiIRY2AnIiIiIhIxBnYiIiIiIhFjYCciIiIiEjEGdiIiIiIiEWNgJyIiIiISMQZ2IiIiIiIRY2AnIiIiIhIxBnYiIiIiIhErU2C/e/cunj59CgA4ffo0QkNDsWfPngotjIiIiIiIyhDYDx48iE8++QSXL19Geno6RowYgVOnTmHq1KlYv369OmokIiIiIqq0Sg3sMTEx+Pzzz9GqVSvs3r0bNjY2+O233xAeHo5169ZVSFFnzpyBi4vLO68nOjoaAQEBKqhIc1R1LIjERBAEHE++h40XU3E8+R4EQdB0SURERKKlW9oCycnJWLx4MXR0dPDHH3+gffv20NHRQZMmTXDnzh111EhEWiQuIR1Bu+ORnJGlnOZkYYIIHw/4udXUYGVERETiVOoVdlNTU2RlZSErKwt//fUXWrduDQBIT0+Hubl5RddHRFokLiEd/WKPFwrrAJCckYV+sccRl5CuocqIiIjEq9Qr7O3bt8f06dNRtWpVmJiYoE2bNvjzzz8xc+ZMdOjQ4Z0LSEtLQ2hoKOLj42FmZobhw4cXGQLy33//Ye7cuTh16hQkEgl8fHwwefJk6OvrAwCOHz+ORYsWISUlBQ4ODggJCUGrVq0KrSMvLw9Dhw6FoaEhli1bpnxvSU6dOoV58+YhJSUF1tbW+OKLLzBgwAAAgIuLC2bPno3ly5cjIyMD3t7eCA0NRdWqVQEA58+fR3h4OG7cuAEHBweMGzcOnTt3Vq5748aN+Omnn/Dw4UO4urpi6tSpyn1++vQppk+fjqNHj8La2hp9+/Z9twOsJjK5BPnZ+dAt9RNF74P8/Hw8VHFPBUHApF0XUFDC8JcCQUDwnnj4utpDIpGoZqNERERaoNR/iqdNm4YffvgBt27dwtKlS6Gvr48LFy6gSZMmCAoKeqeN5+XlYfjw4WjYsCE2b96MW7duYdKkSVi4cKFymefPn2PIkCFwcHDA2rVrkZmZiWnTpgEApk6diqSkJIwePRpjx45F165dceDAAYwZMwYHDhxQrqOgoABff/01CgoKsHjx4lLDukKhQGBgIIYOHQofHx/Ex8cjKCgInp6eqFOnDgDgxx9/xOzZs2FhYYHvvvsO06dPx4IFCyCTyTBq1ChMnDgRbdu2xaVLlxAcHAwLCwt4enriyJEjWLx4McLCwuDo6IgdO3bgs88+w4EDB2BmZoYZM2YgJSUF69atQ2ZmJoKDg9/6+Mrl8rd+b3m3szdTD8h8ppbtkbqotqep9zKRlvn0jcvceJCFY0l34eVorbLt0gtyuRwKhUJt3xeoYrGf2oc91T6q7Gmpgd3AwKBIaBw/fvw7bxgATp48iczMTISHh8PY2Bh169bF1KlToaPzfyN1Tpw4gXv37mHz5s0wMzMDAEyfPh2jR4/GxIkTsXXrVnh4eGDMmDEAgJEjRyI7OxtPnjxRriMsLAxpaWlYt24djIyMSq0rKysLjx49gqWlJezs7GBnZwdra2tYWVkpl/niiy+Uv2GYMmUKhg8fjpkzZ2L9+vVo3bo1Bg8eDABwcHDAtWvXEBsbC09PT6xcuRKjRo1Cx44dAQCBgYE4fvw4du3aBV9fX+zduxdr1qxBw4YNAQBjxoxBaGhouY+tQqGATCYr9/vehkKhAGColm3R+ysrJ7dMyyXevg8XY15hVzWFQoHs7GwAgFQq1XA19K7YT+3Dnmqf0nqqUCjK3Osy/bL7+vXriI2NRWpqKn788UccOnQIdevWRfPmzctRdlGpqalwdHSEsbGxclrv3r1x5swZ5evk5GTUqlVLGdYBwMPDA/n5+UhPT0dqaqoy3L4UGBio/PrixYs4d+4cGjduXGgdb2Jubg5/f39MnToVMTEx6NixI3r37l2khpdcXV2hUCiQmpqKlJQUHD16FO7u7sr5crkcjo6Oyv35/vvvC/0WIS8vDzdv3kRqaioUCgXq1aunnOfm5lamml8nlUoL/YBRkeRyOTrLM2FmZgZdjonRCvn5+Xj8+LFKe+okNcemk6Uv52JnrbbPbmXy8gqPhYUF9PT0NFwNvSv2U/uwp9qntJ5mZGSUeV2l/kt85coV+Pv7o0mTJrhy5QqeP3+Oa9euYe7cuViyZAnat29fjtJf23gZgkCVKlWKTHtxRffF/0tbR9WqVbF48WKMGjUKW7duLfOY8JkzZ2LQoEE4dOgQDh06hE2bNiEmJka5v68e+IKCAgCAjo4O8vPz4ePjgy+//LLQ+l7WqVAo8N133xUZY29sbFzsU3dKG77zJuo84asb6MDK1IDfZLSEXC6HQV6WSntq72YPJwuTIjecvqqOpQk61LXhGPYKIpVKoaenx/NUS7Cf2oc91T6q6mmpT4mJjIzE8OHDsXbtWuXGZs+ejUGDBiE6OvqdNl6rVi2kpaUhJydHOS0iIgKzZ89WvnZ0dMTNmzfx6NEj5bRLly5BV1cXNWvWhIODA65fv15ovQMGDMBvv/0GAHB2dkazZs0wevRoLFiwoNB6SiKTyTBr1iw4ODhg9OjR2LZtG1q2bIkjR44ol7l27Zry6ytXrkBPTw+Ojo5wdHREWloaHBwclP8dPnwYu3fvVu7Pf//9V2j+smXLcOnSJdSuXRt6enpISEhQrvvq1atlO5hEIieRSBDh4wGdEsK4jkSCed09GNaJiIheU2pgv3LlCnx9fYtMHzRoEJKTk99p415eXrC0tMT06dORnJyMw4cPY+PGjZg0aZJymTZt2sDe3h6TJ09GYmIiTp8+jbCwMHTv3h2mpqbw9/fH+fPnsXr1aqSlpWH58uVISkqCp6dnoW0NGTIEZmZmhYailMTMzAwHDx5EeHg40tPTce7cOVy/fh0NGjRQLhMVFYWzZ8/i8uXLmD17Nvz8/FC1alUMHDgQV65cwaJFi3Dz5k3s3r0bCxcuhI2NDQBg2LBhiI2NxY4dO5Ceno7vv/8ee/fuhZOTE4yNjdGzZ0+EhYXh8uXLOHPmDBYvXvxOx5hITPzcamLzkHaoY2lSaHodSxNsHtKOz2EnIiIqRqljUvT09PD0adEnO/z7778wNHy3Gw11dXURExOD0NBQ+Pn5wdLSEpMnTy60XqlUipiYGISFhaFfv36oWrUqfHx88PXXXwMAatasiejoaCxYsAALFy5E3bp1sWzZMlSvXr3QtvT19RESEoLRo0ejb9++bxwbrq+vj5iYGISHh6NHjx6oWrUq+vTpU2g4ja+vL4KDg/HkyRN069YNU6ZMAQDY2tpi2bJliIyMxM8//4zq1asjODgYPXr0AAB07doVDx48QFRUFB48eIA6depg6dKlqFWrFoAXT+UJCwvDsGHDYGZmhoCAAERERLzTcSYSEz+3mvB1tceJlPv490kObMwM4eVozSvrREREJZAIpfxN8GnTpuHu3btYtGgR2rdvj127duH58+eYOHEiXF1dER4erq5aRcPFxQVr1qxBixYtNF1KsV4OqXnbG1bLSy6XQyaTwcrKiuPutAR7qn3YU+3Cfmof9lT7lNbT8uS1UofEBAUF4dmzZ2jZsiVycnLQq1cvdO/eHVKpFJMnT36L8omIiIiIqKxKHRIjkUiwceNGnDp1ClevXkVBQQGcnZ3Rtm3bQs9Lf5+MHTsWf/75Z4nzZ82apRzCQkRERESkSaUGdl9fX/zwww9o1apVkUcRvq9mzJhR6Mk0r7OwsHjj+xMTE1VdEhERERFRsUoN7Dk5OTAwMFBHLWpjbc0/e05ERERE74dSA/tnn32G8ePHY9CgQahZs2aR8N6sWbMKK46IiIiIqLIrNbC/fG55WFhYkXkSiaTQHxAiIiIiIiLVKjWwHz58WB11EBERERFRMUoN7La2tuqog4iIiIiIilGmMexvsmbNGpUVQ0REREREhZX7Cnt+fj7S0tLwzz//YMiQIRVWGBERERERlSGwz507t9jpS5YswX///afygoiIiIiI6P+89Z8q7dmzJ/bu3avKWoiIiIiI6DVvHdgvXrwIqVSqylqIiIiIiOg1b3XT6dOnT5GYmIiBAwdWSFFERERERPRCqYHdxsYGEomk0DQ9PT0MHjwYPXr0qLDCiIiIiIioDIF9woQJqFGjBnR0Co+eyc/Px9WrV9GoUaMKK46IiIiIqLIrdQx7p06d8OjRoyLTb9++jYCAgIqoiYiIiIiI/r9ir7CvX78eq1atAgAIgoDevXsXucL+5MkT2NjYVHyFRERERESVWLGBvVevXnj48CEEQcCSJUvQpUsXVK1atdAyVatWxSeffKKWIomIiIiIKqtiA7uhoSHGjRsHAJBIJPj8889haGio1sKIiIiIiKgMN52OGzcO+fn5uHfvHhQKBYAXw2SeP3+OhIQEPimGiIiIiKgClRrYT548iaCgIGRmZhaZZ2BgwMBORERERFSBSn1KzMKFC9GgQQMsX74cBgYGWLx4Mb777jsYGxvj+++/V0eNRERERESVVqlX2G/cuIHw8HDUq1cP9evXh5GREQICAmBkZISff/4ZH330kTrqJCIiIiKqlEq9wi6VSmFiYgIAcHBwwD///AMAaNmyJZKTkyu2OiIiIiKiSq7UwF63bl0cOXIEAFC7dm1cuHABAPDff/9VbGVERERERFT6kJiRI0diwoQJ0NPTQ/fu3REdHY2RI0ciMTERLVu2VEeNRERERESVVqlX2D/66CNs2bIFTZo0wYcffoiVK1dCKpWiU6dOCA0NVUeNRPSeEwQBx5PvYePFVBxPvgdBEDRdEhER0Xuj1CvsANCwYUMAwPPnz9G8eXM0b968QosiIu0Rl5COoN3xSM7IUk5zsjBBhI8H/NxqarAyIiKi90OpV9gBYMOGDfD29kaTJk1w69YtzJw5EzExMRVdGxG95+IS0tEv9nihsA4AyRlZ6Bd7HHEJ6RqqjIiI6P1R6hX23bt3Y8GCBRgyZAhWrlwJ4MXNp5GRkTAwMMDw4cMrvEgxWrNmDVavXo0HDx6gbt26+O677+Dp6Ym//voLc+fOxdWrV1GjRg1MmDAB3bp1e+O6Dh48iOnTp+PPP/+ERCLBhQsXMHDgQMTGxirvE2jbti0iIiLQunVrdexeucnkEuRn50O3TL+zIbHLz8/Hw3fsqSAImLTrAgpKGP5SIAgI3hMPX1d7SCSSd6iWiIhIu5X6T/GqVaswZcoU+Pn5YdWqVQCAzz77DEZGRlixYkWlDOxXr17F/PnzsXjxYtSpUwdr1qxBYGAgdu7cieHDh6NHjx6YM2cOLl26hKCgIDg5OaFevXolrq9Vq1Z48uQJkpKS4OzsjHPnzkEikSA+Ph4tW7ZEUlISnj59Ck9Pz3LVKZfL33VXy7ydvZl6QOYztWyP1OXdepp6LxNpmU/fuMyNB1k4lnQXXo7Wb70dKhu5XA6FQqG27wtUsdhP7cOeah9V9rTUwJ6amlpsUGzRokWlven0zp07kEgksLGxgZ2dHQIDA9GxY0f89ttvMDMzw9SpU6Gjo4PatWvj8ePHyM3NfeP6jI2N0ahRI5w9e1YZ2Nu1a4f4+HgAwJ9//onmzZtDX1+/zDUqFArIZLJ32s/ybAswVMu26P2RlfPmz/1Libfvw8WYV9grmkKhQHZ2NoAXf1+D3m/sp/ZhT7VPaT1VKBRl7nWpgd3S0hKpqamwt7cvNP3ixYuwtq6cV8W8vLzg7OwMHx8fNGjQAJ06dULfvn1x4MABNGjQADo6/3drwLBhw8q8zrNnz8Lf3x+XLl3C4sWLMX78eBQUFODUqVNo27ZtuWqUSqWwsrIq13vellwuR2d5JszMzKDLMTFaIT8/H48fP36nnjpJzbHpZOnLudhZq+2zWpm9vMJjYWEBPT09DVdD74r91D7sqfYpracZGRllXlep/xL3798foaGhCAkJAQCkpKTg5MmT+OGHHzBkyJAyb0ibGBoaYsuWLTh79iyOHj2K7du3Y8OGDejYseNbr9PLywtr167F33//DWtra7Ro0QISiQRXr17F2bNnlce/PNR5wlc30IGVqQG/yWgJuVwOg7ysd+qpvZs9nCxMitxw+qo6liboUNeGY9jVRCqVQk9Pj+eplmA/tQ97qn1U1dNSnxLzxRdfoGvXrvj666+Rk5ODUaNGYc6cOfDx8cGXX375Tht/X128eBHLly9Hy5YtERISgn379iEvLw81atRAYmJioWdMBwYGKm/WfRM3NzcIgoAtW7bA09MTOjo68PDwwKpVq2BhYQEHB4eK3CUilZNIJIjw8YBOCWFcRyLBvO4eDOtERESlKDawz58/XznmBgC+/vprnD59Glu2bMHmzZtx+vRp5TjtysjAwABLlizBli1bcPv2bfz222/Izs5GmzZt8OjRI8yfPx83b97E9u3bcfjwYbRp06bUdero6KBly5aIi4tD06ZNAQBNmzbF//73v3IPhyESCz+3mtg8pB3qWJoUml7H0gSbh7Tjc9iJiIjKoNghMatXr8bnn38OIyMj5bSvvvoKs2fPrrTj1l9Vv359zJkzBzExMQgNDYWNjQ2+//57uLu7Y/ny5QgPD8fatWthb2+PBQsWoH79+mVar5eXF/bt26cM7J6enhAEgYGd3mt+bjXh62qPEyn38e+THNiYGcLL0ZpX1omIiMqo2MBe3J8NP3fuHPLy8iq8oPdFz5490bNnzyLT3d3dsWXLlrdaZ9++fdG3b1/law8PDyQmJr51jURiIZFI0M6puqbLICIiei9VzjEtRERERETvCT6DTw1Wr16NqKioEuf7+PhU2mfaExEREdGblRjYOb5UdXr37g1vb+8S5xsbG6uxGiIiIiJ6n5QY2GfPno0qVaooX8vlcnz//feoWrVqoeXmzp1bcdVpCVNTU5iammq6DCIiIiJ6DxUb2Js1a1bkz9q7u7vj4cOHePjwoVoKIyIiIiKiEgL72rVr1V0HEREREREVg0+JISIiIiISMQZ2IiIiIiIRY2AnIiIiIhIxBnYiIiIiIhFjYCciIiIiEjEGdiIiIiIiEWNgJyIiIiISMQZ2IiIiIiIRY2AnIiIiIhIxBnYiIiIiIhFjYCciIiIiEjEGdiIiIiIiEWNgJyIiIiISMQZ2IiIiIiIRY2AnIiIiIhIxBnYiIiIiIhFjYCciIiIiEjEGdiIiIiIiEWNgJyIiIiISMQZ2IiIiIiIRY2AnIiIiIhIxBnYA3t7e2L59e7Hzbt++DRcXF9y+fRsA4OLigjNnzqizPOzduxcZGRlq3SaJmyAIOJ58DxsvpuJ48j0IgqDpkoiIiKiC6Gq6ALH78MMPcfLkSVSrVk0j279z5w4CAwNx+PBhjWyfxCcuIR1Bu+ORnJGlnOZkYYIIHw/4udXUYGVERERUEXiFvRRSqRRWVlaQSqUa2T6vnNKr4hLS0S/2eKGwDgDJGVnoF3sccQnpGqqMiIiIKsp7e4X99u3b6NSpE5YvX47Q0FA8fPgQvXv3Rr9+/RAcHIyUlBS0aNECCxYsgLGxMbZv344VK1bgzp07qFOnDkJCQtCsWTPl+pKSkuDr64vk5GQ0b94cYWFhsLGxUW7n8OHDsLOzK1TD8+fPMX/+fOzevRsA0LZtW0ydOhXm5uZvrP3hw4do3bo1du7cCWdnZ8jlcjRr1gzDhw/HhAkTAACTJk2CnZ0dli1bBgDo1KkT5s6di169eqnwKKqOTC5BfnY+dN/bT5T4CYKASbsuoKCEH+IKBAHBe+Lh62oPiUSi5uqIiIioorz38eqnn35CTEwMbty4gUmTJuH48eOYMWMGDAwMMGbMGGzduhWmpqYICwvDjBkz0KhRI2zfvh0jR47Evn37UL16dQDAhg0bMHv2bDg7O2POnDkICgrC2rVr37jthQsX4sqVK1ixYgWqVKmCRYsW4auvvkJsbOwb3/fBBx+gYcOGOHv2LJydnZGQkIDc3FzEx8cDeBHMTp06haioKHTq1Al9+/bFli1b4OzsXK5jI5fLy7X825LL5dibqQdkPlPL9iqr1HuZSMt8+sZlbjzIwrGku/BytH6nbcnlcigUCrV9hqjisafahf3UPuyp9lFlT9/7wD5mzBjUq1cP9erVQ3h4OLp164Y2bdoAAFq1aoWUlBQkJCQgICAAvr6+AIBvvvkG586dw7p16zBp0iQAgL+/P7p37w4AmDNnDjp16oTk5GRUqVKl2O3m5ORg3bp12LZtG1xcXAAA8+fPR4sWLZCYmKicVpI2bdrg7NmzGDx4MM6fP4927drh3LlzUCgUSEpKwvPnz9GkSRP8999/AIBq1arBwMCgzMdFoVBAJpOVefl3oVAoABiqZVuVWVZObpmWS7x9Hy7G73aFXaFQIDs7GwA0NhyMVIs91S7sp/ZhT7VPaT1VKBRl7vV7H9jt7e2VXxsYGMDW1rbQ6+fPnyM5ORljx44t9L4mTZogOTlZ+bpRo0bKr+3s7GBubo6UlBTUr1+/2O3eunULcrkcAwYMKDS9oKAAN2/eLDWwt23bFps3b4YgCDh37hx69+6Ny5cv49q1azh79ixat24N3XcYX/Jy7L06yOVydJZnwszM7J1qpjdzkppj08nSl3Oxs37n3r+8GmBhYQE9Pb13WheJA3uqXdhP7cOeap/SelqeJwC+9+nq9Z9MdHSK3kdb3FVyhUKBgoKCEtdTUFDwxhPmxVVl4Ndff4WRkVGheRYWFqXW3aRJE+Tl5SExMRHx8fGYO3cuPDw8EB8fj1OnTuGTTz4pdR2lUecJX91AB1amBvwmU4Hs3ezhZGFS5IbTV9WxNEGHujYqGcMulUqhp6fHnmoR9lS7sJ/ahz3VPqrqaaV4SoyjoyMuX75caNrly5fh6OiofP3PP/8ov7558yaePHlSaP7r7O3tIZVK8ejRIzg4OMDBwQHGxsaYO3dumX5i0tXVRcuWLbF+/XpYWlrC0tISnp6eOHXqFM6dO4e2bdsCAG8eJCWJRIIIHw/olPCZ0JFIMK+7Bz8zREREWqZSBPahQ4di3bp12LFjB1JTUxEZGYnr16+jT58+ymVWr16NAwcO4Pr16wgJCUHHjh3h4OBQ4jqNjY3Rt29fzJw5E2fOnMGNGzcwefJkpKWlFXmaTEnatGmDuLg4eHh4AAA8PT1x9OhR2NnZoUaNGgAAQ8MXY8OvX7+OZ894U2dl5+dWE5uHtEMdS5NC0+tYmmDzkHZ8DjsREZEWeu+HxJRF165d8eDBA0RFRUEmk6F+/fpYtWoVnJyclMsMGzYMP/zwA27fvo127dohNDS01PUGBwcjIiICEyZMUD6a8aeffirzDQRt27ZFaGgomjZtCgBo0KABDAwMlFfXgRc3m/bo0QOBgYH45ptvMHTo0PLtPGkdP7ea8HW1x4mU+/j3SQ5szAzh5WjNK+tERERaSiLwL/NonYSEBACAm5ubWrYnl8shk8lgZWXFcXdagj3VPuypdmE/tQ97qn1K62l58lqlGBJDRERERPS+qhRDYtTtr7/+wpAhQ0qcb2Njg99++02NFRERERHR+4qBvQLUq1cPO3bsKHE+n1VORERERGXF5FgB9PX13/iEGSIiIiKisuIYdiIiIiIiEWNgJyIiIiISMQZ2IiIiIiIRY2AnIiIiIhIxBnYiIiIiIhFjYCciIiIiEjEGdiIiIiIiEWNgJyIiIiISMQZ2IiIiIiIRY2AnIiIiIhIxBnYiIiIiIhFjYCciIiIiEjEGdiIiIiIiEWNgJyIiIiISMQZ2IiIiIiIRY2AnIiIiIhIxBnYiIiIiIhFjYCciIiIiEjEGdiIiIiIiEWNgJyIiIiISMQZ2IiIiIiIRY2AnIiIiIhIxXU0XQPQ+EQQBJ1Lu4+6TbNiYGqFtbWtIJBJNl0VERERaTHSB/fbt2+jUqRMOHz4MOzu7Ny576tQpWFtbw8nJSU3VUWUWl5COoN3xSM7IUk5zsjBBhI8H/NxqarAyIiIi0maiGxLz4Ycf4uTJk/jwww9LXXbo0KF48OCBGqqiyi4uIR39Yo8XCusAkJyRhX6xxxGXkK6hyoiIiEjbie4Ku1QqhZWVlabLoHKSySXIz86Hrug+Ue9OEARM2nUBBYJQ7PwCQUDwnnj4utpzeAwRERGpnOji1atDYjp16oT58+djxYoVuHnzJho1aoSIiAjY29vD29sbAPDZZ59h3LhxGD9+/BvXGxwcDAsLC9y5cwdHjx6Fra0tIiMjsX//fqxfvx5GRkYICQnBp59+CgD4999/MWvWLJw6dQoWFhbo1asXRo8eDalUiu3btyMuLg6tW7fGqlWroK+vj2+//RYGBgaIiIhAVlYW+vfvj2+//RYAkJeXh6ioKOzZswePHz9Gy5YtMWPGDHz44YfK/Z0wYQJ++eUXfPzxx9i3bx/mzZuHTz75BAAgl8vh5eWFH374Aa1atSrzsZTL5W/TgnKTy+XYm6kHZD5Ty/bULfVeJtIyn75xmRsPsnAs6S68HK3VVFXFksvlUCgUavsMUcVjT7UL+6l92FPto8qeii6wvy46OhphYWGwsLDAV199hR9++AELFizA1q1b0apVK0RHR6NNmzZlWldsbCy+++47TJw4ESEhIRgyZAg6d+6MTZs2Ye3atZgxYwY6d+4MiUSCcePGoV69eoiLi4NMJsP06dMhkUgwduxYAMDFixdhb2+PrVu3Yv369Zg5cyYaNGiApUuX4sqVK5gyZQq6deuGBg0aYMaMGYiPj0dERATMzc0RGRmJMWPGYNu2bcra4uPjsW3bNhQUFCA/Px/79+9XBvY///wTurq6aN68eZmPm0KhgEwmK8eRfnsKhQKAoVq2pQlZObllWi7x9n24GGvHFXaFQoHs7GwAL37rRe8/9lS7sJ/ahz3VPqX1VKFQlLnXog/sw4YNU15V9vf3x/r16wEA1apVAwCYmZmhatWqZVqXq6srBg4cCADo3r07wsPDMXXqVBgYGCAgIAAbNmzAgwcPkJycjLt372LLli3Q0dFB7dq1ERQUhJCQEGVgFwQBU6dOhZGREfr374/Y2FiMHz8e9erVQ7169bBw4UKkpKTA1tYWO3fuxIoVK9CyZUsAQGRkJDp06IA//vgDjo6OAIAhQ4agZs0XNy5269YNEydORF5eHqpUqYJ9+/ahS5cu5TqB1Tm0SC6Xo7M8E2ZmZtDVwjExTlJzbDpZ+nIudtZaM5zr5dUACwsL6OnpabgaUgX2VLuwn9qHPdU+pfU0IyOjzOsSfbpycHBQfm1sbPxOv1Z49akzBgYGsLS0hIGBAQCgSpUqAIDnz58jOTkZjx49QtOmTZXLFxQUIDc3Fw8fPgTw4uAbGRkVeu/r63/+/Dlu3ryJgoICNG7cWDnP3Nwcjo6OSE5OVgZ2W1tb5fw2bdpAX18fJ06cQPv27XHo0CEsW7as3PurzhO+uoEOrEwNtPKbjL2bPZwsTIrccPqqOpYm6FDXRqvGsEulUujp6WllTysr9lS7sJ/ahz3VPqrqqegDuyo/tK9f/dXRKf4hOfn5+ahduzZiYmKKzDMxMSl2XQCKDWsvw/zrFAoFCgoKil1OV1cXnTt3xv79+6GnpwdjY2N4eHgUux6qeBKJBBE+HugXe7zYG091JBLM6+6hVWGdiIiIxEN0j3UUA0dHR9y9exfVqlWDg4MDHBwccPv2bURFRZU7lNnb20NXVxeXLl1STnv48CHS0tKUV9eL4+Pjg+PHj+PIkSPo0qULw6CG+bnVxOYh7VDH0qTQ9DqWJtg8pB2fw05EREQVRvRX2N/EyMgISUlJaNCggfLKtyp4eXnB1tYW3377LSZOnIisrCxMmzYNrVu3LveNIFWrVkXfvn0RFhaGsLAwmJmZITIyEjVq1ECbNm1w//79Yt/XtGlTGBoaIi4uDr/++qsqdovekZ9bTfi62uNEyn38+yQHNmaG8HLkXzolIiKiivVeX2EPCAjA/PnzER0drdL1SqVSLF26FAUFBejXrx/Gjx+P9u3bY+rUqW+1vqCgILRu3RoTJkyAv78/qlSpgl9++QX6+volvkcikaBLly6oUaMGXF1d33ZXSMUkEgnaOVVHf/daaFu7OsM6ERERVTiJIJTw12BI4yZNmgQHBwdMmDChXO9LSEgAALi5uVVEWUXI5XLIZDJYWVnxRhktwZ5qH/ZUu7Cf2oc91T6l9bQ8ee29HhKjrS5duoS///4bhw8fxp49ezRdDhERERFpkFYE9tWrVyMqKqrE+T4+PggNDVVjRe/mxIkTWLVqFSZOnFjoUZFEREREVPloRWDv3bs3vL29S5xvbGysxmre3fjx4zF+/HhNl0FEREREIqAVgd3U1BSmpqaaLoOIiIiISOXe66fEEBERERFpOwZ2IiIiIiIRY2AnIiIiIhIxBnYiIiIiIhFjYCciIiIiEjEGdiIiIiIiEWNgJyIiIiISMQZ2IiIiIiIRY2AnIiIiIhIxBnYiIiIiIhFjYCciIiIiEjEGdiIiIiIiEWNgJyIiIiISMQZ2IiIiIiIRY2AnIiIiIhIxBnYiIiIiIhFjYCciIiIiEjEGdiIiIiIiEWNgJyIiIiISMQZ2IiIiIiIRY2AnIiIiIhIxBnYiIiIiIhHT1XQBRGIgCAJOpNzH3SfZsDE1Qtva1pBIJJoui4iIiKjyBvZr164hJycHcrkcn332GRITEzVdEmlIXEI6gnbHIzkjSznNycIEET4e8HOrqcHKiIiIiCrxkJixY8fi5s2bmi6DNCwuIR39Yo8XCusAkJyRhX6xxxGXkK6hyoiIiIheqLRX2Em1ZHIJ8rPzofsefaIEQcCkXRdQIAjFzi8QBATviYevqz2HxxAREZHGvEfxSnUCAgJw584dhISEwNbWFgCwYcMGxMTE4OnTp+jSpQtmzZoFfX19REdH49q1a3j8+DGSkpKwePFiNGnSBPPnz8fu3bsBAG3btsXUqVNhbm4OAPj3338xa9YsnDp1ChYWFujVqxdGjx4NqVRapvp++eUX/Pzzz3j27Bl69eqFxMRE+Pn5oVevXuXaT7lcXq7l35ZcLsfeTD0g85latqcqqfcykZb59I3L3HiQhWNJd+HlaK2mqsRBLpdDoVCo7TNEFY891S7sp/ZhT7WPKntaKQN7dHQ0evbsieHDh8PW1hZjx47F/v378fPPP0Mmk2HcuHFo1KgR/P39AQCHDx/GzJkz0aRJEzg6OmLhwoW4cuUKVqxYgSpVqmDRokX46quvEBsbC0EQMG7cONSrVw9xcXGQyWSYPn06JBIJxo4dW2ptu3btQlRUFObMmYM6depgwYIFOHfuHPz8/Mq1jwqFAjKZ7K2OT3kpFAoAhmrZlipl5eSWabnE2/fhYly5rrArFApkZ2cDQJl/0CRxY0+1C/upfdhT7VNaTxUKRZl7XSkDu7m5OaRSKUxMTGBiYgIAmDFjBhwdHeHs7IzWrVvj+vXryuUtLS2V4T0nJwfr1q3Dtm3b4OLiAgCYP38+WrRogcTERGRmZuLu3bvYsmULdHR0ULt2bQQFBSEkJKRMgf3XX3/FkCFD8OmnnwIAIiIi0L59+3Lvo1QqhZWVVbnf9zbkcjk6yzNhZmYG3fdoTIyT1BybTpa+nIudtdqOpVi8vBpgYWEBPT09DVdDqsCeahf2U/uwp9qntJ5mZGSUeV3vT7qqYDVr/t/TQExMTPD8+XPl65fDZgDg1q1bkMvlGDBgQKH3FxQU4ObNm5DJZHj06BGaNm1aaF5ubi4ePnyIDz744I11JCYmYuTIkcrXZmZmcHR0fKt9UucJX91AB1amBu/VNxl7N3s4WZgUueH0VXUsTdChrk2lHMMulUqhp6f3XvWU3ow91S7sp/ZhT7WPqnrKwP7/vf4rCeGVGxGrVKmi/PrF8I8XV8KNjIwKvcfCwgJbt25F7dq1ERMTU2QbL6/ml1aH8NpNkK+/JtWQSCSI8PFAv9jjxd54qiORYF53j0oZ1omIiEg8Ku1jHd+Wvb09pFIpHj16BAcHBzg4OMDY2Bhz585FRkYGHB0dcffuXVSrVk05//bt24iKiipT8KtTpw7+/vtv5eunT58iLS2tInepUvNzq4nNQ9qhjmXhH6bqWJpg85B2fA47ERERaVylvcJuZGSElJQUGBsbl+t9xsbG6Nu3L2bOnInQ0FBYWFhg7ty5uHv3Luzs7GBnZwdbW1t8++23mDhxIrKysjBt2jS0bt26TDcWBAQEYMaMGahXrx6cnJzw448/Ijs7m1d5K5CfW034utrjRMp9/PskBzZmhvBy5F86JSIiInGotIHd398fkZGR2Lx5c7nfGxwcjIiICEyYMAFyuRzNmjXDTz/9pAzkS5cuRVhYGPr16wcjIyN06dIFQUFBZVp3t27dkJaWhhkzZiAvLw/9+/eHra0tx7NVMIlEgnZO1TVdBhEREVEREoEDpEXl7NmzsLe3x4cffggAyM/PR8uWLbFkyRK0aNGiTOtISEgAALi5uVVYna+Sy+WQyWSwsrLiDxZagj3VPuypdmE/tQ97qn1K62l58lqlvcIuVocOHcLFixcxa9YsVK1aFWvWrIGxsTGaNGmi6dKIiIiISAMY2NVo9erViIqKKnG+j48PJk+ejNDQUAwbNgx5eXlwd3fHypUrCz2phoiIiIgqDwZ2Nerduze8vb1LnG9sbAxjY2PMnz9fjVURERERkZgxsKuRqakpTE1NNV0GEREREb1H+Bx2IiIiIiIRY2AnIiIiIhIxBnYiIiIiIhFjYCciIiIiEjEGdiIiIiIiEWNgJyIiIiISMQZ2IiIiIiIRY2AnIiIiIhIxBnYiIiIiIhFjYCciIiIiEjEGdiIiIiIiEWNgJyIiIiISMQZ2IiIiIiIRY2AnIiIiIhIxBnYiIiIiIhFjYCciIiIiEjEGdiIiIiIiEWNgJyIiIiISMQZ2IiIiIiIRY2AnIiIiIhIxBnYiIiIiIhFjYCciIiIiEjFdTRdApEmCIOBEyn3cfZING1MjtK1tDYlEoumyiIiIiJTUFtivXbuGnJwceHh4VNg2vL29MW7cOPTq1avCtkHaIy4hHUG745GckaWc5mRhgggfD/i51dRgZURERET/R21DYsaOHYubN2+qa3NEbxSXkI5+sccLhXUASM7IQr/Y44hLSNdQZURERESFcUgMqYRMLkF+dj5034NPlCAImLTrAgoEodj5BYKA4D3x8HW15/AYIiIi0ji1xKuAgADcuXMHISEhOHv2LL744guEh4fj4sWLqFq1Kvr3748xY8ZAR0cH0dHROHv2LNauXat8/6tDXfLz8xEVFYXt27cjJycHbdq0waxZs/DBBx8AAJKSkjBgwAD8/fffcHJywty5c1G/fv1Sa5TL5Zg1axYOHjyI58+fo0WLFpg1axaqV68OANi5cyeWLl2Kf//9F/Xr18f06dPRoEEDBAcHAwCuXr0KmUyGDRs2oFq1aggLC8Phw4dhZGSEzp0749tvv4WBgQEA4J9//kFYWBguX76MDz/8EJ999hkGDRoEAIiOjsbNmzdhbGyM3bt3o0qVKhg+fDi++OKLch93uVxe7ve8Dblcjr2ZekDmM7Vs712l3stEWubTNy5z40EWjiXdhZejtZqqEhe5XA6FQqG2zxBVPPZUu7Cf2oc91T6q7KlaAnt0dDR69uyJ4cOH46OPPkKvXr3g7e2NLVu2IDU1FVOnToWxsTGGDh1a6rp+/PFH7NixA+Hh4bCxscGMGTMwY8YMREVFAQC2bt2KuXPnwsnJCTNnzsSMGTOwefPmUte7fv16nDt3DqtWrYKBgQFmzpyJ8PBw/Pjjjzhx4gSmTJmCKVOmoHXr1li7di1GjRqFw4cPA3gR5pcsWQJLS0vUqlUL48ePh1wux4YNG5CXl4fZs2cjNDQU4eHhyM3NxRdffAE/Pz+EhYUhJSUF06ZNQ9WqVeHr6wsA2L9/PwYOHIi4uDgcPHgQ33//PT766CM4OjqW+ZgrFArIZLIyL/8uFAoFAEO1bEsVsnJyy7Rc4u37cDGunFfYFQoFsrOzAQBSqVTD1ZAqsKfahf3UPuyp9imtpwqFosy9VktgNzc3h1QqhYmJCQ4fPgxDQ0OEhYVBV1cXTk5OkMlkWLJkSamBXRAEbN68GUFBQWjXrh0AYNasWdi7d69yGX9/f3z00UcAXlzZ//rrr8tU4+3bt1GlShXY2trC3Nwc8+bNw6NHjwAAmzZtQvfu3eHv7w8AmDx5MvT09PD48WMAgJubG7y9vQEA6enpOHToEM6ePQsTExMAQFhYGHx9fRESEoJ9+/bBwsICgYGBAIBatWrhzp07WLNmjTKwm5ubIygoCFKpFCNGjMCKFStw5cqVcgV2qVQKKyurMi//LuRyOTrLM2FmZgbd92BMjJPUHJtOlr6ci5212o6h2Ly8GmBhYQE9PT0NV0OqwJ5qF/ZT+7Cn2qe0nmZkZJR5XWpPV8nJyWjYsGGhYOfu7g6ZTIYnT5688b0PHz7Eo0eP0LBhQ+W0OnXqYPz48crX9vb2yq9NTEyQl5dXprr69++P3377DV5eXmjevLnyNwEAkJqaigEDBiiX1dfXR1BQkPK1ra1tof0rKChQ/kDxUkFBAdLS0pCSkoLr16/D3d1dOe/1n7Ds7OwKva5atSry8/PLtB+vUucJX91AB1amBu/FNxl7N3s4WZgUueH0VXUsTdChrk2lHsMulUqhp6f3XvSUyoY91S7sp/ZhT7WPqnqq9sBepUqVItMKCgoAvAiuxQWkl2G1LFdv3/bXSHXr1sWRI0dw7NgxHDt2DAsXLsSePXuwfv36Urf76j4pFAqYmJhg27ZtRZarXr068vPz0apVK0yfPr3E9RXXVKGEGySp/CQSCSJ8PNAv9nixN57qSCSY192jUod1IiIiEg+1/6VTR0dH/P3334UG4F+8eBHVqlWDubk59PT08OzZ/928+OzZM2RmZgIATE1N8cEHH+D69evK+deuXUO7du2Qm1u2cckl2bFjB44ePYpPP/0UERERWLlyJS5cuICMjAw4ODgU2qZCoYC3tzcuXLhQ7P5lZWVBIpHAwcEBDg4OyM3Nxfz58/H8+XM4OjoiNTUVdnZ2yvmXLl0qdJMtVTw/t5rYPKQd6liaFJpex9IEm4e043PYiYiISDTUFtiNjIyQkpKCdu3a4fnz55g+fTqSk5Nx6NAhREdHw9/fHxKJBG5ubrh+/Tr27t2L1NRUTJ8+HTo6/1dmQEAAfvzxR5w+fRpJSUmYM2cOmjRponwCy9vKysrCnDlzcOrUKdy6dQu7d+9GjRo18MEHHyAgIAC7du1CXFwc0tLSMHfuXAiCUGhozktOTk5o27YtvvnmG/z111/4+++/ERISguzsbJiamqJHjx7Izc1V7v/vv/+OOXPmwMLC4p3qp/Lzc6uJ68E9cXTMJ/h1cFscG/sJrgf3ZFgnIiIiUVHbkBh/f39ERkbi5s2bWLlyJebMmQNfX19Uq1YNQ4YMwahRowAArVq1wtChQ5VBfdiwYbh//75yPSNHjkRWVhYCAwORn5+PDh06YNq0ae9c36BBg/Dff//h22+/xePHj+Hq6oqlS5dCKpWiWbNmmDFjBpYsWQKZTAZXV1csW7asxB8S5s+fj9mzZ2Po0KHQ1dVF27ZtMXXqVACAsbExVqxYgfDwcPj6+sLc3ByDBg1S7j+pl0QiQTun6poug4iIiKhEEoGDo7VOQkICgBdPr1EHuVwOmUwGKysr3iijJdhT7cOeahf2U/uwp9qntJ6WJ6+pfQw7ERERERGVnfgfmq0Cf/31F4YMGVLifBsbG/z2229qrIiIiIiIqGwqRWCvV68eduzYUeL89+GP/RARERFR5VQpkqq+vj4cHBw0XQYRERERUblxDDsRERERkYgxsBMRERERiRgDOxERERGRiDGwExERERGJGAM7EREREZGI8S+daqH4+HgIggB9fX21bVOhUEAqlapte1Tx2FPtw55qF/ZT+7Cn2udNPX3+/DkkEgk8PDxKXU+leKxjZSORSNS+TX6D0T7sqfZhT7UL+6l92FPt86aeSiSSMmc2XmEnIiIiIhIxjmEnIiIiIhIxBnYiIiIiIhFjYCciIiIiEjEGdiIiIiIiEWNgJyIiIiISMQZ2IiIiIiIRY2AnIiIiIhIxBnYiIiIiIhFjYKdi5eXl4bvvvoOnpye8vLywatWqEpe9evUq+vbti8aNG6N37964cuVKofl79uzBRx99hMaNG2Ps2LHIzMys6PKpGKrsqaenJ1xcXAr99+zZs4reBXpNeXr60vnz59GpU6ci03meioMqe8rzVPPK089jx46hZ8+ecHd3h4+PDw4fPlxoPs9RcVBlT8t1jgpExQgNDRV8fHyEK1euCAcOHBDc3d2FvXv3Flnu2bNnQps2bYR58+YJN27cEMLCwoTWrVsLz549EwRBEC5fviw0atRIiIuLE65duyYMHjxYGDlypLp3hwTV9fS///4TnJ2dhfT0dOH+/fvK/woKCtS9S5VeWXv60vXr14XWrVsLHTt2LDSd56l4qKqnPE/Foaz9vHbtmtCwYUMhNjZWuHnzprBu3TqhYcOGwrVr1wRB4DkqJqrqaXnPUQZ2KuLZs2eCm5ubcPr0aeW0JUuWCIMHDy6y7JYtWwRvb2/lB6ygoED4+OOPhW3btgmCIAjffvutEBQUpFz+7t27gouLi5Cenl7Be0GvUmVP//jjD6FNmzbqKZxKVJ6eCoIgbNiwQWjSpIng4+NTJNzxPBUHVfaU56nmlaef33//vfD5558XmjZ8+HBh4cKFgiDwHBULVfa0vOcoh8RQEdevX0d+fj7c3d2V05o2bYrLly+joKCg0LKXL19G06ZNIZFIAAASiQQeHh64dOmScr6np6dy+Q8//BA2Nja4fPlyxe8IKamypzdu3ICjo6PaaqfilaenAHD8+HFERERg6NChRebxPBUHVfaU56nmlaeffn5++Oabb4qsIysrCwDPUbFQZU/Le44ysFMRMpkMH3zwAfT19ZXTLC0tkZeXh0ePHhVZ1trautA0CwsL/PfffwCA+/fvv3E+qYcqe5qcnIycnBwEBATAy8sLX3zxBVJTUyt8H6iw8vQUAGJiYvDJJ58Uuy6ep+Kgyp7yPNW88vTTyckJ9erVU75OSkrCqVOn0KpVKwA8R8VClT0t7znKwE5F5OTkFPowAlC+fv78eZmWfblcbm7uG+eTeqiypykpKXj8+DFGjx6NmJgYGBgYYOjQoXj69GkF7gG9rjw9LQ3PU3FQZU95nmre2/YzMzMT48ePh4eHh/JmYp6j4qDKnpb3HNVV0T6QFqlSpUqRD97L1wYGBmVa9uVyJc03NDRUddn0Bqrs6c8//wy5XI6qVasCACIjI9G+fXscPXoUPj4+FbUL9Jry9PRt18XzVL1U2VOep5r3Nv188OABhg0bBkEQEBUVBR0dnTeui+eoeqmyp+U9R3mFnYqoXr06Hj58iPz8fOU0mUwGAwMDmJqaFln2wYMHhaY9ePBA+au7kuZbWVlVUPVUHFX2VF9fX/kNBnjxDczOzg737t2rwD2g15Wnp2VZF89TzVNlT3meal55+3nv3j0MGjQIz58/x5o1a1CtWrVC6+I5qnmq7Gl5z1EGdiqifv360NXVVd5kCAAXLlyAm5ub8ifDlxo3boyLFy9CEAQAgCAIiI+PR+PGjZXzL1y4oFz+33//xb///qucT+qhqp4KgoCPPvoI27dvVy6fnZ2NtLQ01K5dWy37Qi+Up6el4XkqDqrqKc9TcShPP7OzszFixAjo6Ohg3bp1qF69eqH5PEfFQVU9fZtzlIGdijA0NISvry9mzpyJv/76C4cOHcKqVavw2WefAXjx02Rubi4AoEuXLnjy5AnmzJmDGzduYM6cOcjJycGnn34KAPD398fOnTuxZcsWXL9+HZMnT0aHDh1gb2+vsf2rjFTVU4lEgg4dOiA6OhpnzpxBUlISJk+ejBo1aqB9+/aa3MVKpzw9LQ3PU3FQVU95nopDefq5fPlypKenIyIiQjlPJpMpnyjCc1QcVNXTtzpHy/cESqossrOzhcmTJwtNmjQRvLy8hNWrVyvnOTs7K5/JLQgv/qCDr6+v4ObmJvTp00f4+++/C61r27ZtQvv27YUmTZoIY8eOFTIzM9W1G/QKVfU0NzdXmDt3rtCmTRuhcePGwqhRo4S7d++qc1fo/ytPT1/atm1bkWd2v5zO81TzVNVTnqfiUNZ+du7cWXB2di7y36vPXuc5Kg6q6ml5z1GJIPz/33sTEREREZHocEgMEREREZGIMbATEREREYkYAzsRERERkYgxsBMRERERiRgDOxERERGRiDGwExERERGJGAM7EREREZGIMbATEREREYkYAzsRkUgFBASgV69eJc6fOnUqOnfu/Fbr3r59O1xcXMq8fHR0NLy9vd+4jIuLC7Zv3/5W9bxNTer08OFDbNmyRdNlEFElxcBORCRSffr0wd9//43k5OQi8/Ly8rBv3z706dPnrdbdtWtXnDx58l1LrDTmz5+PXbt2aboMIqqkGNiJiESqc+fOMDExwe7du4vMO3ToEHJycuDr6/tW6zYwMICVldU7Vlh5CIKg6RKIqBJjYCciEikDAwN069YNe/bsKTIvLi4O7du3h5WVFf755x+MGjUKzZo1g6urKzp16oRVq1Ypl42OjsbgwYMxceJEeHh4ICwsrMjwk9LW8dKSJUvQokULeHh44JtvvsGjR49KrP/o0aPo1asXGjVqhI8//hg//PADnj9/Xub9Dw4OxuTJkzF79mx4enqiefPmiIqKQnJyMgYOHIhGjRrBx8cHly9fVr7HxcUF69evR79+/eDm5gYfHx8cPny40HqPHTuGfv36wd3dHV5eXpg7dy5yc3MLrSMqKgodO3aEl5cXJk2ahLi4OJw9e1Z5zB4/foypU6eibdu2aNiwIVq1aoWpU6ciJycHAHDmzBk0aNAAv//+O7p37w5XV1d06dIFhw4dUm5HEATExsaic+fOaNSoUZFe37t3DxMnToSnpydatGiBL7/8Ejdv3izz8SMi7cHATkQkYr1798atW7dw8eJF5TSZTIY///wTffv2RU5ODoYPHw5zc3Ns3LgRe/bsQZcuXRAREYFr164p33Pu3DlYWlpi586dCAgIKLSNsq7jzp07OH36NFavXo1ly5YhISEBISEhxdZ9/PhxBAYGol+/ftizZw9mzJiBvXv34ttvvy3X/v/vf/+DVCrF9u3bMXToUCxZsgRffvklPv/8c2zZsgVVqlTBrFmzCr0nMjISPXv2xM6dO9G+fXuMGzcO8fHxAICDBw9i9OjR6NChA7Zv345Zs2bhf//7H77++utC6/j1118RFRWFxYsXY+bMmfj000/h7u6uHEYUHByMq1evYvHixdi/fz9CQkKwY8cObNq0SbkOhUKB77//HlOmTMGePXvg7OyMoKAgPHv2DACwcuVKLFq0CCNGjMCePXswYMAATJ48GadPn0Z2drayT+vWrcPatWvxwQcfoF+/frh37165jiERaQGBiIhErXv37sKsWbOUr1euXCl4eXkJ+fn5QkZGhrB8+XLh6dOnyvm5ubmCs7OzEBcXJwiCIERFRQnOzs7CkydPlMts27ZNcHZ2FgRBKPM63NzcBJlMplzm5MmTgrOzs3Dz5k1BEATB2dlZ2LZtmyAIguDv7y/Mnj270H6cOnVKcHZ2Fm7dulXsfr5akyAIQlBQkNCmTRtBoVAIgiAIz549E5ydnYWFCxcql1m/fr3QsGFD5WtnZ2chNDS00Hr79u0rTJw4URAEQejTp48wfvz4QvMPHjwoODs7C0lJScp1hIeHF1omKChIGDx4sPL12rVrhevXrxfZTkhIiCAIgnD69GnB2dlZOHjwoHL+tWvXBGdnZyE+Pl4oKCgQ2rRpIyxYsKDQOn766SfhxIkTwubNm4UWLVoIcrlcOU+hUAgdO3YUoqKiij1+RKS9dDX9AwMREb1Z7969sXz5cnz33XfQ1dXFjh074OfnB6lUimrVqmHgwIHYs2cPrl69ivT0dFy/fh0AUFBQoFyHhYUFTExMil1/Wdfh4OAAS0tL5evGjRsDAJKSkuDg4FBonVevXsVff/2FrVu3KqcJ/38ceHJyMuzs7Mq073Z2dtDRefHLYCMjIwCAvb29cr6BgQHkcnmh97Ro0aLQa3d3d/zxxx8AXgz96datW6H5zZs3V86rU6eOcl/fZODAgThy5Aji4uJw8+ZN3LhxA7dv30bt2rULLffqa2NjYwCAXC7Hw4cPIZPJlMfwpS+++AIAMGvWLDx+/BjNmjUrND8vL6/Ym5CJSLsxsBMRiVyPHj0QGRmJP/74A1ZWVkhKSsLixYsBvBge079/f1SrVg3e3t7w8vKCm5sb2rdvX2gdBgYGJa6/rOuQSqWFXisUCgCAnp5ekXUWFBRgxIgR8PPzKzKvPDe7FrfulwG+JLq6hf9pUygUyvcIxdw8+vKHklff96bjVVBQgFGjRiEpKQndu3dH165d0bBhQ0ybNq3Isvr6+kWmCYJQ7H69vg1HR0csXbq0yLyXP7gQUeXBwE5EJHIvg/T//vc/WFpaolmzZsorwHv27MGjR4+wf/9+ZQhMTEwEUPYnm5R1HTdv3sTTp0+VV4ovXLgAiUSivCr9qrp16yI1NbXQleozZ85gzZo1mDlzZoWGzoSEhELPjL948SIaNmwI4MUNpfHx8Rg6dKhy/vnz5wEATk5OJa5TIpEov7527RqOHz+OzZs3K6+Qy+VypKenF7r6/yYmJiawtrZGQkICOnXqpJw+YcIEfPjhh3B2dsbOnTthYmKCatWqKbcxadIkdOnSBV27di3TdohIO/CmUyKi90CfPn1w9OhR7N+/v9Cz12vUqIGcnBzs27cPd+/excmTJ5U3UJb1iSxlXUdeXh4CAwNx9epV/PHHHwgLC4Ovry9sbW2LrPOLL77A/v37sXjxYqSmpuLUqVMICQlBVlZWhT9OMjY2Frt370ZqaioiIiKQmJiIIUOGAABGjBiBAwcOICYmBqmpqTh69CjCwsLQsWPHNwZ2IyMj3L9/H7du3YKlpSV0dXWxd+9e3Lp1CwkJCQgMDIRMJivXU3BGjhyJ2NhY7Ny5E+np6VizZg0OHz6MTp06oUePHjAzM8OECRNw+fJlJCcnIzg4GMePHxftH5cioorDK+xERO8BLy8vGBkZ4dGjR4X+ummXLl3w999/Y968eXj69ClsbW3Rt29fHD58GAkJCfD39y913WVdh6urK+rXr4/PPvsMEokEXbt2RXBwcInrXLRoEZYvX45ly5bB3Nwc3t7e+Oabb1RzQN5gwIAB+OWXX/DPP/+gXr16+Pnnn1GvXj0AL55tv3DhQixduhQxMTGoVq0aunfvjgkTJrxxnb6+vjh48CC6d++OAwcOYN68eYiOjsb69ethZWWFDh06YOjQoThy5EiZ6xw8eDByc3Px448/QiaToVatWli0aJFyTP26deswf/58fP7551AoFGjYsCFWrVr1xh8siEg7SYSy/s6UiIhI5FxcXDB37lz06tVL06UQEakMh8QQEREREYkYAzsRERERkYhxSAwRERERkYjxCjsRERERkYgxsBMRERERiRgDOxERERGRiP0/v1tpoaUlZjQAAAAASUVORK5CYII=",
          "text/plain": "<Figure size 800x500 with 1 Axes>"
         },
         "metadata": {},
         "output_type": "display_data"
        }
       ]
      }
     },
     "3933cf32310141e08b0a4c4029565890": {
      "model_module": "@jupyter-widgets/controls",
      "model_module_version": "2.0.0",
      "model_name": "HTMLStyleModel",
      "state": {
       "description_width": "",
       "font_size": null,
       "text_color": null
      }
     },
     "39d9211c462e47d59098c429fc1b7174": {
      "model_module": "@jupyter-widgets/controls",
      "model_module_version": "2.0.0",
      "model_name": "HTMLModel",
      "state": {
       "layout": "IPY_MODEL_eb52def86db342128f248dfcfdec8239",
       "style": "IPY_MODEL_4a5e9bb03b3f4a7189896aa4c3f31792",
       "value": " 69/69 [01:10&lt;00:00,  1.90s/it]"
      }
     },
     "3ae86053818e426e8be081c304343408": {
      "model_module": "@jupyter-widgets/controls",
      "model_module_version": "2.0.0",
      "model_name": "HTMLModel",
      "state": {
       "layout": "IPY_MODEL_47f067147bd549969e3272a6d82b7369",
       "style": "IPY_MODEL_4ea2e0d4f1734e22a8bd2fc25ef1af3d",
       "value": "Processing: 100%"
      }
     },
     "3bf585ffca9b4c3d964be9ce619fecee": {
      "model_module": "@jupyter-widgets/base",
      "model_module_version": "2.0.0",
      "model_name": "LayoutModel",
      "state": {
       "visibility": "hidden"
      }
     },
     "3cf48e55d3ce435f80cedfae14717359": {
      "model_module": "@jupyter-widgets/controls",
      "model_module_version": "2.0.0",
      "model_name": "HTMLModel",
      "state": {
       "layout": "IPY_MODEL_6e4206cc00d54888b093aaa45a04b6ef",
       "style": "IPY_MODEL_e9d93164af5640e18a3f86e1de978758",
       "value": "Processing: 100%"
      }
     },
     "3e1655c4b5fb43ba927fce04b49657a6": {
      "model_module": "@jupyter-widgets/controls",
      "model_module_version": "2.0.0",
      "model_name": "VBoxModel",
      "state": {
       "_dom_classes": [
        "widget-interact"
       ],
       "children": [
        "IPY_MODEL_409e5cd5f9784c8c87f2bafb223430d5",
        "IPY_MODEL_6404e3ebd1fa4cbb92e3e1c91410c57b"
       ],
       "layout": "IPY_MODEL_5923e1961aa14b20a4b9bb48b1741924"
      }
     },
     "3ee17a1793b34c07bdb5a9ad70ff6330": {
      "model_module": "@jupyter-widgets/base",
      "model_module_version": "2.0.0",
      "model_name": "LayoutModel",
      "state": {}
     },
     "3efc5de67873465cad52c859d5e31d62": {
      "model_module": "@jupyter-widgets/controls",
      "model_module_version": "2.0.0",
      "model_name": "HTMLStyleModel",
      "state": {
       "description_width": "",
       "font_size": null,
       "text_color": null
      }
     },
     "409e5cd5f9784c8c87f2bafb223430d5": {
      "model_module": "@jupyter-widgets/controls",
      "model_module_version": "2.0.0",
      "model_name": "ToggleButtonsModel",
      "state": {
       "_options_labels": [
        "Pipeline Plot",
        "Hyperparameters",
        "AUC",
        "Confusion Matrix",
        "Threshold",
        "Precision Recall",
        "Prediction Error",
        "Class Report",
        "Feature Selection",
        "Learning Curve",
        "Manifold Learning",
        "Calibration Curve",
        "Validation Curve",
        "Dimensions",
        "Feature Importance",
        "Feature Importance (All)",
        "Decision Boundary",
        "Lift Chart",
        "Gain Chart",
        "Decision Tree",
        "KS Statistic Plot"
       ],
       "button_style": "",
       "description": "Plot Type:",
       "icons": [
        ""
       ],
       "index": 15,
       "layout": "IPY_MODEL_186545a28d6e4d5e8c9469ed2ab7b99f",
       "style": "IPY_MODEL_c7030cb8423c460f8e4e2f03be188fc9",
       "tooltips": []
      }
     },
     "40d4c74d5d404947a509df7daddc3470": {
      "model_module": "@jupyter-widgets/base",
      "model_module_version": "2.0.0",
      "model_name": "LayoutModel",
      "state": {}
     },
     "41c72006d8cb4b23b4569d839caa9fa2": {
      "model_module": "@jupyter-widgets/base",
      "model_module_version": "2.0.0",
      "model_name": "LayoutModel",
      "state": {}
     },
     "42817ab9eb574804a55cd48e54be4657": {
      "model_module": "@jupyter-widgets/base",
      "model_module_version": "2.0.0",
      "model_name": "LayoutModel",
      "state": {
       "visibility": "hidden"
      }
     },
     "42c1e6a0f22043f5967494f2cda9e27e": {
      "model_module": "@jupyter-widgets/controls",
      "model_module_version": "2.0.0",
      "model_name": "FloatProgressModel",
      "state": {
       "layout": "IPY_MODEL_bb5b523d183c44098be84cbecd920157",
       "max": 4,
       "style": "IPY_MODEL_e4ed48d8e93243808e78de1308331ac3",
       "value": 4
      }
     },
     "435e1ef505524f88a06c9f9bf95e4eda": {
      "model_module": "@jupyter-widgets/controls",
      "model_module_version": "2.0.0",
      "model_name": "VBoxModel",
      "state": {
       "_dom_classes": [
        "widget-interact"
       ],
       "children": [
        "IPY_MODEL_fb04befd521346db9a275b1389020208",
        "IPY_MODEL_255176c4a7a244a28ac29760e454d592"
       ],
       "layout": "IPY_MODEL_5423f80ecab04858bb35db91339eaecf"
      }
     },
     "44bf6c69764247f7a19d233bc45c92c8": {
      "model_module": "@jupyter-widgets/controls",
      "model_module_version": "2.0.0",
      "model_name": "HTMLStyleModel",
      "state": {
       "description_width": "",
       "font_size": null,
       "text_color": null
      }
     },
     "45576d73ed7844ecbd3b74720d5e27f8": {
      "model_module": "@jupyter-widgets/base",
      "model_module_version": "2.0.0",
      "model_name": "LayoutModel",
      "state": {}
     },
     "45d140a53bf84e0eb33e59f27a9a0857": {
      "model_module": "@jupyter-widgets/controls",
      "model_module_version": "2.0.0",
      "model_name": "ProgressStyleModel",
      "state": {
       "description_width": ""
      }
     },
     "46375473a8e44c148a2e6e66df0a41de": {
      "model_module": "@jupyter-widgets/base",
      "model_module_version": "2.0.0",
      "model_name": "LayoutModel",
      "state": {
       "visibility": "hidden"
      }
     },
     "465ac9db1c7c4d3d99814d19e522b5dc": {
      "model_module": "@jupyter-widgets/controls",
      "model_module_version": "2.0.0",
      "model_name": "HTMLStyleModel",
      "state": {
       "description_width": "",
       "font_size": null,
       "text_color": null
      }
     },
     "46fa79fe03934fb8b0874de615e99c2e": {
      "model_module": "@jupyter-widgets/controls",
      "model_module_version": "2.0.0",
      "model_name": "ToggleButtonsStyleModel",
      "state": {
       "button_width": "",
       "description_width": ""
      }
     },
     "473d3122b62e49bcab20488e322f19a9": {
      "model_module": "@jupyter-widgets/base",
      "model_module_version": "2.0.0",
      "model_name": "LayoutModel",
      "state": {}
     },
     "47f067147bd549969e3272a6d82b7369": {
      "model_module": "@jupyter-widgets/base",
      "model_module_version": "2.0.0",
      "model_name": "LayoutModel",
      "state": {}
     },
     "4a36ee40ef764101a582301e29bae432": {
      "model_module": "@jupyter-widgets/controls",
      "model_module_version": "2.0.0",
      "model_name": "ToggleButtonsStyleModel",
      "state": {
       "button_width": "",
       "description_width": ""
      }
     },
     "4a5e9bb03b3f4a7189896aa4c3f31792": {
      "model_module": "@jupyter-widgets/controls",
      "model_module_version": "2.0.0",
      "model_name": "HTMLStyleModel",
      "state": {
       "description_width": "",
       "font_size": null,
       "text_color": null
      }
     },
     "4b71185f554047cdb4a3d092e0771c68": {
      "model_module": "@jupyter-widgets/controls",
      "model_module_version": "2.0.0",
      "model_name": "FloatProgressModel",
      "state": {
       "layout": "IPY_MODEL_f0825bfa88de4fe8b4572a135519f04c",
       "max": 4,
       "style": "IPY_MODEL_d2bf64db285c490399dc9bfad047e810",
       "value": 4
      }
     },
     "4c29397a320f4867bc5c48101cbf6817": {
      "model_module": "@jupyter-widgets/controls",
      "model_module_version": "2.0.0",
      "model_name": "HTMLStyleModel",
      "state": {
       "description_width": "",
       "font_size": null,
       "text_color": null
      }
     },
     "4cb7ed38516d4417842ee21dd0c4fb41": {
      "model_module": "@jupyter-widgets/base",
      "model_module_version": "2.0.0",
      "model_name": "LayoutModel",
      "state": {}
     },
     "4d098a05566740a6a2861357c87ebf1e": {
      "model_module": "@jupyter-widgets/controls",
      "model_module_version": "2.0.0",
      "model_name": "HTMLStyleModel",
      "state": {
       "description_width": "",
       "font_size": null,
       "text_color": null
      }
     },
     "4d2916c3a3eb42278f360119e9f3022f": {
      "model_module": "@jupyter-widgets/base",
      "model_module_version": "2.0.0",
      "model_name": "LayoutModel",
      "state": {}
     },
     "4dc65063fe7149bc8ad121b94ba20e3b": {
      "model_module": "@jupyter-widgets/base",
      "model_module_version": "2.0.0",
      "model_name": "LayoutModel",
      "state": {}
     },
     "4ea2e0d4f1734e22a8bd2fc25ef1af3d": {
      "model_module": "@jupyter-widgets/controls",
      "model_module_version": "2.0.0",
      "model_name": "HTMLStyleModel",
      "state": {
       "description_width": "",
       "font_size": null,
       "text_color": null
      }
     },
     "4f09273e208845eea7d5487c15faee71": {
      "model_module": "@jupyter-widgets/controls",
      "model_module_version": "2.0.0",
      "model_name": "HTMLStyleModel",
      "state": {
       "description_width": "",
       "font_size": null,
       "text_color": null
      }
     },
     "525c064cfcec43e6a36159f945c14987": {
      "model_module": "@jupyter-widgets/output",
      "model_module_version": "1.0.0",
      "model_name": "OutputModel",
      "state": {
       "layout": "IPY_MODEL_977d0d3184e04bb6bc2912a6ade00d8e",
       "outputs": [
        {
         "data": {
          "image/png": "iVBORw0KGgoAAAANSUhEUgAAAusAAANLCAYAAAD4ktNnAAAAOXRFWHRTb2Z0d2FyZQBNYXRwbG90bGliIHZlcnNpb24zLjcuNSwgaHR0cHM6Ly9tYXRwbG90bGliLm9yZy/xnp5ZAAAACXBIWXMAAA9hAAAPYQGoP6dpAACrnklEQVR4nOzdeVxU9f7H8fcwYIAgJqCGICEqpmKK5IrmUtlNcU3L0lxuZWaZZinuKS5pLuWWtmho3tzS1LotN63UMncNr0qKW2gpgibmNgzz+6OfcyNBUPHMEV7Px6PHnTnnzPl+5sNcfPPlew4Wh8PhEAAAAADTcXN1AQAAAAByRlgHAAAATIqwDgAAAJgUYR0AChkuRbo+9Otq9AQwD8I6ANwicXFxioiIyPW/L774okDHu3z5ssaNG6fVq1cX6Hmv1/Tp0xUREeHSGvLDLP26Xs2aNbvqsxQZGakHH3xQkydP1qVLl5zHRkREaPr06dd1/qVLl2rChAkFXTaAG+Tu6gIAoDALDAzUjBkzctx39913F+hYJ0+eVEJCgsaPH1+g5y2sbud+3X///Xr++eedzy9duqRNmzZp1qxZOnbsmKZMmXLD53777bdVp06dgigTQAEgrAPALVSsWDHVrFnT1WWgkClVqtRVn6u6devqt99+0/LlyxUXF6fSpUu7pjgABYplMABgAl9//bXat2+vyMhINWzYUGPGjNH58+evOuaJJ55QrVq1VL16dT388MNauHChJCklJUXNmzeXJA0ePFjNmjWTJHXt2lVdu3bNdp5NmzYpIiJCmzZtkiQtX75cVatW1dKlS9WwYUPVqVNHBw4cyHddeVm+fLkiIyO1detWdejQQZGRkWrRooXWrl2rgwcPqlu3brr33nv14IMP6rPPPsv2uoiICO3atUvt2rVTjRo1FBsbe9XyoYyMDI0fP14PPPCAIiMj1apVKy1btizbMc2aNdO4cePUrVs31ahRQ927d8+xX9Kfy0Dat2+vmjVrqkaNGmrTpo0+//zzbHVVrVpVu3bt0mOPPabIyEg1bdpU77//frYxz507p/j4eDVq1Eg1a9ZUhw4d9O2332Y7ZunSpWrZsqWqV6+uJk2aaPr06bLb7dfV37+qXr26HA6Hfv311xz3nzx5UoMHD9b999+vGjVq6NFHH9WaNWuy9enYsWNasWKFIiIilJKScsO1ACgYhHUAuMUyMzOv+u+vF/CtXr1affr0UYUKFTRz5ky98MILWrVqlZ5//nnncd9++6369OmjatWqadasWZo+fbpCQkI0evRo7dq1S6VLl3Yut+ndu3euS29yY7fbNXfuXI0dO1aDBw9WeHh4vuq6nh4MGDBAjz/+uN5++215eXnplVde0XPPPacmTZpo9uzZKl26tAYNGqTffvst22t79eql5s2ba8aMGQoLC1O/fv303XffSZIuXryoJ554QqtXr9bTTz+tWbNmqXbt2ho6dKhmz56d7TwLFy5UZGSkZs2apeeffz7Hfi1cuFAjRozQAw88oDlz5mjSpEkqVqyYXnnllWx1ZWVlqV+/fnrkkUf0zjvvKCoqShMnTtT69eud/ezZs6dWr16tXr16adasWapQoYL69OmjrVu3SpLmzJmj4cOHq379+po9e7aefPJJvfvuuxo+fPh19favDh06JEkKCQm5at+pU6f06KOPauvWrerfv7+mT5+ucuXKqU+fPlq1apUkacaMGQoMDNT999+vxYsXMzsPmADLYADgFjp27JiqVat21fYBAwbo2WeflcPh0KRJk9SoUSNNmjTJuf/uu+9W9+7d9d1336lJkyY6cOCA2rVrp6FDhzqPqVWrlurWratNmzbp3nvv1T333CNJKl++vKpWrXrdtV4JzpLyXVd+ZWVl6bnnnlPHjh0lSWfPnlX//v3VrVs39ejRQ5Lk6+urDh06aPfu3SpbtqzztV27dlWfPn0kSY0aNVK7du00c+ZM3X///Vq+fLl+/vlnLVq0SLVq1XIek5mZqVmzZunxxx9XyZIlJUlBQUF65ZVXnOe9Mmv813798ssv+uc//5ltPXi5cuXUvn17bdu2TS1btnT25/nnn3e+n9q1a+s///mPvv32WzVq1Ejr1q3Trl27NHPmTD3wwAOSpHr16umXX37Rjz/+qIiICM2aNUuPPfaYhg0bJkmKiYlRyZIlNWzYMPXo0UOVKlXKtZ8Oh0OZmZnO52lpaVq3bp0WLVqkRx55RKVKlbrqNfPmzVN6erq+/PJLlStXTtKfa9+7d++uiRMnqlWrVqpataqKFSuW4zIbAK5BWAeAWygwMFBvv/32VduvhNGDBw/qt99+U69evbKFr/vuu08+Pj76/vvv1aRJEz399NOSpD/++EOHDh3S0aNHlZiYKOnPu5oUhCth/3rquh5XwrQk+fv7S5Luvfde57Yrofrs2bPZXteuXTvnY4vFogcffFDTp0/XxYsXtXnzZpUrVy7buSWpdevWWrZsmXbt2qX777//qveXm7i4OGcNBw8e1JEjR5zLhf7e57+OeSXgXlkitG3bNnl4eGRbXuPm5qZFixZJktatW6eLFy+qWbNm2fp75fjvv//+mmH9k08+0SeffJJtm7u7ux588EGNHDkyx9ds3rxZtWrVcgb1K1q3bq3Bgwfr4MGDqlixYq5jAnANwjoA3ELFihVTZGRkrvvPnDkjSRo1apRGjRp11f6TJ09KktLT0zVy5Eh9/fXXslgsCg0NVXR0tKSCuye2t7f3ddd1PXx8fK7a5uXllefr/r4Uw9/fXw6HQ2fPntXvv/+uwMDAq14TEBAgKXvw/+v7y83Ro0c1YsQIbdy4UR4eHqpQoYKqVKki6eo+e3p6Znvu5ubmPObMmTMqWbKk3NxyXm16pb/PPvtsjvvz6m/Tpk2dv22wWCzy8vJSuXLlrqrpr37//fccl8fk1CsA5kFYBwAXKlGihCRp4MCBOd4uz8/PT5L0yiuv6ODBg/rggw9Uq1YtFStWTBcuXNCSJUvyHOPvFyzm5wLR/NZlhDNnzjgDpfTn2mur1aqSJUvKz89PR44cueo1qampkqQ777wz3+NkZWXp2WeflYeHh5YtW6Z77rlH7u7uOnDggFauXHldNfv6+urMmTNyOByyWCzO7Xv27JHD4XD2d9KkSTnewvOv7zcnJUuWvOYPgTnx8/Nz9uWvbqRXAIzDBaYA4EIVKlSQv7+/UlJSFBkZ6fyvTJkymjx5svbs2SPpz2UVDz30kOrWratixYpJ+nMphfRnyJQkq9V61fl9fHyuumBz27ZtBVaXEb7++mvnY4fDoa+++kq1a9dWsWLFdN999+nYsWPasWNHttesWrVKHh4eqlGjRq7n/Xu/Tp8+rUOHDunRRx9VZGSk3N3/nM/6e5/zIzo6WjabzfnaK7UPHjxYc+bM0b333isPDw+dOHEiW3/d3d01ZcqUW3IXlvvuu087duzQsWPHsm1ftWqVAgMDFRoaKkm5/jYAgGswsw4ALmS1WtW/f3+NGDFCVqtVTZs21dmzZzVr1iydOHHCeXFqjRo1tHr1alWrVk1ly5bV9u3b9c4778hisejChQuS/pzNlaSNGzcqPDxc9957r5o2baq1a9dq/PjxatasmbZu3XrVWuebqcsIEydO1KVLlxQWFqalS5cqOTlZCQkJkqT27dvrX//6l/r06aO+ffsqODhYa9eu1ccff6wXXnjBOYOdk5z6Va5cOS1cuFBly5ZViRIltH79es2fP1+SnH3OjyZNmqhWrVqKi4tTv379FBISopUrVyo5OVnx8fG688479fTTT+utt97SuXPnVLduXZ04cUJvvfWWLBaLc+lNQerRo4dWrVql7t2764UXXlDJkiX1ySef6Mcff9S4ceOcIb1EiRLas2ePNm/erBo1alxzaQ2AW4+wDgAu1rFjRxUvXlzvvfeeFi9eLG9vb0VFRWnSpEnONcavv/664uPjFR8fL+nPu7KMGjVKq1atct4K0MfHRz169NDixYv13Xff6fvvv1eHDh109OhRrVixQosWLdJ9992nadOmqXPnzgVSlxFee+01zZkzR7/88ouqVq2quXPnOtfre3l5acGCBZo8ebIz+FaoUEFjx47Vo48+es3z5tSvWbNmaezYsYqLi1OxYsVUsWJFvf322xo3bpy2bt161T3rc2O1WvXuu+9q0qRJeuutt3ThwgVFRERo7ty5ztn+fv36KTAwUP/617/03nvvyc/PT/Xr19fLL7/s/EGiIAUGBuqjjz7S5MmTNWbMGNlsNlWpUkWzZs1y3nNeknr27Klx48bpn//8p+bNm+fsNQDXsDgK6sokAAAK0PLlyzV48GCtWbNGwcHBri4HAFyChWkAAACASRHWAQAAAJNiGQwAAABgUsysAwAAACZFWAcAAABMirAOAAAAmBT3WS8CduzYIYfDIQ8PD1eXAgAAgBzYbDZZLBbVqlUr23Zm1osAh8MhV1xHbLfbDR+zqKPnxqPnxqPnxqPnxqPnxnN1z3PLa8ysFwFXZtQjIyMNG9Nmsyk1NVWBgYHM6BuEnhuPnhuPnhuPnhuPnhvPDD1PTEzMcTsz6wAAAIBJEdYBAAAAkyKsAwAAACZFWAcAAABMirAOAAAAmBRhHQAAADApwjoAAABgUoR1AAAAwKQI6wAAAIBJEdYBAAAAkyKsAwAAACZFWAcAAABMirAOAAAAmBRhHQAAADApwjoAAABgUoR1AAAAwKQI6wAAAIBJEdYBAAAAkyKsAwAAACZFWAcAAABMirAOAAAAmBRhHQAAADApwjoAAABgUoR1AAAAwKQI6wAAAIBJEdYBAAAAkyKsAwAAACZFWAcAAABMyt3VBQAAAABm4nA4tP7gSR0/e15BJbzVqEJpWSwWl9RCWAcAAAD+34rEoxq0eruS0zKc28L9fTUhNkrtIssbXg/LYAAAAABJK3enqFPCumxBXZKS0zLUKWGdViQeNbwmZtYNkpKSoubNm6tv37764IMP1KpVK5UpU0ZLlizRyZMnVbJkST3++ON64YUXJEldu3ZVkyZNtGHDBm3btk2VK1fW5MmT9d577+nTTz9VYGCgxowZozp16rj4neUu1WZR5vlMufMpM0RmZqZO03ND0XPj0XPj0XPj0XPjZWZmKv2yNPCzHcpyOHI8JsvhUNyn29W2eoihS2L4CBhs+/bt+vjjj7Vq1SolJCRoypQpCgkJ0fr16/Xaa6+padOmqlatmiRp5syZGjt2rIYOHao+ffro0UcfVZcuXbRs2TJNmTJFY8aM0apVq/I9ts1mu1VvK8exPk/3kNL/MGxMSBI9Nx49Nx49Nx49Nx49N9qhE+d05PS1e37gVIa+3X9cMWGlDaqKsG64bt26qXz58oqOjlb16tVVv359SVLnzp01c+ZM7d+/3xnWmzZtqn/84x+SpAceeED//ve/1bdvX1ksFnXq1El9+vTJ97h2u12pqakF/4auMZ7kZdh4AAAANyPjwsV8HZeUclIRPgU/s26322W1Wq/aTlg3WLly5SRJ9erV065duzR58mQlJydr7969Sk1NVVZWlvPY4OBg52NPT08FBQU5f+3i6el5XTPlVqtVgYGBBfQu8maz2dTCli4/Pz+58zs8Q2RmZur333+n5wai58aj58aj58aj58bLzMxU4B9uWpyPYyOCS9+STJWWlpbjdj4BBrvjjjskSUuXLtW4cePUsWNHPfTQQxo0aJCeeuqpbMf+/f+gbm43dz2wh4fHTb3+epXxdFNgCU/Dxy2qbDabPC9l0HMD0XPj0XPj0XPj0XPj2Ww2PRx2pyr4++hg2rlcj6sY4KsmlYJYs14UfPTRR+rTp4+efvppSdLZs2eVlpYmRy4XNQAAAODWsVgsGv+Pmuq88PscLzJ1s1j0eqsow++3zq0bXeTOO+/Uxo0bdejQIe3evVv9+/eXzWbT5cuXXV0aAABAkdSmerCWdGusigG+2bZXDPDVkm6NXXKfdWbWXWTIkCEaMmSI2rRpI39/f/3jH/+Ql5eX9u7d6+rSAAAAiqx2keXVtnqI1h88qV/PXlCQn5diwvgLpoVecHCwkpKSnM/Dw8O1eHHulzEsWLAg2/MXX3wx2/O6detmOx8AAAAKhsViUePwMq4uQxLLYAAAAADTIqwDAAAAJkVYBwAAAEyKsA4AAACYFGEdAAAAMCnCOgAAAGBShHUAAADApAjrAAAAgEkR1gEAAACTIqwDAAAAJkVYBwAAAEyKsA4AAACYFGEdAAAAMCnCOgAAAGBShHUAAADApAjrAAAAgEkR1gEAAACTIqwDAAAAJkVYBwAAAEyKsA4AAACYFGEdAAAAMCnCOgAAAGBShHUAAADApAjrAAAAgEkR1gEAAACTMiSsp6SkKCIiQikpKdf92suXL2vJkiXO5+fOndMnn3xSgNUBAIBbxeFwaF3yCS3acUjrkk/I4XC4uiTgtuLu6gLy8tlnn2n27Nnq1KmTJOmDDz7Qpk2b1LZtW9cWBgAArmlF4lENWr1dyWkZzm3h/r6aEBuldpHlXVgZcPsw/TKYv/8Ezk/kAACY34rEo+qUsC5bUJek5LQMdUpYpxWJR11UGXB7MXRm/YsvvtD8+fN17tw5tWrVSsOGDVOxYsW0dOlSvf/++0pJSVHx4sX1yCOPaNiwYdq6dasGDx4sSYqIiND48eM1Y8YM5/OkpCRdvnxZEydO1OrVqyVJjRo10rBhw1SyZEmlpKSoefPm6tu3rz744AM9+OCD+uKLL/T666/roYcekiTZbDbFxMTozTffVP369a9Zf9euXVW3bl19//332rNnj6pVq6b4+HiFh4dLkn777TeNHz9eGzdulMViUWxsrAYOHKg//vhDDRo00MqVK1W5cmXZbDbdd9996tmzp/r27StJGjBggIKDg9W/f39t3bpV48aN04EDBxQaGqoXXnhBLVq0kCTFxcVJkvbs2aPU1FR99NFHuvvuuwv2C1VAUm0WZZ7PlLvpf39TOGRmZuo0PTcUPTcePTfejfTc4XBowKptysplgi3L4VDcp9vVtnqILBZLAVYLFD6GfqtbsmSJpk6dKrvdroEDB2rOnDmqW7euxowZozfeeENVq1bV7t279eqrr6p+/fpq0qSJhgwZorlz52rZsmUqXry49u/frx07dmj69OmSpClTpmj37t169913dccdd2jq1Kl66aWXlJCQ4Bx3+/bt+vjjj5WVlaXMzEx9+eWXzrD+ww8/yN3dXXXq1MnXe5gzZ44GDBigMWPGaMaMGXr22Wf1+eefS5K6deum0NBQLViwQOnp6Ro+fLgkadiwYapWrZo2b96sypUrKzExURcvXtT27dsl/flNbePGjZo2bZpSU1PVq1cv9e/fX40aNdLOnTsVFxcnf39/RUdHS5JWrlypmTNnKiAg4LqCus1my/exN8tms+nzdA8p/Q/DxoQk0XPj0XPj0XPjXV/PD51I15H0c9c85sCpDH27/7hiwkrfbHGFjs1mk91uN/Tf7aLOzD03NKwPGTJEtWvXliS99NJLmjRpkpo2baqxY8c6w3NwcLDmzZun/fv366GHHpKvr6+sVqsCAwMlSd7e3vLw8FBgYKAuXLigDz/8UB9//LEiIiIkSRMnTlTdunWVlJSk4sWLS/ozRJcv/+fauJYtW6p///66dOmS7rjjDn3xxRd6+OGHZbVa8/UeGjdurO7du0uS4uPj1ahRI33//ffKysrSiRMntGTJEvn5+UmSRowYod69e6t///5q2LChNm/erC5dumjr1q1q3LixtmzZIrvdrv379+vy5cuqWbOmZsyYoQYNGqhLly6SpNDQUO3du1cJCQnOsB4ZGalmzZpdV+/tdrtSU1Ov6zU3w263S/IybDwAgHlkXLiYr+OSUk4qwoeZ9b+z2+06f/68JOU7n+DmmKHndrs9x7ENDes1atRwPq5atapOnTqlkJAQeXp6atq0aTpw4ICSkpJ05MgRxcTE5Hm+X375RTabTY8//ni27VlZWTp8+LCqVasmSSpXrpxzX8OGDVWsWDGtX79e999/v77++mvNnj073+8hKirK+djHx0dhYWFKTk5WVlaW7r77bmdQv3JsZmamjh49qkaNGmnJkiVyOBzasmWLOnTooF27dmnv3r3avHmzGjRoIHd3dx08eFDffPONatWq5TyPzWZTWFiY8/lf309+/fUHHiPYbDa1sKXLz89P7vyu2hCZmZn6/fff6bmB6Lnx6LnxbqTn4daSWrwh7+Migksb+m/T7eLK7K6/v788PDxcXE3RYIaep6Wl5bjd0O90bm7/u571yoWiW7Zs0csvv6y2bduqUaNG6tOnj0aNGpWv8/05eyv961//kre3d7Z9/v7+OnPmjCTpjjvucG53d3dXixYt9OWXX8rDw0M+Pj7ZAnhe/v6Nym63y83NLccv7JX67Ha7atasqUuXLikpKUnbt2/X+PHjFRUVpe3bt2vjxo3O3yxkZmYqNjZWzz33XK7j/vX9XA+jP3xlPN0UWMKTbzQGsdls8ryUQc8NRM+NR8+NdyM9D4kMUbi/71UXl/5VxQBfNakUxJr1XFitVnl4ePA5N5BZe27o3WB+/vln5+OffvpJZcuW1apVq9ShQweNHj1aHTt2VHh4uI4ePeoM83//P/Ffn4eEhMhqterMmTMKDQ1VaGiofHx8NH78+Fx/OpGk2NhYrVu3TmvXrtXDDz98Xd8o9u3b53yckZGho0ePKiIiQmFhYTp8+LDzBwRJ2rlzp9zd3VW+fHm5u7urXr16WrhwoQICAhQQEKDo6Ght3LhRW7ZsUaNGjSRJYWFhOnLkiPP9hIaGas2aNc4LaAEAMDuLxaIJsVFyy+XfVzeLRa+3iiKoA/lgaFiPj4/Xrl279P3332vatGnq3r27SpYsqR07digpKUn79+9XXFycUlNTdfnyZUmSl5eXfv/9dx0+fFiZmZny8vLSyZMnlZKSIh8fH3Xs2FGvvfaaNm3apAMHDmjgwIE6cuSIgoODc62jdu3a8vLy0ooVK9SyZcvreg+rV6/WJ598ouTkZA0dOlRBQUGqW7euGjZsqJCQEA0cOFBJSUn68ccfFR8fr1atWqlEiRKS/lyCs2LFCudMfnR0tL755hsFBwerbNmykqQnnnhCu3fv1tSpU3X48GGtXr1aU6ZMUVBQ0I20HAAAl2gXWV5LujVWxQDfbNsrBvhqSbfG3GcdyCdDw3rnzp3Vu3dv9evXT23atFG3bt30wgsvyN/fX4899ph69OihO+64Q507d9bevXslSfXq1VNoaKhiY2O1d+9ePfjgg8rKylLLli2VlpamuLg41a9fX3379lWnTp3k7u6ud95555oXB1gsFj388MMqW7asqlevfl3vITY2VosWLVL79u31xx9/6N1335W7u7usVqtmzZolSerUqZNefvllNW/eXKNHj3a+tlGjRrLZbM6LbKtWrSpPT0/nrLr053r02bNna/369WrVqpXefPNNxcXFqXXr1tdVJwAArtYusrz2xbXRN88/pH91aaRv+zykfXFtCOrAdbA4iuhfGRowYIBCQ0Od9znPj65du6pOnTp68cUXb2FlBS8xMVHSn3eRMYrNZlNqaqoCAwNNt/arsKLnxqPnxqPnxqPnxqPnxjNDz3PLa0XuUvqdO3fqv//9r9asWaNPP/3U1eUAAAAAuSpyYX39+vWaO3eu+vfvn21d+9ixY7Vs2bJcX9erVy8jygMAAACcilxYf/HFF3NcxtK7d2/nHyLKiZ+f31W3UwQAAABupSIX1nNTqlQplSpVytVlAAAAAE6G3g0GAAAAQP4R1gEAAACTIqwDAAAAJkVYBwAAAEyKsA4AAACYFGEdAAAAMCnCOgAAAGBShHUAAADApAjrAAAAgEkR1gEAAACTIqwDAAAAJkVYBwAAAEyKsA4AAACYFGEdAAAAMCnCOgAAAGBShHUAAADApAjrAAAAgEkR1gEAAACTIqwDAAAAJkVYBwAAAEzK3dUFAABQ0BwOh9YfPKnjZ88rqIS3GlUoLYvF4uqyAOC6MbNuoK5du2r69Om57o+IiNCmTZskSWlpafr8889z3AcAyN2KxKOKGL9STWd9pSc/3KCms75SxPiVWpF41NWlAcB1Y2bdQNOnT5eHh0e+jp00aZIcDof+8Y9/3OKqAKDwWJF4VJ0S1inL4ci2PTktQ50S1mlJt8ZqF1neRdUBwPUjrBuoZMmS+T7W8bd/aG5HqTaLMs9nyp1PmSEyMzN1mp4bip4b71o9dzgcGrBq21VB/Yosh0Nxn25X2+ohLIkBcNsoUv+8pKSkqHnz5po0aZImTpyoCxcuqG3btho0aJB69OghNzc3zZ8/X5I0bdo0LV++XJ9++ql8fHxyPecHH3ygVatWafny5ZKkVatW6dVXX9XXX3+tkJAQ/fHHH6pbt64+++wzDRs2THXq1NGLL74oSZoxY4YWLlyorKwsvfLKK85zTp8+XStWrJAkbd68WWvXrpUkbd26VWPGjNHhw4d17733asKECSpXrly+37/NZru+ht0Em82mz9M9pPQ/DBsTkkTPjUfPjZdzzw+dSNeR9HPXfOWBUxn6dv9xxYSVvlXFFTo2m012u93Qf0OKOnpuPDP3vEiF9StmzJihqVOnKjMzUwMHDlTx4sU1atQotW3bVl9++aXCw8P1zjvv6O23375mUJekmJgYTZw4URkZGfL19dWWLVtksVi0fft2hYSEaMuWLbrrrrsUGhqa7XWLFy/W/PnzNWHCBJUtW1ajRo1y7uvZs6eSk5MlSSNGjHBuX7p0qSZMmKCSJUvqlVde0aRJkzR16tR8vWe73a7U1NT8tuim2e12SV6GjQcAGRcu5uu4pJSTivBhZj2/7Ha7zp8/L0myWq0urqZooOfGM0PP7XZ7jmMXybD+6quvKjo6WpL00ksvadKkSerXr5969eqliRMnKiAgQK1bt1ajRo3yPFfFihUVGBiorVu3qmnTptqyZYsaN26s7du3q02bNvrhhx9yPM+SJUvUrVs3NW3aVJI0ZswYtWzZUpJUvHhxeXp6SpJKlSrlfE3v3r1Vt25dSdKjjz6qRYsW5fs9W61WBQYG5vv4m2Wz2dTCli4/Pz+5sz7AEJmZmfr999/puYHoufGu1fNwa0kt3pD3OSKCSxv6/fB2d2Wm0d/fP9/XXeHm0HPjmaHnaWlpOW4vkv+6REVFOR9Xr15d6enpOn36tJ599lmtXr1ahw4d0nvvvZfv8zVs2FCbN29WZGSkTp06pVdeeUVvvfWWJGnjxo16+eWXr3pNcnKy+vTp43xesWJFeXt7X3Oc8uX/d1GUr6+vLl26lO8aJRn+4Svj6abAEp58ozGIzWaT56UMem4gem68a/U8JDJE4f6+Sk7LyPX1FQN81aRSEGvWr5PVapWHhwefcwPRc+OZtedF8taNf/0iZGVlSZIsFovS09OVmpqqP/74Q3v37s33+WJiYrRp0yZt3bpVNWvWVHR0tJKTk5WcnKzDhw87Z8P/7u8XkeY1M+fmViS/XACQLxaLRRNio+SWSxB3s1j0eqsogjqA20qRTH9/DeK7d+9W6dKldeeddyo+Pl516tTR008/reHDh+vy5cv5Ol/9+vX1888/67vvvlN0dLRKliypChUqaObMmapdu3aOM+aVKlVSYmKi83lKSorOnj3rfM4/JgBw/dpFlteSbo1VMcA32/aKAb7cthHAbalILoMZO3asxowZo4yMDL311lvq0qWLvvrqK61fv16fffaZ/P39tXLlSs2cOVP9+/fP83x33nmnqlSpotWrV2vevHmSpNq1a2vx4sV69dVXc3xNly5dNGrUKN1zzz0KCwvT2LFjs82ce3l5af/+/Tpx4oTKlClTMG8cAIqAdpHl1bZ6iNYfPKlfz15QkJ+XYsL4C6YAbk9FMqw/8sgj6tWrl7KystS5c2d16dJF//jHP/TMM88oJCREkhQXF6dXXnlFLVu2VOXKlfM8Z0xMjPbt26caNWpIkqKjo7Vo0aJcL1Jt06aNTp8+rfj4eF28eFHPPvus9u3bl21/nz591Lp1a/34448F8K4BoOiwWCxqHM5EB4Dbn8VRGP76Tj5duc/6mjVrFBwc7OpyDHNluU1kZKRhY9psNqWmpiowMNB0F2oUVvTcePTcePTcePTcePTceGboeW55rUiuWQcAAABuB0VyGcz1GDt2rJYtW5br/l69eum5554zsCIAAAAUFUUqrAcHByspKem6XtO7d2916dIl1/1+fn43WxYAAACQoyIV1m9EqVKlsv0VUQAAAMAorFkHAAAATIqwDgAAAJgUYR0AAAAwKcI6AAAAYFKEdQAAAMCkCOsAAACASRHWAQAAAJMirAMAAAAmRVgHAAAATIqwDgAAAJgUYR0AAAAwKcI6AAAAYFKEdQAAAMCkCOsAAACASRHWAQAAAJMirAMAAAAmRVgHAAAATIqwDgAAAJgUYR0AAAAwKcI6AAAAYFLuri4AAICcOBwOrT94UsfPnldQCW81qlDa1SUBgOGYWb8OXbt21fTp02/otZs2bVJERES+jl2+fLmaNWuW6/7Lly9ryZIlN1QHANwOViQeVcT4lWo66ys9+eEGNZ31lSLGr9TK3SmuLg0ADEVYN0itWrW0YcOGAjnXZ599ptmzZxfIuQDAbFYkHlWnhHVKTsvItj05LUOdF36vz/efdFFlAGA8lsEYpFixYgoMDCyQczkcjgI5z62WarMo83ym3PmUGSIzM1On6bmh6HnBczgcGrBqm7Jy+T6X5XBo3LoD6lq/qsGVAYBrFMp/XlJSUtS8eXNNmjRJEydO1IULF9S2bVsNGjRIPXr0kJubm+bPny9JmjZtmpYvX65PP/1UPj4+eZ77xIkTevrpp7Vp0yYFBQVp5MiRatCggSTp7Nmzio+P15o1a+Tt7a0WLVro1VdflaenpzZt2qSnnnpKSUlJkqRffvlFw4cP144dO1S+fHm1bdtWCxcu1Nq1ayX9+Q/W9OnT9eGHH8put6tjx44aNGiQNm3apMGDB0uSIiIitGbNGgUHB+erLzab7bp7eaNsNps+T/eQ0v8wbExIEj03Hj0vSIdOpOtI+rlrHnP4zAV9d+A3Nal0l0FVFW02m012u93Qf0OKOnpuPDP3vFCG9StmzJihqVOnKjMzUwMHDlTx4sU1atQotW3bVl9++aXCw8P1zjvv6O23385XUJekTz75RKNHj9aIESP01ltvaeDAgVq/fr0sFouGDh0qm82mjz76SJcuXdKYMWM0evRojRs3Lts5MjMz1atXL1WsWFEff/yx9u7dqxEjRujOO+90HnP8+HEdOnRIixYt0t69e/Xyyy+rfv36qlevnoYMGaK5c+dq2bJlKlWqVL7qttvtSk1NzX/zbpLdbpfkZdh4AAqHjAsX83Xc/uOpqlayUP8TZhp2u13nz5+XJFmtVhdXUzTQc+OZoed2uz3HsQv1d7pXX31V0dHRkqSXXnpJkyZNUr9+/dSrVy9NnDhRAQEBat26tRo1apTvc7Zo0ULt27eXJD3zzDP69NNPlZaWpvPnz+vrr7/W5s2b5evrK0mKj49X27ZtnTPhV/z444/69ddftWTJEvn4+KhixYr6+eef9dlnnzmP8fDw0JgxY+Tt7a2wsDC988472rdvnxo3bixfX19ZrdbrWlZzvcffLJvNpha2dPn5+cmd9QGGyMzM1O+//07PDUTPC164taQW5+PynkpBgYZ+TyvKrsw0+vv7y8PDw8XVFA303Hhm6HlaWlqO2wv1vy5RUVHOx9WrV1d6erpOnz6tZ599VqtXr9ahQ4f03nvvXdc5Q0JCnI+vzMZfunRJycnJysrKUuPGjbMdn5WVpSNHjmTblpSUpLCwsGyz+TVr1swW1v39/eXt7e187uvrq8uXL19XrX9n9IevjKebAkt48o3GIDabTZ6XMui5geh5wQuJDFG4v+9VF5f+1d0lvXR/xbL03EBWq1UeHh703ED03Hhm7XmhDut/bXZWVpYkyWKxKD09Xampqbp06ZL27t2rOnXq5PucOf16wuFwyG63y9fXVx9//PFV+8uUKaNdu3ZlO8ffLxL9+/PcxgGAwsxisWhCbJQ6JazL8SJTN4tFQxpXlMVicUF1AGC8Qn3rxr179zof7969W6VLl9add96p+Ph41alTR08//bSGDx9+0zPWkhQWFqaMjAxZLBaFhoYqNDRUFy9e1MSJE686f6VKlXT48GGdO/e/i6j++9//5nss/pECUJi1iyyvJd0aq2KAb7btFQN89dGTDfWPSvxxJABFR6GeWR87dqzGjBmjjIwMvfXWW+rSpYu++uorrV+/Xp999pn8/f21cuVKzZw5U/3797+pscLDw9WoUSO98sorGjZsmKxWq4YPHy4/Pz+VKFEi27H169fXXXfdpeHDh+uFF17Q/v37NX/+fPn5+eVrLC8vL/3+++86fPiwgoODWSsLoNBpF1lebauHaP3Bk/r17AUF+XkpJqy0MjMzDb1YHgBcrVDPrD/yyCPq1auXXn75ZXXs2FFdunRRfHy8nnnmGYWEhMjb21txcXF6//339fPPP9/0eBMnTlRwcLC6d++uHj16KCwsTFOmTLnqODc3N02fPl0nTpxQmzZtNGvWLLVv3z7fa6Tq1aun0NBQxcbGZvvtAQAUJhaLRY3Dy+ixWnerUYUy/FYRQJFkcRTChdBX7rN+PfcgN1JaWpr27NmT7S407733nr777jstWLCgwMdLTEyUJEVGRhb4uXNjs9mUmpqqwMBA012oUVjRc+PRc+PRc+PRc+PRc+OZoee55bVCPbNuZr1799a//vUvHTt2TD/88IMSEhL08MMPu7osAAAAmAiLnf/f2LFjtWzZslz39+rVS88991yBjOXv768333xTb731lsaPH6+AgAB16dJFTzzxRIGcHwAAAIVDoQzrwcHBSkpKuq7X9O7dW126dMl1f34v/syvBx54QA888ECBnhMAAACFS6EM6zeiVKlSKlWqlKvLAAAAAJxYsw4AAACYFGEdAAAAMCnCOgAAAGBShHUAAADApAjrAAAAgEkR1gEAAACTIqwDAAAAJkVYBwAAAEyKsA4AAACYFGEdAAAAMCnCOgAAAGBShHUAAADApAjrAAAAgEkR1gEAAACTIqwDAAAAJkVYBwAAAEyKsA4AAACYFGEdAAAAMCnCOgAAAGBShHUAAADApAjruWjWrJmWL1+e476UlBRFREQoJSVFkhQREaFNmzYZWZ4+//xzpaWlGTomih6Hw6F1ySe0aMchrUs+IYfD4eqSAAAoUtxdXcDt6K677tKGDRtUqlQpl4x/7Ngx9evXT2vWrHHJ+CgaViQe1aDV25WcluHcFu7vqwmxUWoXWd6FlQEAUHQws34DrFarAgMDZbVaXTI+s5u41VYkHlWnhHXZgrokJadlqFPCOq1IPOqiygAAKFoK1cx6SkqKmjdvrjlz5mj06NE6ffq0OnTooE6dOikuLk4HDx5U3bp1NXnyZPn4+Gj58uV69913dezYMVWsWFGDBw/Wfffd5zzf/v371bZtWyUnJ6tOnTqKj49XUFCQc5w1a9YoODg4Ww2XL1/WxIkTtXr1aklSo0aNNGzYMJUsWfKatZ8+fVoNGjTQypUrVblyZdlsNt13333q2bOn+vbtK0kaMGCAgoODNXv2bElS8+bNNX78eLVv374Au1hwUm0WZZ7PlHuh+pSZV2Zmpk4XQM8dDocGrNqmrFx+KMxyOBT36Xa1rR4ii8Vy4wMBAIA8FcoY9c4772jWrFk6cOCABgwYoHXr1mnkyJHy9PTU888/r2XLlqlEiRKKj4/XyJEjVaNGDS1fvlzPPvusvvjiC5UpU0aS9NFHH2nMmDGqXLmyxo4dq0GDBmnBggXXHHvKlCnavXu33n33Xd1xxx2aOnWqXnrpJSUkJFzzdXfeeaeqVaumzZs3q3LlykpMTNTFixe1fft2SX8GqI0bN2ratGlq3ry5OnbsqKVLl6py5cr57ovNZsv3sTfLZrPp83QPKf0Pw8aEJN18zw+dSNeR9HPXPObAqQx9u/+4YsJK39RYtzubzSa73W7o/7eKOnpuPHpuPHpuPDP3vFCG9eeff15VqlRRlSpVNG7cOLVs2VINGzaUJNWvX18HDx5UYmKiunbtqrZt20qSXnnlFW3ZskUffvihBgwYIEnq3LmzWrVqJUkaO3asmjdvruTkZN1xxx05jnvhwgV9+OGH+vjjjxURESFJmjhxourWraukpCTnttw0bNhQmzdvVpcuXbR161Y1btxYW7Zskd1u1/79+3X58mXVrFlTv/32mySpVKlS8vT0zFdP7Ha7UlNT83VsQbDb7ZK8DBsPBSfjwsV8HZeUclIRPkV7Zt1ut+v8+fOS5LJlcUUNPTcePTcePTeeGXput9tzHLtQhvWQkBDnY09PT5UrVy7b88uXLys5OVl9+vTJ9rqaNWsqOTnZ+bxGjRrOx8HBwSpZsqQOHjyoe+65J8dxf/nlF9lsNj3++OPZtmdlZenw4cN5hvVGjRppyZIlcjgc2rJlizp06KBdu3Zp79692rx5sxo0aCD3G1zfcGWdvVFsNpta2NLl5+d3wzXj+mRmZur333+/6Z6HW0tq8Ya8j4sILm3oZ8qMrszA+Pv7y8PDw8XVFA303Hj03Hj03Hhm6Hlud/krlCnq7z+VuLldfR1tTrPjdrtdWVlZuZ4nKyvrml/AP2eTpX/961/y9vbOts/f3z/PumvWrKlLly4pKSlJ27dv1/jx4xUVFaXt27dr48aNeuihh/I8x7UY/eEr4+mmwBKefKMxiM1mk+eljJvueUhkiML9fa+6uPSvKgb4qkmlINas68/vEx4eHnzODUTPjUfPjUfPjWfWnhfZu8GEhYVp165d2bbt2rVLYWFhzuc///yz8/Hhw4d19uzZbPv/LiQkRFarVWfOnFFoaKhCQ0Pl4+Oj8ePH5+ue6O7u7qpXr54WLlyogIAABQQEKDo6Whs3btSWLVvUqFEjSSIg4ZayWCyaEBslt1w+Z24Wi15vFcXnEAAAAxTZsN69e3d9+OGH+uSTT3To0CFNmjRJ+/bt06OPPuo8Zt68efrqq6+0b98+DR48WE2bNlVoaGiu5/Tx8VHHjh312muvadOmTTpw4IAGDhyoI0eOXHXXmNw0bNhQK1asUFRUlCQpOjpa33zzjYKDg1W2bFlJkpfXn2vB9+3bpz/+4AJOFLx2keW1pFtjVQzwzba9YoCvlnRrzH3WAQAwSKFcBpMfjzzyiE6dOqVp06YpNTVV99xzj+bOnavw8HDnMT169NCbb76plJQUNW7cWKNHj87zvHFxcZowYYL69u3rvP3iO++8k++LFRo1aqTRo0erdu3akqSqVavK09PTOasu/XlhaevWrdWvXz+98sor6t69+/W9eSAf2kWWV9vqIVp/8KR+PXtBQX5eigkrzYw6AAAGsjj4CzuFXmJioiQpMjLSsDFtNptSU1MVGBhourVfhRU9Nx49Nx49Nx49Nx49N54Zep5bXiuyy2AAAAAAsyuyy2CM9tNPP6lbt2657g8KCtJnn31mYEUAAAAwO8K6QapUqaJPPvkk1/3cixwAAAB/R0I0SLFixa55JxkAAADg71izDgAAAJgUYR0AAAAwKcI6AAAAYFKEdQAAAMCkCOsAAACASRHWAQAAAJMirAMAAAAmRVgHAAAATIqwDgAAAJgUYR0AAAAwKcI6AAAAYFKEdQAAAMCkCOsAAACASRHWAQAAAJMirAMAAAAmRVgHAAAATIqwDgAAAJgUYR0AAAAwKcI6AAAAYFKEdQAAAMCkCOsAAACASd0WYT0lJUURERFKSUnJ89iNGzcqOTnZgKqA24fD4dC65BNatOOQ1iWfkMPhcHVJAAAgH9xdXUB+3HXXXdqwYYNKlSqV57Hdu3fX/PnzFR4ebkBlgPmtSDyqQau3Kzktw7kt3N9XE2Kj1C6yvAsrAwAAebktZtatVqsCAwNltVpdXQpwW1mReFSdEtZlC+qSlJyWoU4J67Qi8aiLKgMAAPlxW8ysp6SkqHnz5lqzZo2aN2+uiRMn6t1339Xhw4dVo0YNTZgwQSEhIWrWrJkk6amnntILL7ygF1988ZrnjYuLk7+/v44dO6ZvvvlG5cqV06RJk/Tll19q4cKF8vb21uDBg/WPf/xDkvTrr79q1KhR2rhxo/z9/dW+fXv17t1bVqtVy5cv14oVK9SgQQPNnTtXxYoV06uvvipPT09NmDBBGRkZeuyxx/Tqq69Kki5duqRp06bp008/1e+//6569epp5MiRuuuuu5zvt2/fvvrggw/04IMP6osvvtDrr7+uhx56SJJks9kUExOjN998U/Xr17+F3b9xqTaLMs9nyv22+JTd/jIzM3X6Lz13OBwasGqbsnJZ8pLlcCju0+1qWz1EFovF4GoBAEB+3JYxavr06YqPj5e/v79eeuklvfnmm5o8ebKWLVum+vXra/r06WrYsGG+zpWQkKAhQ4aof//+Gjx4sLp166YWLVpo8eLFWrBggUaOHKkWLVrIYrHohRdeUJUqVbRixQqlpqZqxIgRslgs6tOnjyRpx44dCgkJ0bJly7Rw4UK99tprqlq1qt5++23t3r1bQ4cOVcuWLVW1alWNHDlS27dv14QJE1SyZElNmjRJzz//vD7++GNnbdu3b9fHH3+srKwsZWZm6ssvv3SG9R9++EHu7u6qU6dOvvtms9muo8s3x2az6fN0Dyn9D8PGhCT9r+eHTqTrSPq5ax594FSGvt1/XDFhpY0ortCx2Wyy2+2G/n+rqKPnxqPnxqPnxjNzz2/LsN6jRw/nbHLnzp21cOFCSXKuaffz81Px4sXzda7q1avriSeekCS1atVK48aN07Bhw+Tp6amuXbvqo48+0qlTp5ScnKzjx49r6dKlcnNzU4UKFTRo0CANHjzYGdYdDoeGDRsmb29vPfbYY0pISNCLL76oKlWqqEqVKpoyZYoOHjyocuXKaeXKlXr33XdVr149SdKkSZPUpEkTff/99woLC5MkdevWTeXL/7mmuGXLlurfv78uXbqkO+64Q1988YUefvjhfC8NstvtSk1NzdexBcFut0vyMmw8XC3jwsV8HZeUclIRPsys3wi73a7z589LEsv0DELPjUfPjUfPjWeGntvt9hzHvi3DemhoqPOxj4/PTf0UFBwc7Hzs6empgIAAeXp6SpLuuOMOSdLly5eVnJysM2fOqHbt2s7js7KydPHiRZ0+fVqS5O/vL29v72yv/fv5L1++rMOHDysrK0v33nuvc1/JkiUVFham5ORkZ1gvV66cc3/Dhg1VrFgxrV+/Xvfff7++/vprzZ49O9/v88q6f6PYbDa1sKXLz89P7qyDMURmZqZ+//13Z8/DrSW1eEPer4sILm3oZ6MwufK9x9/fXx4eHi6upmig58aj58aj58YzQ8/T0tJy3H5bpqiCbOLfg6SbW87X3GZmZqpChQqaNWvWVft8fX1zPJekHNcCXwnyf2e325WVlZXjce7u7mrRooW+/PJLeXh4yMfHR1FRUTmeJzdGf/jKeLopsIQn32gMYrPZ5Hkpw9nzkMgQhfv7XnVx6V9VDPBVk0pBrFm/CVarVR4eHnzODUTPjUfPjUfPjWfWnt8Wd4Mxg7CwMB0/flylSpVSaGioQkNDlZKSomnTpl130AkJCZG7u7t27tzp3Hb69GkdOXLEOauek9jYWK1bt05r167Vww8/TMDCNVksFk2IjZJbLp8TN4tFr7eK4nMEAICJFbqw7u3trf379ysjI/fZxBsRExOjcuXK6dVXX1VSUpK2bt2q4cOHy8vL67rXNhUvXlwdO3ZUfHy8Nm3apH379unVV19V2bJlr3lhbO3ateXl5aUVK1aoZcuWN/uWUAS0iyyvJd0aq2KAb7btFQN8taRbY+6zDgCAyd2Wy2CupWvXrpo4caKOHj2qIUOGFNh5rVar3n77bcXHx6tTp07y9vbWww8/rEGDBt3Q+QYNGqQJEyaob9++unz5sho0aKAPPvhAxYoVy/U1FotFDz/8sNauXavq1avf6FtBEdMusrzaVg/R+oMn9evZCwry81JMWGlm1AEAuA1YHPzd8dvKgAEDFBoaqr59++b7NYmJiZKkyMjIW1XWVWw2m1JTUxUYGGi6tV+FFT03Hj03Hj03Hj03Hj03nhl6nlteK3Qz64XVzp079d///ldr1qzRp59+6upyAAAAYIBCG9bnzZunadOm5bo/NjZWo0ePNrCim7N+/XrNnTtX/fv3z3Y7SAAAABRehTasd+jQQc2aNct1v4+Pj4HV3LwXX3xRL774oqvLAAAAgIEKbVgvUaKESpQo4eoyAAAAgBtW6G7dCAAAABQWhHUAAADApAjrAAAAgEkR1gEAAACTIqwDAAAAJkVYBwAAAEyKsA4AAACYFGEdAAAAMCnCOgAAAGBShHUAAADApAjrAAAAgEkR1gEAAACTIqwDAAAAJkVYBwAAAEyKsA4AAACYFGEdAAAAMCnCOgAAAGBShHUAAADApAjrAAAAgEkR1gEAAACTIqwDAAAAJlVkwvrevXu1ffv2PI+bPn26unbtKklavny5mjVrdkPjnTt3Tp988onzebNmzbR8+fIbOhcKB4fDoXXJJ7RoxyGtSz4hh8Ph6pIAAIDJubu6AKP06dNHL7zwgqKiogwZ74MPPtCmTZvUtm1bSdKyZcvk7e1tyNgwnxWJRzVo9XYlp2U4t4X7+2pCbJTaRZZ3YWUAAMDMiszMutH+PmtaqlQpeXp6uqgauNKKxKPqlLAuW1CXpOS0DHVKWKcViUddVBkAADC7IjGz3rVrVx07dkyDBw/W5s2b9eCDD2r69OlKTk7WHXfcocaNGys+Pl7FixfP9RxZWVnq16+fjhw5ogULFqhEiRK5Hrt8+XLNmDFDkhQREaGkpCQ1a9ZML7zwgtq3b6+uXbuqSZMm2rBhg7Zt26bKlStr8uTJeu+99/Tpp58qMDBQY8aMUZ06dSRJP//8s+Lj47Vr1y7dddddeuqpp/Tkk08WbJNugVSbRZnnM+VeJD5lOXM4HBqwapuyclnykuVwKO7T7WpbPUQWi8Xg6gAAgNkViRg1ffp0tWnTRj179lTdunX16KOPasSIEWrQoIEOHz6sV155RUuWLFGPHj1yPce4ceO0b98+/etf/7pmUJekRx55RPv379eOHTs0ffr0HI+ZOXOmxo4dq6FDh6pPnz569NFH1aVLFy1btkxTpkzRmDFjtGrVKl28eFHPPPOM2rVrp/j4eB08eFDDhw9X8eLFnUts8stms13X8TfDZrPp83QPKf0Pw8Y0o0Mn0nUk/dw1jzlwKkPf7j+umLDSNzWWzWaT3W439Otc1NFz49Fz49Fz49Fz45m550UirJcsWVJWq1W+vr7y9PTUsGHD1KlTJ0lScHCwGjRooP379+f6+nfffVdffPGFPvroIwUEBOQ5nqenp7y9veXh4aHAwMAcj2natKn+8Y9/SJIeeOAB/fvf/1bfvn1lsVjUqVMn9enTR5K0evVq+fv7q1+/fpKku+++W8eOHdP8+fOvK6zb7Xalpqbm+/ibZbfbJXkZNp5ZZVy4mK/jklJOKsLn5mbW7Xa7zp8/L0myWq03dS7kDz03Hj03Hj03Hj03nhl6brfbcxy7SIT1v7r77rtVrFgxvf3229q/f7/279+vAwcOqE2bNjkef/LkSU2dOlVly5bNNXjfiODgYOdjT09PBQUFOZdBeHp6On+yO3jwoPbt26datWo5j8/ti3ktVqu1QOvPi81mUwtbuvz8/ORehNfBhFtLavGGvI+LCC5901+fK58Zf39/eXh43NS5kD/03Hj03Hj03Hj03Hhm6HlaWlqO24tcitq3b586d+6sZs2aKTo6Wt27d1dCQkKux1ssFr3//vsaMmSI3n77bfXv379A6vh7gHVzy/la38zMTNWvX18jRoy46TGN/vCV8XRTYAnPIv2NJiQyROH+vlddXPpXFQN81aRSUIGsWbdarfLw8CjSPTcaPTcePTcePTcePTeeWXte5O4Gs3LlSt13332aPHmynnjiCdWoUUNHjhzJ9Z7XgYGBql+/vl599VXNnTtXR44cydc4BXWxYFhYmA4dOqTg4GCFhoYqNDRUO3fu1IIFCwrk/Li1LBaLJsRGyS2Xz4ObxaLXW0VxcSkAAMhRkQnr3t7eOnjwoEqUKKGkpCT99NNPOnTokF5//XUlJibq8uXL13z9I488opo1ayo+Pj5f43l5eenkyZNKSUm5qbpbt26tixcvasSIEUpOTtZ3332nsWPHyt/f/6bOC+O0iyyvJd0aq2KAb7btFQN8taRbY+6zDgAAclVklsF07txZkyZNUoMGDVSzZk11795dd9xxh+677z716dNHn332WZ7nGDp0qNq3b6+vvvpKDz300DWPffDBB7Vo0SK1bNlSa9euveG6fXx89O6772rcuHFq27atSpYsqSeffFK9evW64XPCeO0iy6tt9RCtP3hSv569oCA/L8WElWZGHQAAXJPFwd88L/QSExMlSZGRkYaNabPZlJqaqsDAQNOt/Sqs6Lnx6Lnx6Lnx6Lnx6LnxzNDz3PJakVkGAwAAANxuiswymII0duxYLVu2LNf9vXr10nPPPWdgRQAAACiMCOs3oHfv3urSpUuu+/38/AysBgAAAIUVYf0GlCpVSqVKlXJ1GQAAACjkWLMOAAAAmBRhHQAAADApwjoAAABgUoR1AAAAwKQI6wAAAIBJEdYBAAAAkyKsAwAAACZFWAcAAABMirAOAAAAmBRhHQAAADApwjoAAABgUoR1AAAAwKQI6wAAAIBJEdYBAAAAkyKsAwAAACZFWAcAAABMirAOAAAAmBRhHQAAADApwjoAAABgUoR1AAAAwKQI6wAAAIBJubu6AKAwcDgcWn/wpI6fPa+gEt5qVKG0LBaLq8sCAAC3OcI6cJNWJB7VoNXblZyW4dwW7u+rCbFRahdZ3oWVAQCA2x3LYICbsCLxqDolrMsW1CUpOS1DnRLWaUXiURdVBgAACgNm1k0kJSVFzZs316RJkzRx4kRduHBBbdu2VVxcnNzd3bVy5Uq9/fbb+vXXX3XPPfdoxIgRqlq1qqvLzlWqzaLM85lyL6SfMofDoQGrtinL4chxf5bDobhPt6tt9RCWxAAAgBtSSGPU7W3GjBmaOnWqMjMzNXDgQBUvXlzR0dEaOnSohg4dqgYNGmjBggXq1auX1qxZo2LFiuXrvDab7RZXnn2sz9M9pPQ/DBvTaIdOpOtI+rlrHnPgVIa+3X9cMWGlb3k9NptNdrvd0K9zUUfPjUfPjUfPjUfPjWfmnhPWTejVV19VdHS0JOmll17SpEmTdODAAbVq1UqdO3eWJA0cOFAeHh76/fffFRgYmOc57Xa7UlNTb2ndfx9P8jJsPFfIuHAxX8clpZxUhM+tn1m32+06f/68JMlqtd7y8UDPXYGeG4+eG4+eG88MPbfb7TmOTVg3oaioKOfj6tWrKz09XYcPH9bjjz/u3F6sWDENGjQo3+e0Wq35CvUFxWazqYUtXX5+fnIvpOtgwq0ltXhD3sdFBJc2pPdXZgP8/f3l4eFxy8cDPXcFem48em48em48M/Q8LS0tx+2FM0Xd5v76IcnKypIkubnd/LXARn/4yni6KbCEZ6H9RhMSGaJwf9+rLi79q4oBvmpSKciwNetWq1UeHh6FtudmRM+NR8+NR8+NR8+NZ9aeczcYE9q7d6/z8e7du1W6dGmFhYVp3759zu12u13NmjXTtm3bXFEiJFksFk2IjZJbLkHczWLR662iuLgUAADcMMK6CY0dO1aJiYn64Ycf9NZbb+nJJ59U165dtWrVKq1YsUJHjhzR+PHj5XA4VK1aNVeXW6S1iyyvJd0aq2KAb7btFQN8taRbY+6zDgAAbgrLYEzokUceUa9evZSVlaXOnTvr2WeflZubm0aOHKmZM2cqNTVV1atX1+zZs+Xp6enqcou8dpHl1bZ6iNYfPKlfz15QkJ+XYsL4C6YAAODmEdZNqGXLlurVq9dV2x999FE9+uijLqgIebFYLGocXsbVZQAAgEKGZTAAAACASRHWAQAAAJNiGYyJBAcHKykpydVlAAAAwCSYWQcAAABMirAOAAAAmBRhHQAAADApwjoAAABgUoR1AAAAwKQI6wAAAIBJEdYBAAAAkyKsAwAAACZFWAcAAABMirAOAAAAmBRhHQAAADApwjoAAABgUoR1AAAAwKQI6wAAAIBJEdYBAAAAkyKsAwAAACZFWAcAAABMirAOAAAAmBRhHQAAADApwjoAAABgUoR1AAAAwKTcXV0AcLtwOBxaf/Ckjp89r6AS3mpUobQsFourywIAAIUYYR3IhxWJRzVo9XYlp2U4t4X7+2pCbJTaRZZ3YWUAAKAwYxkMkIcViUfVKWFdtqAuSclpGeqUsE4rEo+6qDIAAFDYMbOOWybVZlHm+Uy538afMofDoQGrtinL4chxf5bDobhPt6tt9RCWxAAAgAJ3G8co85k/f77mzZunU6dOqVKlShoyZIiio6P1008/afz48dqzZ4/Kli2rvn37qmXLltc813/+8x+NGDFCP/zwgywWi7Zt26YnnnhCCQkJqlevniSpUaNGmjBhgho0aJCv+mw2202/x/yy2Wz6PN1DSv/DsDFvhUMn0nUk/dw1jzlwKkPf7j+umLDSBlWVM5vNJrvdbujXuaij58aj58aj58aj58Yzc88J6wVkz549mjhxombMmKGKFStq/vz56tevn1auXKmePXuqdevWGjt2rHbu3KlBgwYpPDxcVapUyfV89evX19mzZ7V//35VrlxZW7ZskcVi0fbt21WvXj3t379f586dU3R0dL7qs9vtSk1NLai3m6/xJC/DxrtVMi5czNdxSSknFeHj2pl1u92u8+fPS5KsVqtLaykq6Lnx6Lnx6Lnx6LnxzNBzu92e49iE9QJy7NgxWSwWBQUFKTg4WP369VPTpk312Wefyc/PT8OGDZObm5sqVKig33//XRcvXjsE+vj4qEaNGtq8ebMzrDdu3Fjbt2+XJP3www+qU6eOihUrlq/6rFarAgMDb/p95pfNZlMLW7r8/Pzkfhuvgwm3ltTiDXkfFxFc2tD+5uTKbIC/v788PDxcWktRQc+NR8+NR8+NR8+NZ4aep6Wl5bj99k1RJhMTE6PKlSsrNjZWVatWVfPmzdWxY0d99dVXqlq1qtzc/nctb48ePfJ9zs2bN6tz587auXOnZsyYoRdffFFZWVnauHGjGjVqdF01Gv3hK+PppsASnrf1N5qQyBCF+/tedXHpX1UM8FWTSkGmWLNutVrl4eFxW/f8dkPPjUfPjUfPjUfPjWfWnnM3mALi5eWlpUuXKiEhQXXq1NHy5cvVvn37m1r7dCWs//e//1Xp0qVVt25dWSwW7dmzR5s3b77usI7rZ7FYNCE2Sm65BHE3i0Wvt4oyRVAHAACFD2G9gOzYsUNz5sxRvXr1NHjwYH3xxRe6dOmSypYtq6SkJDn+cjeRfv366b333svznJGRkXI4HFq6dKmio6Pl5uamqKgozZ07V/7+/goNDb2Vbwn/r11keS3p1lgVA3yzba8Y4Ksl3Rpzn3UAAHDLsAymgHh6emrmzJkKCAhQ/fr1tWXLFp0/f14NGzbU/PnzNXHiRD322GPavn271qxZo169euV5Tjc3N9WrV08rVqzQmDFjJEm1a9fWlClT9MQTT9zqt4S/aBdZXm2rh2j9wZP69ewFBfl5KSaMv2AKAABuLcJ6Abnnnns0duxYzZo1S6NHj1ZQUJDeeOMN1apVS3PmzNG4ceO0YMEChYSEaPLkybrnnnvydd6YmBh98cUXql27tiQpOjpaDoeDJTAuYLFY1Di8jKvLAAAARYjF4cjlr72g0EhMTJT057Iao9hsNqWmpiowMNB0F2oUVvTcePTcePTcePTcePTceGboeW55jTXrAAAAgEmxDMZF5s2bp2nTpuW6PzY2VqNHjzawIgAAAJgNYd1FOnTooGbNmuW638fHx8BqAAAAYEaEdRcpUaKESpQo4eoyAAAAYGKsWQcAAABMirAOAAAAmBRhHQAAADApwjoAAABgUoR1AAAAwKQI6wAAAIBJEdYBAAAAkyKsAwAAACZFWAcAAABMirAOAAAAmBRhHQAAADApwjoAAABgUoR1AAAAwKQI6wAAAIBJEdYBAAAAkyKsAwAAACZFWAcAAABMirAOAAAAmFS+wvrx48d17tw5SdKPP/6o0aNH69NPP72lhQEAAABFXZ5h/T//+Y8eeugh7dq1S0ePHtXTTz+tjRs3atiwYVq4cKERNQIAAABFUp5hfdasWfrnP/+p+vXra/Xq1QoKCtJnn32mcePG6cMPPzSiRsDlHA6H1iWf0KIdh7Qu+YQcDoerSwIAAEWAe14HJCcna8aMGXJzc9P333+v+++/X25ubqpZs6aOHTtmRI2F0qZNm/TUU08pKSnJ1aUgDysSj2rQ6u1KTstwbgv399WE2Ci1iyzvwsoAAEBhl+fMeokSJZSRkaGMjAz99NNPatCggSTp6NGjKlmy5K2uD3CpFYlH1SlhXbagLknJaRnqlLBOKxKPuqgyAABQFOQ5s37//fdrxIgRKl68uHx9fdWwYUP98MMPeu2119SkSRMDSsTtKtVmUeb5TLnn+SkzJ4fDoQGrtikrlyUvWQ6H4j7drrbVQ2SxWAyuDgAAFAV5xqjhw4frzTff1C+//KK3335bxYoV07Zt21SzZk0NGjTIiBpdJiUlRc2bN9ecOXM0evRonT59Wh06dFCnTp0UFxengwcPqm7dupo8ebJ8fHyuea5z585pxIgR+uabb1S6dGl17Ngx2/5ff/1Vo0aN0saNG+Xv76/27durd+/eslqtWr58uZYuXaratWtr4cKF8vPzU58+fa46R15sNtt19+BG2Ww2fZ7uIaX/YdiYBe3QiXQdST93zWMOnMrQt/uPKyastEFV5c5ms8lutxv6dS7q6Lnx6Lnx6Lnx6LnxzNzzPMO6p6en4uLism178cUXb1lBZvTOO+9o1qxZOnDggAYMGKB169Zp5MiR8vT01PPPP69ly5ape/fu1zzHyJEjdfDgQX344YdKT0/P1lOHw6EXXnhBVapU0YoVK5SamqoRI0bIYrGoT58+kqTExER5e3tr8eLF+umnn/Taa6/prrvuUkxMTL7eg91uV2pq6g334HrZ7XZJXoaNdytkXLiYr+OSUk4qwsf1M+t2u13nz5+XJFmtVhdXUzTQc+PRc+PRc+PRc+OZoed2uz3HsfO1QGHfvn1KSEjQoUOH9NZbb+nrr79WpUqVVKdOnQIv1Iyef/55ValSRVWqVNG4cePUsmVLNWzYUJJUv359HTx48Jqvz8jI0Oeff6758+erWrVqznOOHj1a0p/3rj9+/LiWLl0qNzc3VahQQYMGDdLgwYOdYd1isWjixIny9/dX5cqVtWXLFi1ZsiTfYd1qtSowMPBGW3DdbDabWtjS5efnJ/fbdB1MuLWkFm/I+7iI4NKG9jY3V2YD/P395eHh4eJqigZ6bjx6bjx6bjx6bjwz9DwtLS3H7XmmqN27d6tz586qWbOmdu/ercuXL2vv3r0aP368Zs6cqfvvv7/AizWbkJAQ52NPT0+VK1cu2/PLly9f8/WHDh2S3W5XlSpVnNsiIyOdj5OTk3XmzBnVrl3buS0rK0sXL17U6dOnJUmhoaHy9/d37q9evboWLVp0Xe/D6A9fGU83BZbwvG2/0YREhijc3/eqi0v/qmKAr5pUCjLNmnWr1SoPD4/btue3I3puPHpuPHpuPHpuPLP2PM+wPmnSJPXs2VP9+/dXrVq1JEljxoxR8eLFNX369CIR1v/+Kwk3t3z94ddrKlasmPNxZmamKlSooFmzZl11nK+vryRdNTttt9sLpA7kzmKxaEJslDolrMvxIlM3i0Wvt4oyTVAHAACFT55pb/fu3Wrbtu1V25988kklJyffipoKnQoVKsjDw0OJiYnObXv27HE+DgsL0/Hjx1WqVCmFhoYqNDRUKSkpmjZtmjMIHjlyRH/88b+LNXfv3q3KlSsb9yaKqHaR5bWkW2NVDPDNtr1igK+WdGvMfdYBAMAtlefMuoeHh86du/qOGL/++qu8vG7vCwiN4uPjozZt2ig+Pl7jx4/XxYsXNWPGDOf+mJgYlStXTq+++qr69++vjIwMDR8+XA0aNHDO6p8/f14jR45U7969tW3bNn3xxRdKSEhw1VsqUtpFllfb6iFaf/Ckfj17QUF+XooJK82MOgAAuOXynFl/4IEH9Oabb+rs2bPObcnJyRo7diz3Wb8Ow4cPV61atdSjRw/FxcWpS5cuzn1Wq1Vvv/22srKy1KlTJ7344ou6//77NWzYMOcxd911lwIDA/Xoo4/qvffe0xtvvJFtjTtuLYvFosbhZfRYrbvVqEIZgjoAADCExeHI5S++/L9z587p6aef1k8//aSsrCz5+vrq3LlzqlKliubNm8dfMTXA8uXLNWPGDK1du/aGXn9l+c1fL2q91Ww2m1JTUxUYGGi6CzUKK3puPHpuPHpuPHpuPHpuPDP0PLe8lucyGIvFokWLFmnjxo3as2ePsrKyVLlyZTVq1IgLHAEAAIBbKM+w3rZtW7355puqX7++6tevb0RNt50+ffrohx9+yHX/qFGj1Lp1awMrAgAAQGGQZ1i/cOGCPD09jajltjVy5EhduHAh1/1/vT/6jWjfvr3at29/U+cAAADA7SfPsP7UU0/pxRdf1JNPPqny5ctfFdzvu+++W1bc7aJ06dKuLgEAAACFUJ5hfcqUKZKk+Pj4q/ZZLBbt3bu34KsCAAAAkHdYX7NmjRF1AAAAAPibPMN6uXLljKgDAAAAwN/ka836tcyfP7/AigEAAADwP9c9s56ZmakjR47o559/Vrdu3W5ZYQAAAEBRl2dYHz9+fI7bZ86cqd9++63ACwIAAADwpxv+E6Rt2rTR559/XpC1AAAAAPiLGw7rO3bskNVqLchaAAAAAPzFDV1geu7cOSUlJemJJ564JUUBAAAAyEdYDwoKksViybbNw8NDXbp0UevWrW9ZYQAAAEBRl2dY79u3r8qWLSs3t+wrZjIzM7Vnzx7VqFHjlhUHAAAAFGV5rllv3ry5zpw5c9X2lJQUde3a9VbUBAAAAEC5zKwvXLhQc+fOlSQ5HA516NDhqpn1s2fPKigo6NZXCAAAABRROYb19u3b6/Tp03I4HJo5c6YefvhhFS9ePNsxxYsX10MPPWRIkQAAAEBRlGNY9/Ly0gsvvCBJslgs+uc//ykvLy9DCwMAAACKujwvMH3hhReUmZmpEydOyG63S/pzaczly5eVmJjIHWEAAACAWyTPsL5hwwYNGjRI6enpV+3z9PQkrAMAAAC3SJ53g5kyZYqqVq2qOXPmyNPTUzNmzNCQIUPk4+OjN954w4gaAQAAgCIpz5n1AwcOaNy4capSpYruueceeXt7q2vXrvL29tb777+vBx54wIg6AQAAgCInz5l1q9UqX19fSVJoaKh+/vlnSVK9evWUnJx8a6sDAAAAirA8w3qlSpW0du1aSVKFChW0bds2SdJvv/12ayuD1qxZo8aNG+vee+/V+vXrXV1OkeJwOLQu+YQW7Tikdckn5HA4XF0SAAAogvJcBvPss8+qb9++8vDwUKtWrTR9+nQ9++yzSkpKUr169YyosciaNm2aYmJi1KdPH/n7+7u6nCJjReJRDVq9XclpGc5t4f6+mhAbpXaR5V1YGQAAKGrynFl/4IEHtHTpUtWsWVN33XWX3nvvPVmtVjVv3lyjR482osYiKyMjQ7Vr11a5cuXk6enp6nKKhBWJR9UpYV22oC5JyWkZ6pSwTisSj7qoMgAAUBTlObMuSdWqVZMkXb58WXXq1FGdOnVuaVGQmjVrpmPHjmnIkCGaOXOm5s2bp9GjR2v79u3y8/NTz5499dRTT7m6zGtKtVmUeT5T7vn6lLmew+HQgFXblJXLkpcsh0Nxn25X2+ohslgsBlcHAACKonzFqI8++kjvvvuufvvtN3355Zd6//33Vbp0aT3//PO3ur4ia9myZWrXrp169uyphx56SF26dFG1atW0ZMkS/fLLLxowYIBCQkLUtGnTfJ/TZrPdwoqvHuvzdA8p/Q/DxrxZh06k60j6uWsec+BUhr7df1wxYaUNqir/bDab7Ha7oV/noo6eG4+eG4+eG4+eG8/MPc8zrK9evVqTJ09Wt27d9N5770n680LTSZMmydPTUz179rzlRRZFpUqVct6JZ8+ePUpPT9e4cePk4+OjSpUqadiwYXJzy3MVk5PdbldqauotrPjq8SQvw8YrCBkXLubruKSUk4rwMd/Mut1u1/nz5yX9eRcn3Hr03Hj03Hj03Hj03Hhm6Lndbs9x7DzD+ty5czV06FC1a9dOc+fOlSQ99dRT8vb21rvvvktYN8ChQ4cUFhYmHx8f57YOHTpc1zmsVqsCAwMLurRc2Ww2tbCly8/PT+63yTqYcGtJLd6Q93ERwaUN7WV+XZkN8Pf3l4eHh4urKRroufHoufHoufHoufHM0PO0tLQct+eZog4dOqTo6OirttetW5cLTA1SUGHX6A9fGU83BZbwvG2+0YREhijc3/eqi0v/qmKAr5pUCjLtmnWr1SoPD4/bpueFAT03Hj03Hj03Hj03nll7nuc6ioCAAB06dOiq7Tt27FDp0uZbt1sY3X333Tpy5IguXLjg3DZhwgSNGTPGhVUVPhaLRRNio+SWSxB3s1j0eqso0wZ1AABQ+OQZ1h977DGNHj1aa9askSQdPHhQH330kcaOHav27dvf8gIhxcTEKCAgQCNGjFBycrLWrFmjRYsWKSYmxtWlFTrtIstrSbfGqhjgm217xQBfLenWmPusAwAAQ+W5vuKZZ55RRkaGXn75ZV26dEm9evWSu7u7Hn/8cT333HNG1Fjkubu7a9asWRo9erTatWungIAADRw4UE2aNHF1aYVSu8jyals9ROsPntSvZy8oyM9LMWGlmVEHAACGyzGsT5w4US+88IK8vb0lSS+//LJ69+6tAwcOyOFwqEKFCtkudsStsXbtWufj8PBwJSQkuLCaosVisahxeBlXlwEAAIq4HJfBzJs3L9v6aEl66aWXVKZMGdWoUYOgDgAAABggx7DuyOEvOG7ZskWXLl265QUBAAAA+FP+/6oOAAAAAEMR1gEAAACTyjWsc+cLAAAAwLVyvXXjmDFjdMcddzif22w2vfHGGypevHi248aPH3/rqgMAAACKsBzD+n333afU1NRs22rVqqXTp0/r9OnThhQGAAAAFHU5hvUFCxYYXQcAAACAv+ECUwAAAMCkCOsAAACASRHWAQAAAJMirAMAAAAmRVgHAAAATIqwDgAAAJgUYR0AAAAwKcI6AAAAYFKEdQAAAMCkCOsAAACASRHWAQAAAJMirAMAAAAmRVgHAAAATIqwDgAAAJgUYR0AAAAwKcI6AAAAYFKEdQAAAMCkbpuwvmnTJkVERNz0eaZPn66uXbsWQEWuU1C9wNUcDofWJZ/Qoh2HtC75hBwOh6tLAgAARZi7qwsAzGJF4lENWr1dyWkZzm3h/r6aEBuldpHlXVgZAAAoqm6bmXXgVlqReFSdEtZlC+qSlJyWoU4J67Qi8aiLKgMAAEWZKcP6kSNH9M9//lO1atVSkyZNNH/+/KuO+e233/TSSy+pTp06qlu3rsaMGaPLly87969bt07t2rXTvffeq9atW2vjxo1XnePSpUvq3Lmzevbsme21udm4caPatGmjyMhINW/eXIsWLXLui4iI0NKlS/XAAw+oVq1aGjBggP744w/n/q1bt6p9+/aqUaOGYmNj9eWXX2Y796JFi9SsWTPVqlVLXbt2VVJSknPfuXPn9PLLL6tWrVpq0aKFEhMT86zVDFJtFv16PlPH/7CZ+r9j5y5rwKptysplyUuWw6G4T7ezJAYAABjOdMtgLl26pJ49e6patWpasmSJfvnlFw0YMEBTpkxxHnP58mV169ZNoaGhWrBggdLT0zV8+HBJ0rBhw7R//3717t1bffr00SOPPKKvvvpKzz//vL766ivnObKysvTyyy8rKytLM2bMULFixa5Zl91uV79+/dS9e3fFxsZq+/btGjRokKKjo1WxYkVJ0ltvvaUxY8bI399fQ4YM0YgRIzR58mSlpqaqV69e6t+/vxo1aqSdO3cqLi5O/v7+io6O1tq1azVjxgzFx8crLCxMn3zyiZ566il99dVX8vPz08iRI3Xw4EF9+OGHSk9PV1xc3A311maz3dDrbnSsz9M9pPQ/8j7YxQ6dSNeR9HPXPObAqQx9u/+4YsJKG1TV9bPZbLLb7YZ+nYs6em48em48em48em48M/fcdGF9w4YNSk9P17hx4+Tj46NKlSpp2LBhcnP73y8B1q9frxMnTmjJkiXy8/OTJI0YMUK9e/dW//79tWzZMkVFRen555+XJD377LM6f/68zp496zxHfHy8jhw5og8//FDe3t551pWRkaEzZ84oICBAwcHBCg4OVunSpRUYGOg85plnnlGTJk0kSUOHDlXPnj312muvaeHChWrQoIG6dOkiSQoNDdXevXuVkJCg6Ohovffee+rVq5eaNm0qSerXr5/WrVunVatWqW3btvr88881f/58VatWTZL0/PPPa/To0dfVV7vdrtTU1Ot6zc2w2+2SvAwb72ZkXLiYr+OSUk4qwsdyi6u5cXa7XefPn5ckWa1WF1dTNNBz49Fz49Fz49Fz45mh53a7PcexTRfWDx06pLCwMPn4+Di3dejQQZs2bXI+T05O1t133+0M6pIUFRWlzMxMHT16VIcOHXIG2yv69evnfLxjxw5t2bJF9957b7ZzXEvJkiXVuXNnDRs2TLNmzVLTpk3VoUOHq2q4onr16rLb7Tp06JAOHjyob775RrVq1XLut9lsCgsLc76fN954I9tvDy5duqTDhw/r0KFDstvtqlKlinNfZGRkvmr+K6vVmu0Hi1vNZrOphS1dfn5+cnc33ccsm3BrSS3ekPdxEcGlDe3h9boyG+Dv7y8PDw8XV1M00HPj0XPj0XPj0XPjmaHnaWlpOW43XYrKT7C74447rtr250zun/+b1zmKFy+uGTNmqFevXlq2bJk6duyYr9pee+01Pfnkk/r666/19ddfa/HixZo1a5buv/9+Scr2xc3KypIkubm5KTMzU7GxsXruueeyne9KnXa7XUOGDFH9+vWz7ffx8dGxY8euqiOvJTu5MfrDV8bTTYElPE3/jSYkMkTh/r5XXVz6VxUDfNWkUpAsFvPOrEt//lDm4eFh+p4XJvTcePTcePTcePTceGbtuekuML377rt15MgRXbhwwbltwoQJGjNmjPN5WFiYDh8+rDNnzji37dy5U+7u7ipfvrxCQ0O1b9++bOd9/PHH9dlnn0mSKleurPvuu0+9e/fW5MmTs50nN6mpqRo1apRCQ0PVu3dvffzxx6pXr57Wrl3rPGbv3r3Ox7t375aHh4fCwsIUFhamI0eOKDQ01PnfmjVrtHr1auf7+e2337Ltnz17tnbu3KkKFSrIw8Mj20Wle/bsyV8zkS8Wi0UTYqPklksQd7NY9HqrKNMHdQAAUPiYLqzHxMQoICBAI0aMUHJystasWaNFixZpwIABzmMaNmyokJAQDRw4UElJSfrxxx8VHx+vVq1aqUSJEurcubO2bt2qefPm6ciRI5ozZ47279+v6OjobGN169ZNfn5+2Zaf5MbPz0//+c9/NG7cOB09elRbtmzRvn37VLVqVecx06ZN0+bNm7Vr1y6NGTNG7dq1U/HixfXEE09o9+7dmjp1qg4fPqzVq1drypQpCgoKkiT16NFDCQkJ+uSTT3T06FG98cYb+vzzzxUeHi4fHx+1adNG8fHx2rVrlzZt2qQZM2YUULdxRbvI8lrSrbEqBvhm214xwFdLujXmPusAAMAlTLkMZtasWRo9erTatWungIAADRw4UF5e/7tY0Wq1atasWYqPj1enTp1UvHhxxcbG6uWXX5YklS9fXtOnT9fkyZM1ZcoUVapUSbNnz1aZMmWyjVWsWDENHjxYvXv3VseOHa+5FrxYsWKaNWuWxo0bp9atW6t48eJ69NFHsy2hadu2reLi4nT27Fm1bNlSQ4cOlSSVK1dOs2fP1qRJk/T++++rTJkyiouLU+vWrSVJjzzyiE6dOqVp06bp1KlTqlixot5++23dfffdkqThw4crPj5ePXr0kJ+fn7p27aoJEyYUSL/xP+0iy6tt9RCtP3hSv569oCA/L8WElWZGHQAAuIzFwc2jC0RERITmz5+vunXrurqUq1xZQnMjF6beKJvNptTUVAUGBppu7VdhRc+NR8+NR8+NR8+NR8+NZ4ae55bXTLcMBgAAAMCfTLcMxlX69OmjH374Idf9o0aNci5bAQAAAIxAWP9/I0eOzHYHmr/z9/e/5uuTkpIKuiQAAAAUcYT1/1e6tHn/jDwAAACKJtasAwAAACZFWAcAAABMirAOAAAAmBRhHQAAADApwjoAAABgUoR1AAAAwKQI6wAAAIBJEdYBAAAAkyKsAwAAACZFWAcAAABMirAOAAAAmBRhHQAAADApwjoAAABgUoR1AAAAwKQI6wAAAIBJEdYBAAAAkyKsAwAAACZFWAcAAABMirAOAAAAmBRhHQAAADApwjoAAABgUu6uLgB5i4uLkyS9/vrrLq6k8HI4HFp/8KSOnz2voBLealShtCwWi6vLAgAARRxhHUXeisSjGrR6u5LTMpzbwv19NSE2Su0iy7uwMgAAUNSxDAZF2orEo+qUsC5bUJek5LQMdUpYpxWJR11UGQAAADPrt8T8+fM1b948nTp1SpUqVdKQIUMUHR2tn376SePHj9eePXtUtmxZ9e3bVy1btszXOc+dO6f+/ftr7dq1uvPOOzVgwADFxsbe4ndyc1JtFmWez5S7ST9lDodDA1ZtU5bDkeP+LIdDcZ9uV9vqISyJAQAALmHSGHX72rNnjyZOnKgZM2aoYsWKmj9/vvr166eVK1eqZ8+eat26tcaOHaudO3dq0KBBCg8PV5UqVfI873/+8x+9+uqrevnll/Wvf/1LQ4YMUZMmTeTr65vv2mw22828tetis9n0ebqHlP6HYWNer0Mn0nUk/dw1jzlwKkPf7j+umLDSBlV142w2m+x2u6Ff56KOnhuPnhuPnhuPnhvPzD0nrBewY8eOyWKxKCgoSMHBwerXr5+aNm2qzz77TH5+fho2bJjc3NxUoUIF/f7777p48WK+zlurVi09/fTTkqTnn39ec+fO1cGDB3Xvvffm6/V2u12pqak3/L6ul91ul+Rl2Hg3IuNC/nqflHJSET7mn1m32+06f/68JMlqtbq4mqKBnhuPnhuPnhuPnhvPDD232+05jk1YL2AxMTGqXLmyYmNjVbVqVTVv3lwdO3bUV199papVq8rN7X+XCfTo0SPf5w0JCXE+vjKbfunSpXy/3mq1KjAwMN/H3yybzaYWtnT5+fnJ3aTrYMKtJbV4Q97HRQSXNrR3N+rKbIC/v788PDxcXE3RQM+NR8+NR8+NR8+NZ4aep6Wl5bjdnCnqNubl5aWlS5dq8+bN+uabb7R8+XJ99NFHatq06U2dN6eftBy5rLXOjdEfvjKebgos4WnabzQhkSEK9/e96uLSv6oY4KsmlYJumzXrVqtVHh4epu15YUTPjUfPjUfPjUfPjWfWnnM3mAK2Y8cOzZkzR/Xq1dPgwYP1xRdf6NKlSypbtqySkpKyBex+/frpvffec2G1RZvFYtGE2Ci55RLE3SwWvd4q6rYJ6gAAoPAhrBcwT09PzZw5U0uXLlVKSoo+++wznT9/Xg0bNtSZM2c0ceJEHT58WMuXL9eaNWvUsGFDV5dcpLWLLK8l3RqrYkD2C3UrBvhqSbfG3GcdAAC4FMtgCtg999yjsWPHatasWRo9erSCgoL0xhtvqFatWpozZ47GjRunBQsWKCQkRJMnT9Y999zj6pKLvHaR5dW2eojWHzypX89eUJCfl2LC+AumAADA9Qjrt0CbNm3Upk2bq7bXqlVLS5cuve7zvf7661dtS0pKuqHakDOLxaLG4WVcXQYAAEA2LIMBAAAATIqZdRebN2+epk2bluv+2NhYjR492sCKAAAAYBaEdRfr0KGDmjVrlut+Hx8fA6sBAACAmRDWXaxEiRIqUaKEq8sAAACACbFmHQAAADApwjoAAABgUoR1AAAAwKQI6wAAAIBJEdYBAAAAkyKsAwAAACZFWAcAAABMirAOAAAAmBRhHQAAADApwjoAAABgUoR1AAAAwKQI6wAAAIBJEdYBAAAAkyKsAwAAACZFWAcAAABMirAOAAAAmBRhHQAAADApwjoAAABgUoR1AAAAwKQI6wAAAIBJEdYBAAAAk3J3dQGAqzgcDq0/eFLHz55XUAlvNapQWhaLxdVlAQAAOBHWUSStSDyqQau3Kzktw7kt3N9XE2Kj1C6yvAsrAwAA+B+WwaDIWZF4VJ0S1mUL6pKUnJahTgnrtCLxqIsqAwAAyK7Ih/WUlBRFREToq6++0gMPPKDIyEj16tVLZ86cydfr582bp2bNmqlWrVr65z//qV9++UWSlJWVpffee0/NmzdXjRo11LVrVyUlJTlfFxERobfeekt169bVc889J0naunWr2rdvrxo1aig2NlZffvml8/jjx4+rZ8+eqlWrlurXr6/4+HjZbLaCa8QtkGqz6NfzmTr+h800/x07d1kDVm1TlsORY81ZDofiPt0uRy77AQAAjMQymP83e/ZsTZkyRQ6HQ71799a8efPUv3//a75m0aJFmjFjhuLj41W1alVNmTJFL730kpYvX66ZM2fqo48+Unx8vO6++269++67evrpp/Xll1/K29tbkvTNN9/oo48+UlZWllJTU9WrVy/1799fjRo10s6dOxUXFyd/f39FR0crPj5e3t7e+uSTT5SWlqa+ffuqQoUKevLJJ/P9Ho0M9zabTZ+ne0jpfxg2Zn4cOpGuI+nnrnnMgVMZ+nb/ccWElTaoqoJhs9lkt9tN/0NcYULPjUfPjUfPjUfPjWfmnhPW/1/fvn1Vo0YNSVJsbKwSExPzfM3ixYvVvXt3PfLII5KkESNG6P3339fFixf14Ycf6uWXX1bz5s0lSfHx8XrwwQe1atUqPf7445Kkxx57TBUqVJAkvfnmm2rQoIG6dOkiSQoNDdXevXuVkJCg6OhoHTt2TNWqVVNQUJBCQ0P1zjvvqESJEvl+f3a7XampqflvyE2y2+2SvAwbL78yLlzM13FJKScV4XN7XWxqt9t1/vx5SZLVanVxNUUDPTcePTcePTcePTeeGXput9tzHJuw/v9CQ0Odj318fPL1k9WhQ4dUrVo15/OAgAANGjRIp06d0pkzZ3Tvvfc693l4eKh69epKTk52bitXrpzz8cGDB/XNN9+oVq1azm02m01hYWGSpKefflpDhgzRf/7zHzVu3FiPPPKIqlatmu/3Z7VaFRgYmO/jb5bNZlMLW7r8/Pzk7m6ej1m4taQWb8j7uIjg0ob2qyBc+cz6+/vLw8PDxdUUDfTcePTcePTcePTceGboeVpaWo7bzZOiXOxGvjC5hdA77rgjx+12u11ZWVk5HpeZmanY2Fjn+vW/j9G6dWvVr19fX3/9tb799lv17dtXzzzzTJ5Ldf7K6A9fGU83BZbwNNU3mpDIEIX7+151celfVQzwVZNKQbflbRytVqs8PDxM1fPCjp4bj54bj54bj54bz6w9L/IXmN6M0NBQ7du3z/n89OnTqlevnn7//XcFBARo586dzn02m03//e9/nTPlfxcWFqYjR44oNDTU+d+aNWu0evVqSdLUqVOVlpamzp07a86cOerXr5+++uqrW/r+CiOLxaIJsVFyyyWIu1kser1V1G0Z1AEAQOFDWL8JXbt2VUJCgr7++msdOnRII0eOVHBwsIKDg9W9e3dNmzZNa9euVXJysoYPH65Lly4517f/3RNPPKHdu3dr6tSpOnz4sFavXq0pU6YoKChI0p/LZEaPHq19+/Zp//79+u67765rGQz+p11keS3p1lgVA3yzba8Y4Ksl3Rpzn3UAAGAaLIO5CW3atNGJEyc0atQonTt3TnXq1NG0adMkST179tS5c+c0fPhwnTt3TrVq1dKCBQtUqlSpHM9Vrlw5zZ49W5MmTdL777+vMmXKKC4uTq1bt5Ykvfbaaxo1apS6du2qzMxMNWnSREOHDjXsvRY27SLLq231EK0/eFK/nr2gID8vxYTxF0wBAIC5WBzcULrQu3Jnm8jISMPGtNlsSk1NVWBgoOnWfhVW9Nx49Nx49Nx49Nx49Nx4Zuh5bnmNZTAAAACASbEMJhfz5s1zLmnJSWxsrEaPHm1gRQAAAChqCOu56NChg5o1a5brfh8fHwOrAQAAQFFEWM9FiRIlrusvhAIAAAAFjTXrAAAAgEkR1gEAAACTIqwDAAAAJkVYBwAAAEyKsA4AAACYFGEdAAAAMCnCOgAAAGBShHUAAADApAjrAAAAgEkR1gEAAACTIqwDAAAAJkVYBwAAAEyKsA4AAACYFGEdAAAAMCnCOgAAAGBShHUAAADApAjrAAAAgEkR1gEAAACTIqwDAAAAJkVYBwAAAEyKsA4AAACYFGH9FkpJSVFERIRSUlKu2rd8+XI1a9bMBVWZn8Ph0LrkE1q045DWJZ+Qw+FwdUkAAAAu4e7qAoC/WpF4VINWb1dyWoZzW7i/rybERqldZHkXVgYAAGA8ZtZhGisSj6pTwrpsQV2SktMy1ClhnVYkHnVRZQAAAK5BWDfAF198ocaNGysqKkojRozQ5cuXs+3ftGmTIiIism2Li4tTXFyc8/l//vMfPfLII7r33nv16KOPavPmzYbUfjNSbRb9ej5Tx/+w5fnfsXOXNWDVNmXlsuQly+FQ3KfbWRIDAACKFJbBGGDJkiWaOnWq7Ha7Bg4cqDlz5qhcuXL5fv2+ffs0aNAgjRo1SjVq1NB3332nZ555RqtWrVJoaGi+z2Oz2W6k/Btis9n0ebqHlP5Hvo4/dCJdR9LPXfOYA6cy9O3+44oJK10QJRY6NptNdrvd0K9zUUfPjUfPjUfPjUfPjWfmnhPWDTBkyBDVrl1bkvTSSy9p0qRJGjBgQL5f//7776tTp06KjY2VJD311FPasmWLPvroo2yz79dit9uVmpp6/cXfILvdLskr38dnXLiYr+OSUk4qwsdyg1UVbna7XefPn5ckWa1WF1dTNNBz49Fz49Fz49Fz45mh53a7PcexCesGqFGjhvNx1apVderUKZ09ezbfr09OTtbnn3+uxYsXO7fZbDbFxMTk+xxWq1WBgYH5Pv5m2Ww2tbCly8/PT+7ueX/Mwq0ltXhD3ueNCC5t6Pu4nVyZDfD395eHh4eLqyka6Lnx6Lnx6Lnx6LnxzNDztLS0HLcT1g3g5va/SwOurLn+6wfBYrl6pjgzM9MZcu12u5555hm1bds22zGenp7XVYfRH74ynm4KLOGZr3FDIkMU7u971cWlf1UxwFdNKgXl2C/8yWq1ysPDg2/uBqLnxqPnxqPnxqPnxjNrz7nA1AA///yz8/FPP/2ksmXLysvrf0tErnwozp3735rtv96bPSwsTCkpKQoNDXX+t3jxYq1bt86A6o1hsVg0ITZKbrkEcTeLRa+3iiKoAwCAIoWwboD4+Hjt2rVL33//vaZNm6bu3btn21+pUiV5enpq9uzZ+uWXX/Tee+9pz549zv3du3fXv//9b82fP19Hjx7VBx98oA8++EB33323sW/kFmsXWV5LujVWxQDfbNsrBvhqSbfG3GcdAAAUOSyDMUDnzp3Vu3dv2Ww2derUSd26ddMnn3zi3O/j46P4+HhNnTpVCxYs0IMPPqgnn3xSp0+fliTVrFlTEydO1PTp0zVx4kSVL19ekydP1n333eeid3TrtIssr7bVQ7T+4En9evaCgvy8FBNWmhl1AABQJFkc3Li60EtMTJQkRUZGGjamzWZTamqqAgMDTbf2q7Ci58aj58aj58aj58aj58YzQ89zy2ssgwEAAABMirAOAAAAmBRhHQAAADApwjoAAABgUoR1AAAAwKQI6wAAAIBJEdYBAAAAkyKsAwAAACZFWAcAAABMirAOAAAAmBRhHQAAADApwjoAAABgUoR1AAAAwKQI6wAAAIBJEdYBAAAAkyKsAwAAACZFWAcAAABMirAOAAAAmBRhHQAAADApwjoAAABgUoR1AAAAwKQI6wAAAIBJEdYBAAAAkyKsAwAAACbl7uoCgCscDofWHzyp42fPK6iEtxpVKC2LxeLqsgAAAFyGmXUTSklJUUREhFJSUiRJO3fu1EMPPaTIyEgtXbpUERER2rRpk4urLFgrEo8qYvxKNZ31lZ78cIOazvpKEeNXakXiUVeXBgAA4DLMrJvQXXfdpQ0bNqhUqVKSpHfeeUfly5fX3LlzVbJkSTVp0kR+fn4urrLgrEg8qk4J65TlcGTbnpyWoU4J67SkW2O1iyzvouoAAABch7BuQlarVYGBgc7nGRkZuu+++xQcHCxJ8vHxcVVp1yXVZlHm+Uy5X+NT5nA4NGDVtquC+hVZDofiPt2uttVDWBIDAACKHMK6wVq3bq1OnTqpS5cukqQePXrIZrPpww8/lCQtXrxYM2fO1IkTJ7RmzRoNHjxYmzdv1ubNmzVz5kwlJSUpIiJC8+fPV926da9rbJvNVuDv51pjfZ7uIaX/cc3jDp1I15H0c9c85sCpDH27/7hiwkoXZImFjs1mk91uN/TrXNTRc+PRc+PRc+PRc+OZueeEdYPFxMRo8+bN6tKli2w2m3bu3KmsrCzZbDZ5eHjo+++/1+OPP6633npLkjR9+nQ999xzqlWrlnr27HnD49rtdqWmphbU28jXeJJXnsdlXLiYr/MlpZxUhA8z69dit9t1/vx5SX/+dga3Hj03Hj03Hj03Hj03nhl6brfbcxybsG6wmJgYDRgwQA6HQ//9739Vvnx5paena8+ePYqMjNSmTZv0zDPPOMN6yZIl5eHhIW9v72xLY67X35fW3Go2m00tbOny8/OT+zXWwYRbS2rxhrzPFxFc2tD6b0dXZgP8/f3l4eHh4mqKBnpuPHpuPHpuPHpuPDP0PC0tLcfthHWDRUdH68KFC9q/f7+2bNmi6OhonTx5Utu2bZPVapWbm5tKlix5S8Y2+sNXxtNNgSU8rzluSGSIwv19lZyWkesxFQN81aRSEGvW88FqtcrDw4Nv7gai58aj58aj58aj58Yza8+5daPBihUrpujoaG3evFlbt25V7dq1Vbt2bW3fvl0bN25Uw4YNi1QotVgsmhAbJbdc3rObxaLXW0UVqZ4AAABcQVh3gSvr1nfu3JktrG/YsEGNGjVydXmGaxdZXku6NVbFAN9s2ysG+HLbRgAAUKSxDMYFYmJiNGnSJJUpU0ZlypRRQECALly4oC1btmjq1KnOCxyKknaR5dW2eojWHzypX89eUJCfl2LC+AumAACgaCOsu0DFihXl7++v2rVrS/pzjVStWrV05swZlSpVqkiGdenPJTGNw8u4ugwAAADTIKy7yHfffZft+dy5c52Pg4ODlZSU5Hy+YMGCbMf+dR8AAAAKL9asAwAAACZFWAcAAABMirAOAAAAmBRhHQAAADApwjoAAABgUoR1AAAAwKQI6wAAAIBJEdYBAAAAkyKsAwAAACZFWAcAAABMirAOAAAAmBRhHQAAADApwjoAAABgUoR1AAAAwKQI6wAAAIBJEdYBAAAAkyKsAwAAACZFWAcAAABMirAOAAAAmBRhHQAAADApwjoAAABgUoR1AAAAwKQI6wAAAIBJEdYBAAAAk3J3dQEo2hwOh9YfPKnjZ88rqIS3GlUoLYvF4uqyAAAATKFIz6xPnz5dXbt2venzNGvWTMuXL7+pc6SkpCgiIkIpKSk3Xc/tYkXiUUWMX6mms77Skx9uUNNZXyli/EqtSDzq6tIAAABMoUiHdTO56667tGHDBt11112uLsUQKxKPqlPCOiWnZWTbnpyWoU4J6wjsAAAAYhmMaVitVgUGBrq6jAKVarMo83ym3P/2KXM4HBqwapuyHI4cX5flcCju0+1qWz2EJTEAAKBIK1Jh/cCBAxo+fLj27Nmje++9VxUrVpQkLV++XDNmzNDatWudx3bt2lV16tTRiy++qMuXL2vy5Mn697//rfT0dJUpU0a9evXSY489dt01/Pvf/9Zbb72l48ePKyQkRC+//LIeeOABpaSkqHnz5lqzZo2Cg4MVERGhN998U9OmTdPx48fVvHlz9e/fX0OHDtWuXbtUrVo1TZ06VWXKlMn32Dab7brrvVE2m02fp3tI6X9cte/QiXQdST93zdcfOJWhb/cfV0xY6VtVYqFjs9lkt9sN/ToXdfTcePTcePTcePTceGbueZEJ65cvX9azzz6r6OhojRkzRj/++KPGjRunqKioPF/7zjvv6Ntvv9X06dPl7++vFStWKD4+Xs2bN1dAQEC+a0hLS9PAgQM1evRo1a1bV1988YVefvllrVu3Lsfjp02bptdff10XLlzQ008/rc2bN2vo0KEaPHiw+vbtq3fffVfDhg3L19h2u12pqan5rvVm2e12SV457su4cDFf50hKOakIH2bW88tut+v8+fOS/vxNDW49em48em48em48em48M/TcbrfnOHaRCes//PCDzpw5o9dee03e3t4KDw/X5s2blZ6enudrq1Sponr16qlmzZqSpOeee04zZ87U4cOHryusnzhxQjabTWXLllW5cuXUs2dPRURE6I477tC5c1fPNHfv3l333nuvJOmee+5RWFiY/vGPf0iSHnroIe3bty/fYxu9zMZms6mFLV1+fn5y/9s6mHBrSS3ekPc5IoJLF7qlQbfSldkAf39/eXh4uLiaooGeG4+eG4+eG4+eG88MPU9LS8txe5EJ6wcOHNDdd98tb29v57bIyEh99913eb72gQce0Pfff6/XX39dBw8e1J49eyRdmT3Ov3vuuUdNmjRRjx49FBYWpubNm6tjx47y8sp5BjokJMT52NPTU+XKlcv2/PLly9c1vtEfvjKebgos4XnVuCGRIQr3973q4tK/qhjgqyaVglizfp2sVqs8PDz45m4gem48em48em48em48s/a8SN0NxvG3CxqvfDFyCoSZmZnOx1OnTtWrr74qd3d3tW3bVosXL76h8S0Wi+bMmaOlS5eqRYsW+uabb9SuXTvt3bs3x+P//qsQN7fC8eWyWCyaEBslt1yCuJvFotdbRRHUAQBAkVc40l8+VKpUSYcPH1ZGxv9mc6+EZA8PD/3xx/8uhHQ4HNnud75o0SINHz5cr7zyih555BFduHDBedz1SE5O1oQJE1SjRg31799fn/1fe3ceV1P+/wH8dd1SKKLiS7YsMaOrDQ1uloavRmXKNraGMWbM98dgbJWxh2xjKVvDGOuYyRKjsW9fzIzlK5oQkiKhriVC5Xb7/P7wdb7utMjSvSdez8fDY7rnc87nfM77fiavTp97/PYbqlevjiNHjrzOpZVK/qraiOzfBg1sLPW2N7CxRGT/NvBX1TbSyIiIiIjk451ZBtOqVStUr14d3377LYYPH47Y2Fjs2LEDTk5OcHR0REZGBtauXYt27dph7dq1uH//vnSslZUVDh48CEdHR6SlpWHGjBkA8NLLUCpWrIgNGzbA0tISvr6+uHz5MlJTU/H++++/0WstLfxVteHnWAtHrqTj5oMs1KhUDmp7/gumRERERM+8M3fWTU1NERERgfv378Pf3x8bNmxA3759AQB169ZFYGAgli5dCj8/Pwgh0KlTJ+nYGTNmID4+Ht7e3ggODoaXlxeaNm1a6PKVwtja2iI8PBy7d++Gt7c3pk6dipEjR0KtVr/Ray1NFAoF2tSvhk9c6sKjXjUGdSIiIqLnKMTLruWgUicuLg7A0w/UGopWq4VGo4Gtra3sPqjxtmLNDY81NzzW3PBYc8NjzQ1PDjUvLK+9M3fWiYiIiIhKm3dmzbohdO3aFUlJSYW2L1++HM2aNTPgiIiIiIioNGNYf4MWLVpU5D9TW61aNQOOhoiIiIhKO4b1N6hGjRrGHgIRERERvUW4Zp2IiIiISKYY1omIiIiIZIphnYiIiIhIphjWiYiIiIhkimGdiIiIiEimGNaJiIiIiGSKYZ2IiIiISKYY1omIiIiIZIphnYiIiIhIphjWiYiIiIhkimGdiIiIiEimGNaJiIiIiGSKYZ2IiIiISKYY1omIiIiIZIphnYiIiIhIphjWiYiIiIhkimGdiIiIiEimGNaJiIiIiGSKYZ2IiIiISKYY1omIiIiIZMqoYT0+Ph4xMTEleg5PT09s2bKlRM9Br04IgcOJafj5dBIOJ6ZBCGHsIRERERHJhokxTz5kyBAMHToUrq6uxhwGGUlU3DUEbo9B4p1MaVt9a0vM8nWFv6q2EUdGREREJA9cBkNGERV3DT1XH9YL6gCQeCcTPVcfRlTcNSONjIiIiEg+jBbWAwICkJqaiuDgYAQFBSExMRGff/45XF1d4eHhgUWLFiEvLw8AEB4ejoCAAL3jn1/ekpubi3nz5kGtVsPNzQ3Dhg3DvXv3pH0TEhLQq1cvqFQq+Pn5IT4+vlhj1Gq1GD9+PNzd3eHi4oKvvvoKaWlpUvu2bdvg5eUFJycn9OrVC+fPnwcABAUFISgoCF26dEHLli2RnJyMBw8eYMyYMXB1dYVarUZISAiys7Olvi5duoSAgAA0bdoUnTp1wvr166W28PBwjBo1CpMmTYKrqytatmyJ5cuXv2TFDU+jVeDm41zceKTV+5P68AlG/XoKeYUseckTAkHRMVwSQ0RERO88oy2DCQ8Px8cff4yBAweiQ4cO6Nq1Kzw9PbFx40YkJSVh/PjxsLCwwIABA17Y18KFC7F161bMmDEDNWrUwKRJkzBp0iSEhYUBADZt2oTQ0FDUr18fkydPxqRJkxAZGfnCftevX4+TJ09i5cqVMDc3x+TJkzFjxgwsXLgQR44cwbfffotvv/0WrVq1wtq1azF48GDs378fwNMgv3jxYtjY2KBu3br4+uuvodVqsWHDBuTk5GDatGmYOnUqZsyYgezsbHzxxRfw9/dHSEgIrly5ggkTJqBChQrw8/MDAOzevRt9+vRBVFQU9u7dizlz5qBDhw6wt7cvds21Wm2x931dWq0WO++aAncf5WtLSruLq3cfFnn85duZOJRwA2r7qiU1xLeOVquFTqcz6Pv8rmPNDY81NzzW3PBYc8OTc82NFtatrKygVCphaWmJ/fv3o1y5cggJCYGJiQnq168PjUaDxYsXvzCsCyEQGRmJwMBAtGnTBgAwZcoU7Ny5U9qnd+/e6NChA4Cnd/RHjhxZrDFev34dZmZmsLOzg5WVFWbOnImMjAwAwC+//AIfHx/07t0bADB27FiYmpri/v37AACVSgVPT08AwLVr17Bv3z6cOHEClpaWAICQkBD4+fkhODgYu3btgrW1NUaMGAEAqFu3LlJTU7FmzRoprFtZWSEwMBBKpRKDBg3C8uXLcfbs2WKHdZ1OB41GU6x93wSdTgegXIFtmVnZBW7/u4vX09HIQvEGR/V20+l0ePz4MQBAqVQaeTTvBtbc8Fhzw2PNDY81Nzw51Fyn0xV4bqN+wPSZxMRENGnSBCYm/xuOi4sLNBoNHjx4UOSx9+7dQ0ZGBpo0aSJta9CgAb7++mvpda1ataSvLS0tkZOTU6xxffLJJ/jtt9+gVqvRokUL6TcAAJCUlIRevXpJ+5YtWxaBgYHSazs7O73ry8vLk36YeCYvLw9Xr17FlStXcOHCBbi4uEhtf3/Datasqfe6QoUKyM3NLdZ1AE8nnq2tbbH3f11arRadtHdRqVIlvfcVAOorrfDL0Rf30ahmVYOOubR7djfA2toapqamRh7Nu4E1NzzW3PBYc8NjzQ1PDjW/c+dOgdtlEdbNzMzybXu2Xl2n00GhyH939VlQ/XsQLMir/oTUsGFDHDhwAIcOHcKhQ4cwb948REdHY/369S887/PXpNPpYGlpic2bN+fbr1q1asjNzUXLli0xceLEQvsraOK87JpuQ0++auZlYFvRPN95a6lqob61Zb4Plz6vgY0l2jWsUeB7T4VTKpUwNTXlN3cDYs0NjzU3PNbc8Fhzw5NrzWXxNBh7e3ucO3dOb53Q6dOnUaVKFVhZWcHU1BSPHv1v7fOjR49w9+5dAEDFihVRuXJlXLhwQWqPj49HmzZt9D7A+Sq2bt2KgwcP4qOPPsKsWbOwYsUKnDp1Cnfu3EGdOnX0zqnT6eDp6YlTp04VeH2ZmZlQKBSoU6cO6tSpg+zsbMyePRtPnjyBvb09kpKSULNmTan9zJkzWLt27WuNX64UCgVm+bqiTCFBvIxCgZk+rgzqRERE9M4zalgvX748rly5gjZt2uDJkyeYOHEiEhMTsW/fPoSHh6N3795QKBRQqVS4cOECdu7ciaSkJEycOBFlyvxv6AEBAVi4cCGOHTuGhIQETJ8+Hc7OzjA3N3+t8WVmZmL69On4888/kZKSgu3bt+Mf//gHKleujICAAPz666+IiorC1atXERoaCiGE3nKcZ+rXrw8PDw+MHj0af/31F86dO4fg4GA8fvwYFStWRJcuXZCdnS1d/7///W9Mnz4d1tbWrzV+OfNX1UZk/zZoYGOpt72BjSUi+7fhc9aJiIiIYORlML1798bcuXORnJyMFStWYPr06fDz80OVKlXQv39/DB48GADQsmVLDBgwQArpn332GdLT06V+vvzyS2RmZmLEiBHIzc1Fu3btMGHChNceX9++fXHr1i2MGTMG9+/fh6OjI5YuXQqlUonmzZtj0qRJWLx4MTQaDRwdHbFs2bJCf0CYPXs2pk2bhgEDBsDExAQeHh4YP348AMDCwgLLly/HjBkz4OfnBysrK/Tt21e6/reVv6o2/Bxr4ciVdNx8kIUalcpBbV+Vd9SJiIiI/ksh+DDrt15cXByAp0+oMRStVguNRgNbW1vZrf16W7HmhseaGx5rbnisueGx5oYnh5oXltdksWadiIiIiIjyk8XTYIzhr7/+Qv/+/Qttr1GjBn777TcDjoiIiIiISN87G9YbN26MrVu3FtpenEdCEhERERGVpHc2kZYtWxZ16tQx9jCIiIiIiArFNetERERERDLFsE5EREREJFMM60REREREMsWwTkREREQkUwzrREREREQyxbBORERERCRTDOtERERERDLFsE5EREREJFMM60REREREMsWwTkREREQkUwzrREREREQyxbBORERERCRTDOtERERERDLFsE5EREREJFMM60REREREMsWwTkREREQkUwzrREREREQyxbBORERERCRTDOtERERERDLFsE5EREREJFMM60REREREMsWwXkz79+9HmzZt4OTkhCNHjhh7OKWaEAKHE9Pw8+kkHE5MgxDC2EMiIiIikiUTYw+gtAgLC4NarcaQIUNgbW1t7OGUWlFx1xC4PQaJdzKlbfWtLTHL1xX+qtpGHBkRERGR/PDOejFlZmbCzc0NdnZ2MDc3N/ZwSqWouGvoufqwXlAHgMQ7mei5+jCi4q4ZaWRERERE8sSwXgyenp5ITU3FuHHj4OnpiVu3bmH48OFo0aIF3N3dMW3aNDx58gQAsGXLFnh6euodHxAQgPDwcABAUFAQgoKC0KVLF7Rs2RLJyckvPP/Zs2fRs2dPNG3aFL169cLChQsREBDwxq/zTdNoFbj5OBc3HmmR+vAJRv16CnmFLHnJEwJB0TFcEkNERET0HC6DKYZNmzbB398fAwcOhLe3N/r27Ys6depg7dq1uHv3LiZMmAAAGD9+fLH627ZtGxYvXgwbGxvUrVu3yH0zMzMxaNAgfPTRR5g5cyb++OMPhIaGwtXV9aWvQ6vVvvQxr0qr1WLnXVPg7iMAQFLaXVy9+7DIYy7fzsShhBtQ21c1xBDfOlqtFjqdzqDv87uONTc81tzwWHPDY80NT841Z1gvhipVqkCpVMLS0hKxsbFIS0tDZGQkKlWqBACYOHEi/vWvf+Gbb74pVn8qlSrf3ffC7NixA+XLl8f48eOhVCpRr149xMTEQKPRvNQ16HS6lz7mdeh0OgDlpNeZWdnFOu7i9XQ0slCU0KjebjqdDo8fPwYAKJVKI4/m3cCaGx5rbnisueGx5oYnh5rrdLoCz82w/pISExNRt25dKagDgKurK3Jzc3HtWvHWXNvZ2RX7fBcvXkSTJk303jxnZ2fs3bu3+IPG04lna2v7Use8Dq1Wi07au6hUqRJMTExQX2mFX46++LhGNasadJxvk2d3A6ytrWFqamrk0bwbWHPDY80NjzU3PNbc8ORQ8zt37hS4nWH9JZmZmeXb9vQu8tP/KhT57wrn5ua+sI/CKJXKfOu4X3Vdt6EnXzXzMrCtaA5TU1PUUtVCfWvLfB8ufV4DG0u0a1ijwBpS8SiVSpiamvKbuwGx5obHmhsea254rLnhybXm/IDpS7K3t0dycjIyMjKkbWfOnIGJiQlq164NU1NTPHr0SGoTQuD69euvfL6GDRsiPj4eeXl50rZz5869cn/GolAoMMvXFWUKCeJlFArM9HFlUCciIiJ6DsP6S2rdujVq1aqFsWPH4uLFizh27BhCQkLg4+ODihUrwtHRERkZGVi7di1SUlIQGhqK+/fvv/L5vL298fDhQ4SGhiIpKQmRkZHYsWPHG7wiw/FX1UZk/zZoYGOpt72BjSUi+7fhc9aJiIiI/obLYF6SUqnEkiVLEBISgp49e6JChQrw9fXFyJEjAQB169ZFYGAgli5digULFqBr167o1KnTK5+vQoUKWLZsGaZMmYINGzZApVLB19cX6enpb+qSDMpfVRt+jrVw5Eo6bj7IQo1K5aC2r8o76kREREQFYFgvpgMHDkhf16pVC99//32h+w4cOBADBw4ssG3mzJkvdd6UlBTodDps3bpV2jZlypRS/SFMhUKBNvWrGXsYRERERLLHZTAy9/DhQ3z22WfYtWsXUlNTsWfPHmzbtg1eXl7GHhoRERERlTDeWTeiO3fuoEOHDkXuc/r0aUycOBHz5s3DzZs3UaNGDQQHB6Ndu3aGGSQRERERGQ3DuhFZWVnpLW8pTI8ePdCjR4+SHxARERERyQrDuhEplUrUqVPH2MMgIiIiIpnimnUiIiIiIpliWCciIiIikimGdSIiIiIimWJYJyIiIiKSKYZ1IiIiIiKZYlgnIiIiIpIphnUiIiIiIpliWCciIiIikimGdSIiIiIimWJYJyIiIiKSKYZ1IiIiIiKZYlgnIiIiIpIphnUiIiIiIpliWCciIiIikimGdSIiIiIimWJYJyIiIiKSKYZ1IiIiIiKZYlgnIiIiIpIphnUiIiIiIpliWCciIiIikimGdSIiIiIimTIx9gDkJD4+HllZWdBqtfj0009x8eJFYw/prSGEwJEr6bjx4DFqVCwPj3pVoVAojD0sIiIiIlljWH/OkCFDMHToUNjZ2Rl7KG+VqLhrCNweg8Q7mdK2+taWmOXrCn9VbSOOjIiIiEjeuAyGStS2s9fRc/VhvaAOAIl3MtFz9WFExV0z0siIiIiI5I9h/b8CAgKQmpqK4OBgBAcHAwA2bNgADw8PuLi4IDg4GE+ePAEAhIeH4//+7//Qt29ftGjRAidOnMCTJ08wbdo0uLu7w93dHaNHj0ZGRobU/82bN/HVV1/ByckJnp6eWLRoEXQ6XbHHt2rVKnh4eMDV1RXTpk1DQEAAtmzZ8kZr8KalPwHG/nYaeUIU2J4nBIKiYyAKaSciIiJ613EZzH+Fh4fj448/xsCBA2FnZ4chQ4Zg9+7d+OGHH6DRaDB06FA0bdoUvXv3BgDs378fkydPhrOzM+zt7TFv3jycPXsWy5cvh5mZGebPn4/hw4dj9erVEEJg6NChaNy4MaKioqDRaDBx4kQoFAoMGTLkhWP79ddfERYWhunTp6NBgwb47rvvcPLkSfj7+7/UNWq12leqzavQarVYeuEhrt57VOR+l29n4lDCDajtqxpoZG8vrVYLnU5n0Pf5XceaGx5rbnisueGx5oYn55ozrP+XlZUVlEolLC0tYWlpCQCYNGkS7O3t4eDggFatWuHChQvS/jY2NlJwz8rKwrp167B582Y0atQIADB79my4u7vj4sWLuHv3Lm7cuIGNGzeiTJkyqFevHgIDAxEcHFyssP7TTz+hf//++OijjwAAs2bNQtu2bV/q+nQ6HTQazUsd8zp0Oh0ys7KLte/F6+loZMEPm74unU6Hx48fAwCUSqWRR/NuYM0NjzU3PNbc8Fhzw5NDzXU6XYHnZlgvQu3a//vwo6WlpbQMBoDeh1BTUlKg1WrRq1cvvePz8vKQnJwMjUaDjIwMuLm56bVlZ2fj3r17qFy5cpHjuHjxIr788kvpdaVKlWBvb/9S16JUKmFra/tSx7wOrVaLD23v45di7NuoZlWDju1t9exugLW1NUxNTY08mncDa254rLnhseaGx5obnhxqfufOnQK3M6wX4e8/3Ty/ttrMzEz6+tna859++gnly5fXO8ba2hqbNm1CvXr1sGTJknzneHYX/0Xj+Pu67ldZ523oyedlXxn1rC1w5c7DQvdpYGOJdg1r8DGOb4hSqYSpqSm/uRsQa254rLnhseaGx5obnlxrzg+YvgG1atWCUqlERkYG6tSpgzp16sDCwgKhoaG4c+cO7O3tcePGDVSpUkVqv379OsLCwooVUhs0aIBz585Jrx8+fIirV6+W5CW9EQqFAqEfOaNMIddYRqHATB9XBnUiIiKiQjCsP6d8+fK4cuUK7t+//1LHWVhYoEePHpg8eTKOHz+Oy5cvY+zYsbh69Spq1qwJtVoNOzs7jBkzBhcvXsR//vMfTJgwAeXKlSvWuqiAgACsWbMGe/bsQWJiIsaNG4fHjx+XipD7sWNNRPZvgwY2+r9BaGBjicj+bficdSIiIqIicBnMc3r37o25c+ciMjLypY8NCgrCrFmzMGzYMGi1WjRv3hzff/+9FMaXLl2KkJAQ9OzZE+XLl4eXlxcCAwOL1be3tzeuXr2KSZMmIScnB5988gns7Oxk92uawvirasPPsRaOXEnHzQdZqFGpHNT2/BdMiYiIiF5EIfiQa9k7ceIEatWqherVqwMAcnNz8cEHH2Dx4sVwd3d/4fFxcXEAAJVKVaLjfJ5Wq4VGo4GtrW2p+aGitGPNDY81NzzW3PBYc8NjzQ1PDjUvLK/xznopsG/fPpw+fRpTpkxBhQoVsGbNGlhYWMDZ2dnYQyMiIiKiEsSwbmQ//vgjwsLCCm339fXF2LFjMXXqVHz22WfIycmBi4sLVqxYofdEGiIiIiJ6+zCsG1m3bt3g6elZaLuFhQUsLCwwe/ZsA46KiIiIiOSAYd3IKlasiIoVKxp7GEREREQkQ3x0IxERERGRTDGsExERERHJFMM6EREREZFMMawTEREREckUwzoRERERkUwxrBMRERERyRTDOhERERGRTDGsExERERHJFMM6EREREZFMMawTEREREckUwzoRERERkUwxrBMRERERyRTDOhERERGRTDGsExERERHJFMM6EREREZFMMawTEREREckUwzoRERERkUwxrBMRERERyRTDOhERERGRTDGsExERERHJFMM6EREREZFMMawTEREREckUwzoRERERkUwphBDC2IOgkhUTEwMhBMqWLWvQ8+p0OiiVSoOe813Hmhsea254rLnhseaGx5obnrFr/uTJEygUCri6uuptNzHSeMiAFAqFUc7LbzKGx5obHmtueKy54bHmhseaG56xa65QKArMbLyzTkREREQkU1yzTkREREQkUwzrREREREQyxbBORERERCRTDOtERERERDLFsE5EREREJFMM60REREREMsWwTkREREQkUwzrREREREQyxbBOb1ROTg7GjRuHZs2aQa1WY+XKlcYe0lth7969aNSokd6fYcOGAQDOnz+PHj16wMnJCd26dcPZs2f1jo2OjkaHDh3g5OSEIUOG4O7du8a4hFLjyZMn8PHxwfHjx6VtKSkpGDBgAJydndG5c2ccPXpU75g//vgDPj4+cHJywqeffoqUlBS99lWrVsHDwwMuLi4YN24csrKyDHItpUVBNZ82bVq+Ob9u3Tqpvah5LYTA3Llz8cEHH6BFixaYPXs28vLyDHpNcpWWloZhw4ahRYsW8PDwQGhoKHJycgBwnpeUomrOeV4yrl69is8//xwuLi5o164dVqxYIbWVynkuiN6gqVOnCl9fX3H27FmxZ88e4eLiInbu3GnsYZV6S5YsEYMHDxbp6enSn/v374tHjx6J1q1bi5kzZ4rLly+LkJAQ0apVK/Ho0SMhhBCxsbGiadOmIioqSsTHx4t+/fqJL7/80shXI1/Z2dliyJAhwsHBQRw7dkwIIUReXp7w9fUVo0aNEpcvXxbLli0TTk5OIjU1VQghRGpqqnB2dhY//PCDuHTpkhg+fLjw8fEReXl5Qgghdu3aJdzc3MSBAwdEbGys6Ny5s5gyZYrRrlFuCqq5EEIMGDBARERE6M35x48fCyFePK9/+OEH0bZtW3Hy5Enx559/CrVaLVasWGHwa5ObvLw80bNnTzFo0CBx6dIlcfLkSdGxY0cxc+ZMzvMSUlTNheA8Lwk6nU7885//FKNGjRJJSUni0KFDwtXVVfz666+ldp4zrNMb8+jRI6FSqfT+wl28eLHo16+fEUf1dhg1apT47rvv8m3fuHGj8PT0lL6R5OXliY4dO4rNmzcLIYQYM2aMCAwMlPa/ceOGaNSokbh27ZphBl6KJCQkiC5dughfX1+94PjHH38IZ2dn6QcgIYTo37+/CAsLE0IIsWDBAr05/vjxY+Hi4iId36dPH2lfIYQ4efKkaNq0qfQX8russJoLIYSHh4c4cuRIgce9aF63bdtW+n9ACCG2bt0q2rdvX0JXUXpcvnxZODg4CI1GI23bvn27UKvVnOclpKiaC8F5XhLS0tLE8OHDRWZmprRtyJAhYtKkSaV2nnMZDL0xFy5cQG5uLlxcXKRtbm5uiI2N5a/mXlNiYiLq1q2bb3tsbCzc3NygUCgAAAqFAq6urjhz5ozU3qxZM2n/6tWro0aNGoiNjTXEsEuVEydOwN3dHb/88ove9tjYWLz//vsoX768tM3Nza3QGpcrVw5NmjTBmTNnoNPpEBcXp9fu7OwMrVaLCxculOwFlQKF1fzhw4dIS0srcM4DRc/rtLQ03Lx5E82bN5fa3dzckJqaivT09BK5jtLC1tYWK1asgI2Njd72hw8fcp6XkKJqznleMqpWrYoFCxbAwsICQgicOnUKJ0+eRIsWLUrtPDcp0d7pnaLRaFC5cmWULVtW2mZjY4OcnBxkZGSgSpUqRhxd6SWEQFJSEo4ePYqIiAjodDp4eXlh2LBh0Gg0aNCggd7+1tbWSEhIAACkp6ejatWq+dpv3bplsPGXFn369Clwu0ajKbKGRbU/ePAAOTk5eu0mJiawsrLie4DCa56YmAiFQoFly5bh8OHDsLKywmeffQZ/f38ARc9rjUYDAHrtz4LSrVu38h33LqlYsSI8PDyk13l5eVi3bh0++OADzvMSUlTNOc9LnqenJ27cuIH27dujU6dOmDFjRqmc5wzr9MZkZWXpBXUA0usnT54YY0hvhRs3bki1XbBgAa5fv45p06YhOzu70Jo/q3d2dnaR7fRiL6pxUe3Z2dnS68KOp/yuXLkChUKBevXqoV+/fjh58iQmTJgACwsLdOzYsch5XVDN+X2oYHPmzMH58+exadMmrFq1ivPcAJ6v+blz5zjPS1hYWBhu376NyZMnIzQ0tNR+P2dYpzfGzMws34R99trc3NwYQ3or2NnZ4fjx46hUqRIUCgXee+895OXlYcyYMWjRokWBNX9W78Lek3Llyhls/KWdmZkZMjIy9LYVp8YVK1aEmZmZ9Prv7XwPCufn54f27dvDysoKANC4cWMkJydjw4YN6NixY5Hz+vnA8vf6s+b/M2fOHKxevRrz58+Hg4MD57kB/L3mDRs25DwvYSqVCsDTJ9WNHj0a3bp1y/f0ltIwz7lmnd6YatWq4d69e8jNzZW2aTQamJubo2LFikYcWelnZWUlrUsHgPr16yMnJwe2tra4ffu23r63b9+Wfk1XrVq1AtttbW1LftBvicJqWJwaW1lZwczMTK89NzcXGRkZfA+KoFAopADzTL169ZCWlgag6JpXq1YNAKRlAs9/zZo/FRISgh9//BFz5sxBp06dAHCel7SCas55XjJu376Nffv26W1r0KABtFrta/2dacx5zrBOb8x7770HExMT6YMaAHDq1CmoVCqUKcOp9qqOHDkCd3d3vbsB8fHxsLKygpubG06fPg0hBICn69tjYmLg5OQEAHBycsKpU6ek427evImbN29K7fRiTk5OOHfunPQrUODpvC6sxllZWTh//jycnJxQpkwZqFQqvfYzZ87AxMQEjRs3NtxFlDILFy7EgAED9LZduHAB9erVA1D0vK5WrRpq1Kih137q1CnUqFGD63gBLFq0CD///DPmzZsHb29vaTvneckprOac5yXj+vXrGDp0qPRDDwCcPXsWVapUgZubW+mc5yX6rBl650yYMEF4e3uL2NhYsXfvXuHq6ip2795t7GGVapmZmcLDw0OMHDlSJCYmikOHDgm1Wi2+//57kZmZKT744AMREhIiEhISREhIiGjdurX0WKqYmBjRpEkTERkZKT2nd/DgwUa+Ivl7/jGCubm5onPnzmLEiBHi0qVLIiIiQjg7O0vP5U1JSREqlUpERERIz+X19fWVHqcZHR0tXF1dxd69e0VsbKzw9vYWISEhRrs2uXq+5rGxseL9998XK1asEFevXhXr168Xjo6OIiYmRgjx4nkdEREh1Gq1OHbsmDh27JhQq9Vi5cqVRrkuObl8+bJ47733xPz58/We652ens55XkKKqjnnecnIzc0VXbt2FQMHDhQJCQni0KFDolWrVmLVqlWldp4zrNMb9fjxYzF27Fjh7Ows1Gq1+PHHH409pLfCpUuXxIABA4Szs7No3bq1CA8Pl755xMbGCj8/P6FSqUT37t3FuXPn9I7dvHmzaNu2rXB2dhZDhgwRd+/eNcYllCp/f+Z3cnKy6Nu3r3B0dBTe3t7i999/19v/0KFD4p///Kdo2rSp6N+/f77n2EdERIiWLVsKNzc3ERwcLLKzsw1yHaXJ32u+d+9e4evrK1QqlfDy8sr3Q39R8zo3N1fMmDFDNGvWTLi7u4s5c+ZI/7+8yyIiIoSDg0OBf4TgPC8JL6o553nJuHXrlhgyZIhwdXUVrVu3FkuXLpVqUxrnuUKI//7+nIiIiIiIZIULiYmIiIiIZIphnYiIiIhIphjWiYiIiIhkimGdiIiIiEimGNaJiIiIiGSKYZ2IiIiISKYY1omIiIiIZIphnYiIiIhIphjWiYhKkYCAAHTt2rXQ9vHjx6NTp06v1PeWLVvQqFGjYu8fHh4OT0/PIvdp1KgRtmzZ8krjeZUxGdK9e/ewceNGYw+DiN5yDOtERKVI9+7dce7cOSQmJuZry8nJwa5du9C9e/dX6rtz5844evTo6w7xnTF79mz8+uuvxh4GEb3lGNaJiEqRTp06wdLSEtu3b8/Xtm/fPmRlZcHPz++V+jY3N4etre1rjvDdIYQw9hCI6B3AsE5EVIqYm5vD29sb0dHR+dqioqLQtm1b2Nra4tKlSxg8eDCaN28OR0dHfPjhh1i5cqW0b3h4OPr164dvvvkGrq6uCAkJybfk5EV9PLN48WK4u7vD1dUVo0ePRkZGRqHjP3jwILp27YqmTZuiY8eOWLBgAZ48eVLs6w8KCsLYsWMxbdo0NGvWDC1atEBYWBgSExPRp08fNG3aFL6+voiNjZWOadSoEdavX4+ePXtCpVLB19cX+/fv1+v30KFD6NmzJ1xcXKBWqxEaGors7Gy9PsLCwtC+fXuo1WqMGjUKUVFROHHihFSz+/fvY/z48fDw8ECTJk3QsmVLjB8/HllZWQCA48eP4/3338e///1v+Pj4wNHREV5eXti3b590HiEEVq9ejU6dOqFp06b53uu0tDR88803aNasGdzd3fHVV18hOTm52PUjotKHYZ2IqJTp1q0bUlJScPr0aWmbRqPBH3/8gR49eiArKwsDBw6ElZUVfv75Z0RHR8PLywuzZs1CfHy8dMzJkydhY2ODbdu2ISAgQO8cxe0jNTUVx44dw48//ohly5YhLi4OwcHBBY778OHDGDFiBHr27Ino6GhMmjQJO3fuxJgxY17q+nfs2AGlUoktW7ZgwIABWLx4Mb766it8/vnn2LhxI8zMzDBlyhS9Y+bOnYuPP/4Y27ZtQ9u2bTF06FDExMQAAPbu3Yt//etfaNeuHbZs2YIpU6Zgx44dGDlypF4fP/30E8LCwrBo0SJMnjwZH330EVxcXKSlQ0FBQTh//jwWLVqE3bt3Izg4GFu3bsUvv/wi9aHT6TBnzhx8++23iI6OhoODAwIDA/Ho0SMAwIoVKzB//nwMGjQI0dHR6NWrF8aOHYtjx47h8ePH0vu0bt06rF27FpUrV0bPnj2Rlpb2UjUkolJEEBFRqePj4yOmTJkivV6xYoVQq9UiNzdX3LlzR0RERIiHDx9K7dnZ2cLBwUFERUUJIYQICwsTDg4O4sGDB9I+mzdvFg4ODkIIUew+VCqV0Gg00j5Hjx4VDg4OIjk5WQghhIODg9i8ebMQQojevXuLadOm6V3Hn3/+KRwcHERKSkqB1/n8mIQQIjAwULRu3VrodDohhBCPHj0SDg4OYt68edI+69evF02aNJFeOzg4iKlTp+r126NHD/HNN98IIYTo3r27+Prrr/Xa9+7dKxwcHERCQoLUx4wZM/T2CQwMFP369ZNer127Vly4cCHfeYKDg4UQQhw7dkw4ODiIvXv3Su3x8fHCwcFBxMTEiLy8PNG6dWvx3Xff6fXx/fffiyNHjojIyEjh7u4utFqt1KbT6UT79u1FWFhYgfUjotLPxNg/LBAR0cvr1q0bIiIiMG7cOJiYmGDr1q3w9/eHUqlElSpV0KdPH0RHR+P8+fO4du0aLly4AADIy8uT+rC2toalpWWB/Re3jzp16sDGxkZ67eTkBABISEhAnTp19Po8f/48/vrrL2zatEnaJv677jsxMRE1a9Ys1rXXrFkTZco8/cVw+fLlAQC1atWS2s3NzaHVavWOcXd313vt4uKC33//HcDT5T7e3t567S1atJDaGjRoIF1rUfr06YMDBw4gKioKycnJuHz5Mq5fv4569erp7ff8awsLCwCAVqvFvXv3oNFopBo+88UXXwAApkyZgvv376N58+Z67Tk5OQV+4JiI3g4M60REpVCXLl0wd+5c/P7777C1tUVCQgIWLVoE4OmSmE8++QRVqlSBp6cn1Go1VCoV2rZtq9eHubl5of0Xtw+lUqn3WqfTAQBMTU3z9ZmXl4dBgwbB398/X9vLfLC1oL6fhffCmJjo/3Wn0+mkY0QBHxR99gPJ88cVVa+8vDwMHjwYCQkJ8PHxQefOndGkSRNMmDAh375ly5bNt00IUeB1/f0c9vb2WLp0ab62Zz+0ENHbh2GdiKgUehaid+zYARsbGzRv3ly68xsdHY2MjAzs3r1bCoAXL14EUPwnmBS3j+TkZDx8+FC6Q3zq1CkoFArpbvTzGjZsiKSkJL071MePH8eaNWswefLkEg2ccXFxes+EP336NJo0aQLg6YdHY2JiMGDAAKn9P//5DwCgfv36hfapUCikr+Pj43H48GFERkZKd8a1Wi2uXbumd9e/KJaWlqhatSri4uLw4YcfStuHDRuG6tWrw8HBAdu2bYOlpSWqVKkinWPUqFHw8vJC586di3UeIipd+AFTIqJSqnv37jh48CB2796t92z1f/zjH8jKysKuXbtw48YNHD16VPqwZHGfvFLcPnJycjBixAicP38ev//+O0JCQuDn5wc7O7t8fX7xxRfYvXs3Fi1ahKSkJPz5558IDg5GZmZmiT8ycvXq1di+fTuSkpIwa9YsXLx4Ef379wcADBo0CHv27MGSJUuQlJSEgwcPIiQkBO3bty8yrJcvXx7p6elISUmBjY0NTExMsHPnTqSkpCAuLg4jRoyARqN5qafdfPnll1i9ejW2bduGa9euYc2aNdi/fz8+/PBDdOnSBZUqVcKwYcMQGxuLxMREBAUF4fDhw7L9h6OI6PXxzjoRUSmlVqtRvnx5ZGRk6P2rpV5eXjh37hxmzpyJhw8fws7ODj169MD+/fsRFxeH3r17v7Dv4vbh6OiI9957D59++ikUCgU6d+6MoKCgQvucP38+IiIisGzZMlhZWcHT0xOjR49+MwUpQq9evbBq1SpcunQJjRs3xg8//IDGjRsDePrs+nnz5mHp0qVYsmQJqlSpAh8fHwwbNqzIPv38/LB37174+Phgz549mDlzJsLDw7F+/XrY2tqiXbt2GDBgAA4cOFDscfbr1w/Z2dlYuHAhNBoN6tati/nz50tr6NetW4fZs2fj888/h06nQ5MmTbBy5coif6ggotJNIYr7O1EiIqJSqFGjRggNDUXXrl2NPRQiopfGZTBERERERDLFsE5EREREJFNcBkNEREREJFO8s05EREREJFMM60REREREMsWwTkREREQkU/8PBIjpWbZSotsAAAAASUVORK5CYII=",
          "text/plain": "<Figure size 800x1000 with 1 Axes>"
         },
         "metadata": {},
         "output_type": "display_data"
        }
       ]
      }
     },
     "528c919e138b4efbb43fcb6a3297fcf3": {
      "model_module": "@jupyter-widgets/base",
      "model_module_version": "2.0.0",
      "model_name": "LayoutModel",
      "state": {
       "visibility": "hidden"
      }
     },
     "52d71638fbff412c863228cbc7405a41": {
      "model_module": "@jupyter-widgets/base",
      "model_module_version": "2.0.0",
      "model_name": "LayoutModel",
      "state": {}
     },
     "5423f80ecab04858bb35db91339eaecf": {
      "model_module": "@jupyter-widgets/base",
      "model_module_version": "2.0.0",
      "model_name": "LayoutModel",
      "state": {}
     },
     "5571e645b54845a2aad7f76c84c31cc3": {
      "model_module": "@jupyter-widgets/controls",
      "model_module_version": "2.0.0",
      "model_name": "HTMLStyleModel",
      "state": {
       "description_width": "",
       "font_size": null,
       "text_color": null
      }
     },
     "55ecb45f70d24380a693e8f05e7c4445": {
      "model_module": "@jupyter-widgets/controls",
      "model_module_version": "2.0.0",
      "model_name": "ProgressStyleModel",
      "state": {
       "description_width": ""
      }
     },
     "561d0601b63849d6823bc6e3e69ed6da": {
      "model_module": "@jupyter-widgets/controls",
      "model_module_version": "2.0.0",
      "model_name": "HTMLModel",
      "state": {
       "layout": "IPY_MODEL_8588b21a54d9430fa427f5b0db540e5e",
       "style": "IPY_MODEL_3efc5de67873465cad52c859d5e31d62",
       "value": " 4/4 [00:06&lt;00:00,  1.43s/it]"
      }
     },
     "5633d76a5c71480ba38606c9716c76f6": {
      "model_module": "@jupyter-widgets/controls",
      "model_module_version": "2.0.0",
      "model_name": "FloatProgressModel",
      "state": {
       "layout": "IPY_MODEL_62d03694d37742629792dccd30fe498f",
       "max": 7,
       "style": "IPY_MODEL_b58c84c1b8f141dab15dbe63ef460743",
       "value": 7
      }
     },
     "563d92961ddb420e9035922218e27532": {
      "model_module": "@jupyter-widgets/base",
      "model_module_version": "2.0.0",
      "model_name": "LayoutModel",
      "state": {}
     },
     "563eac542f604402b5e3d3b75ee1d6f5": {
      "model_module": "@jupyter-widgets/controls",
      "model_module_version": "2.0.0",
      "model_name": "VBoxModel",
      "state": {
       "_dom_classes": [
        "widget-interact"
       ],
       "children": [
        "IPY_MODEL_5739546ac4a340fb9f7d87a88b4a6d0c",
        "IPY_MODEL_c9969e18df084a98a2a42323b65b9624"
       ],
       "layout": "IPY_MODEL_995b820380f74f9aabafb0e166db9d71"
      }
     },
     "56e6e67d477b4638ae06ade4e4e5e579": {
      "model_module": "@jupyter-widgets/base",
      "model_module_version": "2.0.0",
      "model_name": "LayoutModel",
      "state": {}
     },
     "56f8a28083fc4cf2852c676bb7f89d8a": {
      "model_module": "@jupyter-widgets/controls",
      "model_module_version": "2.0.0",
      "model_name": "ProgressStyleModel",
      "state": {
       "description_width": ""
      }
     },
     "5739546ac4a340fb9f7d87a88b4a6d0c": {
      "model_module": "@jupyter-widgets/controls",
      "model_module_version": "2.0.0",
      "model_name": "ToggleButtonsModel",
      "state": {
       "_options_labels": [
        "Pipeline Plot",
        "Hyperparameters",
        "AUC",
        "Confusion Matrix",
        "Threshold",
        "Precision Recall",
        "Prediction Error",
        "Class Report",
        "Feature Selection",
        "Learning Curve",
        "Manifold Learning",
        "Calibration Curve",
        "Validation Curve",
        "Dimensions",
        "Feature Importance",
        "Feature Importance (All)",
        "Decision Boundary",
        "Lift Chart",
        "Gain Chart",
        "Decision Tree",
        "KS Statistic Plot"
       ],
       "button_style": "",
       "description": "Plot Type:",
       "icons": [
        ""
       ],
       "index": 15,
       "layout": "IPY_MODEL_aa4c3ae2f8af44b58588b69a386faad5",
       "style": "IPY_MODEL_1c9299bc28be4bac8303f33949fb07bc",
       "tooltips": []
      }
     },
     "579f5fab05824b8795277cf1fad29df9": {
      "model_module": "@jupyter-widgets/base",
      "model_module_version": "2.0.0",
      "model_name": "LayoutModel",
      "state": {}
     },
     "5923e1961aa14b20a4b9bb48b1741924": {
      "model_module": "@jupyter-widgets/base",
      "model_module_version": "2.0.0",
      "model_name": "LayoutModel",
      "state": {}
     },
     "59480977b3754840ae0454821168b2a1": {
      "model_module": "@jupyter-widgets/controls",
      "model_module_version": "2.0.0",
      "model_name": "VBoxModel",
      "state": {
       "_dom_classes": [
        "widget-interact"
       ],
       "children": [
        "IPY_MODEL_6ef3bb6c0fa04b9d8b41300e7c00d8b6",
        "IPY_MODEL_e733e77aa74348e8a2bbfbab21fe376e"
       ],
       "layout": "IPY_MODEL_4dc65063fe7149bc8ad121b94ba20e3b"
      }
     },
     "598afaf3ddb34a948b531969b7b6e31c": {
      "model_module": "@jupyter-widgets/controls",
      "model_module_version": "2.0.0",
      "model_name": "FloatProgressModel",
      "state": {
       "layout": "IPY_MODEL_0ebc2dca99704726adcdd91d46c3640a",
       "max": 4,
       "style": "IPY_MODEL_56f8a28083fc4cf2852c676bb7f89d8a",
       "value": 4
      }
     },
     "5a42893925c244678f9c0ec99512e263": {
      "model_module": "@jupyter-widgets/controls",
      "model_module_version": "2.0.0",
      "model_name": "HTMLModel",
      "state": {
       "layout": "IPY_MODEL_7164a2179f5c40f38a9aed27395744a1",
       "style": "IPY_MODEL_5cf6fe1d165c46628e2346671b2356d2",
       "value": " 0/4 [00:00&lt;?, ?it/s]"
      }
     },
     "5aab57377cb34e24bcc7649a6c40e66c": {
      "model_module": "@jupyter-widgets/controls",
      "model_module_version": "2.0.0",
      "model_name": "HTMLModel",
      "state": {
       "layout": "IPY_MODEL_ee8b714cb2bd4bbaae2aa10bbc2d65a3",
       "style": "IPY_MODEL_4f09273e208845eea7d5487c15faee71",
       "value": "Processing:  67%"
      }
     },
     "5cf6fe1d165c46628e2346671b2356d2": {
      "model_module": "@jupyter-widgets/controls",
      "model_module_version": "2.0.0",
      "model_name": "HTMLStyleModel",
      "state": {
       "description_width": "",
       "font_size": null,
       "text_color": null
      }
     },
     "5d67a4d864554a839389d8eea01e2ea8": {
      "model_module": "@jupyter-widgets/controls",
      "model_module_version": "2.0.0",
      "model_name": "HTMLModel",
      "state": {
       "layout": "IPY_MODEL_e0b736bd999d40ebb5b50acbf8cec778",
       "style": "IPY_MODEL_3933cf32310141e08b0a4c4029565890",
       "value": " 4/4 [00:05&lt;00:00,  1.34s/it]"
      }
     },
     "5e424911007b4c63a1768fa1c9ee17b3": {
      "model_module": "@jupyter-widgets/base",
      "model_module_version": "2.0.0",
      "model_name": "LayoutModel",
      "state": {}
     },
     "5f2712bafc3141b89035be84fc6a6e1e": {
      "model_module": "@jupyter-widgets/controls",
      "model_module_version": "2.0.0",
      "model_name": "VBoxModel",
      "state": {
       "_dom_classes": [
        "widget-interact"
       ],
       "children": [
        "IPY_MODEL_856db94838484934b4903c78f1e5eeea",
        "IPY_MODEL_525c064cfcec43e6a36159f945c14987"
       ],
       "layout": "IPY_MODEL_264b9cb0ccb345cc9dc159002916f8d9"
      }
     },
     "606cde7d96b84e5ba9bd9d78e0a8ea11": {
      "model_module": "@jupyter-widgets/controls",
      "model_module_version": "2.0.0",
      "model_name": "ProgressStyleModel",
      "state": {
       "description_width": ""
      }
     },
     "608a75f87b694e86868101f92687516c": {
      "model_module": "@jupyter-widgets/base",
      "model_module_version": "2.0.0",
      "model_name": "LayoutModel",
      "state": {}
     },
     "60a5cbc013224852a89cb92aed7cc5cf": {
      "model_module": "@jupyter-widgets/controls",
      "model_module_version": "2.0.0",
      "model_name": "ToggleButtonsStyleModel",
      "state": {
       "button_width": "",
       "description_width": ""
      }
     },
     "60ab3519509d4e1f86783020e2d4b82e": {
      "model_module": "@jupyter-widgets/base",
      "model_module_version": "2.0.0",
      "model_name": "LayoutModel",
      "state": {
       "visibility": "hidden"
      }
     },
     "61d465f232334f03848a8f101e15f9dc": {
      "model_module": "@jupyter-widgets/controls",
      "model_module_version": "2.0.0",
      "model_name": "HTMLStyleModel",
      "state": {
       "description_width": "",
       "font_size": null,
       "text_color": null
      }
     },
     "61ffe54a15fc4596ba4cbd9b53481677": {
      "model_module": "@jupyter-widgets/controls",
      "model_module_version": "2.0.0",
      "model_name": "HTMLStyleModel",
      "state": {
       "description_width": "",
       "font_size": null,
       "text_color": null
      }
     },
     "6254322569564175ab03edbb3c8e7f43": {
      "model_module": "@jupyter-widgets/controls",
      "model_module_version": "2.0.0",
      "model_name": "HTMLModel",
      "state": {
       "layout": "IPY_MODEL_18c64274999a47ca9682fb2fe7633e28",
       "style": "IPY_MODEL_cde7f963253144b8b1fd11bdba5dce6b",
       "value": "Processing:   0%"
      }
     },
     "62d03694d37742629792dccd30fe498f": {
      "model_module": "@jupyter-widgets/base",
      "model_module_version": "2.0.0",
      "model_name": "LayoutModel",
      "state": {}
     },
     "64010643bcc540cdb75d0e21421da175": {
      "model_module": "@jupyter-widgets/controls",
      "model_module_version": "2.0.0",
      "model_name": "HTMLModel",
      "state": {
       "layout": "IPY_MODEL_bc53a816281c4c0ca135c8939c1ccb37",
       "style": "IPY_MODEL_8cbe044a5d164c72b9239a3fc0bea14b",
       "value": " 4/4 [01:03&lt;00:00, 15.07s/it]"
      }
     },
     "6404e3ebd1fa4cbb92e3e1c91410c57b": {
      "model_module": "@jupyter-widgets/output",
      "model_module_version": "1.0.0",
      "model_name": "OutputModel",
      "state": {
       "layout": "IPY_MODEL_bb1d50e74e0046c6b0d778105e6eab76",
       "outputs": [
        {
         "data": {
          "image/png": "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",
          "text/plain": "<Figure size 800x500 with 1 Axes>"
         },
         "metadata": {},
         "output_type": "display_data"
        }
       ]
      }
     },
     "64255e810b4546068f6064e5fe8ef82f": {
      "model_module": "@jupyter-widgets/controls",
      "model_module_version": "2.0.0",
      "model_name": "HTMLModel",
      "state": {
       "layout": "IPY_MODEL_563d92961ddb420e9035922218e27532",
       "style": "IPY_MODEL_61ffe54a15fc4596ba4cbd9b53481677",
       "value": "Processing:   0%"
      }
     },
     "64f3f5b83de341138a7ea94d11fc4040": {
      "model_module": "@jupyter-widgets/controls",
      "model_module_version": "2.0.0",
      "model_name": "HTMLModel",
      "state": {
       "layout": "IPY_MODEL_d6465d0177ec4cf49b0f777e45331275",
       "style": "IPY_MODEL_9af7f3e1cd3145809dfe0da6b262278b",
       "value": " 7/7 [02:54&lt;00:00, 19.10s/it]"
      }
     },
     "66ae606eb0f3426d9bc12a3419180f42": {
      "model_module": "@jupyter-widgets/base",
      "model_module_version": "2.0.0",
      "model_name": "LayoutModel",
      "state": {}
     },
     "67cf536dbe1340df840ba1212210c789": {
      "model_module": "@jupyter-widgets/base",
      "model_module_version": "2.0.0",
      "model_name": "LayoutModel",
      "state": {}
     },
     "6c935358a0c445b4b76536199f4b863e": {
      "model_module": "@jupyter-widgets/controls",
      "model_module_version": "2.0.0",
      "model_name": "ProgressStyleModel",
      "state": {
       "description_width": ""
      }
     },
     "6dc33370edc14987a919f33ae4436511": {
      "model_module": "@jupyter-widgets/controls",
      "model_module_version": "2.0.0",
      "model_name": "VBoxModel",
      "state": {
       "_dom_classes": [
        "widget-interact"
       ],
       "children": [
        "IPY_MODEL_829e719ee2ab4e3485d82ecc1014a63a",
        "IPY_MODEL_0ecb88486dac4a639e103eaead6ce4db"
       ],
       "layout": "IPY_MODEL_1b3bf4d310884387befdb75ba5925b65"
      }
     },
     "6e3d9e0457ef43a3bf8dff0eb56b8f86": {
      "model_module": "@jupyter-widgets/base",
      "model_module_version": "2.0.0",
      "model_name": "LayoutModel",
      "state": {}
     },
     "6e4206cc00d54888b093aaa45a04b6ef": {
      "model_module": "@jupyter-widgets/base",
      "model_module_version": "2.0.0",
      "model_name": "LayoutModel",
      "state": {}
     },
     "6ef3bb6c0fa04b9d8b41300e7c00d8b6": {
      "model_module": "@jupyter-widgets/controls",
      "model_module_version": "2.0.0",
      "model_name": "ToggleButtonsModel",
      "state": {
       "_options_labels": [
        "Pipeline Plot",
        "Hyperparameters",
        "AUC",
        "Confusion Matrix",
        "Threshold",
        "Precision Recall",
        "Prediction Error",
        "Class Report",
        "Feature Selection",
        "Learning Curve",
        "Manifold Learning",
        "Calibration Curve",
        "Validation Curve",
        "Dimensions",
        "Feature Importance",
        "Feature Importance (All)",
        "Decision Boundary",
        "Lift Chart",
        "Gain Chart",
        "Decision Tree",
        "KS Statistic Plot"
       ],
       "button_style": "",
       "description": "Plot Type:",
       "icons": [
        ""
       ],
       "index": 15,
       "layout": "IPY_MODEL_f73fed5a91bf4822894adb1bc7d49670",
       "style": "IPY_MODEL_a07bb4769ecc4bc092505f55332ad06c",
       "tooltips": []
      }
     },
     "7164a2179f5c40f38a9aed27395744a1": {
      "model_module": "@jupyter-widgets/base",
      "model_module_version": "2.0.0",
      "model_name": "LayoutModel",
      "state": {}
     },
     "723c8812e2a947e38483ae552b8493f8": {
      "model_module": "@jupyter-widgets/controls",
      "model_module_version": "2.0.0",
      "model_name": "HTMLModel",
      "state": {
       "layout": "IPY_MODEL_b3cff0d8e1194b6ba68932089ff23ec3",
       "style": "IPY_MODEL_cc8dfc7dc4dc498d83e1cecaa3e17429",
       "value": " 7/7 [02:59&lt;00:00, 19.77s/it]"
      }
     },
     "7250ded23b184a138f8ca545373f14ec": {
      "model_module": "@jupyter-widgets/controls",
      "model_module_version": "2.0.0",
      "model_name": "ToggleButtonsStyleModel",
      "state": {
       "button_width": "",
       "description_width": ""
      }
     },
     "7452d3a2d00d443ab7f40e5ee68fd7cd": {
      "model_module": "@jupyter-widgets/controls",
      "model_module_version": "2.0.0",
      "model_name": "HTMLModel",
      "state": {
       "layout": "IPY_MODEL_e7d104a3370e43cc8b32a5de5f76e37f",
       "style": "IPY_MODEL_cbc0d43abb284d9ead85143354fdd142",
       "value": " 4/4 [00:01&lt;00:00,  2.16it/s]"
      }
     },
     "76e73e43c71d4b40a53f568ec62eeb79": {
      "model_module": "@jupyter-widgets/base",
      "model_module_version": "2.0.0",
      "model_name": "LayoutModel",
      "state": {}
     },
     "787ee5af71e345578d0096b928593a2a": {
      "model_module": "@jupyter-widgets/controls",
      "model_module_version": "2.0.0",
      "model_name": "FloatProgressModel",
      "state": {
       "layout": "IPY_MODEL_f41b32c9755a4ab2ac77c90dbc1461dc",
       "max": 6,
       "style": "IPY_MODEL_6c935358a0c445b4b76536199f4b863e",
       "value": 6
      }
     },
     "7969910d7f3e47ed8c7441dd9562bc57": {
      "model_module": "@jupyter-widgets/controls",
      "model_module_version": "2.0.0",
      "model_name": "ToggleButtonsModel",
      "state": {
       "_options_labels": [
        "Pipeline Plot",
        "Hyperparameters",
        "AUC",
        "Confusion Matrix",
        "Threshold",
        "Precision Recall",
        "Prediction Error",
        "Class Report",
        "Feature Selection",
        "Learning Curve",
        "Manifold Learning",
        "Calibration Curve",
        "Validation Curve",
        "Dimensions",
        "Feature Importance",
        "Feature Importance (All)",
        "Decision Boundary",
        "Lift Chart",
        "Gain Chart",
        "Decision Tree",
        "KS Statistic Plot"
       ],
       "button_style": "",
       "description": "Plot Type:",
       "icons": [
        ""
       ],
       "index": 15,
       "layout": "IPY_MODEL_52d71638fbff412c863228cbc7405a41",
       "style": "IPY_MODEL_a91ce7e648a54707aee49a4daf9caa98",
       "tooltips": []
      }
     },
     "7a5ae5354542428591d98aa8772ac87f": {
      "model_module": "@jupyter-widgets/controls",
      "model_module_version": "2.0.0",
      "model_name": "ProgressStyleModel",
      "state": {
       "description_width": ""
      }
     },
     "7a85acc9d9654a35bf70363a806bac70": {
      "model_module": "@jupyter-widgets/controls",
      "model_module_version": "2.0.0",
      "model_name": "HTMLStyleModel",
      "state": {
       "description_width": "",
       "font_size": null,
       "text_color": null
      }
     },
     "7a9a2a63ab064152a9b4ea731a841caa": {
      "model_module": "@jupyter-widgets/controls",
      "model_module_version": "2.0.0",
      "model_name": "HTMLModel",
      "state": {
       "layout": "IPY_MODEL_b8d88730910142bc8cb7b2857fa8bd56",
       "style": "IPY_MODEL_5571e645b54845a2aad7f76c84c31cc3",
       "value": " 0/4 [00:00&lt;?, ?it/s]"
      }
     },
     "7b33ce103c974416ae8d266f0983cd0c": {
      "model_module": "@jupyter-widgets/controls",
      "model_module_version": "2.0.0",
      "model_name": "HTMLModel",
      "state": {
       "layout": "IPY_MODEL_14fa00122ea642ef83b301bfcfcebf0b",
       "style": "IPY_MODEL_7a85acc9d9654a35bf70363a806bac70",
       "value": "Processing: 100%"
      }
     },
     "7d766ed1c936488b99276d59fe93121f": {
      "model_module": "@jupyter-widgets/controls",
      "model_module_version": "2.0.0",
      "model_name": "HTMLModel",
      "state": {
       "layout": "IPY_MODEL_d157060c0521410db2285b089f3db2dd",
       "style": "IPY_MODEL_b9e92cf78afc46b5940ab6a48aa81479",
       "value": " 4/4 [00:01&lt;00:00,  2.31it/s]"
      }
     },
     "7e42f36f6dc14905bf251640d1882c44": {
      "model_module": "@jupyter-widgets/controls",
      "model_module_version": "2.0.0",
      "model_name": "ProgressStyleModel",
      "state": {
       "description_width": ""
      }
     },
     "803bb58a630a4a71821ce312ec9fd32f": {
      "model_module": "@jupyter-widgets/controls",
      "model_module_version": "2.0.0",
      "model_name": "HTMLStyleModel",
      "state": {
       "description_width": "",
       "font_size": null,
       "text_color": null
      }
     },
     "803d0f0d7d27487b889b7a5caa030b6e": {
      "model_module": "@jupyter-widgets/controls",
      "model_module_version": "2.0.0",
      "model_name": "ToggleButtonsModel",
      "state": {
       "_options_labels": [
        "Pipeline Plot",
        "Hyperparameters",
        "AUC",
        "Confusion Matrix",
        "Threshold",
        "Precision Recall",
        "Prediction Error",
        "Class Report",
        "Feature Selection",
        "Learning Curve",
        "Manifold Learning",
        "Calibration Curve",
        "Validation Curve",
        "Dimensions",
        "Feature Importance",
        "Feature Importance (All)",
        "Decision Boundary",
        "Lift Chart",
        "Gain Chart",
        "Decision Tree",
        "KS Statistic Plot"
       ],
       "button_style": "",
       "description": "Plot Type:",
       "icons": [
        ""
       ],
       "index": 20,
       "layout": "IPY_MODEL_19ec1b546b4540d5941d91302f5b07ca",
       "style": "IPY_MODEL_96f2b4902e104c8c96f04320e9f0c15f",
       "tooltips": []
      }
     },
     "81fdd752200845afb16e1c20fad2f1d6": {
      "model_module": "@jupyter-widgets/controls",
      "model_module_version": "2.0.0",
      "model_name": "VBoxModel",
      "state": {
       "_dom_classes": [
        "widget-interact"
       ],
       "children": [
        "IPY_MODEL_23fd28188ff84bc8a03e65f19042247a",
        "IPY_MODEL_37f1d79e7dd24f7a98628caa477c138d"
       ],
       "layout": "IPY_MODEL_4cb7ed38516d4417842ee21dd0c4fb41"
      }
     },
     "82375228ddfe4d4ba51e396806daa11b": {
      "model_module": "@jupyter-widgets/base",
      "model_module_version": "2.0.0",
      "model_name": "LayoutModel",
      "state": {}
     },
     "829e719ee2ab4e3485d82ecc1014a63a": {
      "model_module": "@jupyter-widgets/controls",
      "model_module_version": "2.0.0",
      "model_name": "ToggleButtonsModel",
      "state": {
       "_options_labels": [
        "Pipeline Plot",
        "Hyperparameters",
        "AUC",
        "Confusion Matrix",
        "Threshold",
        "Precision Recall",
        "Prediction Error",
        "Class Report",
        "Feature Selection",
        "Learning Curve",
        "Manifold Learning",
        "Calibration Curve",
        "Validation Curve",
        "Dimensions",
        "Feature Importance",
        "Feature Importance (All)",
        "Decision Boundary",
        "Lift Chart",
        "Gain Chart",
        "Decision Tree",
        "KS Statistic Plot"
       ],
       "button_style": "",
       "description": "Plot Type:",
       "icons": [
        ""
       ],
       "index": 2,
       "layout": "IPY_MODEL_15a373c4dbdd4483932f27cd165a1c4a",
       "style": "IPY_MODEL_d9142cd046354f3eb3433cc5fd9daf69",
       "tooltips": []
      }
     },
     "836ade9db2e64196a9ffc03876076c86": {
      "model_module": "@jupyter-widgets/base",
      "model_module_version": "2.0.0",
      "model_name": "LayoutModel",
      "state": {}
     },
     "83db2e59b7c749148906961a38c4b1ea": {
      "model_module": "@jupyter-widgets/base",
      "model_module_version": "2.0.0",
      "model_name": "LayoutModel",
      "state": {}
     },
     "84a61bb6d7bb475096b1b34444c41b03": {
      "model_module": "@jupyter-widgets/controls",
      "model_module_version": "2.0.0",
      "model_name": "HTMLStyleModel",
      "state": {
       "description_width": "",
       "font_size": null,
       "text_color": null
      }
     },
     "84bbd4e5b8984d6bafe61f8563a13b7e": {
      "model_module": "@jupyter-widgets/controls",
      "model_module_version": "2.0.0",
      "model_name": "VBoxModel",
      "state": {
       "_dom_classes": [
        "widget-interact"
       ],
       "children": [
        "IPY_MODEL_7969910d7f3e47ed8c7441dd9562bc57",
        "IPY_MODEL_eaeed03a12a14098ab5caab5861c7e73"
       ],
       "layout": "IPY_MODEL_94e7004bf8134cbf9782718cbe4b2a1c"
      }
     },
     "856db94838484934b4903c78f1e5eeea": {
      "model_module": "@jupyter-widgets/controls",
      "model_module_version": "2.0.0",
      "model_name": "ToggleButtonsModel",
      "state": {
       "_options_labels": [
        "Pipeline Plot",
        "Hyperparameters",
        "AUC",
        "Confusion Matrix",
        "Threshold",
        "Precision Recall",
        "Prediction Error",
        "Class Report",
        "Feature Selection",
        "Learning Curve",
        "Manifold Learning",
        "Calibration Curve",
        "Validation Curve",
        "Dimensions",
        "Feature Importance",
        "Feature Importance (All)",
        "Decision Boundary",
        "Lift Chart",
        "Gain Chart",
        "Decision Tree",
        "KS Statistic Plot"
       ],
       "button_style": "",
       "description": "Plot Type:",
       "icons": [
        ""
       ],
       "index": 15,
       "layout": "IPY_MODEL_14d154cb56134435bedd02c40394508e",
       "style": "IPY_MODEL_9031b55b98eb40e1ae630e6c15f0180b",
       "tooltips": []
      }
     },
     "8588b21a54d9430fa427f5b0db540e5e": {
      "model_module": "@jupyter-widgets/base",
      "model_module_version": "2.0.0",
      "model_name": "LayoutModel",
      "state": {}
     },
     "85d2a6ff27554006941c9f75a29ee403": {
      "model_module": "@jupyter-widgets/base",
      "model_module_version": "2.0.0",
      "model_name": "LayoutModel",
      "state": {}
     },
     "86e46cd2ce6f48fbae4fc7b4e5263b37": {
      "model_module": "@jupyter-widgets/base",
      "model_module_version": "2.0.0",
      "model_name": "LayoutModel",
      "state": {}
     },
     "8af6fae8e5fb4aabab1186d929dbf6d3": {
      "model_module": "@jupyter-widgets/controls",
      "model_module_version": "2.0.0",
      "model_name": "VBoxModel",
      "state": {
       "_dom_classes": [
        "widget-interact"
       ],
       "children": [
        "IPY_MODEL_f9b3e4fe69e64243b724de732c1f2aa8",
        "IPY_MODEL_dad7cfc6f88241a3898ef7eb0e8f80e0"
       ],
       "layout": "IPY_MODEL_950ea3048c6a4a6c8f6dadc6c50922c6"
      }
     },
     "8b5c1887f4ce47a8be40e6192d0c355f": {
      "model_module": "@jupyter-widgets/base",
      "model_module_version": "2.0.0",
      "model_name": "LayoutModel",
      "state": {}
     },
     "8c6454db2c08455e9f3d1c0f204a4106": {
      "model_module": "@jupyter-widgets/base",
      "model_module_version": "2.0.0",
      "model_name": "LayoutModel",
      "state": {
       "visibility": "hidden"
      }
     },
     "8c6ff7bc31dd441f8911c8661dce5b5e": {
      "model_module": "@jupyter-widgets/controls",
      "model_module_version": "2.0.0",
      "model_name": "ToggleButtonsModel",
      "state": {
       "_options_labels": [
        "Pipeline Plot",
        "Hyperparameters",
        "AUC",
        "Confusion Matrix",
        "Threshold",
        "Precision Recall",
        "Prediction Error",
        "Class Report",
        "Feature Selection",
        "Learning Curve",
        "Manifold Learning",
        "Calibration Curve",
        "Validation Curve",
        "Dimensions",
        "Feature Importance",
        "Feature Importance (All)",
        "Decision Boundary",
        "Lift Chart",
        "Gain Chart",
        "Decision Tree",
        "KS Statistic Plot"
       ],
       "button_style": "",
       "description": "Plot Type:",
       "icons": [
        ""
       ],
       "index": 15,
       "layout": "IPY_MODEL_c225633aae2b4edb8bc24697960e025d",
       "style": "IPY_MODEL_60a5cbc013224852a89cb92aed7cc5cf",
       "tooltips": []
      }
     },
     "8cbe044a5d164c72b9239a3fc0bea14b": {
      "model_module": "@jupyter-widgets/controls",
      "model_module_version": "2.0.0",
      "model_name": "HTMLStyleModel",
      "state": {
       "description_width": "",
       "font_size": null,
       "text_color": null
      }
     },
     "8d42aede8f4b41579e44d91d03097d8f": {
      "model_module": "@jupyter-widgets/controls",
      "model_module_version": "2.0.0",
      "model_name": "HTMLModel",
      "state": {
       "layout": "IPY_MODEL_76e73e43c71d4b40a53f568ec62eeb79",
       "style": "IPY_MODEL_bb163dae49df4ddea144507c57c9b876",
       "value": " 0/4 [00:00&lt;?, ?it/s]"
      }
     },
     "9031b55b98eb40e1ae630e6c15f0180b": {
      "model_module": "@jupyter-widgets/controls",
      "model_module_version": "2.0.0",
      "model_name": "ToggleButtonsStyleModel",
      "state": {
       "button_width": "",
       "description_width": ""
      }
     },
     "90e2c9f3f5e74a8d8747cc24f637c749": {
      "model_module": "@jupyter-widgets/output",
      "model_module_version": "1.0.0",
      "model_name": "OutputModel",
      "state": {
       "layout": "IPY_MODEL_608a75f87b694e86868101f92687516c",
       "outputs": [
        {
         "data": {
          "image/png": "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",
          "text/plain": "<Figure size 800x1000 with 1 Axes>"
         },
         "metadata": {},
         "output_type": "display_data"
        }
       ]
      }
     },
     "9190578a5e684eedaf2b40f46a0501d3": {
      "model_module": "@jupyter-widgets/base",
      "model_module_version": "2.0.0",
      "model_name": "LayoutModel",
      "state": {}
     },
     "91e8896e839945fd8a3b4165c1ff030f": {
      "model_module": "@jupyter-widgets/base",
      "model_module_version": "2.0.0",
      "model_name": "LayoutModel",
      "state": {}
     },
     "9267694f866a4be09a75548b8a25b237": {
      "model_module": "@jupyter-widgets/base",
      "model_module_version": "2.0.0",
      "model_name": "LayoutModel",
      "state": {}
     },
     "93240f849e1a43e38a41f8f986df21cd": {
      "model_module": "@jupyter-widgets/base",
      "model_module_version": "2.0.0",
      "model_name": "LayoutModel",
      "state": {}
     },
     "93251130f43340bd9f2d0996e5691457": {
      "model_module": "@jupyter-widgets/base",
      "model_module_version": "2.0.0",
      "model_name": "LayoutModel",
      "state": {}
     },
     "94cc0d4368844cce911b2a520820ffc7": {
      "model_module": "@jupyter-widgets/controls",
      "model_module_version": "2.0.0",
      "model_name": "FloatProgressModel",
      "state": {
       "layout": "IPY_MODEL_82375228ddfe4d4ba51e396806daa11b",
       "max": 69,
       "style": "IPY_MODEL_2b76fd4c63ed45ff9f2193e784d6d839",
       "value": 69
      }
     },
     "94e7004bf8134cbf9782718cbe4b2a1c": {
      "model_module": "@jupyter-widgets/base",
      "model_module_version": "2.0.0",
      "model_name": "LayoutModel",
      "state": {}
     },
     "950ea3048c6a4a6c8f6dadc6c50922c6": {
      "model_module": "@jupyter-widgets/base",
      "model_module_version": "2.0.0",
      "model_name": "LayoutModel",
      "state": {}
     },
     "95b219cf0d8c46569d5d746203a53df7": {
      "model_module": "@jupyter-widgets/base",
      "model_module_version": "2.0.0",
      "model_name": "LayoutModel",
      "state": {}
     },
     "95c30cb8f47343f4a4238447c4ade2d3": {
      "model_module": "@jupyter-widgets/base",
      "model_module_version": "2.0.0",
      "model_name": "LayoutModel",
      "state": {}
     },
     "96baf9d8e546449dbdee9a447441e6ea": {
      "model_module": "@jupyter-widgets/controls",
      "model_module_version": "2.0.0",
      "model_name": "FloatProgressModel",
      "state": {
       "layout": "IPY_MODEL_991e04875cb34b65978b08ae90c96b3b",
       "max": 4,
       "style": "IPY_MODEL_606cde7d96b84e5ba9bd9d78e0a8ea11",
       "value": 4
      }
     },
     "96f2b4902e104c8c96f04320e9f0c15f": {
      "model_module": "@jupyter-widgets/controls",
      "model_module_version": "2.0.0",
      "model_name": "ToggleButtonsStyleModel",
      "state": {
       "button_width": "",
       "description_width": ""
      }
     },
     "977d0d3184e04bb6bc2912a6ade00d8e": {
      "model_module": "@jupyter-widgets/base",
      "model_module_version": "2.0.0",
      "model_name": "LayoutModel",
      "state": {}
     },
     "991e04875cb34b65978b08ae90c96b3b": {
      "model_module": "@jupyter-widgets/base",
      "model_module_version": "2.0.0",
      "model_name": "LayoutModel",
      "state": {}
     },
     "9954d70b07834daf8dbdefa4a6f773b8": {
      "model_module": "@jupyter-widgets/controls",
      "model_module_version": "2.0.0",
      "model_name": "HTMLModel",
      "state": {
       "layout": "IPY_MODEL_85d2a6ff27554006941c9f75a29ee403",
       "style": "IPY_MODEL_bfb5a198a7ff4813ba0eb484b8aedf54",
       "value": " 6/6 [01:07&lt;00:00, 11.07s/it]"
      }
     },
     "995b820380f74f9aabafb0e166db9d71": {
      "model_module": "@jupyter-widgets/base",
      "model_module_version": "2.0.0",
      "model_name": "LayoutModel",
      "state": {}
     },
     "99dcb90360264d8d94b3a5f0ea6fa895": {
      "model_module": "@jupyter-widgets/base",
      "model_module_version": "2.0.0",
      "model_name": "LayoutModel",
      "state": {
       "visibility": "hidden"
      }
     },
     "9af7f3e1cd3145809dfe0da6b262278b": {
      "model_module": "@jupyter-widgets/controls",
      "model_module_version": "2.0.0",
      "model_name": "HTMLStyleModel",
      "state": {
       "description_width": "",
       "font_size": null,
       "text_color": null
      }
     },
     "9c28c2eecd7945efb2c8243b25031135": {
      "model_module": "@jupyter-widgets/base",
      "model_module_version": "2.0.0",
      "model_name": "LayoutModel",
      "state": {}
     },
     "9d63acdd5154437fad970f512efd9cbb": {
      "model_module": "@jupyter-widgets/controls",
      "model_module_version": "2.0.0",
      "model_name": "FloatProgressModel",
      "state": {
       "bar_style": "danger",
       "layout": "IPY_MODEL_f6f0e3c89b6340d8b1ec955438316b2c",
       "max": 6,
       "style": "IPY_MODEL_e128c7f7bc024e5f80cb99dc63a2534f",
       "value": 4
      }
     },
     "9dabc4b5a6b04d349d989e8c7c180da4": {
      "model_module": "@jupyter-widgets/base",
      "model_module_version": "2.0.0",
      "model_name": "LayoutModel",
      "state": {
       "visibility": "hidden"
      }
     },
     "9dcf73f634eb438c950b614cda07db32": {
      "model_module": "@jupyter-widgets/controls",
      "model_module_version": "2.0.0",
      "model_name": "FloatProgressModel",
      "state": {
       "layout": "IPY_MODEL_9190578a5e684eedaf2b40f46a0501d3",
       "max": 4,
       "style": "IPY_MODEL_7e42f36f6dc14905bf251640d1882c44",
       "value": 4
      }
     },
     "9e9e12685ce64d1f81116bf5a4f8f4e7": {
      "model_module": "@jupyter-widgets/controls",
      "model_module_version": "2.0.0",
      "model_name": "ToggleButtonsModel",
      "state": {
       "_options_labels": [
        "Pipeline Plot",
        "Hyperparameters",
        "AUC",
        "Confusion Matrix",
        "Threshold",
        "Precision Recall",
        "Prediction Error",
        "Class Report",
        "Feature Selection",
        "Learning Curve",
        "Manifold Learning",
        "Calibration Curve",
        "Validation Curve",
        "Dimensions",
        "Feature Importance",
        "Feature Importance (All)",
        "Decision Boundary",
        "Lift Chart",
        "Gain Chart",
        "Decision Tree",
        "KS Statistic Plot"
       ],
       "button_style": "",
       "description": "Plot Type:",
       "icons": [
        ""
       ],
       "index": 14,
       "layout": "IPY_MODEL_174f3c7dc86243598827970d3c23b3bf",
       "style": "IPY_MODEL_46fa79fe03934fb8b0874de615e99c2e",
       "tooltips": []
      }
     },
     "9f3d7e894f4c45499028cfb02f50a0a0": {
      "model_module": "@jupyter-widgets/controls",
      "model_module_version": "2.0.0",
      "model_name": "HTMLStyleModel",
      "state": {
       "description_width": "",
       "font_size": null,
       "text_color": null
      }
     },
     "a060b89f60804bb6b3e13949cd366976": {
      "model_module": "@jupyter-widgets/controls",
      "model_module_version": "2.0.0",
      "model_name": "HTMLStyleModel",
      "state": {
       "description_width": "",
       "font_size": null,
       "text_color": null
      }
     },
     "a07bb4769ecc4bc092505f55332ad06c": {
      "model_module": "@jupyter-widgets/controls",
      "model_module_version": "2.0.0",
      "model_name": "ToggleButtonsStyleModel",
      "state": {
       "button_width": "",
       "description_width": ""
      }
     },
     "a2ca11313d7d4a3483d74f6039901d6c": {
      "model_module": "@jupyter-widgets/output",
      "model_module_version": "1.0.0",
      "model_name": "OutputModel",
      "state": {
       "layout": "IPY_MODEL_bd08e04323da425a84438768a96a691d",
       "outputs": [
        {
         "ename": "TypeError",
         "evalue": "Feature Importance and RFE plots not available for estimators that doesnt support coef_ or feature_importances_ attribute.",
         "output_type": "error",
         "traceback": [
          "\u001b[1;31m---------------------------------------------------------------------------\u001b[0m",
          "\u001b[1;31mTypeError\u001b[0m                                 Traceback (most recent call last)",
          "File \u001b[1;32mC:\\Python\\Lib\\site-packages\\ipywidgets\\widgets\\interaction.py:240\u001b[0m, in \u001b[0;36minteractive.update\u001b[1;34m(self, *args)\u001b[0m\n\u001b[0;32m    238\u001b[0m     value \u001b[38;5;241m=\u001b[39m widget\u001b[38;5;241m.\u001b[39mget_interact_value()\n\u001b[0;32m    239\u001b[0m     \u001b[38;5;28mself\u001b[39m\u001b[38;5;241m.\u001b[39mkwargs[widget\u001b[38;5;241m.\u001b[39m_kwarg] \u001b[38;5;241m=\u001b[39m value\n\u001b[1;32m--> 240\u001b[0m \u001b[38;5;28mself\u001b[39m\u001b[38;5;241m.\u001b[39mresult \u001b[38;5;241m=\u001b[39m \u001b[38;5;28;43mself\u001b[39;49m\u001b[38;5;241;43m.\u001b[39;49m\u001b[43mf\u001b[49m\u001b[43m(\u001b[49m\u001b[38;5;241;43m*\u001b[39;49m\u001b[38;5;241;43m*\u001b[39;49m\u001b[38;5;28;43mself\u001b[39;49m\u001b[38;5;241;43m.\u001b[39;49m\u001b[43mkwargs\u001b[49m\u001b[43m)\u001b[49m\n\u001b[0;32m    241\u001b[0m show_inline_matplotlib_plots()\n\u001b[0;32m    242\u001b[0m \u001b[38;5;28;01mif\u001b[39;00m \u001b[38;5;28mself\u001b[39m\u001b[38;5;241m.\u001b[39mauto_display \u001b[38;5;129;01mand\u001b[39;00m \u001b[38;5;28mself\u001b[39m\u001b[38;5;241m.\u001b[39mresult \u001b[38;5;129;01mis\u001b[39;00m \u001b[38;5;129;01mnot\u001b[39;00m \u001b[38;5;28;01mNone\u001b[39;00m:\n",
          "File \u001b[1;32mC:\\Python\\Lib\\site-packages\\pycaret\\internal\\pycaret_experiment\\tabular_experiment.py:470\u001b[0m, in \u001b[0;36m_TabularExperiment._plot_model\u001b[1;34m(self, estimator, plot, scale, save, fold, fit_kwargs, plot_kwargs, groups, feature_name, label, verbose, system, display, display_format)\u001b[0m\n\u001b[0;32m    466\u001b[0m \u001b[38;5;66;03m# checking for feature plot\u001b[39;00m\n\u001b[0;32m    467\u001b[0m \u001b[38;5;28;01mif\u001b[39;00m \u001b[38;5;129;01mnot\u001b[39;00m (\n\u001b[0;32m    468\u001b[0m     \u001b[38;5;28mhasattr\u001b[39m(estimator, \u001b[38;5;124m\"\u001b[39m\u001b[38;5;124mcoef_\u001b[39m\u001b[38;5;124m\"\u001b[39m) \u001b[38;5;129;01mor\u001b[39;00m \u001b[38;5;28mhasattr\u001b[39m(estimator, \u001b[38;5;124m\"\u001b[39m\u001b[38;5;124mfeature_importances_\u001b[39m\u001b[38;5;124m\"\u001b[39m)\n\u001b[0;32m    469\u001b[0m ) \u001b[38;5;129;01mand\u001b[39;00m (plot \u001b[38;5;241m==\u001b[39m \u001b[38;5;124m\"\u001b[39m\u001b[38;5;124mfeature\u001b[39m\u001b[38;5;124m\"\u001b[39m \u001b[38;5;129;01mor\u001b[39;00m plot \u001b[38;5;241m==\u001b[39m \u001b[38;5;124m\"\u001b[39m\u001b[38;5;124mfeature_all\u001b[39m\u001b[38;5;124m\"\u001b[39m \u001b[38;5;129;01mor\u001b[39;00m plot \u001b[38;5;241m==\u001b[39m \u001b[38;5;124m\"\u001b[39m\u001b[38;5;124mrfe\u001b[39m\u001b[38;5;124m\"\u001b[39m):\n\u001b[1;32m--> 470\u001b[0m     \u001b[38;5;28;01mraise\u001b[39;00m \u001b[38;5;167;01mTypeError\u001b[39;00m(\n\u001b[0;32m    471\u001b[0m         \u001b[38;5;124m\"\u001b[39m\u001b[38;5;124mFeature Importance and RFE plots not available for estimators that doesnt support coef_ or feature_importances_ attribute.\u001b[39m\u001b[38;5;124m\"\u001b[39m\n\u001b[0;32m    472\u001b[0m     )\n\u001b[0;32m    474\u001b[0m \u001b[38;5;66;03m# checking fold parameter\u001b[39;00m\n\u001b[0;32m    475\u001b[0m \u001b[38;5;28;01mif\u001b[39;00m fold \u001b[38;5;129;01mis\u001b[39;00m \u001b[38;5;129;01mnot\u001b[39;00m \u001b[38;5;28;01mNone\u001b[39;00m \u001b[38;5;129;01mand\u001b[39;00m \u001b[38;5;129;01mnot\u001b[39;00m (\n\u001b[0;32m    476\u001b[0m     \u001b[38;5;28mtype\u001b[39m(fold) \u001b[38;5;129;01mis\u001b[39;00m \u001b[38;5;28mint\u001b[39m \u001b[38;5;129;01mor\u001b[39;00m is_sklearn_cv_generator(fold)\n\u001b[0;32m    477\u001b[0m ):\n",
          "\u001b[1;31mTypeError\u001b[0m: Feature Importance and RFE plots not available for estimators that doesnt support coef_ or feature_importances_ attribute."
         ]
        }
       ]
      }
     },
     "a2ed0fc57fbc424e83e49fd66ef6cbf0": {
      "model_module": "@jupyter-widgets/controls",
      "model_module_version": "2.0.0",
      "model_name": "FloatProgressModel",
      "state": {
       "bar_style": "danger",
       "layout": "IPY_MODEL_22a2b07250d44f749ff751fafc5cadb6",
       "max": 6,
       "style": "IPY_MODEL_a4614f7cd6174f8d9c220322b1242e2b",
       "value": 4
      }
     },
     "a4614f7cd6174f8d9c220322b1242e2b": {
      "model_module": "@jupyter-widgets/controls",
      "model_module_version": "2.0.0",
      "model_name": "ProgressStyleModel",
      "state": {
       "description_width": ""
      }
     },
     "a553616d7f264c5d8abbc05c6deaa13d": {
      "model_module": "@jupyter-widgets/controls",
      "model_module_version": "2.0.0",
      "model_name": "HTMLStyleModel",
      "state": {
       "description_width": "",
       "font_size": null,
       "text_color": null
      }
     },
     "a5de08f1301846faaeaaa493d29ca631": {
      "model_module": "@jupyter-widgets/controls",
      "model_module_version": "2.0.0",
      "model_name": "ProgressStyleModel",
      "state": {
       "description_width": ""
      }
     },
     "a7787da32edb4879bba2c52e720afc27": {
      "model_module": "@jupyter-widgets/base",
      "model_module_version": "2.0.0",
      "model_name": "LayoutModel",
      "state": {
       "visibility": "hidden"
      }
     },
     "a83410b3bc1549fab589cdfe546b5e85": {
      "model_module": "@jupyter-widgets/base",
      "model_module_version": "2.0.0",
      "model_name": "LayoutModel",
      "state": {}
     },
     "a84c595c972a4a21ae73f1e1f544098b": {
      "model_module": "@jupyter-widgets/controls",
      "model_module_version": "2.0.0",
      "model_name": "HTMLModel",
      "state": {
       "layout": "IPY_MODEL_e5f9005c2d8e4485bc38774c69afc7f7",
       "style": "IPY_MODEL_0b177fcffec64d31b2ff5781371e8b80",
       "value": "Processing: 100%"
      }
     },
     "a8a8fe7aafe2401b913427c28b8d994b": {
      "model_module": "@jupyter-widgets/controls",
      "model_module_version": "2.0.0",
      "model_name": "HTMLStyleModel",
      "state": {
       "description_width": "",
       "font_size": null,
       "text_color": null
      }
     },
     "a91ce7e648a54707aee49a4daf9caa98": {
      "model_module": "@jupyter-widgets/controls",
      "model_module_version": "2.0.0",
      "model_name": "ToggleButtonsStyleModel",
      "state": {
       "button_width": "",
       "description_width": ""
      }
     },
     "aa4c3ae2f8af44b58588b69a386faad5": {
      "model_module": "@jupyter-widgets/base",
      "model_module_version": "2.0.0",
      "model_name": "LayoutModel",
      "state": {}
     },
     "aeeca51fe5904a3ea80dce5d414f69e5": {
      "model_module": "@jupyter-widgets/controls",
      "model_module_version": "2.0.0",
      "model_name": "HTMLModel",
      "state": {
       "layout": "IPY_MODEL_d1de126f846e4b8faa7c6b5de6cf4382",
       "style": "IPY_MODEL_61d465f232334f03848a8f101e15f9dc",
       "value": "Processing: 100%"
      }
     },
     "afe08c2529504f7ca886f4f54f72af70": {
      "model_module": "@jupyter-widgets/controls",
      "model_module_version": "2.0.0",
      "model_name": "HTMLModel",
      "state": {
       "layout": "IPY_MODEL_2250a2caeb80488f9d10d2457165885d",
       "style": "IPY_MODEL_44bf6c69764247f7a19d233bc45c92c8",
       "value": "Processing: 100%"
      }
     },
     "b05a900b5f044eaa8a1fbd361980abf8": {
      "model_module": "@jupyter-widgets/base",
      "model_module_version": "2.0.0",
      "model_name": "LayoutModel",
      "state": {}
     },
     "b0ad295fa03346dba44695b5f8f79d3a": {
      "model_module": "@jupyter-widgets/base",
      "model_module_version": "2.0.0",
      "model_name": "LayoutModel",
      "state": {}
     },
     "b15dc06c2a2d4424be2542e1bc58529e": {
      "model_module": "@jupyter-widgets/base",
      "model_module_version": "2.0.0",
      "model_name": "LayoutModel",
      "state": {
       "visibility": "hidden"
      }
     },
     "b161df4c4f2246c19b9842075ae9339d": {
      "model_module": "@jupyter-widgets/base",
      "model_module_version": "2.0.0",
      "model_name": "LayoutModel",
      "state": {}
     },
     "b24f36ee1e81447eb45fe35cf84614bb": {
      "model_module": "@jupyter-widgets/controls",
      "model_module_version": "2.0.0",
      "model_name": "HTMLStyleModel",
      "state": {
       "description_width": "",
       "font_size": null,
       "text_color": null
      }
     },
     "b2e011a32261441e86100b36abb390c3": {
      "model_module": "@jupyter-widgets/controls",
      "model_module_version": "2.0.0",
      "model_name": "HTMLModel",
      "state": {
       "layout": "IPY_MODEL_cd7b197b78214cccb80c7f4e292764f5",
       "style": "IPY_MODEL_bc1fa979b27a427d8e47af6cb6bf4802",
       "value": "Processing: 100%"
      }
     },
     "b3cff0d8e1194b6ba68932089ff23ec3": {
      "model_module": "@jupyter-widgets/base",
      "model_module_version": "2.0.0",
      "model_name": "LayoutModel",
      "state": {}
     },
     "b492427ed9cc44e4973ed112f80cd3b0": {
      "model_module": "@jupyter-widgets/controls",
      "model_module_version": "2.0.0",
      "model_name": "HTMLModel",
      "state": {
       "layout": "IPY_MODEL_21a05ee2814b41fd83a11f57da225156",
       "style": "IPY_MODEL_23ead8affac04bf085478c74d2c54693",
       "value": "Processing: 100%"
      }
     },
     "b58c84c1b8f141dab15dbe63ef460743": {
      "model_module": "@jupyter-widgets/controls",
      "model_module_version": "2.0.0",
      "model_name": "ProgressStyleModel",
      "state": {
       "description_width": ""
      }
     },
     "b79f6f97b6e84cf0a2041cb706ce63ea": {
      "model_module": "@jupyter-widgets/base",
      "model_module_version": "2.0.0",
      "model_name": "LayoutModel",
      "state": {
       "visibility": "hidden"
      }
     },
     "b8d88730910142bc8cb7b2857fa8bd56": {
      "model_module": "@jupyter-widgets/base",
      "model_module_version": "2.0.0",
      "model_name": "LayoutModel",
      "state": {}
     },
     "b9e92cf78afc46b5940ab6a48aa81479": {
      "model_module": "@jupyter-widgets/controls",
      "model_module_version": "2.0.0",
      "model_name": "HTMLStyleModel",
      "state": {
       "description_width": "",
       "font_size": null,
       "text_color": null
      }
     },
     "ba7507f7aa38458faf70d19e18c6fad9": {
      "model_module": "@jupyter-widgets/controls",
      "model_module_version": "2.0.0",
      "model_name": "HTMLModel",
      "state": {
       "layout": "IPY_MODEL_45576d73ed7844ecbd3b74720d5e27f8",
       "style": "IPY_MODEL_15cd1f5b029b4a6696a1ba4908f0daea",
       "value": "Processing: 100%"
      }
     },
     "bb163dae49df4ddea144507c57c9b876": {
      "model_module": "@jupyter-widgets/controls",
      "model_module_version": "2.0.0",
      "model_name": "HTMLStyleModel",
      "state": {
       "description_width": "",
       "font_size": null,
       "text_color": null
      }
     },
     "bb1d50e74e0046c6b0d778105e6eab76": {
      "model_module": "@jupyter-widgets/base",
      "model_module_version": "2.0.0",
      "model_name": "LayoutModel",
      "state": {}
     },
     "bb5b523d183c44098be84cbecd920157": {
      "model_module": "@jupyter-widgets/base",
      "model_module_version": "2.0.0",
      "model_name": "LayoutModel",
      "state": {}
     },
     "bb7bc2d9a4504d7cae05ed6fafb791ce": {
      "model_module": "@jupyter-widgets/controls",
      "model_module_version": "2.0.0",
      "model_name": "HTMLModel",
      "state": {
       "layout": "IPY_MODEL_b0ad295fa03346dba44695b5f8f79d3a",
       "style": "IPY_MODEL_c674a1f7c64d4c3f8b5f0abfdeecaece",
       "value": "Processing: 100%"
      }
     },
     "bc17ea2b1b5e4d7eb2eccb84d28fb24e": {
      "model_module": "@jupyter-widgets/controls",
      "model_module_version": "2.0.0",
      "model_name": "ProgressStyleModel",
      "state": {
       "description_width": ""
      }
     },
     "bc1fa979b27a427d8e47af6cb6bf4802": {
      "model_module": "@jupyter-widgets/controls",
      "model_module_version": "2.0.0",
      "model_name": "HTMLStyleModel",
      "state": {
       "description_width": "",
       "font_size": null,
       "text_color": null
      }
     },
     "bc53a816281c4c0ca135c8939c1ccb37": {
      "model_module": "@jupyter-widgets/base",
      "model_module_version": "2.0.0",
      "model_name": "LayoutModel",
      "state": {}
     },
     "bcfa95b3fc3f440bba12588785b3ad73": {
      "model_module": "@jupyter-widgets/base",
      "model_module_version": "2.0.0",
      "model_name": "LayoutModel",
      "state": {}
     },
     "bd08e04323da425a84438768a96a691d": {
      "model_module": "@jupyter-widgets/base",
      "model_module_version": "2.0.0",
      "model_name": "LayoutModel",
      "state": {}
     },
     "bd9a6d83f7e9446eb11913125ae0cb86": {
      "model_module": "@jupyter-widgets/base",
      "model_module_version": "2.0.0",
      "model_name": "LayoutModel",
      "state": {}
     },
     "be7f420bf1a2400f921658a501cd76b0": {
      "model_module": "@jupyter-widgets/controls",
      "model_module_version": "2.0.0",
      "model_name": "ProgressStyleModel",
      "state": {
       "description_width": ""
      }
     },
     "beea42bc143f44289f49f8d84593e8b1": {
      "model_module": "@jupyter-widgets/controls",
      "model_module_version": "2.0.0",
      "model_name": "HTMLModel",
      "state": {
       "layout": "IPY_MODEL_8b5c1887f4ce47a8be40e6192d0c355f",
       "style": "IPY_MODEL_4c29397a320f4867bc5c48101cbf6817",
       "value": " 6/6 [00:57&lt;00:00,  9.44s/it]"
      }
     },
     "bf7316c2638f4384a37fe7f123bcd03f": {
      "model_module": "@jupyter-widgets/base",
      "model_module_version": "2.0.0",
      "model_name": "LayoutModel",
      "state": {}
     },
     "bfb5a198a7ff4813ba0eb484b8aedf54": {
      "model_module": "@jupyter-widgets/controls",
      "model_module_version": "2.0.0",
      "model_name": "HTMLStyleModel",
      "state": {
       "description_width": "",
       "font_size": null,
       "text_color": null
      }
     },
     "bffc95fcc3644239b1cfe77d81de4852": {
      "model_module": "@jupyter-widgets/base",
      "model_module_version": "2.0.0",
      "model_name": "LayoutModel",
      "state": {}
     },
     "c225633aae2b4edb8bc24697960e025d": {
      "model_module": "@jupyter-widgets/base",
      "model_module_version": "2.0.0",
      "model_name": "LayoutModel",
      "state": {}
     },
     "c2fd44c8375e43bbb7bb81be7d862049": {
      "model_module": "@jupyter-widgets/base",
      "model_module_version": "2.0.0",
      "model_name": "LayoutModel",
      "state": {
       "visibility": "hidden"
      }
     },
     "c36905b472a2425bb3587db77730a08c": {
      "model_module": "@jupyter-widgets/output",
      "model_module_version": "1.0.0",
      "model_name": "OutputModel",
      "state": {
       "layout": "IPY_MODEL_6e3d9e0457ef43a3bf8dff0eb56b8f86",
       "outputs": [
        {
         "ename": "ValueError",
         "evalue": "Cannot calculate KS statistic for data with 4 category/ies",
         "output_type": "error",
         "traceback": [
          "\u001b[1;31m---------------------------------------------------------------------------\u001b[0m",
          "\u001b[1;31mValueError\u001b[0m                                Traceback (most recent call last)",
          "File \u001b[1;32mC:\\Python\\Lib\\site-packages\\ipywidgets\\widgets\\interaction.py:240\u001b[0m, in \u001b[0;36minteractive.update\u001b[1;34m(self, *args)\u001b[0m\n\u001b[0;32m    238\u001b[0m     value \u001b[38;5;241m=\u001b[39m widget\u001b[38;5;241m.\u001b[39mget_interact_value()\n\u001b[0;32m    239\u001b[0m     \u001b[38;5;28mself\u001b[39m\u001b[38;5;241m.\u001b[39mkwargs[widget\u001b[38;5;241m.\u001b[39m_kwarg] \u001b[38;5;241m=\u001b[39m value\n\u001b[1;32m--> 240\u001b[0m \u001b[38;5;28mself\u001b[39m\u001b[38;5;241m.\u001b[39mresult \u001b[38;5;241m=\u001b[39m \u001b[38;5;28;43mself\u001b[39;49m\u001b[38;5;241;43m.\u001b[39;49m\u001b[43mf\u001b[49m\u001b[43m(\u001b[49m\u001b[38;5;241;43m*\u001b[39;49m\u001b[38;5;241;43m*\u001b[39;49m\u001b[38;5;28;43mself\u001b[39;49m\u001b[38;5;241;43m.\u001b[39;49m\u001b[43mkwargs\u001b[49m\u001b[43m)\u001b[49m\n\u001b[0;32m    241\u001b[0m show_inline_matplotlib_plots()\n\u001b[0;32m    242\u001b[0m \u001b[38;5;28;01mif\u001b[39;00m \u001b[38;5;28mself\u001b[39m\u001b[38;5;241m.\u001b[39mauto_display \u001b[38;5;129;01mand\u001b[39;00m \u001b[38;5;28mself\u001b[39m\u001b[38;5;241m.\u001b[39mresult \u001b[38;5;129;01mis\u001b[39;00m \u001b[38;5;129;01mnot\u001b[39;00m \u001b[38;5;28;01mNone\u001b[39;00m:\n",
          "File \u001b[1;32mC:\\Python\\Lib\\site-packages\\pycaret\\internal\\pycaret_experiment\\tabular_experiment.py:1913\u001b[0m, in \u001b[0;36m_TabularExperiment._plot_model\u001b[1;34m(self, estimator, plot, scale, save, fold, fit_kwargs, plot_kwargs, groups, feature_name, label, verbose, system, display, display_format)\u001b[0m\n\u001b[0;32m   1911\u001b[0m \u001b[38;5;66;03m# execute the plot method\u001b[39;00m\n\u001b[0;32m   1912\u001b[0m \u001b[38;5;28;01mwith\u001b[39;00m redirect_output(\u001b[38;5;28mself\u001b[39m\u001b[38;5;241m.\u001b[39mlogger):\n\u001b[1;32m-> 1913\u001b[0m     ret \u001b[38;5;241m=\u001b[39m \u001b[38;5;28;43mlocals\u001b[39;49m\u001b[43m(\u001b[49m\u001b[43m)\u001b[49m\u001b[43m[\u001b[49m\u001b[43mplot\u001b[49m\u001b[43m]\u001b[49m\u001b[43m(\u001b[49m\u001b[43m)\u001b[49m\n\u001b[0;32m   1914\u001b[0m \u001b[38;5;28;01mif\u001b[39;00m ret:\n\u001b[0;32m   1915\u001b[0m     plot_filename \u001b[38;5;241m=\u001b[39m ret\n",
          "File \u001b[1;32mC:\\Python\\Lib\\site-packages\\pycaret\\internal\\pycaret_experiment\\tabular_experiment.py:1893\u001b[0m, in \u001b[0;36m_TabularExperiment._plot_model.<locals>.ks\u001b[1;34m()\u001b[0m\n\u001b[0;32m   1891\u001b[0m \u001b[38;5;66;03m# display.clear_output()\u001b[39;00m\n\u001b[0;32m   1892\u001b[0m \u001b[38;5;28;01mwith\u001b[39;00m MatplotlibDefaultDPI(base_dpi\u001b[38;5;241m=\u001b[39m_base_dpi, scale_to_set\u001b[38;5;241m=\u001b[39mscale):\n\u001b[1;32m-> 1893\u001b[0m     \u001b[43mskplt\u001b[49m\u001b[38;5;241;43m.\u001b[39;49m\u001b[43mmetrics\u001b[49m\u001b[38;5;241;43m.\u001b[39;49m\u001b[43mplot_ks_statistic\u001b[49m\u001b[43m(\u001b[49m\n\u001b[0;32m   1894\u001b[0m \u001b[43m        \u001b[49m\u001b[38;5;28;43mself\u001b[39;49m\u001b[38;5;241;43m.\u001b[39;49m\u001b[43my_train_transformed\u001b[49m\u001b[43m,\u001b[49m\u001b[43m \u001b[49m\u001b[43mpredict_proba__\u001b[49m\u001b[43m,\u001b[49m\u001b[43m \u001b[49m\u001b[43mfigsize\u001b[49m\u001b[38;5;241;43m=\u001b[39;49m\u001b[43m(\u001b[49m\u001b[38;5;241;43m10\u001b[39;49m\u001b[43m,\u001b[49m\u001b[43m \u001b[49m\u001b[38;5;241;43m6\u001b[39;49m\u001b[43m)\u001b[49m\n\u001b[0;32m   1895\u001b[0m \u001b[43m    \u001b[49m\u001b[43m)\u001b[49m\n\u001b[0;32m   1896\u001b[0m     plot_filename \u001b[38;5;241m=\u001b[39m \u001b[38;5;28;01mNone\u001b[39;00m\n\u001b[0;32m   1897\u001b[0m     \u001b[38;5;28;01mif\u001b[39;00m save:\n",
          "File \u001b[1;32mC:\\Python\\Lib\\site-packages\\scikitplot\\metrics.py:516\u001b[0m, in \u001b[0;36mplot_ks_statistic\u001b[1;34m(y_true, y_probas, title, ax, figsize, title_fontsize, text_fontsize)\u001b[0m\n\u001b[0;32m    514\u001b[0m classes \u001b[38;5;241m=\u001b[39m np\u001b[38;5;241m.\u001b[39munique(y_true)\n\u001b[0;32m    515\u001b[0m \u001b[38;5;28;01mif\u001b[39;00m \u001b[38;5;28mlen\u001b[39m(classes) \u001b[38;5;241m!=\u001b[39m \u001b[38;5;241m2\u001b[39m:\n\u001b[1;32m--> 516\u001b[0m     \u001b[38;5;28;01mraise\u001b[39;00m \u001b[38;5;167;01mValueError\u001b[39;00m(\u001b[38;5;124m'\u001b[39m\u001b[38;5;124mCannot calculate KS statistic for data with \u001b[39m\u001b[38;5;124m'\u001b[39m\n\u001b[0;32m    517\u001b[0m                      \u001b[38;5;124m'\u001b[39m\u001b[38;5;132;01m{}\u001b[39;00m\u001b[38;5;124m category/ies\u001b[39m\u001b[38;5;124m'\u001b[39m\u001b[38;5;241m.\u001b[39mformat(\u001b[38;5;28mlen\u001b[39m(classes)))\n\u001b[0;32m    518\u001b[0m probas \u001b[38;5;241m=\u001b[39m y_probas\n\u001b[0;32m    520\u001b[0m \u001b[38;5;66;03m# Compute KS Statistic curves\u001b[39;00m\n",
          "\u001b[1;31mValueError\u001b[0m: Cannot calculate KS statistic for data with 4 category/ies"
         ]
        }
       ]
      }
     },
     "c371343dfdcf465cbb640e862b960c4c": {
      "model_module": "@jupyter-widgets/controls",
      "model_module_version": "2.0.0",
      "model_name": "FloatProgressModel",
      "state": {
       "layout": "IPY_MODEL_9c28c2eecd7945efb2c8243b25031135",
       "max": 4,
       "style": "IPY_MODEL_55ecb45f70d24380a693e8f05e7c4445",
       "value": 4
      }
     },
     "c4195f3905584b6a939834b785bef257": {
      "model_module": "@jupyter-widgets/controls",
      "model_module_version": "2.0.0",
      "model_name": "VBoxModel",
      "state": {
       "_dom_classes": [
        "widget-interact"
       ],
       "children": [
        "IPY_MODEL_803d0f0d7d27487b889b7a5caa030b6e",
        "IPY_MODEL_c36905b472a2425bb3587db77730a08c"
       ],
       "layout": "IPY_MODEL_ed676c5faf284afe85171e218d8dcab6"
      }
     },
     "c447ed11b440445a8aaef646869d6ed3": {
      "model_module": "@jupyter-widgets/base",
      "model_module_version": "2.0.0",
      "model_name": "LayoutModel",
      "state": {}
     },
     "c59f51d315e54189883af46fd7792536": {
      "model_module": "@jupyter-widgets/base",
      "model_module_version": "2.0.0",
      "model_name": "LayoutModel",
      "state": {}
     },
     "c674a1f7c64d4c3f8b5f0abfdeecaece": {
      "model_module": "@jupyter-widgets/controls",
      "model_module_version": "2.0.0",
      "model_name": "HTMLStyleModel",
      "state": {
       "description_width": "",
       "font_size": null,
       "text_color": null
      }
     },
     "c7030cb8423c460f8e4e2f03be188fc9": {
      "model_module": "@jupyter-widgets/controls",
      "model_module_version": "2.0.0",
      "model_name": "ToggleButtonsStyleModel",
      "state": {
       "button_width": "",
       "description_width": ""
      }
     },
     "c9969e18df084a98a2a42323b65b9624": {
      "model_module": "@jupyter-widgets/output",
      "model_module_version": "1.0.0",
      "model_name": "OutputModel",
      "state": {
       "layout": "IPY_MODEL_a83410b3bc1549fab589cdfe546b5e85",
       "outputs": [
        {
         "data": {
          "image/png": "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",
          "text/plain": "<Figure size 800x1000 with 1 Axes>"
         },
         "metadata": {},
         "output_type": "display_data"
        }
       ]
      }
     },
     "c9ac7db5b954470dbfc4d540f34fcf97": {
      "model_module": "@jupyter-widgets/controls",
      "model_module_version": "2.0.0",
      "model_name": "HTMLStyleModel",
      "state": {
       "description_width": "",
       "font_size": null,
       "text_color": null
      }
     },
     "ca186f535e53488e979ce72804b24a5a": {
      "model_module": "@jupyter-widgets/controls",
      "model_module_version": "2.0.0",
      "model_name": "HTMLStyleModel",
      "state": {
       "description_width": "",
       "font_size": null,
       "text_color": null
      }
     },
     "cbb9e820e17c46cbbf86b04ec63058ab": {
      "model_module": "@jupyter-widgets/base",
      "model_module_version": "2.0.0",
      "model_name": "LayoutModel",
      "state": {}
     },
     "cbc0d43abb284d9ead85143354fdd142": {
      "model_module": "@jupyter-widgets/controls",
      "model_module_version": "2.0.0",
      "model_name": "HTMLStyleModel",
      "state": {
       "description_width": "",
       "font_size": null,
       "text_color": null
      }
     },
     "cbcf7e46aa634964a168e9a3d76fc6b1": {
      "model_module": "@jupyter-widgets/controls",
      "model_module_version": "2.0.0",
      "model_name": "HTMLStyleModel",
      "state": {
       "description_width": "",
       "font_size": null,
       "text_color": null
      }
     },
     "cc50120731a54be384ac86a0ab401b76": {
      "model_module": "@jupyter-widgets/base",
      "model_module_version": "2.0.0",
      "model_name": "LayoutModel",
      "state": {
       "visibility": "hidden"
      }
     },
     "cc6b375fcacc46b4b76b8811af306c2e": {
      "model_module": "@jupyter-widgets/base",
      "model_module_version": "2.0.0",
      "model_name": "LayoutModel",
      "state": {
       "visibility": "hidden"
      }
     },
     "cc8dfc7dc4dc498d83e1cecaa3e17429": {
      "model_module": "@jupyter-widgets/controls",
      "model_module_version": "2.0.0",
      "model_name": "HTMLStyleModel",
      "state": {
       "description_width": "",
       "font_size": null,
       "text_color": null
      }
     },
     "cd7b197b78214cccb80c7f4e292764f5": {
      "model_module": "@jupyter-widgets/base",
      "model_module_version": "2.0.0",
      "model_name": "LayoutModel",
      "state": {}
     },
     "cde7e0d05e7a475da6ab0e5fe368af84": {
      "model_module": "@jupyter-widgets/controls",
      "model_module_version": "2.0.0",
      "model_name": "HTMLStyleModel",
      "state": {
       "description_width": "",
       "font_size": null,
       "text_color": null
      }
     },
     "cde7f963253144b8b1fd11bdba5dce6b": {
      "model_module": "@jupyter-widgets/controls",
      "model_module_version": "2.0.0",
      "model_name": "HTMLStyleModel",
      "state": {
       "description_width": "",
       "font_size": null,
       "text_color": null
      }
     },
     "ce0827cd8c0c416e945b07546317c3af": {
      "model_module": "@jupyter-widgets/output",
      "model_module_version": "1.0.0",
      "model_name": "OutputModel",
      "state": {
       "layout": "IPY_MODEL_03b449ff9745434698064a1e659f72ba",
       "outputs": [
        {
         "ename": "TypeError",
         "evalue": "Feature Importance and RFE plots not available for estimators that doesnt support coef_ or feature_importances_ attribute.",
         "output_type": "error",
         "traceback": [
          "\u001b[1;31m---------------------------------------------------------------------------\u001b[0m",
          "\u001b[1;31mTypeError\u001b[0m                                 Traceback (most recent call last)",
          "File \u001b[1;32mC:\\Python\\Lib\\site-packages\\ipywidgets\\widgets\\interaction.py:240\u001b[0m, in \u001b[0;36minteractive.update\u001b[1;34m(self, *args)\u001b[0m\n\u001b[0;32m    238\u001b[0m     value \u001b[38;5;241m=\u001b[39m widget\u001b[38;5;241m.\u001b[39mget_interact_value()\n\u001b[0;32m    239\u001b[0m     \u001b[38;5;28mself\u001b[39m\u001b[38;5;241m.\u001b[39mkwargs[widget\u001b[38;5;241m.\u001b[39m_kwarg] \u001b[38;5;241m=\u001b[39m value\n\u001b[1;32m--> 240\u001b[0m \u001b[38;5;28mself\u001b[39m\u001b[38;5;241m.\u001b[39mresult \u001b[38;5;241m=\u001b[39m \u001b[38;5;28;43mself\u001b[39;49m\u001b[38;5;241;43m.\u001b[39;49m\u001b[43mf\u001b[49m\u001b[43m(\u001b[49m\u001b[38;5;241;43m*\u001b[39;49m\u001b[38;5;241;43m*\u001b[39;49m\u001b[38;5;28;43mself\u001b[39;49m\u001b[38;5;241;43m.\u001b[39;49m\u001b[43mkwargs\u001b[49m\u001b[43m)\u001b[49m\n\u001b[0;32m    241\u001b[0m show_inline_matplotlib_plots()\n\u001b[0;32m    242\u001b[0m \u001b[38;5;28;01mif\u001b[39;00m \u001b[38;5;28mself\u001b[39m\u001b[38;5;241m.\u001b[39mauto_display \u001b[38;5;129;01mand\u001b[39;00m \u001b[38;5;28mself\u001b[39m\u001b[38;5;241m.\u001b[39mresult \u001b[38;5;129;01mis\u001b[39;00m \u001b[38;5;129;01mnot\u001b[39;00m \u001b[38;5;28;01mNone\u001b[39;00m:\n",
          "File \u001b[1;32mC:\\Python\\Lib\\site-packages\\pycaret\\internal\\pycaret_experiment\\tabular_experiment.py:470\u001b[0m, in \u001b[0;36m_TabularExperiment._plot_model\u001b[1;34m(self, estimator, plot, scale, save, fold, fit_kwargs, plot_kwargs, groups, feature_name, label, verbose, system, display, display_format)\u001b[0m\n\u001b[0;32m    466\u001b[0m \u001b[38;5;66;03m# checking for feature plot\u001b[39;00m\n\u001b[0;32m    467\u001b[0m \u001b[38;5;28;01mif\u001b[39;00m \u001b[38;5;129;01mnot\u001b[39;00m (\n\u001b[0;32m    468\u001b[0m     \u001b[38;5;28mhasattr\u001b[39m(estimator, \u001b[38;5;124m\"\u001b[39m\u001b[38;5;124mcoef_\u001b[39m\u001b[38;5;124m\"\u001b[39m) \u001b[38;5;129;01mor\u001b[39;00m \u001b[38;5;28mhasattr\u001b[39m(estimator, \u001b[38;5;124m\"\u001b[39m\u001b[38;5;124mfeature_importances_\u001b[39m\u001b[38;5;124m\"\u001b[39m)\n\u001b[0;32m    469\u001b[0m ) \u001b[38;5;129;01mand\u001b[39;00m (plot \u001b[38;5;241m==\u001b[39m \u001b[38;5;124m\"\u001b[39m\u001b[38;5;124mfeature\u001b[39m\u001b[38;5;124m\"\u001b[39m \u001b[38;5;129;01mor\u001b[39;00m plot \u001b[38;5;241m==\u001b[39m \u001b[38;5;124m\"\u001b[39m\u001b[38;5;124mfeature_all\u001b[39m\u001b[38;5;124m\"\u001b[39m \u001b[38;5;129;01mor\u001b[39;00m plot \u001b[38;5;241m==\u001b[39m \u001b[38;5;124m\"\u001b[39m\u001b[38;5;124mrfe\u001b[39m\u001b[38;5;124m\"\u001b[39m):\n\u001b[1;32m--> 470\u001b[0m     \u001b[38;5;28;01mraise\u001b[39;00m \u001b[38;5;167;01mTypeError\u001b[39;00m(\n\u001b[0;32m    471\u001b[0m         \u001b[38;5;124m\"\u001b[39m\u001b[38;5;124mFeature Importance and RFE plots not available for estimators that doesnt support coef_ or feature_importances_ attribute.\u001b[39m\u001b[38;5;124m\"\u001b[39m\n\u001b[0;32m    472\u001b[0m     )\n\u001b[0;32m    474\u001b[0m \u001b[38;5;66;03m# checking fold parameter\u001b[39;00m\n\u001b[0;32m    475\u001b[0m \u001b[38;5;28;01mif\u001b[39;00m fold \u001b[38;5;129;01mis\u001b[39;00m \u001b[38;5;129;01mnot\u001b[39;00m \u001b[38;5;28;01mNone\u001b[39;00m \u001b[38;5;129;01mand\u001b[39;00m \u001b[38;5;129;01mnot\u001b[39;00m (\n\u001b[0;32m    476\u001b[0m     \u001b[38;5;28mtype\u001b[39m(fold) \u001b[38;5;129;01mis\u001b[39;00m \u001b[38;5;28mint\u001b[39m \u001b[38;5;129;01mor\u001b[39;00m is_sklearn_cv_generator(fold)\n\u001b[0;32m    477\u001b[0m ):\n",
          "\u001b[1;31mTypeError\u001b[0m: Feature Importance and RFE plots not available for estimators that doesnt support coef_ or feature_importances_ attribute."
         ]
        }
       ]
      }
     },
     "cef094766ff14784a43df97b057c5790": {
      "model_module": "@jupyter-widgets/controls",
      "model_module_version": "2.0.0",
      "model_name": "HTMLModel",
      "state": {
       "layout": "IPY_MODEL_95c30cb8f47343f4a4238447c4ade2d3",
       "style": "IPY_MODEL_a8a8fe7aafe2401b913427c28b8d994b",
       "value": " 4/4 [00:01&lt;00:00,  2.44it/s]"
      }
     },
     "d157060c0521410db2285b089f3db2dd": {
      "model_module": "@jupyter-widgets/base",
      "model_module_version": "2.0.0",
      "model_name": "LayoutModel",
      "state": {}
     },
     "d19dfd4199f7483dbd5692af092c6502": {
      "model_module": "@jupyter-widgets/controls",
      "model_module_version": "2.0.0",
      "model_name": "ProgressStyleModel",
      "state": {
       "description_width": ""
      }
     },
     "d1de126f846e4b8faa7c6b5de6cf4382": {
      "model_module": "@jupyter-widgets/base",
      "model_module_version": "2.0.0",
      "model_name": "LayoutModel",
      "state": {}
     },
     "d2bf64db285c490399dc9bfad047e810": {
      "model_module": "@jupyter-widgets/controls",
      "model_module_version": "2.0.0",
      "model_name": "ProgressStyleModel",
      "state": {
       "description_width": ""
      }
     },
     "d4772eb506374b1aaa8402b1a1bd9866": {
      "model_module": "@jupyter-widgets/controls",
      "model_module_version": "2.0.0",
      "model_name": "HTMLModel",
      "state": {
       "layout": "IPY_MODEL_c447ed11b440445a8aaef646869d6ed3",
       "style": "IPY_MODEL_84a61bb6d7bb475096b1b34444c41b03",
       "value": " 4/4 [01:09&lt;00:00, 16.55s/it]"
      }
     },
     "d61c7092334f4d46ba18e54f576b5e49": {
      "model_module": "@jupyter-widgets/base",
      "model_module_version": "2.0.0",
      "model_name": "LayoutModel",
      "state": {}
     },
     "d6465d0177ec4cf49b0f777e45331275": {
      "model_module": "@jupyter-widgets/base",
      "model_module_version": "2.0.0",
      "model_name": "LayoutModel",
      "state": {}
     },
     "d6729e67937049faa4a2c2a8112b92f2": {
      "model_module": "@jupyter-widgets/base",
      "model_module_version": "2.0.0",
      "model_name": "LayoutModel",
      "state": {}
     },
     "d75ed6982c554ac3816346b15e1fde3b": {
      "model_module": "@jupyter-widgets/controls",
      "model_module_version": "2.0.0",
      "model_name": "HTMLModel",
      "state": {
       "layout": "IPY_MODEL_66ae606eb0f3426d9bc12a3419180f42",
       "style": "IPY_MODEL_104297747fb54b239bd059ee66506c59",
       "value": " 4/4 [00:01&lt;00:00,  2.31it/s]"
      }
     },
     "d9142cd046354f3eb3433cc5fd9daf69": {
      "model_module": "@jupyter-widgets/controls",
      "model_module_version": "2.0.0",
      "model_name": "ToggleButtonsStyleModel",
      "state": {
       "button_width": "",
       "description_width": ""
      }
     },
     "dad7cfc6f88241a3898ef7eb0e8f80e0": {
      "model_module": "@jupyter-widgets/output",
      "model_module_version": "1.0.0",
      "model_name": "OutputModel",
      "state": {
       "layout": "IPY_MODEL_836ade9db2e64196a9ffc03876076c86",
       "outputs": [
        {
         "data": {
          "image/png": "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",
          "text/plain": "<Figure size 800x1000 with 1 Axes>"
         },
         "metadata": {},
         "output_type": "display_data"
        }
       ]
      }
     },
     "dd4c18c74a0d4167932efd881acc373b": {
      "model_module": "@jupyter-widgets/controls",
      "model_module_version": "2.0.0",
      "model_name": "HTMLStyleModel",
      "state": {
       "description_width": "",
       "font_size": null,
       "text_color": null
      }
     },
     "e095899f00ce4af0adca61f32588d929": {
      "model_module": "@jupyter-widgets/controls",
      "model_module_version": "2.0.0",
      "model_name": "HTMLModel",
      "state": {
       "layout": "IPY_MODEL_86e46cd2ce6f48fbae4fc7b4e5263b37",
       "style": "IPY_MODEL_f95d2e5012b944028b9848f9c0f3f088",
       "value": " 6/6 [01:27&lt;00:00, 14.15s/it]"
      }
     },
     "e0b736bd999d40ebb5b50acbf8cec778": {
      "model_module": "@jupyter-widgets/base",
      "model_module_version": "2.0.0",
      "model_name": "LayoutModel",
      "state": {}
     },
     "e128c7f7bc024e5f80cb99dc63a2534f": {
      "model_module": "@jupyter-widgets/controls",
      "model_module_version": "2.0.0",
      "model_name": "ProgressStyleModel",
      "state": {
       "description_width": ""
      }
     },
     "e279d23f0f6d4049a40350569efcff69": {
      "model_module": "@jupyter-widgets/controls",
      "model_module_version": "2.0.0",
      "model_name": "FloatProgressModel",
      "state": {
       "layout": "IPY_MODEL_93240f849e1a43e38a41f8f986df21cd",
       "max": 6,
       "style": "IPY_MODEL_a5de08f1301846faaeaaa493d29ca631",
       "value": 6
      }
     },
     "e359ac02c424408eb8f88f206f6ecfae": {
      "model_module": "@jupyter-widgets/base",
      "model_module_version": "2.0.0",
      "model_name": "LayoutModel",
      "state": {}
     },
     "e3c99647c9ac47c8844d8b138bb7bd17": {
      "model_module": "@jupyter-widgets/controls",
      "model_module_version": "2.0.0",
      "model_name": "FloatProgressModel",
      "state": {
       "layout": "IPY_MODEL_e359ac02c424408eb8f88f206f6ecfae",
       "max": 4,
       "style": "IPY_MODEL_7a5ae5354542428591d98aa8772ac87f",
       "value": 4
      }
     },
     "e4bbcedc62f941ada6c53b6b6cb71635": {
      "model_module": "@jupyter-widgets/base",
      "model_module_version": "2.0.0",
      "model_name": "LayoutModel",
      "state": {
       "visibility": "hidden"
      }
     },
     "e4ed48d8e93243808e78de1308331ac3": {
      "model_module": "@jupyter-widgets/controls",
      "model_module_version": "2.0.0",
      "model_name": "ProgressStyleModel",
      "state": {
       "description_width": ""
      }
     },
     "e4fa0bb0450746f7aa09d7c19ecb9be0": {
      "model_module": "@jupyter-widgets/base",
      "model_module_version": "2.0.0",
      "model_name": "LayoutModel",
      "state": {}
     },
     "e5f9005c2d8e4485bc38774c69afc7f7": {
      "model_module": "@jupyter-widgets/base",
      "model_module_version": "2.0.0",
      "model_name": "LayoutModel",
      "state": {}
     },
     "e730167e437d4785b861ed2417c1149e": {
      "model_module": "@jupyter-widgets/controls",
      "model_module_version": "2.0.0",
      "model_name": "HTMLModel",
      "state": {
       "layout": "IPY_MODEL_c59f51d315e54189883af46fd7792536",
       "style": "IPY_MODEL_ca186f535e53488e979ce72804b24a5a",
       "value": "Processing:  67%"
      }
     },
     "e733e77aa74348e8a2bbfbab21fe376e": {
      "model_module": "@jupyter-widgets/output",
      "model_module_version": "1.0.0",
      "model_name": "OutputModel",
      "state": {
       "layout": "IPY_MODEL_4d2916c3a3eb42278f360119e9f3022f",
       "outputs": [
        {
         "data": {
          "image/png": "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",
          "text/plain": "<Figure size 800x1000 with 1 Axes>"
         },
         "metadata": {},
         "output_type": "display_data"
        }
       ]
      }
     },
     "e7697d3af06f4844afa40cbc6d7c59a8": {
      "model_module": "@jupyter-widgets/controls",
      "model_module_version": "2.0.0",
      "model_name": "VBoxModel",
      "state": {
       "_dom_classes": [
        "widget-interact"
       ],
       "children": [
        "IPY_MODEL_8c6ff7bc31dd441f8911c8661dce5b5e",
        "IPY_MODEL_90e2c9f3f5e74a8d8747cc24f637c749"
       ],
       "layout": "IPY_MODEL_9267694f866a4be09a75548b8a25b237"
      }
     },
     "e79413b8539b4da89750c0c6bfcd9388": {
      "model_module": "@jupyter-widgets/controls",
      "model_module_version": "2.0.0",
      "model_name": "HTMLModel",
      "state": {
       "layout": "IPY_MODEL_bf7316c2638f4384a37fe7f123bcd03f",
       "style": "IPY_MODEL_4d098a05566740a6a2861357c87ebf1e",
       "value": "Processing:   0%"
      }
     },
     "e7d0890311fc4ddc8ceddd3de424061d": {
      "model_module": "@jupyter-widgets/controls",
      "model_module_version": "2.0.0",
      "model_name": "ProgressStyleModel",
      "state": {
       "description_width": ""
      }
     },
     "e7d104a3370e43cc8b32a5de5f76e37f": {
      "model_module": "@jupyter-widgets/base",
      "model_module_version": "2.0.0",
      "model_name": "LayoutModel",
      "state": {}
     },
     "e9d93164af5640e18a3f86e1de978758": {
      "model_module": "@jupyter-widgets/controls",
      "model_module_version": "2.0.0",
      "model_name": "HTMLStyleModel",
      "state": {
       "description_width": "",
       "font_size": null,
       "text_color": null
      }
     },
     "e9fc1d70c31741b4b4ee6e1063847967": {
      "model_module": "@jupyter-widgets/controls",
      "model_module_version": "2.0.0",
      "model_name": "FloatProgressModel",
      "state": {
       "layout": "IPY_MODEL_5e424911007b4c63a1768fa1c9ee17b3",
       "max": 4,
       "style": "IPY_MODEL_e7d0890311fc4ddc8ceddd3de424061d",
       "value": 4
      }
     },
     "eaeed03a12a14098ab5caab5861c7e73": {
      "model_module": "@jupyter-widgets/output",
      "model_module_version": "1.0.0",
      "model_name": "OutputModel",
      "state": {
       "layout": "IPY_MODEL_56e6e67d477b4638ae06ade4e4e5e579",
       "outputs": [
        {
         "data": {
          "image/png": "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",
          "text/plain": "<Figure size 800x1000 with 1 Axes>"
         },
         "metadata": {},
         "output_type": "display_data"
        }
       ]
      }
     },
     "eb52def86db342128f248dfcfdec8239": {
      "model_module": "@jupyter-widgets/base",
      "model_module_version": "2.0.0",
      "model_name": "LayoutModel",
      "state": {}
     },
     "eb6a06a1784c4ebeb05424feb18f2e3e": {
      "model_module": "@jupyter-widgets/controls",
      "model_module_version": "2.0.0",
      "model_name": "HTMLStyleModel",
      "state": {
       "description_width": "",
       "font_size": null,
       "text_color": null
      }
     },
     "ec29bc686b2b46d58e1f830fccc37872": {
      "model_module": "@jupyter-widgets/base",
      "model_module_version": "2.0.0",
      "model_name": "LayoutModel",
      "state": {}
     },
     "ed676c5faf284afe85171e218d8dcab6": {
      "model_module": "@jupyter-widgets/base",
      "model_module_version": "2.0.0",
      "model_name": "LayoutModel",
      "state": {}
     },
     "ede96d1a47024263ba18753a16a846c3": {
      "model_module": "@jupyter-widgets/controls",
      "model_module_version": "2.0.0",
      "model_name": "ToggleButtonsModel",
      "state": {
       "_options_labels": [
        "Pipeline Plot",
        "Hyperparameters",
        "AUC",
        "Confusion Matrix",
        "Threshold",
        "Precision Recall",
        "Prediction Error",
        "Class Report",
        "Feature Selection",
        "Learning Curve",
        "Manifold Learning",
        "Calibration Curve",
        "Validation Curve",
        "Dimensions",
        "Feature Importance",
        "Feature Importance (All)",
        "Decision Boundary",
        "Lift Chart",
        "Gain Chart",
        "Decision Tree",
        "KS Statistic Plot"
       ],
       "button_style": "",
       "description": "Plot Type:",
       "icons": [
        ""
       ],
       "index": 14,
       "layout": "IPY_MODEL_18dcfd2ecd21475f821286ccd6a3becd",
       "style": "IPY_MODEL_4a36ee40ef764101a582301e29bae432",
       "tooltips": []
      }
     },
     "ee8b714cb2bd4bbaae2aa10bbc2d65a3": {
      "model_module": "@jupyter-widgets/base",
      "model_module_version": "2.0.0",
      "model_name": "LayoutModel",
      "state": {}
     },
     "f0825bfa88de4fe8b4572a135519f04c": {
      "model_module": "@jupyter-widgets/base",
      "model_module_version": "2.0.0",
      "model_name": "LayoutModel",
      "state": {}
     },
     "f0e9a082e8fc40c8a81f1678f3baca1a": {
      "model_module": "@jupyter-widgets/controls",
      "model_module_version": "2.0.0",
      "model_name": "HTMLModel",
      "state": {
       "layout": "IPY_MODEL_579f5fab05824b8795277cf1fad29df9",
       "style": "IPY_MODEL_cbcf7e46aa634964a168e9a3d76fc6b1",
       "value": " 4/4 [00:02&lt;00:00,  1.84it/s]"
      }
     },
     "f333193eb474422ab219658852b31040": {
      "model_module": "@jupyter-widgets/base",
      "model_module_version": "2.0.0",
      "model_name": "LayoutModel",
      "state": {}
     },
     "f3517c274f37431c916f6e2cd0909448": {
      "model_module": "@jupyter-widgets/controls",
      "model_module_version": "2.0.0",
      "model_name": "HTMLModel",
      "state": {
       "layout": "IPY_MODEL_b05a900b5f044eaa8a1fbd361980abf8",
       "style": "IPY_MODEL_a553616d7f264c5d8abbc05c6deaa13d",
       "value": " 4/4 [00:01&lt;00:00,  3.48it/s]"
      }
     },
     "f41b32c9755a4ab2ac77c90dbc1461dc": {
      "model_module": "@jupyter-widgets/base",
      "model_module_version": "2.0.0",
      "model_name": "LayoutModel",
      "state": {}
     },
     "f5a175525e9f40d7aa878eb2ceee38a0": {
      "model_module": "@jupyter-widgets/base",
      "model_module_version": "2.0.0",
      "model_name": "LayoutModel",
      "state": {}
     },
     "f6f0e3c89b6340d8b1ec955438316b2c": {
      "model_module": "@jupyter-widgets/base",
      "model_module_version": "2.0.0",
      "model_name": "LayoutModel",
      "state": {}
     },
     "f73fed5a91bf4822894adb1bc7d49670": {
      "model_module": "@jupyter-widgets/base",
      "model_module_version": "2.0.0",
      "model_name": "LayoutModel",
      "state": {}
     },
     "f95d2e5012b944028b9848f9c0f3f088": {
      "model_module": "@jupyter-widgets/controls",
      "model_module_version": "2.0.0",
      "model_name": "HTMLStyleModel",
      "state": {
       "description_width": "",
       "font_size": null,
       "text_color": null
      }
     },
     "f9b3e4fe69e64243b724de732c1f2aa8": {
      "model_module": "@jupyter-widgets/controls",
      "model_module_version": "2.0.0",
      "model_name": "ToggleButtonsModel",
      "state": {
       "_options_labels": [
        "Pipeline Plot",
        "Hyperparameters",
        "AUC",
        "Confusion Matrix",
        "Threshold",
        "Precision Recall",
        "Prediction Error",
        "Class Report",
        "Feature Selection",
        "Learning Curve",
        "Manifold Learning",
        "Calibration Curve",
        "Validation Curve",
        "Dimensions",
        "Feature Importance",
        "Feature Importance (All)",
        "Decision Boundary",
        "Lift Chart",
        "Gain Chart",
        "Decision Tree",
        "KS Statistic Plot"
       ],
       "button_style": "",
       "description": "Plot Type:",
       "icons": [
        ""
       ],
       "index": 15,
       "layout": "IPY_MODEL_e4fa0bb0450746f7aa09d7c19ecb9be0",
       "style": "IPY_MODEL_17bb1ef56cec4a8492528372a99182b4",
       "tooltips": []
      }
     },
     "fa976177c3224bd1903bbc0a601371e7": {
      "model_module": "@jupyter-widgets/controls",
      "model_module_version": "2.0.0",
      "model_name": "HTMLModel",
      "state": {
       "layout": "IPY_MODEL_91e8896e839945fd8a3b4165c1ff030f",
       "style": "IPY_MODEL_465ac9db1c7c4d3d99814d19e522b5dc",
       "value": "Processing:   0%"
      }
     },
     "fb04befd521346db9a275b1389020208": {
      "model_module": "@jupyter-widgets/controls",
      "model_module_version": "2.0.0",
      "model_name": "ToggleButtonsModel",
      "state": {
       "_options_labels": [
        "Pipeline Plot",
        "Hyperparameters",
        "AUC",
        "Confusion Matrix",
        "Threshold",
        "Precision Recall",
        "Prediction Error",
        "Class Report",
        "Feature Selection",
        "Learning Curve",
        "Manifold Learning",
        "Calibration Curve",
        "Validation Curve",
        "Dimensions",
        "Feature Importance",
        "Feature Importance (All)",
        "Decision Boundary",
        "Lift Chart",
        "Gain Chart",
        "Decision Tree",
        "KS Statistic Plot"
       ],
       "button_style": "",
       "description": "Plot Type:",
       "icons": [
        ""
       ],
       "index": 14,
       "layout": "IPY_MODEL_146fde0af016451598106ebd082f6061",
       "style": "IPY_MODEL_7250ded23b184a138f8ca545373f14ec",
       "tooltips": []
      }
     },
     "fe6fc60ce0e9407995dcc95c3677fcac": {
      "model_module": "@jupyter-widgets/controls",
      "model_module_version": "2.0.0",
      "model_name": "VBoxModel",
      "state": {
       "_dom_classes": [
        "widget-interact"
       ],
       "children": [
        "IPY_MODEL_ede96d1a47024263ba18753a16a846c3",
        "IPY_MODEL_a2ca11313d7d4a3483d74f6039901d6c"
       ],
       "layout": "IPY_MODEL_f333193eb474422ab219658852b31040"
      }
     }
    },
    "version_major": 2,
    "version_minor": 0
   }
  }
 },
 "nbformat": 4,
 "nbformat_minor": 5
}
